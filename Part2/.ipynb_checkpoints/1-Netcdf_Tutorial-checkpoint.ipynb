{
 "cells": [
  {
   "cell_type": "markdown",
   "metadata": {},
   "source": [
    "# 1 - Working with Netcd4-python data - Part 1 \n",
    "\n",
    "Network Common Data Form (Netcdf) is a way to create, access, and share scientific data in a format that is self-documenting and transparent for many types of machines.\n",
    "\n",
    "<img src = \"./figures/xarray.png\" alt = \"xarray\" width = \"60%\" height = \"70%\">\n",
    "\n",
    "\n",
    "The Netcdf file itself has information describing the data it contains.\n",
    "\n",
    "A NetCDF file has dimensions, variables, and attributes.\n",
    "\n",
    "Here is a small example of a NetCDF file, to illustrate these concepts of dimensions, variables and attributes.\n",
    "\n",
    "The notation used to describe this NetCDF file is called Network Common Data Language (CDL). It gives a \"text\" version that allows an easy understanding of the structure and contents of a binary NetCDF file:\n",
    "\n",
    "    netcdf ./data/NARR_tasmax_201701.nc {\n",
    "      dimensions:\n",
    "    x = 349;\n",
    "    y = 277;\n",
    "    time = 31;\n",
    "      variables:\n",
    "    float lon(y=277, x=349);\n",
    "      :units = \"degrees_east\";\n",
    "      :long_name = \"Longitude\";\n",
    "      :CoordinateAxisType = \"Lon\";\n",
    "\n",
    "    float lat(y=277, x=349);\n",
    "      :units = \"degrees_north\";\n",
    "      :long_name = \"Latitude\";\n",
    "      :CoordinateAxisType = \"Lat\";\n",
    "\n",
    "    double time(time=31);\n",
    "      :long_name = \"Time\";\n",
    "      :delta_t = \"\";\n",
    "\n",
    "    float tasmax(time=31, y=277, x=349);\n",
    "      :long_name = \"Daily maximum temperature\";\n",
    "      :units = \"Celcius\";\n",
    "      :missing_value = -999.0; // double\n",
    "      :coordinates = \"lon lat\";\n",
    "}\n",
    "\n",
    "\n",
    "Panoply is an apensource software used to quickly read aned visualize Netcdf file:\n",
    "https://www.giss.nasa.gov/tools/panoply/download/\n",
    "\n",
    "The python module that we will use in this section is netCDF4:\n",
    "https://pypi.org/project/netCDF4/\n",
    "\n",
    "To install it under anaconda: <b>conda install -c anaconda netcdf4</b>  \n",
    "\n",
    "\n",
    "<img src=\"./figures/CanESM2_rcp85_r1i1p1_global_tos.jpg\" alt=\"Seaborn\" width=\"60%\" height=\"70%\">\n",
    "\n",
    "\n",
    "## 1- Create a Netcdf file:"
   ]
  },
  {
   "cell_type": "code",
   "execution_count": 1,
   "metadata": {},
   "outputs": [],
   "source": [
    "ls"
   ]
  },
  {
   "cell_type": "code",
   "execution_count": 2,
   "metadata": {},
   "outputs": [],
   "source": [
    "from netCDF4 import Dataset\n",
    "import os \n",
    "import warnings\n",
    "warnings.filterwarnings(\"ignore\")\n",
    "\n",
    "file_name = \"./DATA/2D_Temperature.nc\"\n",
    "if os.path.isfile(file_name):\n",
    "    os.remove(file_name)\n",
    "    \n",
    "#open the file for writing, you can Also specify format=\"NETCDF4_CLASSIC\" or \"NETCDF3_CLASSIC\"\n",
    "#The format is NETCDF4 by default\n",
    "ds = Dataset(file_name, mode=\"w\")"
   ]
  },
  {
   "cell_type": "markdown",
   "metadata": {},
   "source": [
    "- Netcdf4-python: <b>createDimension</b>\n",
    "\n",
    "We will create here a 2D field: (20,20)  "
   ]
  },
  {
   "cell_type": "code",
   "execution_count": 3,
   "metadata": {},
   "outputs": [],
   "source": [
    "ds.createDimension(\"x\", 20)\n",
    "ds.createDimension(\"y\", 20)\n",
    "ds.createDimension(\"time\", None)"
   ]
  },
  {
   "cell_type": "markdown",
   "metadata": {},
   "source": [
    "- Netcdf4-python: <b>createVariable</b>"
   ]
  },
  {
   "cell_type": "code",
   "execution_count": 4,
   "metadata": {},
   "outputs": [],
   "source": [
    "var1 = ds.createVariable(\"field1\", \"f4\", (\"time\", \"x\", \"y\"))\n",
    "var2 = ds.createVariable(\"field2\", \"f4\", (\"time\", \"x\", \"y\"))\n",
    "\n",
    "#add netcdf attributes\n",
    "var1.units = \"Celcius\"\n",
    "var1.long_name = \"Surface air temperature\"\n",
    "\n",
    "var2.units = \"Kelvin\"\n",
    "var2.long_name = \"Surface air temperature\"\n"
   ]
  },
  {
   "cell_type": "markdown",
   "metadata": {},
   "source": [
    "We can now assign our field or variable."
   ]
  },
  {
   "cell_type": "code",
   "execution_count": 5,
   "metadata": {},
   "outputs": [],
   "source": [
    "#generate random data and tell the program where it should go\n",
    "import numpy as np\n",
    "data = np.random.randn(10, 20, 20)\n",
    "var1[:] = data\n",
    "var2[:] =  data + 273.15\n",
    "#actually write data to the disk\n",
    "ds.close();"
   ]
  },
  {
   "cell_type": "markdown",
   "metadata": {},
   "source": [
    "## 2- Read a Netcdf file\n",
    "\n",
    "We will read the file Netcdf4 that we created previously."
   ]
  },
  {
   "cell_type": "code",
   "execution_count": 6,
   "metadata": {},
   "outputs": [],
   "source": [
    "from netCDF4 import Dataset\n",
    "ds = Dataset(\"./DATA/2D_Temperature.nc\")"
   ]
  },
  {
   "cell_type": "markdown",
   "metadata": {},
   "source": [
    "We will select our variables of interest: no data is loaded at this level."
   ]
  },
  {
   "cell_type": "code",
   "execution_count": 7,
   "metadata": {},
   "outputs": [],
   "source": [
    "# Which variables are in our Netcdf file ?\n",
    "print(ds.variables.keys())\n",
    "\n",
    "data1_var = ds.variables[\"field1\"]\n",
    "data2_var = ds.variables[\"field2\"]\n",
    "\n",
    "#What's the dimension ?\n",
    "print(data1_var.dimensions, data1_var.shape)"
   ]
  },
  {
   "cell_type": "markdown",
   "metadata": {},
   "source": [
    "We can now read our file: "
   ]
  },
  {
   "cell_type": "code",
   "execution_count": 8,
   "metadata": {},
   "outputs": [],
   "source": [
    "#now we ask to really read the data into the memory\n",
    "all_data = data1_var[:]\n",
    "#print all_data.shape\n",
    "data1 = data1_var[1,:,:]\n",
    "data2 = data2_var[2,:,:]\n",
    "#data1\n",
    "print(data1.shape, all_data.shape, all_data.mean(axis = 0).mean(axis = 0).mean(axis = 0))"
   ]
  },
  {
   "cell_type": "markdown",
   "metadata": {},
   "source": [
    "## 3- Examples of manipulations of a Netcdf file\n",
    "\n",
    "\n",
    "In this example we will work with daily maximum temperature data for all January months from 1971 to 2000 from the CRCM5 regional model developed at the ESCER center.\n",
    "\n",
    "We will import our own module for calculating temperature indices, this module is calld Indices_Temperature. \n",
    "\n",
    "At first we will import the necessary libraries and define the input parameters.\n"
   ]
  },
  {
   "cell_type": "code",
   "execution_count": 9,
   "metadata": {},
   "outputs": [],
   "source": [
    "from netCDF4 import Dataset\n",
    "import Indices_Temperature\n",
    "import numpy as np\n",
    "\n",
    "Mois='01'\n",
    "model='CRCM5-v1_NAM-44_ll_CCCma-CanESM2'\n",
    "path_model='CRCM5-v1_CCCma-CanESM2_historical'\n",
    "variable='tasmax'\n",
    "indice = 'Tmax90p'\n",
    "yi = 1971\n",
    "yf = 2000\n",
    "#########################################################\n",
    "rep_data='./DATA/CRCM5/'\n",
    "rep_out='./DATA/CRCM5/'\n",
    "tot=(yf-yi)+1 "
   ]
  },
  {
   "cell_type": "markdown",
   "metadata": {},
   "source": [
    "- Let's open 'CRCM5-v1_NAM-44_ll_CCCma-CanESM2_historical_tasmax_197101.nc' file:"
   ]
  },
  {
   "cell_type": "code",
   "execution_count": 10,
   "metadata": {},
   "outputs": [],
   "source": [
    "nc_Modc=Dataset('./DATA/CRCM5/'+model+'_historical_'+variable+'_197101.nc','r')\n",
    "lats=nc_Modc.variables['lat'][:]\n",
    "lons=nc_Modc.variables['lon'][:]\n",
    "varc=nc_Modc.variables[variable][:]"
   ]
  },
  {
   "cell_type": "code",
   "execution_count": 11,
   "metadata": {},
   "outputs": [
    {
     "name": "stdout",
     "output_type": "stream",
     "text": [
      "-----------------------------------------\n",
      "Temperature dimension =  (31, 130, 155)\n",
      "Minimum of temperature =  -57.66677\n",
      "Maximum of temperature =  30.657953\n",
      "-----------------------------------------\n",
      "-----------------------------------------\n",
      "Latitude dimension=  (130, 155)\n",
      "Minimum of latitude =  12.538727\n",
      "Maximum of latitude =  75.86\n",
      "-----------------------------------------\n",
      "-----------------------------------------\n",
      "Longitude dimesion =  (130, 155)\n",
      "Minimum of longitude =  -170.71053\n",
      "Maximum of longitude =  -23.28948\n",
      "-----------------------------------------\n"
     ]
    }
   ],
   "source": [
    "## Quick look of our file: \n",
    "print('-----------------------------------------')\n",
    "print('Temperature dimension = ',varc.shape)\n",
    "print('Minimum of temperature = ', np.nanmin(varc))\n",
    "print('Maximum of temperature = ', np.nanmax(varc))\n",
    "print('-----------------------------------------')\n",
    "print('-----------------------------------------')\n",
    "print('Latitude dimension= ',lats.shape)\n",
    "print('Minimum of latitude = ', np.min(lats))\n",
    "print('Maximum of latitude = ', np.max(lats))\n",
    "print('-----------------------------------------')\n",
    "print('-----------------------------------------')\n",
    "print('Longitude dimesion = ',lons.shape)\n",
    "print('Minimum of longitude = ', np.min(lons))\n",
    "print('Maximum of longitude = ', np.max(lons))\n",
    "print('-----------------------------------------')"
   ]
  },
  {
   "cell_type": "markdown",
   "metadata": {},
   "source": [
    "We can now loop over all our Netcdf files and apply a function to calculate our indice. "
   ]
  },
  {
   "cell_type": "code",
   "execution_count": 12,
   "metadata": {},
   "outputs": [],
   "source": [
    "nt=0\n",
    "IND = np.zeros((tot,130,155),dtype=float)\n",
    "for year in range(yi,yf+1):\n",
    "    ###### ouverture et lecture des fichiers Netcdf\n",
    "    hist=model+'_historical_'+variable+'_'+str(year)+Mois+'.nc'     \n",
    "    modelc=rep_data+'/'+hist\n",
    "    nc_Modc=Dataset(modelc,'r')\n",
    "    lats=nc_Modc.variables['lat'][:]\n",
    "    lons=nc_Modc.variables['lon'][:]\n",
    "    varc=nc_Modc.variables[variable][:]\n",
    "    \n",
    "    ###### boucle sur tous les points de grille et calcul de l'indice\n",
    "    for ni in range(0, len(varc[0])):\n",
    "        for nj in range(0, len(varc[0][0])):\n",
    "            if indice == 'Mean_tasmax':\n",
    "                IND[nt,ni,nj]=Indices_Temperature.MOY(varc[:,ni,nj])\n",
    "                description='Monthly Mean of tasmax'\n",
    "                unite='°Celcius'\n",
    "            elif indice == 'Tmax90p':\n",
    "                IND[nt,ni,nj]=Indices_Temperature.Tmax90p(varc[:,ni,nj])\n",
    "                description='Monthly Mean of Tmax90p' \n",
    "                unite='°Celcius'               \n",
    "    nt+=1 \n",
    "    \n",
    "    ###### Écriture du fichier Netcdf en sortie\n",
    "C = Dataset(rep_out+model+'_historical_'+indice+'_'+str(yi)+'-'+str(yf)+'_'+Mois+'.nc', 'w')\n",
    "C.description = 'Indice temperature'\n",
    "C.conventions = 'CF-1.0'  \n",
    "C.model_id = model\n",
    "C.grid='latlon'\n",
    "C.CDO = 'Climate Data Operators version 1.6.2 (http://code.zmaw.de/projects/cdo)'\n",
    "C.institution = 'UQAM - ESCER Center, University of Quebec in Montreal'\n",
    "C.contact = 'Guillaume Dueymes'\n",
    "########################################\n",
    "# Dimensions\n",
    "C.createDimension('x', len(varc[0][0]))\n",
    "C.createDimension('y', len(varc[0]))\n",
    "C.createDimension('time', tot)\n",
    "\n",
    "var=C.createVariable(str(indice), np.float32, ('time','y','x')) \n",
    "var.long_name = str(description)\n",
    "var.unit = str(unite)\n",
    "lat=C.createVariable('lat', np.float32, ('y','x'))\n",
    "lon=C.createVariable('lon', np.float32, ('y','x')) \n",
    "\n",
    "time = C.createVariable('time', np.float64, ('time',))\n",
    "time.long_name = 'time'\n",
    "\n",
    "for var in ['lon','lat','time']:\n",
    "    for att in nc_Modc.variables[var].ncattrs():\n",
    "        setattr(C.variables[var],att,getattr(nc_Modc.variables[var],att))\n",
    "\n",
    "time[:]=range(1,nt+1)\n",
    "lat[:,:] = lats\n",
    "lon[:,:] = lons\n",
    "C.variables[str(indice)][:,:,:] = IND[::]\n",
    "C.close()\n",
    "    "
   ]
  },
  {
   "cell_type": "code",
   "execution_count": 13,
   "metadata": {},
   "outputs": [
    {
     "data": {
      "text/plain": [
       "(30, 130, 155)"
      ]
     },
     "execution_count": 13,
     "metadata": {},
     "output_type": "execute_result"
    }
   ],
   "source": [
    "IND.shape"
   ]
  },
  {
   "cell_type": "markdown",
   "metadata": {},
   "source": [
    "## 4- Netcdf gridpoint extraction"
   ]
  },
  {
   "cell_type": "markdown",
   "metadata": {},
   "source": [
    "In this example we will work with maximum daily temperature data from Regional Reanalysis (NARR) Regional Reanalysis. For more information about this product:\n",
    "\n",
    "www.emc.ncep.noaa.gov/mmb/rreanl\n",
    "\n",
    "The Netcdf files that we will open are daily values from January 1, 2017 to December 31, 2017. Files are archived by month.\n",
    "\n",
    "The NARR grid point closest to the ECCC Montréal / McTavish weather station (45.5N, -73.8W) will be extracted here.\n",
    "\n",
    "We first import the libraries.\n"
   ]
  },
  {
   "cell_type": "code",
   "execution_count": 14,
   "metadata": {},
   "outputs": [],
   "source": [
    "import netCDF4\n",
    "import numpy as np\n",
    "import pandas as pd\n",
    "import datetime\n",
    "from datetime import date, timedelta\n",
    "from dateutil.relativedelta import relativedelta"
   ]
  },
  {
   "cell_type": "code",
   "execution_count": 15,
   "metadata": {},
   "outputs": [],
   "source": [
    "rep1='./DATA/NARR/'\n",
    "model='NARR'\n",
    "variable='tasmax'\n",
    "variable_name='Temperature maximale'\n",
    "yeari=2017\n",
    "monthi=1\n",
    "yearf = 2017\n",
    "monthf = 12\n",
    "station='Montreal' \n",
    "lati = 45.5\n",
    "loni = -73.8\n",
    "\n",
    "day_start=1\n",
    "day_end = pd.date_range('{}-{}'.format(yearf, monthf), periods=1, freq='M').day.tolist()[0]\n",
    "start=datetime.datetime(yeari,monthi,day_start)\n",
    "end=datetime.datetime(yearf,monthf,day_end)\n",
    "d0 = date(yeari, monthi, day_start)\n",
    "d1 = date(yearf, monthf, day_end)\n",
    "delta = d1 - d0\n",
    "nb_days = delta.days+1\n",
    "var_data=np.zeros(nb_days)\n"
   ]
  },
  {
   "cell_type": "markdown",
   "metadata": {},
   "source": [
    "We define a function that will calculate the distance between each grid point of the Netcdf file and our reference latitude / longitude. We then deduce the minimum distance.\n",
    "\n",
    "The other function allows us to increment our months when reading Netcdf files."
   ]
  },
  {
   "cell_type": "code",
   "execution_count": 16,
   "metadata": {},
   "outputs": [],
   "source": [
    "def getclosest_ij(lats,lons,latpt,lonpt):\n",
    "     # find squared distance of every point on grid\n",
    "     dist_sq = (lats-latpt)**2 + (lons-lonpt)**2 \n",
    "     # 1D index of minimum dist_sq element\n",
    "     minindex_flattened = dist_sq.argmin()\n",
    "     # Get 2D index for latvals and lonvals arrays from 1D index\n",
    "     return np.unravel_index(minindex_flattened, lats.shape)\n",
    "\n",
    "def add_month(now):\n",
    "    try:\n",
    "        then = (now + relativedelta(months=1)).replace(day=now.day)\n",
    "    except ValueError:\n",
    "        then = (now + relativedelta(months=2)).replace(day=1)\n",
    "    return then"
   ]
  },
  {
   "cell_type": "markdown",
   "metadata": {},
   "source": [
    "We can know apply our function over each grid point, month by month and save the value into a DataFrame. "
   ]
  },
  {
   "cell_type": "code",
   "execution_count": 17,
   "metadata": {},
   "outputs": [
    {
     "data": {
      "text/html": [
       "<div>\n",
       "<style scoped>\n",
       "    .dataframe tbody tr th:only-of-type {\n",
       "        vertical-align: middle;\n",
       "    }\n",
       "\n",
       "    .dataframe tbody tr th {\n",
       "        vertical-align: top;\n",
       "    }\n",
       "\n",
       "    .dataframe thead th {\n",
       "        text-align: right;\n",
       "    }\n",
       "</style>\n",
       "<table border=\"1\" class=\"dataframe\">\n",
       "  <thead>\n",
       "    <tr style=\"text-align: right;\">\n",
       "      <th></th>\n",
       "      <th>Temperature maximale</th>\n",
       "    </tr>\n",
       "    <tr>\n",
       "      <th>Date</th>\n",
       "      <th></th>\n",
       "    </tr>\n",
       "  </thead>\n",
       "  <tbody>\n",
       "    <tr>\n",
       "      <th>2017-01-01</th>\n",
       "      <td>-0.893957</td>\n",
       "    </tr>\n",
       "    <tr>\n",
       "      <th>2017-01-02</th>\n",
       "      <td>-1.531439</td>\n",
       "    </tr>\n",
       "    <tr>\n",
       "      <th>2017-01-03</th>\n",
       "      <td>-1.737830</td>\n",
       "    </tr>\n",
       "    <tr>\n",
       "      <th>2017-01-04</th>\n",
       "      <td>-0.240698</td>\n",
       "    </tr>\n",
       "    <tr>\n",
       "      <th>2017-01-05</th>\n",
       "      <td>-0.791754</td>\n",
       "    </tr>\n",
       "  </tbody>\n",
       "</table>\n",
       "</div>"
      ],
      "text/plain": [
       "            Temperature maximale\n",
       "Date                            \n",
       "2017-01-01             -0.893957\n",
       "2017-01-02             -1.531439\n",
       "2017-01-03             -1.737830\n",
       "2017-01-04             -0.240698\n",
       "2017-01-05             -0.791754"
      ]
     },
     "execution_count": 17,
     "metadata": {},
     "output_type": "execute_result"
    }
   ],
   "source": [
    "\n",
    "i=0\n",
    "IND=[]\n",
    "# Début de notre boucle temporelle\n",
    "incr=start\n",
    "while incr <= end:\n",
    "    filename= rep1 + model + '_' + variable + '_' + str(incr.year) + '{:02d}'.format(incr.month) + '.nc'   \n",
    "    f = netCDF4.Dataset(filename)\n",
    "   # print(f.variables.keys()) # get all variable names\n",
    "    var = f.variables[variable] # temperature variable\n",
    "    #print(temp) \n",
    "    #temp.dimensions\n",
    "    #temp.shape\n",
    "    lat, lon = f.variables['lat'], f.variables['lon']\n",
    "    #print(lat)\n",
    "    #print(lon)\n",
    "    #print(lat[:])\n",
    "    # extract lat/lon values (in degrees) to numpy arrays\n",
    "    latvals = lat[:]; lonvals = lon[:] \n",
    "    # a function to find the index of the point closest pt\n",
    "    # (in squared distance) to give lat/lon value.    \n",
    "    iy_min, ix_min = getclosest_ij(latvals, lonvals, lati, loni)\n",
    "    #print(iy_min)\n",
    "    #print(ix_min)\n",
    "    IND.append(var[:,iy_min,ix_min])\n",
    "    incr=add_month(incr)\n",
    "    \n",
    "flattened_list = [y for x in IND for y in x]\n",
    "start=datetime.datetime(yeari,monthi,day_start)\n",
    "TIME=[]\n",
    "for i in range(0,nb_days,1): \n",
    " #   TIME.append((start+timedelta(days=i)).strftime(\"%Y-%m-%d\"))\n",
    "    TIME.append((start+timedelta(days=i)))\n",
    "dataFrame_NARR = pd.DataFrame({'Date': TIME, variable_name: flattened_list}, columns = ['Date',variable_name]) \n",
    "dataFrame_NARR = dataFrame_NARR.set_index('Date')   \n",
    "dataFrame_NARR.head()"
   ]
  },
  {
   "cell_type": "markdown",
   "metadata": {},
   "source": [
    "We save our DataFrame in csv. "
   ]
  },
  {
   "cell_type": "code",
   "execution_count": 18,
   "metadata": {},
   "outputs": [],
   "source": [
    "dataFrame_NARR.to_csv('./DATA/NARR/NARR_'+station+'_1pt_'+str(variable)+'_'+ '{:02d}'.format(monthi) + str(yeari)+'_'+ '{:02d}'.format(monthf) + str(yearf)+'.csv')    "
   ]
  },
  {
   "cell_type": "markdown",
   "metadata": {},
   "source": [
    "- Observation vs NARR\n",
    "Now we have extracted our gridpoint near Montreal, we can compare these values with observations.   \n",
    "\n",
    "We will extract the data from the Montreal McTavish station and put them in the NARR dataFrame. "
   ]
  },
  {
   "cell_type": "code",
   "execution_count": 19,
   "metadata": {},
   "outputs": [],
   "source": [
    "dataframe_station = pd.read_csv('./DATA/station/MONTREAL_TAVISH_tasmax_1948_2017.csv', header=None, names=['Maximum temperature: OBS'])\n",
    "start = date(1948, 1, 1)\n",
    "end = date(2017, 12, 31)\n",
    "delta=(end-start) \n",
    "nb_days = delta.days + 1 \n",
    "rng = pd.date_range(start, periods=nb_days, freq='D')\n",
    "\n",
    "dataframe_station['datetime'] = rng\n",
    "dataframe_station.index = dataframe_station['datetime'] \n",
    "dataframe_station = dataframe_station.drop([\"datetime\"], axis=1)"
   ]
  },
  {
   "cell_type": "code",
   "execution_count": 20,
   "metadata": {},
   "outputs": [
    {
     "data": {
      "text/html": [
       "<div>\n",
       "<style scoped>\n",
       "    .dataframe tbody tr th:only-of-type {\n",
       "        vertical-align: middle;\n",
       "    }\n",
       "\n",
       "    .dataframe tbody tr th {\n",
       "        vertical-align: top;\n",
       "    }\n",
       "\n",
       "    .dataframe thead th {\n",
       "        text-align: right;\n",
       "    }\n",
       "</style>\n",
       "<table border=\"1\" class=\"dataframe\">\n",
       "  <thead>\n",
       "    <tr style=\"text-align: right;\">\n",
       "      <th></th>\n",
       "      <th>Maximum temperature: OBS</th>\n",
       "    </tr>\n",
       "    <tr>\n",
       "      <th>datetime</th>\n",
       "      <th></th>\n",
       "    </tr>\n",
       "  </thead>\n",
       "  <tbody>\n",
       "    <tr>\n",
       "      <th>1948-01-01</th>\n",
       "      <td>-10.0</td>\n",
       "    </tr>\n",
       "    <tr>\n",
       "      <th>1948-01-02</th>\n",
       "      <td>-3.9</td>\n",
       "    </tr>\n",
       "    <tr>\n",
       "      <th>1948-01-03</th>\n",
       "      <td>-0.6</td>\n",
       "    </tr>\n",
       "    <tr>\n",
       "      <th>1948-01-04</th>\n",
       "      <td>-2.8</td>\n",
       "    </tr>\n",
       "    <tr>\n",
       "      <th>1948-01-05</th>\n",
       "      <td>-2.2</td>\n",
       "    </tr>\n",
       "  </tbody>\n",
       "</table>\n",
       "</div>"
      ],
      "text/plain": [
       "            Maximum temperature: OBS\n",
       "datetime                            \n",
       "1948-01-01                     -10.0\n",
       "1948-01-02                      -3.9\n",
       "1948-01-03                      -0.6\n",
       "1948-01-04                      -2.8\n",
       "1948-01-05                      -2.2"
      ]
     },
     "execution_count": 20,
     "metadata": {},
     "output_type": "execute_result"
    }
   ],
   "source": [
    "dataframe_station.head()"
   ]
  },
  {
   "cell_type": "code",
   "execution_count": 21,
   "metadata": {},
   "outputs": [
    {
     "data": {
      "text/html": [
       "<div>\n",
       "<style scoped>\n",
       "    .dataframe tbody tr th:only-of-type {\n",
       "        vertical-align: middle;\n",
       "    }\n",
       "\n",
       "    .dataframe tbody tr th {\n",
       "        vertical-align: top;\n",
       "    }\n",
       "\n",
       "    .dataframe thead th {\n",
       "        text-align: right;\n",
       "    }\n",
       "</style>\n",
       "<table border=\"1\" class=\"dataframe\">\n",
       "  <thead>\n",
       "    <tr style=\"text-align: right;\">\n",
       "      <th></th>\n",
       "      <th>Maximum temperature: OBS</th>\n",
       "      <th>Maximum temperature: NARR</th>\n",
       "    </tr>\n",
       "  </thead>\n",
       "  <tbody>\n",
       "    <tr>\n",
       "      <th>2017-12-27</th>\n",
       "      <td>-17.6</td>\n",
       "      <td>-18.818960</td>\n",
       "    </tr>\n",
       "    <tr>\n",
       "      <th>2017-12-28</th>\n",
       "      <td>-20.5</td>\n",
       "      <td>-19.372122</td>\n",
       "    </tr>\n",
       "    <tr>\n",
       "      <th>2017-12-29</th>\n",
       "      <td>-18.4</td>\n",
       "      <td>-16.453222</td>\n",
       "    </tr>\n",
       "    <tr>\n",
       "      <th>2017-12-30</th>\n",
       "      <td>-17.3</td>\n",
       "      <td>-16.208838</td>\n",
       "    </tr>\n",
       "    <tr>\n",
       "      <th>2017-12-31</th>\n",
       "      <td>-18.3</td>\n",
       "      <td>-16.772772</td>\n",
       "    </tr>\n",
       "  </tbody>\n",
       "</table>\n",
       "</div>"
      ],
      "text/plain": [
       "            Maximum temperature: OBS  Maximum temperature: NARR\n",
       "2017-12-27                     -17.6                 -18.818960\n",
       "2017-12-28                     -20.5                 -19.372122\n",
       "2017-12-29                     -18.4                 -16.453222\n",
       "2017-12-30                     -17.3                 -16.208838\n",
       "2017-12-31                     -18.3                 -16.772772"
      ]
     },
     "execution_count": 21,
     "metadata": {},
     "output_type": "execute_result"
    }
   ],
   "source": [
    "dataFrame_NARR = dataFrame_NARR.rename(columns={\"Temperature maximale\": \"Maximum temperature: NARR\"})\n",
    "df_NARR_Station = pd.concat([dataframe_station,dataFrame_NARR],axis=1)\n",
    "df_NARR_Station.tail()"
   ]
  },
  {
   "cell_type": "markdown",
   "metadata": {},
   "source": [
    "We want to plot valeurs for 2016 and 2017 years."
   ]
  },
  {
   "cell_type": "code",
   "execution_count": 22,
   "metadata": {},
   "outputs": [
    {
     "data": {
      "text/html": [
       "<div>\n",
       "<style scoped>\n",
       "    .dataframe tbody tr th:only-of-type {\n",
       "        vertical-align: middle;\n",
       "    }\n",
       "\n",
       "    .dataframe tbody tr th {\n",
       "        vertical-align: top;\n",
       "    }\n",
       "\n",
       "    .dataframe thead th {\n",
       "        text-align: right;\n",
       "    }\n",
       "</style>\n",
       "<table border=\"1\" class=\"dataframe\">\n",
       "  <thead>\n",
       "    <tr style=\"text-align: right;\">\n",
       "      <th></th>\n",
       "      <th>Maximum temperature: OBS</th>\n",
       "      <th>Maximum temperature: NARR</th>\n",
       "    </tr>\n",
       "  </thead>\n",
       "  <tbody>\n",
       "    <tr>\n",
       "      <th>2016-01-01</th>\n",
       "      <td>-0.1</td>\n",
       "      <td>NaN</td>\n",
       "    </tr>\n",
       "    <tr>\n",
       "      <th>2016-01-02</th>\n",
       "      <td>0.4</td>\n",
       "      <td>NaN</td>\n",
       "    </tr>\n",
       "    <tr>\n",
       "      <th>2016-01-03</th>\n",
       "      <td>0.2</td>\n",
       "      <td>NaN</td>\n",
       "    </tr>\n",
       "    <tr>\n",
       "      <th>2016-01-04</th>\n",
       "      <td>-13.5</td>\n",
       "      <td>NaN</td>\n",
       "    </tr>\n",
       "    <tr>\n",
       "      <th>2016-01-05</th>\n",
       "      <td>-7.5</td>\n",
       "      <td>NaN</td>\n",
       "    </tr>\n",
       "  </tbody>\n",
       "</table>\n",
       "</div>"
      ],
      "text/plain": [
       "            Maximum temperature: OBS  Maximum temperature: NARR\n",
       "2016-01-01                      -0.1                        NaN\n",
       "2016-01-02                       0.4                        NaN\n",
       "2016-01-03                       0.2                        NaN\n",
       "2016-01-04                     -13.5                        NaN\n",
       "2016-01-05                      -7.5                        NaN"
      ]
     },
     "execution_count": 22,
     "metadata": {},
     "output_type": "execute_result"
    }
   ],
   "source": [
    "df=df_NARR_Station.loc['2016' : '2017']\n",
    "df.head()"
   ]
  },
  {
   "cell_type": "code",
   "execution_count": 23,
   "metadata": {
    "scrolled": true
   },
   "outputs": [
    {
     "data": {
      "text/plain": [
       "<Figure size 1600x800 with 1 Axes>"
      ]
     },
     "metadata": {},
     "output_type": "display_data"
    }
   ],
   "source": [
    "import matplotlib.pyplot as plt\n",
    "color = ['black', 'red']\n",
    "fig = plt.figure(figsize=(16,8))\n",
    "plt.plot(df.index, df['Maximum temperature: NARR'][:],  label='NARR Temperature', linewidth=2, c=color[0])\n",
    "plt.plot(df.index, df['Maximum temperature: OBS'][:],  label='Observation Temperature', linewidth=2, c=color[1])\n",
    "\n",
    "# Autre méthode pour tracer avec Pandas\n",
    "#df_NARR_Station['2017'].plot(figsize=(10,5))\n",
    "\n",
    "plt.xlabel(\"Time\")\n",
    "plt.ylabel(\"Temperature\", {'color': 'black', 'fontsize': 10})\n",
    "plt.title(\"Time serie: Station MTL vs NARR\", y=1.05)\n",
    "plt.legend(loc='upper left', ncol=1, bbox_to_anchor=(0, 1, 1, 0),fontsize =10)\n",
    "plt.savefig(\"figures/NARR_time_Serie_temperature.png\", dpi=300, bbox_inches='tight')   # bbox_inches= : option qui permet de propostionner le graphique lors de l'enregistrement\n",
    "plt.show()\n"
   ]
  },
  {
   "cell_type": "markdown",
   "metadata": {},
   "source": [
    "- Example of using the <b> .rolling () </ b> function to calculate a moving average on a signal."
   ]
  },
  {
   "cell_type": "code",
   "execution_count": 24,
   "metadata": {},
   "outputs": [
    {
     "data": {
      "text/html": [
       "<div>\n",
       "<style scoped>\n",
       "    .dataframe tbody tr th:only-of-type {\n",
       "        vertical-align: middle;\n",
       "    }\n",
       "\n",
       "    .dataframe tbody tr th {\n",
       "        vertical-align: top;\n",
       "    }\n",
       "\n",
       "    .dataframe thead th {\n",
       "        text-align: right;\n",
       "    }\n",
       "</style>\n",
       "<table border=\"1\" class=\"dataframe\">\n",
       "  <thead>\n",
       "    <tr style=\"text-align: right;\">\n",
       "      <th></th>\n",
       "      <th>Maximum temperature: OBS</th>\n",
       "      <th>Maximum temperature: NARR</th>\n",
       "      <th>rollingmean5 Station</th>\n",
       "      <th>rollingmean5 NARR</th>\n",
       "    </tr>\n",
       "  </thead>\n",
       "  <tbody>\n",
       "    <tr>\n",
       "      <th>2017-12-27</th>\n",
       "      <td>-17.6</td>\n",
       "      <td>-18.818960</td>\n",
       "      <td>-8.04</td>\n",
       "      <td>-8.318930</td>\n",
       "    </tr>\n",
       "    <tr>\n",
       "      <th>2017-12-28</th>\n",
       "      <td>-20.5</td>\n",
       "      <td>-19.372122</td>\n",
       "      <td>-11.12</td>\n",
       "      <td>-11.099524</td>\n",
       "    </tr>\n",
       "    <tr>\n",
       "      <th>2017-12-29</th>\n",
       "      <td>-18.4</td>\n",
       "      <td>-16.453222</td>\n",
       "      <td>-13.88</td>\n",
       "      <td>-13.647839</td>\n",
       "    </tr>\n",
       "    <tr>\n",
       "      <th>2017-12-30</th>\n",
       "      <td>-17.3</td>\n",
       "      <td>-16.208838</td>\n",
       "      <td>-16.12</td>\n",
       "      <td>-15.613794</td>\n",
       "    </tr>\n",
       "    <tr>\n",
       "      <th>2017-12-31</th>\n",
       "      <td>-18.3</td>\n",
       "      <td>-16.772772</td>\n",
       "      <td>-18.42</td>\n",
       "      <td>-17.525183</td>\n",
       "    </tr>\n",
       "  </tbody>\n",
       "</table>\n",
       "</div>"
      ],
      "text/plain": [
       "            Maximum temperature: OBS  Maximum temperature: NARR  \\\n",
       "2017-12-27                     -17.6                 -18.818960   \n",
       "2017-12-28                     -20.5                 -19.372122   \n",
       "2017-12-29                     -18.4                 -16.453222   \n",
       "2017-12-30                     -17.3                 -16.208838   \n",
       "2017-12-31                     -18.3                 -16.772772   \n",
       "\n",
       "            rollingmean5 Station  rollingmean5 NARR  \n",
       "2017-12-27                 -8.04          -8.318930  \n",
       "2017-12-28                -11.12         -11.099524  \n",
       "2017-12-29                -13.88         -13.647839  \n",
       "2017-12-30                -16.12         -15.613794  \n",
       "2017-12-31                -18.42         -17.525183  "
      ]
     },
     "execution_count": 24,
     "metadata": {},
     "output_type": "execute_result"
    }
   ],
   "source": [
    "import matplotlib.pyplot as plt\n",
    "df_NARR_Station['rollingmean5 Station']=  df_NARR_Station['Maximum temperature: OBS'].rolling(window=5).mean()\n",
    "df_NARR_Station['rollingmean5 NARR']=  df_NARR_Station['Maximum temperature: NARR'].rolling(window=5).mean()\n",
    "df_NARR_Station.tail()"
   ]
  },
  {
   "cell_type": "code",
   "execution_count": 25,
   "metadata": {},
   "outputs": [
    {
     "data": {
      "image/png": "[encoded data removed]",
      "text/plain": [
       "<Figure size 1152x576 with 1 Axes>"
      ]
     },
     "metadata": {
      "needs_background": "light"
     },
     "output_type": "display_data"
    }
   ],
   "source": [
    "df_NARR_Station['2017-01':'2017-12'].plot(figsize=(16,8))\n",
    "plt.xlabel(\"Temps\")\n",
    "plt.ylabel(\"Température\")\n",
    "plt.title(\"Maximum temperature time serie: Station MTL vs NARR\", y=1.05)\n",
    "plt.savefig(\"figures/NARR_time_Serie_temperature2.png\", dpi=300, bbox_inches='tight')   # bbox_inches= : option qui permet de propostionner le graphique lors de l'enregistrement\n",
    "plt.show()"
   ]
  },
  {
   "cell_type": "code",
   "execution_count": null,
   "metadata": {},
   "outputs": [],
   "source": []
  },
  {
   "cell_type": "code",
   "execution_count": null,
   "metadata": {},
   "outputs": [],
   "source": []
  },
  {
   "cell_type": "code",
   "execution_count": null,
   "metadata": {},
   "outputs": [],
   "source": []
  }
 ],
 "metadata": {
  "kernelspec": {
   "display_name": "Python 3",
   "language": "python",
   "name": "python3"
  },
  "language_info": {
   "codemirror_mode": {
    "name": "ipython",
    "version": 3
   },
   "file_extension": ".py",
   "mimetype": "text/x-python",
   "name": "python",
   "nbconvert_exporter": "python",
   "pygments_lexer": "ipython3",
   "version": "3.7.3"
  }
 },
 "nbformat": 4,
 "nbformat_minor": 2
}
