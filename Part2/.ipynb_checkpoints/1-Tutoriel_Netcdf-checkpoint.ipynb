{
 "cells": [
  {
   "cell_type": "markdown",
   "metadata": {},
   "source": [
    "# 1 - Travailler avec des données Netcd4-python\n",
    "\n",
    "Le format Netcdf (Network Common Data Form) permet de de créer, d'accéder et de partager des données scientifiques dans un format qui est auto-documenté et transparent pour de nombreux types de machines.\n",
    "\n",
    "<img src=\"./figures/xarray.png\" alt=\"xarray\" width=\"60%\" height=\"70%\">\n",
    "\n",
    "\n",
    "Le fichier Netcdf possède ainsi lui même des informations décrivant les données qu'il contient.\n",
    "\n",
    "Un fichier NetCDF possède des dimensions, des variables et des attributs. \n",
    "\n",
    "Voici un petit exemple de fichier NetCDF, pour illustrer ces concepts de dimensions, variables et attributs.\n",
    "\n",
    "La notation utilisée pour décrire ce fichier NetCDF est appelée CDL (network Common Data Language). Elle donne une version \"texte\" qui permet une compréhension facile de la struture et du contenu d'un fichier NetCDF binaire :\n",
    "\n",
    "\n",
    "    netcdf ./data/NARR_tasmax_201701.nc {\n",
    "      dimensions:\n",
    "    x = 349;\n",
    "    y = 277;\n",
    "    time = 31;\n",
    "      variables:\n",
    "    float lon(y=277, x=349);\n",
    "      :units = \"degrees_east\";\n",
    "      :long_name = \"Longitude\";\n",
    "      :CoordinateAxisType = \"Lon\";\n",
    "\n",
    "    float lat(y=277, x=349);\n",
    "      :units = \"degrees_north\";\n",
    "      :long_name = \"Latitude\";\n",
    "      :CoordinateAxisType = \"Lat\";\n",
    "\n",
    "    double time(time=31);\n",
    "      :long_name = \"Time\";\n",
    "      :delta_t = \"\";\n",
    "\n",
    "    float tasmax(time=31, y=277, x=349);\n",
    "      :long_name = \"Daily maximum temperature\";\n",
    "      :units = \"Celcius\";\n",
    "      :missing_value = -999.0; // double\n",
    "      :coordinates = \"lon lat\";\n",
    "}\n",
    "\n",
    "Un logiciel opensource du style 'Panoply' permet rapidement de lire et visualiser un fichier Netcdf: \n",
    "https://www.giss.nasa.gov/tools/panoply/download/\n",
    "\n",
    "Le module python que nous utiliserons dans cette section est netCDF4:\n",
    "https://pypi.org/project/netCDF4/\n",
    "\n",
    "Pour l'installer sous anaconda: <b>conda install -c anaconda netcdf4</b>  \n",
    "\n",
    "\n",
    "<img src=\"./figures/CanESM2_rcp85_r1i1p1_global_tos.jpg\" alt=\"Seaborn\" width=\"60%\" height=\"70%\">\n",
    "\n",
    "\n",
    "## 1- Créer un fichier Netcdf"
   ]
  },
  {
   "cell_type": "code",
   "execution_count": 1,
   "metadata": {},
   "outputs": [
    {
     "name": "stdout",
     "output_type": "stream",
     "text": [
      " Le volume dans le lecteur D n'a pas de nom.\n",
      " Le num‚ro de s‚rie du volume est EA0B-C226\n",
      "\n",
      " R‚pertoire de D:\\Utilisateurs\\guillaume\\Documents\\GitHub\\Formation_Python_4Juillet_2019\\Part2\n",
      "\n",
      "2019-07-04  15:38    <REP>          .\n",
      "2019-07-04  15:38    <REP>          ..\n",
      "2019-06-26  10:37                66 .gitattributes\n",
      "2019-07-04  15:38    <REP>          .ipynb_checkpoints\n",
      "2019-07-04  15:38    <REP>          __pycache__\n",
      "2019-07-03  20:15            22ÿ429 1-Tutoriel_Netcdf.ipynb\n",
      "2019-07-03  20:15            15ÿ783 2-Tutoriel_Netcdf.ipynb\n",
      "2019-07-03  20:16            26ÿ089 3-Map2D_Netcdf_map-Cartopy-1.ipynb\n",
      "2019-07-03  20:15            18ÿ817 4-Tutoriel_Xarray.ipynb\n",
      "2019-06-26  10:37             9ÿ334 carto.py\n",
      "2019-07-04  15:38    <REP>          data\n",
      "2019-07-04  15:38    <REP>          figures\n",
      "2019-06-26  10:37             2ÿ090 Indices_Temperatures.py\n",
      "2019-07-04  15:38    <REP>          scripts\n",
      "               7 fichier(s)           94ÿ608 octets\n",
      "               7 R‚p(s)  582ÿ594ÿ400ÿ256 octets libres\n"
     ]
    }
   ],
   "source": [
    "ls"
   ]
  },
  {
   "cell_type": "code",
   "execution_count": 2,
   "metadata": {},
   "outputs": [],
   "source": [
    "from netCDF4 import Dataset\n",
    "import os \n",
    "import warnings\n",
    "warnings.filterwarnings(\"ignore\")\n",
    "\n",
    "file_name = \"./data/champs_temperature.nc\"\n",
    "if os.path.isfile(file_name):\n",
    "    os.remove(file_name)\n",
    "    \n",
    "#open the file for writing, you can Also specify format=\"NETCDF4_CLASSIC\" or \"NETCDF3_CLASSIC\"\n",
    "#The format is NETCDF4 by default\n",
    "ds = Dataset(file_name, mode=\"w\")"
   ]
  },
  {
   "cell_type": "markdown",
   "metadata": {},
   "source": [
    "- Netcdf4-python: <b>createDimension</b>\n",
    "\n",
    "On va créer dans notre exemple un champs 2D (20,20)  "
   ]
  },
  {
   "cell_type": "code",
   "execution_count": 3,
   "metadata": {},
   "outputs": [
    {
     "data": {
      "text/plain": [
       "<class 'netCDF4._netCDF4.Dimension'> (unlimited): name = 'time', size = 0"
      ]
     },
     "execution_count": 3,
     "metadata": {},
     "output_type": "execute_result"
    }
   ],
   "source": [
    "ds.createDimension(\"x\", 20)\n",
    "ds.createDimension(\"y\", 20)\n",
    "ds.createDimension(\"time\", None)"
   ]
  },
  {
   "cell_type": "markdown",
   "metadata": {},
   "source": [
    "- Netcdf4-python: <b>createVariable</b>"
   ]
  },
  {
   "cell_type": "code",
   "execution_count": 4,
   "metadata": {},
   "outputs": [],
   "source": [
    "var1 = ds.createVariable(\"field1\", \"f4\", (\"time\", \"x\", \"y\"))\n",
    "var2 = ds.createVariable(\"field2\", \"f4\", (\"time\", \"x\", \"y\"))\n",
    "\n",
    "#add netcdf attributes\n",
    "var1.units = \"Celcius\"\n",
    "var1.long_name = \"surface air temperature\"\n",
    "\n",
    "var2.units = \"Kelvin\"\n",
    "var2.long_name = \"surface air temperature\"\n"
   ]
  },
  {
   "cell_type": "markdown",
   "metadata": {},
   "source": [
    "On peut maintenant assigner notre champs ou variable."
   ]
  },
  {
   "cell_type": "code",
   "execution_count": 5,
   "metadata": {},
   "outputs": [],
   "source": [
    "#generate random data and tell the program where it should go\n",
    "import numpy as np\n",
    "data = np.random.randn(10, 20, 20)\n",
    "var1[:] = data\n",
    "var2[:] =  data + 273.15\n",
    "#actually write data to the disk\n",
    "ds.close();"
   ]
  },
  {
   "cell_type": "markdown",
   "metadata": {},
   "source": [
    "## 2- Lire un fichier Netcdf\n",
    "\n",
    "On va lire le fichier Netcdf4 que nous avons crée précédemment."
   ]
  },
  {
   "cell_type": "code",
   "execution_count": 7,
   "metadata": {},
   "outputs": [],
   "source": [
    "from netCDF4 import Dataset\n",
    "ds = Dataset(\"./data/champs_temperature.nc\")"
   ]
  },
  {
   "cell_type": "markdown",
   "metadata": {},
   "source": [
    "On va sélectionner nos variables d'intérêt: aucune donnée n'est chargée à ce niveau"
   ]
  },
  {
   "cell_type": "code",
   "execution_count": 8,
   "metadata": {},
   "outputs": [
    {
     "name": "stdout",
     "output_type": "stream",
     "text": [
      "odict_keys(['field1', 'field2'])\n",
      "('time', 'x', 'y') (10, 20, 20)\n"
     ]
    }
   ],
   "source": [
    "#Quelles sont les variables contenues dans notre fichier\n",
    "print(ds.variables.keys())\n",
    "\n",
    "data1_var = ds.variables[\"field1\"]\n",
    "data2_var = ds.variables[\"field2\"]\n",
    "\n",
    "#On peut extraire les dimensions de notre variable\n",
    "print(data1_var.dimensions, data1_var.shape)"
   ]
  },
  {
   "cell_type": "markdown",
   "metadata": {},
   "source": [
    "Lecture des données de notre fichier netcdf."
   ]
  },
  {
   "cell_type": "code",
   "execution_count": 9,
   "metadata": {},
   "outputs": [
    {
     "name": "stdout",
     "output_type": "stream",
     "text": [
      "(20, 20) (10, 20, 20) -0.0092849275\n"
     ]
    }
   ],
   "source": [
    "#now we ask to really read the data into the memory\n",
    "all_data = data1_var[:]\n",
    "#print all_data.shape\n",
    "data1 = data1_var[1,:,:]\n",
    "data2 = data2_var[2,:,:]\n",
    "#data1\n",
    "print(data1.shape, all_data.shape, all_data.mean(axis = 0).mean(axis = 0).mean(axis = 0))"
   ]
  },
  {
   "cell_type": "markdown",
   "metadata": {},
   "source": [
    "## 3- Exemples de manipulations d'un fichier Netcdf\n",
    "\n",
    "Dans cet exemple pour allons travailler avec des données de la température maximale journalière pour tous les mois de janvier de 1971 à 2000 issues du modèle régional canadien CRCM5 développé au centre ESCER.\n",
    "\n",
    "Nous allons importer un module de calcul d'indices de température. \n",
    "\n",
    "Dans un premier temps nous allons importer les librairies nécessaires et définir les paramètres d'entrée. "
   ]
  },
  {
   "cell_type": "code",
   "execution_count": 10,
   "metadata": {},
   "outputs": [],
   "source": [
    "from netCDF4 import Dataset\n",
    "import Indices_Temperatures \n",
    "import numpy as np\n",
    "\n",
    "Mois='01'\n",
    "model='CRCM5-v1_NAM-44_ll_CCCma-CanESM2'\n",
    "path_model='CRCM5-v1_CCCma-CanESM2_historical'\n",
    "variable='tasmax'\n",
    "indice = 'Tmax90p'\n",
    "yi = 1971\n",
    "yf = 2000\n",
    "#########################################################\n",
    "rep_data='./data/CRCM5/'\n",
    "rep_out='./data/CRCM5/'\n",
    "tot=(yf-yi)+1 "
   ]
  },
  {
   "cell_type": "markdown",
   "metadata": {},
   "source": [
    "- Exemple d'ouverture du fichier : 'CRCM5-v1_NAM-44_ll_CCCma-CanESM2_historical_tasmax_197101.nc'"
   ]
  },
  {
   "cell_type": "code",
   "execution_count": 11,
   "metadata": {},
   "outputs": [],
   "source": [
    "nc_Modc=Dataset('./data/CRCM5/'+model+'_historical_'+variable+'_197101.nc','r')\n",
    "lats=nc_Modc.variables['lat'][:]\n",
    "lons=nc_Modc.variables['lon'][:]\n",
    "varc=nc_Modc.variables[variable][:]"
   ]
  },
  {
   "cell_type": "code",
   "execution_count": 12,
   "metadata": {},
   "outputs": [
    {
     "name": "stdout",
     "output_type": "stream",
     "text": [
      "-----------------------------------------\n",
      "dimension de la variable =  (31, 130, 155)\n",
      "Min de precip est =  -57.66677\n",
      "Max de precip est =  30.657953\n",
      "-----------------------------------------\n",
      "-----------------------------------------\n",
      "dimension de latitude =  (130, 155)\n",
      "Min de lat est =  12.538727\n",
      "Max de lat est =  75.86\n",
      "-----------------------------------------\n",
      "-----------------------------------------\n",
      "dimension de longitude =  (130, 155)\n",
      "Min de lon est =  -170.71053\n",
      "Max de lon est =  -23.28948\n",
      "-----------------------------------------\n"
     ]
    }
   ],
   "source": [
    "## Interrogeons un peu chaque variable de notre fichier \n",
    "print('-----------------------------------------')\n",
    "print('dimension de la variable = ',varc.shape)\n",
    "print('Min de precip est = ', np.nanmin(varc))\n",
    "print('Max de precip est = ', np.nanmax(varc))\n",
    "print('-----------------------------------------')\n",
    "print('-----------------------------------------')\n",
    "print('dimension de latitude = ',lats.shape)\n",
    "print('Min de lat est = ', np.min(lats))\n",
    "print('Max de lat est = ', np.max(lats))\n",
    "print('-----------------------------------------')\n",
    "print('-----------------------------------------')\n",
    "print('dimension de longitude = ',lons.shape)\n",
    "print('Min de lon est = ', np.min(lons))\n",
    "print('Max de lon est = ', np.max(lons))\n",
    "print('-----------------------------------------')"
   ]
  },
  {
   "cell_type": "markdown",
   "metadata": {},
   "source": [
    "On peut maintenant créer notre boucle sur tous les fichiers Netcdf et calculer notre indice. "
   ]
  },
  {
   "cell_type": "code",
   "execution_count": 13,
   "metadata": {},
   "outputs": [],
   "source": [
    "nt=0\n",
    "IND = np.zeros((tot,130,155),dtype=float)\n",
    "for year in range(yi,yf+1):\n",
    "    ###### ouverture et lecture des fichiers Netcdf\n",
    "    hist=model+'_historical_'+variable+'_'+str(year)+Mois+'.nc'     \n",
    "    modelc=rep_data+'/'+hist\n",
    "    nc_Modc=Dataset(modelc,'r')\n",
    "    lats=nc_Modc.variables['lat'][:]\n",
    "    lons=nc_Modc.variables['lon'][:]\n",
    "    varc=nc_Modc.variables[variable][:]\n",
    "    \n",
    "    ###### boucle sur tous les points de grille et calcul de l'indice\n",
    "    for ni in range(0, len(varc[0])):\n",
    "        for nj in range(0, len(varc[0][0])):\n",
    "            if indice == 'Mean_tasmax':\n",
    "                IND[nt,ni,nj]=Indices_Temperatures.MOY(varc[:,ni,nj])\n",
    "                description='Monthly Mean of tasmax'\n",
    "                unite='°Celcius'\n",
    "            elif indice == 'Tmax90p':\n",
    "                IND[nt,ni,nj]=Indices_Temperatures.Tmax90p(varc[:,ni,nj])\n",
    "                description='Monthly Mean of Tmax90p' \n",
    "                unite='°Celcius'               \n",
    "    nt+=1 \n",
    "    \n",
    "    ###### Écriture du fichier Netcdf en sortie\n",
    "C = Dataset(rep_out+model+'_historical_'+indice+'_'+str(yi)+'-'+str(yf)+'_'+Mois+'.nc', 'w')\n",
    "C.description = 'Indice temperature'\n",
    "C.conventions = 'CF-1.0'  \n",
    "C.model_id = model\n",
    "C.grid='latlon'\n",
    "C.CDO = 'Climate Data Operators version 1.6.2 (http://code.zmaw.de/projects/cdo)'\n",
    "C.institution = 'UQAM - ESCER Center, University of Quebec in Montreal'\n",
    "C.contact = 'Guillaume Dueymes'\n",
    "########################################\n",
    "# Dimensions\n",
    "C.createDimension('x', len(varc[0][0]))\n",
    "C.createDimension('y', len(varc[0]))\n",
    "C.createDimension('time', tot)\n",
    "\n",
    "var=C.createVariable(str(indice), np.float32, ('time','y','x')) \n",
    "var.long_name = str(description)\n",
    "var.unit = str(unite)\n",
    "lat=C.createVariable('lat', np.float32, ('y','x'))\n",
    "lon=C.createVariable('lon', np.float32, ('y','x')) \n",
    "\n",
    "time = C.createVariable('time', np.float64, ('time',))\n",
    "time.long_name = 'time'\n",
    "\n",
    "for var in ['lon','lat','time']:\n",
    "    for att in nc_Modc.variables[var].ncattrs():\n",
    "        setattr(C.variables[var],att,getattr(nc_Modc.variables[var],att))\n",
    "\n",
    "time[:]=range(1,nt+1)\n",
    "lat[:,:] = lats\n",
    "lon[:,:] = lons\n",
    "C.variables[str(indice)][:,:,:] = IND[::]\n",
    "C.close()\n",
    "    "
   ]
  },
  {
   "cell_type": "code",
   "execution_count": 14,
   "metadata": {},
   "outputs": [
    {
     "data": {
      "text/plain": [
       "(30, 130, 155)"
      ]
     },
     "execution_count": 14,
     "metadata": {},
     "output_type": "execute_result"
    }
   ],
   "source": [
    "IND.shape"
   ]
  },
  {
   "cell_type": "markdown",
   "metadata": {},
   "source": [
    "## 4- Extraire un point de grille d'un fichier Netcdf"
   ]
  },
  {
   "cell_type": "markdown",
   "metadata": {},
   "source": [
    "Dans cet exemple on va travailler avec des données de températures maximales journalières issues des Réanalyses Régionales NARR (North American Regional Reanalysis). Pour plus d'information sur ce produit: \n",
    "\n",
    "www.emc.ncep.noaa.gov/mmb/rreanl \n",
    "\n",
    "Les fichiers Netcdf que nous allons ouvrir sont quotidiens et couvrent la période entre le 1er janvier 2017 et le  31 décembre 2017. Les fichiers sont archivés par mois. \n",
    "\n",
    "On va extraire ici le point de grille NARR le plus proche de la station météorologique d'ECCC Montréal/McTavish (45.5N, -73.8W).\n",
    "\n",
    "Dans un premier temps on importe les librairies. "
   ]
  },
  {
   "cell_type": "code",
   "execution_count": 15,
   "metadata": {},
   "outputs": [],
   "source": [
    "import netCDF4\n",
    "import numpy as np\n",
    "import pandas as pd\n",
    "import datetime\n",
    "from datetime import date, timedelta\n",
    "from dateutil.relativedelta import relativedelta"
   ]
  },
  {
   "cell_type": "markdown",
   "metadata": {},
   "source": [
    "Définition des paramètres d'entrée."
   ]
  },
  {
   "cell_type": "code",
   "execution_count": 16,
   "metadata": {},
   "outputs": [],
   "source": [
    "rep1='./data/NARR/'\n",
    "model='NARR'\n",
    "variable='tasmax'\n",
    "variable_name='Temperature maximale'\n",
    "yeari=2017\n",
    "monthi=1\n",
    "yearf = 2017\n",
    "monthf = 12\n",
    "station='Montreal' \n",
    "lati = 45.5\n",
    "loni = -73.8"
   ]
  },
  {
   "cell_type": "markdown",
   "metadata": {},
   "source": [
    "On définit une fonction qui va calculer la distance entre chaque point de grille du fichier Netcdf et notre latitude/longitude de référence. On en déduit ensuite la distance minimale.\n",
    "\n",
    "L'autre fonction nous permet d'incrémenter nos mois lors de la lecture des fichiers Netcdf. "
   ]
  },
  {
   "cell_type": "code",
   "execution_count": 17,
   "metadata": {},
   "outputs": [
    {
     "data": {
      "text/html": [
       "<div>\n",
       "<style scoped>\n",
       "    .dataframe tbody tr th:only-of-type {\n",
       "        vertical-align: middle;\n",
       "    }\n",
       "\n",
       "    .dataframe tbody tr th {\n",
       "        vertical-align: top;\n",
       "    }\n",
       "\n",
       "    .dataframe thead th {\n",
       "        text-align: right;\n",
       "    }\n",
       "</style>\n",
       "<table border=\"1\" class=\"dataframe\">\n",
       "  <thead>\n",
       "    <tr style=\"text-align: right;\">\n",
       "      <th></th>\n",
       "      <th>Temperature maximale</th>\n",
       "    </tr>\n",
       "    <tr>\n",
       "      <th>Date</th>\n",
       "      <th></th>\n",
       "    </tr>\n",
       "  </thead>\n",
       "  <tbody>\n",
       "    <tr>\n",
       "      <th>2017-01-01</th>\n",
       "      <td>-0.893957</td>\n",
       "    </tr>\n",
       "    <tr>\n",
       "      <th>2017-01-02</th>\n",
       "      <td>-1.531439</td>\n",
       "    </tr>\n",
       "    <tr>\n",
       "      <th>2017-01-03</th>\n",
       "      <td>-1.737830</td>\n",
       "    </tr>\n",
       "    <tr>\n",
       "      <th>2017-01-04</th>\n",
       "      <td>-0.240698</td>\n",
       "    </tr>\n",
       "    <tr>\n",
       "      <th>2017-01-05</th>\n",
       "      <td>-0.791754</td>\n",
       "    </tr>\n",
       "  </tbody>\n",
       "</table>\n",
       "</div>"
      ],
      "text/plain": [
       "            Temperature maximale\n",
       "Date                            \n",
       "2017-01-01             -0.893957\n",
       "2017-01-02             -1.531439\n",
       "2017-01-03             -1.737830\n",
       "2017-01-04             -0.240698\n",
       "2017-01-05             -0.791754"
      ]
     },
     "execution_count": 17,
     "metadata": {},
     "output_type": "execute_result"
    }
   ],
   "source": [
    "day_start=1\n",
    "day_end = pd.date_range('{}-{}'.format(yearf, monthf), periods=1, freq='M').day.tolist()[0]\n",
    "start=datetime.datetime(yeari,monthi,day_start)\n",
    "end=datetime.datetime(yearf,monthf,day_end)\n",
    "d0 = date(yeari, monthi, day_start)\n",
    "d1 = date(yearf, monthf, day_end)\n",
    "delta = d1 - d0\n",
    "nb_days = delta.days+1\n",
    "var_data=np.zeros(nb_days)\n",
    "\n",
    "\n",
    "def getclosest_ij(lats,lons,latpt,lonpt):\n",
    "     # find squared distance of every point on grid\n",
    "     dist_sq = (lats-latpt)**2 + (lons-lonpt)**2 \n",
    "     # 1D index of minimum dist_sq element\n",
    "     minindex_flattened = dist_sq.argmin()\n",
    "     # Get 2D index for latvals and lonvals arrays from 1D index\n",
    "     return np.unravel_index(minindex_flattened, lats.shape)\n",
    "\n",
    "def add_month(now):\n",
    "    try:\n",
    "        then = (now + relativedelta(months=1)).replace(day=now.day)\n",
    "    except ValueError:\n",
    "        then = (now + relativedelta(months=2)).replace(day=1)\n",
    "    return then\n",
    "\n",
    "i=0\n",
    "IND=[]\n",
    "# Début de notre boucle temporelle\n",
    "incr=start\n",
    "while incr <= end:\n",
    "    filename= rep1 + model + '_' + variable + '_' + str(incr.year) + '{:02d}'.format(incr.month) + '.nc'   \n",
    "    f = netCDF4.Dataset(filename)\n",
    "   # print(f.variables.keys()) # get all variable names\n",
    "    var = f.variables[variable] # temperature variable\n",
    "    #print(temp) \n",
    "    #temp.dimensions\n",
    "    #temp.shape\n",
    "    lat, lon = f.variables['lat'], f.variables['lon']\n",
    "    #print(lat)\n",
    "    #print(lon)\n",
    "    #print(lat[:])\n",
    "    # extract lat/lon values (in degrees) to numpy arrays\n",
    "    latvals = lat[:]; lonvals = lon[:] \n",
    "    # a function to find the index of the point closest pt\n",
    "    # (in squared distance) to give lat/lon value.    \n",
    "    iy_min, ix_min = getclosest_ij(latvals, lonvals, lati, loni)\n",
    "    #print(iy_min)\n",
    "    #print(ix_min)\n",
    "    IND.append(var[:,iy_min,ix_min])\n",
    "    incr=add_month(incr)\n",
    "    \n",
    "flattened_list = [y for x in IND for y in x]\n",
    "start=datetime.datetime(yeari,monthi,day_start)\n",
    "TIME=[]\n",
    "for i in range(0,nb_days,1): \n",
    " #   TIME.append((start+timedelta(days=i)).strftime(\"%Y-%m-%d\"))\n",
    "    TIME.append((start+timedelta(days=i)))\n",
    "dataFrame_NARR = pd.DataFrame({'Date': TIME, variable_name: flattened_list}, columns = ['Date',variable_name]) \n",
    "dataFrame_NARR = dataFrame_NARR.set_index('Date')   \n",
    "dataFrame_NARR.head()"
   ]
  },
  {
   "cell_type": "markdown",
   "metadata": {},
   "source": [
    "On peut enregistrer notre DataFrame dans un fichier csv."
   ]
  },
  {
   "cell_type": "code",
   "execution_count": 18,
   "metadata": {},
   "outputs": [],
   "source": [
    "dataFrame_NARR.to_csv('./data/NARR/NARR_'+station+'_1pt_'+str(variable)+'_'+ '{:02d}'.format(monthi) + str(yeari)+'_'+ '{:02d}'.format(monthf) + str(yearf)+'.csv')    "
   ]
  },
  {
   "cell_type": "markdown",
   "metadata": {},
   "source": [
    "- Comparaison avec les données de la station \n",
    "\n",
    "On va extraire les données de la station Montréal McTavish et les mettre dans le dataFrame de NARR. "
   ]
  },
  {
   "cell_type": "code",
   "execution_count": 19,
   "metadata": {},
   "outputs": [],
   "source": [
    "dataframe_station = pd.read_csv('./data/station/MONTREAL_TAVISH_tasmax_1948_2017.csv', header=None, names=['Température Maximale Station'])\n",
    "start = date(1948, 1, 1)\n",
    "end = date(2017, 12, 31)\n",
    "delta=(end-start) \n",
    "nb_days = delta.days + 1 \n",
    "rng = pd.date_range(start, periods=nb_days, freq='D')\n",
    "\n",
    "dataframe_station['datetime'] = rng\n",
    "dataframe_station.index = dataframe_station['datetime'] \n",
    "dataframe_station = dataframe_station.drop([\"datetime\"], axis=1)"
   ]
  },
  {
   "cell_type": "code",
   "execution_count": 20,
   "metadata": {},
   "outputs": [
    {
     "data": {
      "text/html": [
       "<div>\n",
       "<style scoped>\n",
       "    .dataframe tbody tr th:only-of-type {\n",
       "        vertical-align: middle;\n",
       "    }\n",
       "\n",
       "    .dataframe tbody tr th {\n",
       "        vertical-align: top;\n",
       "    }\n",
       "\n",
       "    .dataframe thead th {\n",
       "        text-align: right;\n",
       "    }\n",
       "</style>\n",
       "<table border=\"1\" class=\"dataframe\">\n",
       "  <thead>\n",
       "    <tr style=\"text-align: right;\">\n",
       "      <th></th>\n",
       "      <th>Température Maximale Station</th>\n",
       "    </tr>\n",
       "    <tr>\n",
       "      <th>datetime</th>\n",
       "      <th></th>\n",
       "    </tr>\n",
       "  </thead>\n",
       "  <tbody>\n",
       "    <tr>\n",
       "      <th>1948-01-01</th>\n",
       "      <td>-10.0</td>\n",
       "    </tr>\n",
       "    <tr>\n",
       "      <th>1948-01-02</th>\n",
       "      <td>-3.9</td>\n",
       "    </tr>\n",
       "    <tr>\n",
       "      <th>1948-01-03</th>\n",
       "      <td>-0.6</td>\n",
       "    </tr>\n",
       "    <tr>\n",
       "      <th>1948-01-04</th>\n",
       "      <td>-2.8</td>\n",
       "    </tr>\n",
       "    <tr>\n",
       "      <th>1948-01-05</th>\n",
       "      <td>-2.2</td>\n",
       "    </tr>\n",
       "  </tbody>\n",
       "</table>\n",
       "</div>"
      ],
      "text/plain": [
       "            Température Maximale Station\n",
       "datetime                                \n",
       "1948-01-01                         -10.0\n",
       "1948-01-02                          -3.9\n",
       "1948-01-03                          -0.6\n",
       "1948-01-04                          -2.8\n",
       "1948-01-05                          -2.2"
      ]
     },
     "execution_count": 20,
     "metadata": {},
     "output_type": "execute_result"
    }
   ],
   "source": [
    "dataframe_station.head()"
   ]
  },
  {
   "cell_type": "code",
   "execution_count": 21,
   "metadata": {},
   "outputs": [
    {
     "data": {
      "text/html": [
       "<div>\n",
       "<style scoped>\n",
       "    .dataframe tbody tr th:only-of-type {\n",
       "        vertical-align: middle;\n",
       "    }\n",
       "\n",
       "    .dataframe tbody tr th {\n",
       "        vertical-align: top;\n",
       "    }\n",
       "\n",
       "    .dataframe thead th {\n",
       "        text-align: right;\n",
       "    }\n",
       "</style>\n",
       "<table border=\"1\" class=\"dataframe\">\n",
       "  <thead>\n",
       "    <tr style=\"text-align: right;\">\n",
       "      <th></th>\n",
       "      <th>Température Maximale Station</th>\n",
       "      <th>Température maximale NARR</th>\n",
       "    </tr>\n",
       "  </thead>\n",
       "  <tbody>\n",
       "    <tr>\n",
       "      <th>2017-12-27</th>\n",
       "      <td>-17.6</td>\n",
       "      <td>-18.818960</td>\n",
       "    </tr>\n",
       "    <tr>\n",
       "      <th>2017-12-28</th>\n",
       "      <td>-20.5</td>\n",
       "      <td>-19.372122</td>\n",
       "    </tr>\n",
       "    <tr>\n",
       "      <th>2017-12-29</th>\n",
       "      <td>-18.4</td>\n",
       "      <td>-16.453222</td>\n",
       "    </tr>\n",
       "    <tr>\n",
       "      <th>2017-12-30</th>\n",
       "      <td>-17.3</td>\n",
       "      <td>-16.208838</td>\n",
       "    </tr>\n",
       "    <tr>\n",
       "      <th>2017-12-31</th>\n",
       "      <td>-18.3</td>\n",
       "      <td>-16.772772</td>\n",
       "    </tr>\n",
       "  </tbody>\n",
       "</table>\n",
       "</div>"
      ],
      "text/plain": [
       "            Température Maximale Station  Température maximale NARR\n",
       "2017-12-27                         -17.6                 -18.818960\n",
       "2017-12-28                         -20.5                 -19.372122\n",
       "2017-12-29                         -18.4                 -16.453222\n",
       "2017-12-30                         -17.3                 -16.208838\n",
       "2017-12-31                         -18.3                 -16.772772"
      ]
     },
     "execution_count": 21,
     "metadata": {},
     "output_type": "execute_result"
    }
   ],
   "source": [
    "dataFrame_NARR = dataFrame_NARR.rename(columns={\"Temperature maximale\": \"Température maximale NARR\"})\n",
    "df_NARR_Station = pd.concat([dataframe_station,dataFrame_NARR],axis=1)\n",
    "df_NARR_Station.tail()"
   ]
  },
  {
   "cell_type": "markdown",
   "metadata": {},
   "source": [
    "On veut par exemple tracer les données entre 2016 et 2017."
   ]
  },
  {
   "cell_type": "code",
   "execution_count": 22,
   "metadata": {},
   "outputs": [
    {
     "data": {
      "text/html": [
       "<div>\n",
       "<style scoped>\n",
       "    .dataframe tbody tr th:only-of-type {\n",
       "        vertical-align: middle;\n",
       "    }\n",
       "\n",
       "    .dataframe tbody tr th {\n",
       "        vertical-align: top;\n",
       "    }\n",
       "\n",
       "    .dataframe thead th {\n",
       "        text-align: right;\n",
       "    }\n",
       "</style>\n",
       "<table border=\"1\" class=\"dataframe\">\n",
       "  <thead>\n",
       "    <tr style=\"text-align: right;\">\n",
       "      <th></th>\n",
       "      <th>Température Maximale Station</th>\n",
       "      <th>Température maximale NARR</th>\n",
       "    </tr>\n",
       "  </thead>\n",
       "  <tbody>\n",
       "    <tr>\n",
       "      <th>2016-01-01</th>\n",
       "      <td>-0.1</td>\n",
       "      <td>NaN</td>\n",
       "    </tr>\n",
       "    <tr>\n",
       "      <th>2016-01-02</th>\n",
       "      <td>0.4</td>\n",
       "      <td>NaN</td>\n",
       "    </tr>\n",
       "    <tr>\n",
       "      <th>2016-01-03</th>\n",
       "      <td>0.2</td>\n",
       "      <td>NaN</td>\n",
       "    </tr>\n",
       "    <tr>\n",
       "      <th>2016-01-04</th>\n",
       "      <td>-13.5</td>\n",
       "      <td>NaN</td>\n",
       "    </tr>\n",
       "    <tr>\n",
       "      <th>2016-01-05</th>\n",
       "      <td>-7.5</td>\n",
       "      <td>NaN</td>\n",
       "    </tr>\n",
       "  </tbody>\n",
       "</table>\n",
       "</div>"
      ],
      "text/plain": [
       "            Température Maximale Station  Température maximale NARR\n",
       "2016-01-01                          -0.1                        NaN\n",
       "2016-01-02                           0.4                        NaN\n",
       "2016-01-03                           0.2                        NaN\n",
       "2016-01-04                         -13.5                        NaN\n",
       "2016-01-05                          -7.5                        NaN"
      ]
     },
     "execution_count": 22,
     "metadata": {},
     "output_type": "execute_result"
    }
   ],
   "source": [
    "df=df_NARR_Station.loc['2016' : '2017']\n",
    "df.head()"
   ]
  },
  {
   "cell_type": "code",
   "execution_count": 23,
   "metadata": {
    "scrolled": true
   },
   "outputs": [
    {
     "data": {
      "text/plain": [
       "<Figure size 1600x800 with 1 Axes>"
      ]
     },
     "metadata": {},
     "output_type": "display_data"
    }
   ],
   "source": [
    "import matplotlib.pyplot as plt\n",
    "color = ['black', 'red']\n",
    "fig = plt.figure(figsize=(16,8))\n",
    "plt.plot(df.index, df['Température maximale NARR'][:],  label='Température maximale NARR', linewidth=2, c=color[0])\n",
    "plt.plot(df.index, df['Température Maximale Station'][:],  label='Température Maximale Station', linewidth=2, c=color[1])\n",
    "\n",
    "# Autre méthode pour tracer avec Pandas\n",
    "#df_NARR_Station['2017'].plot(figsize=(10,5))\n",
    "\n",
    "plt.xlabel(\"Temps\")\n",
    "plt.ylabel(\"Température\", {'color': 'black', 'fontsize': 10})\n",
    "plt.title(\"Évolution de la température: Station MTL vs NARR\", y=1.05)\n",
    "plt.legend(loc='upper left', ncol=1, bbox_to_anchor=(0, 1, 1, 0),fontsize =10)\n",
    "plt.savefig(\"data/NARR/evolution_temperature.png\", dpi=300, bbox_inches='tight')   # bbox_inches= : option qui permet de propostionner le graphique lors de l'enregistrement\n",
    "plt.show()\n"
   ]
  },
  {
   "cell_type": "markdown",
   "metadata": {},
   "source": [
    "- Exemple d'utilisation de la fonction <b>.rolling()</b> permettant de calculer une moyenne mobile sur un signal ."
   ]
  },
  {
   "cell_type": "code",
   "execution_count": 24,
   "metadata": {},
   "outputs": [
    {
     "data": {
      "text/html": [
       "<div>\n",
       "<style scoped>\n",
       "    .dataframe tbody tr th:only-of-type {\n",
       "        vertical-align: middle;\n",
       "    }\n",
       "\n",
       "    .dataframe tbody tr th {\n",
       "        vertical-align: top;\n",
       "    }\n",
       "\n",
       "    .dataframe thead th {\n",
       "        text-align: right;\n",
       "    }\n",
       "</style>\n",
       "<table border=\"1\" class=\"dataframe\">\n",
       "  <thead>\n",
       "    <tr style=\"text-align: right;\">\n",
       "      <th></th>\n",
       "      <th>Température Maximale Station</th>\n",
       "      <th>Température maximale NARR</th>\n",
       "      <th>rollingmean5 Station</th>\n",
       "      <th>rollingmean5 NARR</th>\n",
       "    </tr>\n",
       "  </thead>\n",
       "  <tbody>\n",
       "    <tr>\n",
       "      <th>2017-12-27</th>\n",
       "      <td>-17.6</td>\n",
       "      <td>-18.818960</td>\n",
       "      <td>-8.04</td>\n",
       "      <td>-8.318930</td>\n",
       "    </tr>\n",
       "    <tr>\n",
       "      <th>2017-12-28</th>\n",
       "      <td>-20.5</td>\n",
       "      <td>-19.372122</td>\n",
       "      <td>-11.12</td>\n",
       "      <td>-11.099524</td>\n",
       "    </tr>\n",
       "    <tr>\n",
       "      <th>2017-12-29</th>\n",
       "      <td>-18.4</td>\n",
       "      <td>-16.453222</td>\n",
       "      <td>-13.88</td>\n",
       "      <td>-13.647839</td>\n",
       "    </tr>\n",
       "    <tr>\n",
       "      <th>2017-12-30</th>\n",
       "      <td>-17.3</td>\n",
       "      <td>-16.208838</td>\n",
       "      <td>-16.12</td>\n",
       "      <td>-15.613794</td>\n",
       "    </tr>\n",
       "    <tr>\n",
       "      <th>2017-12-31</th>\n",
       "      <td>-18.3</td>\n",
       "      <td>-16.772772</td>\n",
       "      <td>-18.42</td>\n",
       "      <td>-17.525183</td>\n",
       "    </tr>\n",
       "  </tbody>\n",
       "</table>\n",
       "</div>"
      ],
      "text/plain": [
       "            Température Maximale Station  Température maximale NARR  \\\n",
       "2017-12-27                         -17.6                 -18.818960   \n",
       "2017-12-28                         -20.5                 -19.372122   \n",
       "2017-12-29                         -18.4                 -16.453222   \n",
       "2017-12-30                         -17.3                 -16.208838   \n",
       "2017-12-31                         -18.3                 -16.772772   \n",
       "\n",
       "            rollingmean5 Station  rollingmean5 NARR  \n",
       "2017-12-27                 -8.04          -8.318930  \n",
       "2017-12-28                -11.12         -11.099524  \n",
       "2017-12-29                -13.88         -13.647839  \n",
       "2017-12-30                -16.12         -15.613794  \n",
       "2017-12-31                -18.42         -17.525183  "
      ]
     },
     "execution_count": 24,
     "metadata": {},
     "output_type": "execute_result"
    }
   ],
   "source": [
    "import matplotlib.pyplot as plt\n",
    "df_NARR_Station['rollingmean5 Station']=  df_NARR_Station['Température Maximale Station'].rolling(window=5).mean()\n",
    "df_NARR_Station['rollingmean5 NARR']=  df_NARR_Station['Température maximale NARR'].rolling(window=5).mean()\n",
    "df_NARR_Station.tail()"
   ]
  },
  {
   "cell_type": "code",
   "execution_count": 25,
   "metadata": {},
   "outputs": [
    {
     "data": {
      "image/png": "[encoded data removed]",
      "text/plain": [
       "<Figure size 1152x576 with 1 Axes>"
      ]
     },
     "metadata": {
      "needs_background": "light"
     },
     "output_type": "display_data"
    }
   ],
   "source": [
    "df_NARR_Station['2017-01':'2017-12'].plot(figsize=(16,8))\n",
    "plt.xlabel(\"Temps\")\n",
    "plt.ylabel(\"Température\")\n",
    "plt.title(\"Évolution de la température: Station MTL vs NARR\", y=1.05)\n",
    "plt.savefig(\"data/NARR/evolution_temperature2.png\", dpi=300, bbox_inches='tight')   # bbox_inches= : option qui permet de propostionner le graphique lors de l'enregistrement\n",
    "plt.show()"
   ]
  },
  {
   "cell_type": "code",
   "execution_count": null,
   "metadata": {},
   "outputs": [],
   "source": []
  },
  {
   "cell_type": "code",
   "execution_count": null,
   "metadata": {},
   "outputs": [],
   "source": []
  },
  {
   "cell_type": "code",
   "execution_count": null,
   "metadata": {},
   "outputs": [],
   "source": []
  }
 ],
 "metadata": {
  "kernelspec": {
   "display_name": "Python 3",
   "language": "python",
   "name": "python3"
  },
  "language_info": {
   "codemirror_mode": {
    "name": "ipython",
    "version": 3
   },
   "file_extension": ".py",
   "mimetype": "text/x-python",
   "name": "python",
   "nbconvert_exporter": "python",
   "pygments_lexer": "ipython3",
   "version": "3.7.3"
  }
 },
 "nbformat": 4,
 "nbformat_minor": 2
}
