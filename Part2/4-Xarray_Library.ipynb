{
 "cells": [
  {
   "cell_type": "markdown",
   "metadata": {},
   "source": [
    "\n",
    "# Working with Netcd4-python data: Xarray tutorial\n",
    "\n",
    "In this tutorial, we will use the features of the Python xarray library to process and analyze Netcdf files.\n",
    "\n",
    "To install the library under anaconda:\n",
    "\n",
    "$ conda install xarray\n",
    "\n",
    "\n",
    "Here is an example of structure of a Netcdf file under xarray:\n",
    "   \n",
    "\n",
    "<img src = \"./figures/xarray.png\" alt = \"xarray\" width = \"60%\" height = \"70%\">\n",
    "\n",
    "\n",
    "<b> DataArray </b>\n",
    "\n",
    "xarray.DataArray is xarray’s implementation of a labeled, multi-dimensional array. It has several key properties:\n",
    "\n",
    "<table border=\"1\" class=\"docutils\">\n",
    "<colgroup>\n",
    "<col width=\"27%\">\n",
    "<col width=\"57%\">\n",
    "</colgroup>\n",
    "<tbody valign=\"top\">\n",
    "<tr><td><tt class=\"docutils literal\"><span class=\"pre\">values</span></tt></td>\n",
    "<td> a numpy.ndarray holding the array’s values</td>\n",
    "</tr>\n",
    "<tr><td><tt class=\"docutils literal\"><span class=\"pre\">dims</span></tt></td>\n",
    "<td>dimension names for each axis (e.g., ('x', 'y', 'z','time'))</td>\n",
    "</tr>\n",
    "<tr><td><tt class=\"docutils literal\"><span class=\"pre\">coords</span></tt></td>\n",
    "<td>a dict-like container of arrays (coordinates) that label each point (e.g., 1-dimensional arrays of numbers, datetime objects or strings)</td>\n",
    "</tr>\n",
    "<tr><td><tt class=\"docutils literal\"><span class=\"pre\">attrs</span></tt></td>\n",
    "<td>an OrderedDict to hold arbitrary metadata (attributes)</td>\n",
    "</tr>\n",
    "</tbody>\n",
    "</table>\n",
    "\n",
    "\n",
    "<b> DataSet </b>\n",
    "\n",
    "xarray.Dataset is xarray’s multi-dimensional equivalent of a DataFrame. It is a dict-like container of labeled arrays (DataArray objects) with aligned dimensions. It is designed as an in-memory representation of the data model from the netCDF file format.\n",
    "\n",
    "\n",
    "xarray.DataSet is a collection of DataArrays. Each NetCDF file contains a DataSet.\n",
    "\n",
    "## 1- Open a Netcdf file\n",
    "\n",
    "We will open and store the data of a Netcdf file in a Dataset.\n",
    "\n",
    "First we need to import librairies and create aliases."
   ]
  },
  {
   "cell_type": "code",
   "execution_count": 3,
   "metadata": {},
   "outputs": [
    {
     "name": "stderr",
     "output_type": "stream",
     "text": [
      "D:\\Utilisateurs\\guillaume\\Anaconda3\\lib\\site-packages\\dask\\config.py:168: YAMLLoadWarning: calling yaml.load() without Loader=... is deprecated, as the default Loader is unsafe. Please read https://msg.pyyaml.org/load for full details.\n",
      "  data = yaml.load(f.read()) or {}\n",
      "D:\\Utilisateurs\\guillaume\\Anaconda3\\lib\\site-packages\\distributed\\config.py:20: YAMLLoadWarning: calling yaml.load() without Loader=... is deprecated, as the default Loader is unsafe. Please read https://msg.pyyaml.org/load for full details.\n",
      "  defaults = yaml.load(f)\n"
     ]
    }
   ],
   "source": [
    "import xarray as xr\n",
    "import warnings; warnings.filterwarnings(action='ignore')\n",
    "from matplotlib import pyplot as plt\n",
    "%matplotlib inline\n",
    "plt.rcParams['figure.figsize'] = (8,5)"
   ]
  },
  {
   "cell_type": "markdown",
   "metadata": {},
   "source": [
    "- To import and store as dataset only one Netcdf file:\n",
    "\n",
    "We will work with temperature fields from cera20c reanalysis."
   ]
  },
  {
   "cell_type": "code",
   "execution_count": null,
   "metadata": {},
   "outputs": [],
   "source": [
    "unique_dataDIR = './DATA/CERA20C/cera20c_member0_TAS_197101_day.nc'\n",
    "TAS = xr.open_dataset(unique_dataDIR)\n",
    "TAS"
   ]
  },
  {
   "cell_type": "markdown",
   "metadata": {},
   "source": [
    "- If we want to import several Netcdf files:\n",
    "\n",
    "Here, we want to store all files' names starting with 'cera20c_member0_TAS_' and located in './data/cera20c/' path. "
   ]
  },
  {
   "cell_type": "code",
   "execution_count": null,
   "metadata": {
    "scrolled": true
   },
   "outputs": [],
   "source": [
    "multi_dataDIR = './DATA/CERA20C/cera20c_member0_TAS_*.nc'\n",
    "TAS2 = xr.open_mfdataset(multi_dataDIR)\n",
    "TAS2"
   ]
  },
  {
   "cell_type": "markdown",
   "metadata": {},
   "source": [
    "- Combine Netcdf:\n",
    "\n",
    "To combine variables and coordinates between multiple DataArray and/or Dataset objects, use merge(). It can merge a list of Dataset, DataArray or dictionaries of objects convertible to DataArray objects:\n",
    " "
   ]
  },
  {
   "cell_type": "code",
   "execution_count": null,
   "metadata": {},
   "outputs": [],
   "source": [
    "multi_dataDIR = './DATA/CERA20C/cera20c_member0_TAS_*.nc'\n",
    "TAS2 = xr.open_mfdataset(multi_dataDIR)\n",
    "multi_dataDIR2 = './DATA/CERA20C/cera20c_member0_SIC_*.nc'\n",
    "SIC2 = xr.open_mfdataset(multi_dataDIR2)\n",
    "\n",
    "DS_new = xr.merge([TAS2,SIC2])\n",
    "DS_new"
   ]
  },
  {
   "cell_type": "markdown",
   "metadata": {},
   "source": [
    "## 2- Exploring the data\n",
    "\n",
    "We can quickly explore our datasets by using some methods of the xarray library: \n",
    "\n",
    "    - DS.var\n",
    "    - DS.dims\n",
    "    = DS.coords\n",
    "    - DS.attrs"
   ]
  },
  {
   "cell_type": "code",
   "execution_count": null,
   "metadata": {},
   "outputs": [],
   "source": [
    "DS_new.var"
   ]
  },
  {
   "cell_type": "code",
   "execution_count": null,
   "metadata": {},
   "outputs": [],
   "source": [
    "DS_new.dims"
   ]
  },
  {
   "cell_type": "code",
   "execution_count": null,
   "metadata": {},
   "outputs": [],
   "source": [
    "DS_new.coords"
   ]
  },
  {
   "cell_type": "code",
   "execution_count": null,
   "metadata": {},
   "outputs": [],
   "source": [
    "DS_new.attrs"
   ]
  },
  {
   "cell_type": "markdown",
   "metadata": {},
   "source": [
    "## 3- Basic operations with Xarray:\n",
    "\n",
    "- Select a date:\n",
    "\n",
    "We can use .sel() method to select one timestamp from our Dataset."
   ]
  },
  {
   "cell_type": "code",
   "execution_count": null,
   "metadata": {},
   "outputs": [],
   "source": [
    "DS_date = DS_new.sel(time='1971-01-01')\n",
    "DS_date"
   ]
  },
  {
   "cell_type": "markdown",
   "metadata": {},
   "source": [
    "- Select time range\n",
    "\n",
    "We can select a time range with slicing "
   ]
  },
  {
   "cell_type": "code",
   "execution_count": null,
   "metadata": {},
   "outputs": [],
   "source": [
    "DS_date_range = DS_new.sel(time=slice('1971-06-01', '1971-08-31'))\n",
    "DS_date_range"
   ]
  },
  {
   "cell_type": "markdown",
   "metadata": {},
   "source": [
    "- Export a dataset\n",
    "\n",
    "We can export our dataset into dataframe and then use Pandas library to make analysis. "
   ]
  },
  {
   "cell_type": "code",
   "execution_count": null,
   "metadata": {},
   "outputs": [],
   "source": [
    "df = DS_date_range.to_dataframe()"
   ]
  },
  {
   "cell_type": "code",
   "execution_count": null,
   "metadata": {},
   "outputs": [],
   "source": [
    "df.head()"
   ]
  },
  {
   "cell_type": "code",
   "execution_count": null,
   "metadata": {},
   "outputs": [],
   "source": [
    "df.describe()"
   ]
  },
  {
   "cell_type": "markdown",
   "metadata": {},
   "source": [
    "- Time mean\n"
   ]
  },
  {
   "cell_type": "code",
   "execution_count": null,
   "metadata": {},
   "outputs": [],
   "source": [
    "Mean_array = DS_date_range.mean(dim='time')\n",
    "Mean_array.values"
   ]
  },
  {
   "cell_type": "markdown",
   "metadata": {},
   "source": [
    "- To save our results into csv:"
   ]
  },
  {
   "cell_type": "code",
   "execution_count": null,
   "metadata": {},
   "outputs": [],
   "source": [
    "Mean_array.t2m.to_dataframe().to_csv('./DATA/CERA20C_T2m_mean.csv')"
   ]
  },
  {
   "cell_type": "markdown",
   "metadata": {},
   "source": [
    "- Mean over all latitudes and longitudes grid points: "
   ]
  },
  {
   "cell_type": "code",
   "execution_count": null,
   "metadata": {},
   "outputs": [],
   "source": [
    "DS_date_range.t2m.mean(dim=('latitude', 'longitude'))"
   ]
  },
  {
   "cell_type": "code",
   "execution_count": null,
   "metadata": {
    "scrolled": true
   },
   "outputs": [],
   "source": [
    "DS_date_range.t2m.mean(dim=('latitude', 'longitude')).plot()"
   ]
  },
  {
   "cell_type": "markdown",
   "metadata": {},
   "source": [
    "- To save into csv:"
   ]
  },
  {
   "cell_type": "code",
   "execution_count": null,
   "metadata": {},
   "outputs": [],
   "source": [
    "DS_date_range.t2m.mean(dim=('time', 'longitude')).to_dataframe().to_csv('./DATA/CERA20C_T2m_2Dmean.csv')"
   ]
  },
  {
   "cell_type": "markdown",
   "metadata": {},
   "source": [
    "- Quick plot with Xarray"
   ]
  },
  {
   "cell_type": "code",
   "execution_count": null,
   "metadata": {},
   "outputs": [],
   "source": [
    "import cartopy.crs as ccrs\n",
    "fig=plt.figure(figsize=(10,10), frameon=True) \n",
    "\n",
    "ax = plt.axes(projection=ccrs.Orthographic(-80, 35))\n",
    "Mean_array.t2m.plot.contourf(ax=ax, transform=ccrs.PlateCarree());\n",
    "ax.set_global(); ax.coastlines();"
   ]
  },
  {
   "cell_type": "markdown",
   "metadata": {},
   "source": [
    "- Basic operations with Xarray:\n",
    "\n",
    "In this example, we will mean DS_date_range over time and apply a substration to change units. \n"
   ]
  },
  {
   "cell_type": "code",
   "execution_count": null,
   "metadata": {},
   "outputs": [],
   "source": [
    "centigrade = DS_date_range.t2m.mean(dim='time') - 273.16\n",
    "centigrade.values"
   ]
  },
  {
   "cell_type": "code",
   "execution_count": null,
   "metadata": {},
   "outputs": [],
   "source": [
    "fig=plt.figure(figsize=(10,10), frameon=True)\n",
    "ax = plt.axes(projection=ccrs.Orthographic(-80, 35))\n",
    "centigrade.plot.contourf(ax=ax, transform=ccrs.PlateCarree());\n",
    "ax.set_global(); ax.coastlines();"
   ]
  },
  {
   "cell_type": "markdown",
   "metadata": {},
   "source": [
    "- Groupby() method:\n",
    "\n",
    "groupdby() method with Xarray is very usefull to group our datasets by month, season, year... and then apply function to compute indices."
   ]
  },
  {
   "cell_type": "code",
   "execution_count": null,
   "metadata": {},
   "outputs": [],
   "source": [
    "DS_new"
   ]
  },
  {
   "cell_type": "code",
   "execution_count": null,
   "metadata": {},
   "outputs": [],
   "source": [
    "# monthly mean:\n",
    "DS_month = DS_new.groupby('time.month').mean('time')\n",
    "DS_month\n",
    "#DS_month.to_dataframe()"
   ]
  },
  {
   "cell_type": "markdown",
   "metadata": {},
   "source": [
    "We can use this method to compute climatology and then anomalies."
   ]
  },
  {
   "cell_type": "code",
   "execution_count": null,
   "metadata": {},
   "outputs": [],
   "source": [
    "climatology = DS_new.groupby('time.month').mean('time')\n",
    "anomalies = DS_new.groupby('time.month') - climatology\n",
    "anomalies"
   ]
  },
  {
   "cell_type": "code",
   "execution_count": null,
   "metadata": {},
   "outputs": [],
   "source": [
    "# seaon mean:\n",
    "DS_season = DS_new.groupby('time.season').mean('time')\n",
    "DS_season"
   ]
  },
  {
   "cell_type": "code",
   "execution_count": null,
   "metadata": {},
   "outputs": [],
   "source": [
    "# year mean:\n",
    "DS_year = DS_new.groupby('time.year').mean('time')\n",
    "DS_year"
   ]
  },
  {
   "cell_type": "markdown",
   "metadata": {},
   "source": [
    "- to select a specific season:"
   ]
  },
  {
   "cell_type": "code",
   "execution_count": null,
   "metadata": {},
   "outputs": [],
   "source": [
    "DS_winter = DS_season.sel(season='DJF')\n",
    "DS_winter"
   ]
  },
  {
   "cell_type": "markdown",
   "metadata": {},
   "source": [
    "In the example below, we will group the xarray.DataArray data by season, calculate the average, apply a simple arrhythmic operation and plot the resulting fields for each season. "
   ]
  },
  {
   "cell_type": "code",
   "execution_count": null,
   "metadata": {
    "scrolled": true
   },
   "outputs": [],
   "source": [
    "DS_Season = DS_new.t2m.groupby('time.season').mean('time')- 273.15\n",
    "fig, axes = plt.subplots(nrows=2, ncols=2, figsize=(9,5))\n",
    "j = 0\n",
    "for i, season in enumerate(('DJF', 'MAM', 'JJA', 'SON')):\n",
    "    if season =='JJA':\n",
    "        j += 1\n",
    "        i = 0\n",
    "    elif season =='SON':\n",
    "        i = 1\n",
    "        \n",
    "    DS_Season.sel(season=season).plot.pcolormesh(\n",
    "        ax=axes[i, j], vmin=-30, vmax=30, cmap='Spectral_r',\n",
    "        add_colorbar=True, extend='both')\n",
    "\n",
    "for ax in axes.flat:\n",
    "    ax.axes.get_xaxis().set_ticklabels([])\n",
    "    ax.axes.get_yaxis().set_ticklabels([])\n",
    "    ax.axes.axis('tight')\n",
    "   \n",
    "plt.tight_layout()\n",
    "fig.suptitle('Seasonal Surface Air Temperature', fontsize=16, y=1.02)"
   ]
  },
  {
   "cell_type": "code",
   "execution_count": null,
   "metadata": {},
   "outputs": [],
   "source": [
    "\n",
    "lat_bnd = [80, 50]\n",
    "lon_bnd = [250, 310]\n",
    "DS_Season = DS_new.sel(longitude=slice(*lon_bnd), latitude=slice(*lat_bnd),).siconc.groupby('time.season').mean('time') *100\n",
    "\n",
    "fig, axes = plt.subplots(nrows=2, ncols=2, figsize=(16,10))\n",
    "j = 0\n",
    "for i, season in enumerate(('DJF', 'MAM', 'JJA', 'SON')):\n",
    "    if season =='JJA':\n",
    "        j += 1\n",
    "        i = 0\n",
    "    elif season =='SON':\n",
    "        i = 1\n",
    "        \n",
    "    DS_Season.sel(season=season).plot.pcolormesh(\n",
    "        ax=axes[i, j], vmin=0, vmax=100, cmap='Spectral_r',\n",
    "        add_colorbar=True, extend='both')\n",
    "for ax in axes.flat:\n",
    "    ax.axes.get_xaxis().set_ticklabels([])\n",
    "    ax.axes.get_yaxis().set_ticklabels([])\n",
    "    ax.axes.axis('tight')\n",
    "   \n",
    "plt.tight_layout()\n",
    "fig.suptitle('Seasonal Sea Ice Concentration', fontsize=16, y=1.02)"
   ]
  },
  {
   "cell_type": "markdown",
   "metadata": {},
   "source": [
    "To save our result into Netcdf: "
   ]
  },
  {
   "cell_type": "code",
   "execution_count": null,
   "metadata": {},
   "outputs": [],
   "source": [
    "DS_season = DS_new.groupby('time.season').mean('time')\n",
    "dataDIR = './DATA/CERA20C_season.nc'\n",
    "DS_Season.to_netcdf(dataDIR)\n"
   ]
  },
  {
   "cell_type": "markdown",
   "metadata": {},
   "source": [
    "##  4- Select grid points from Netcdf file using Xarray"
   ]
  },
  {
   "cell_type": "markdown",
   "metadata": {},
   "source": [
    "In the previous section we applied the .sel () method to work on the time dimension. This method can be used on spatial dimensions to extract points or study areas from our netcdf file.\n",
    "\n",
    "### Gridpoint:  to extract the closest grid point of a latitude / longitude: "
   ]
  },
  {
   "cell_type": "code",
   "execution_count": null,
   "metadata": {},
   "outputs": [],
   "source": [
    "lati = 45.5\n",
    "loni = 269.2\n",
    "data  = DS_new.sel(longitude=loni  , latitude=lati  , method='nearest') \n",
    "data"
   ]
  },
  {
   "cell_type": "code",
   "execution_count": null,
   "metadata": {},
   "outputs": [],
   "source": [
    "data['t2m'] = data['t2m'] - 273.15"
   ]
  },
  {
   "cell_type": "code",
   "execution_count": null,
   "metadata": {},
   "outputs": [],
   "source": [
    "data.t2m"
   ]
  },
  {
   "cell_type": "markdown",
   "metadata": {},
   "source": [
    "We can convert our selection into a DataFrame and then use Pandas to analyse our results."
   ]
  },
  {
   "cell_type": "code",
   "execution_count": null,
   "metadata": {},
   "outputs": [],
   "source": [
    "df = data.t2m.to_dataframe()\n",
    "fig = plt.figure(figsize=(16,8))\n",
    "df['t2m'].plot()\n"
   ]
  },
  {
   "cell_type": "markdown",
   "metadata": {},
   "source": [
    "### Gridpoints:  to extract a list of points"
   ]
  },
  {
   "cell_type": "code",
   "execution_count": null,
   "metadata": {},
   "outputs": [],
   "source": [
    "lats =  [20.0,50.0,90.0]\n",
    "lons =  [60.0,80.0,120.0]\n",
    "\n",
    "data  = DS_new.sel(longitude=lons  , latitude=lats  , method='nearest')\n",
    "data['t2m'] = data['t2m']-273.15\n",
    "data"
   ]
  },
  {
   "cell_type": "code",
   "execution_count": null,
   "metadata": {},
   "outputs": [],
   "source": [
    "fig = plt.figure(figsize=(16,8))\n",
    "data.t2m.sel(longitude=60.0, latitude=[20.0,50.0,90.0]).plot.line(x='time')"
   ]
  },
  {
   "cell_type": "markdown",
   "metadata": {},
   "source": [
    "### To extract an area or subdomain delimited by latitude and longitude values: .slicing() "
   ]
  },
  {
   "cell_type": "code",
   "execution_count": null,
   "metadata": {},
   "outputs": [],
   "source": [
    "lat_bnd = [80, 50]\n",
    "lon_bnd = [250, 310]\n",
    "area = DS_new.sel(longitude=slice(*lon_bnd), latitude=slice(*lat_bnd),)\n",
    "area"
   ]
  },
  {
   "cell_type": "code",
   "execution_count": null,
   "metadata": {},
   "outputs": [],
   "source": [
    "area.longitude.values"
   ]
  },
  {
   "cell_type": "markdown",
   "metadata": {},
   "source": [
    "To visualize our area:: "
   ]
  },
  {
   "cell_type": "code",
   "execution_count": null,
   "metadata": {},
   "outputs": [],
   "source": [
    "import cartopy.crs as ccrs\n",
    "import cartopy.feature as cfeat\n",
    "def make_figure():\n",
    "    fig = plt.figure(figsize=(22, 12))\n",
    "    ax = fig.add_subplot(1, 1, 1, projection=ccrs.PlateCarree())\n",
    "\n",
    "    # generate a basemap with country borders, oceans and coastlines\n",
    "    ax.add_feature(cfeat.LAND)\n",
    "    ax.add_feature(cfeat.OCEAN)\n",
    "    ax.add_feature(cfeat.COASTLINE)\n",
    "    ax.add_feature(cfeat.BORDERS, linestyle='dotted')\n",
    "    return fig, ax\n",
    "\n",
    "make_figure();"
   ]
  },
  {
   "cell_type": "code",
   "execution_count": null,
   "metadata": {},
   "outputs": [],
   "source": [
    "_, ax = make_figure()\n",
    "# plot the temperature field\n",
    "area.t2m[0].plot()"
   ]
  },
  {
   "cell_type": "markdown",
   "metadata": {},
   "source": [
    "### To mask an area delimited by a Shapefile:\n",
    "\n",
    "To do this, we need to import two more librairies: \n",
    "- Geopandas: conda install -c conda-forge geopandas\n",
    "- osgeo: conda install -c conda-forge gdal\n",
    "\n",
    "The next function will open a shapefile, read the polygons and make a mask from each grid points of our Netcdf inside the polygons. "
   ]
  },
  {
   "cell_type": "code",
   "execution_count": 14,
   "metadata": {},
   "outputs": [],
   "source": [
    "from osgeo import ogr\n",
    "import geopandas as gpd\n",
    "import numpy as np\n",
    "def get_mask(lons2d, lats2d, shp_path=\"\", polygon_name=None):\n",
    "    \"\"\"\n",
    "    Assumes that the shape file contains polygons in lat lon coordinates\n",
    "    :param lons2d:\n",
    "    :param lats2d:\n",
    "    :param shp_path:\n",
    "    :rtype : np.ndarray\n",
    "    The mask is 1 for the points inside of the polygons\n",
    "    \"\"\"\n",
    "    ds = ogr.Open(shp_path)\n",
    "    \"\"\"\n",
    "    :type : ogr.DataSource\n",
    "    \"\"\"\n",
    "\n",
    "    xx = lons2d.copy()\n",
    "    yy = lats2d\n",
    "\n",
    "    # set longitudes to be from -180 to 180\n",
    "    xx[xx > 180] -= 360\n",
    "\n",
    "    mask = np.zeros(lons2d.shape, dtype=int)\n",
    "    nx, ny = mask.shape\n",
    "\n",
    "    pt = ogr.Geometry(ogr.wkbPoint)\n",
    "\n",
    "    for i in range(ds.GetLayerCount()):\n",
    "        layer = ds.GetLayer(i)\n",
    "        \"\"\"\n",
    "        :type : ogr.Layer\n",
    "        \"\"\"\n",
    "\n",
    "        for j in range(layer.GetFeatureCount()):\n",
    "            feat = layer.GetFeature(j)\n",
    "            \"\"\"\n",
    "            :type : ogr.Feature\n",
    "            \"\"\"\n",
    "\n",
    "            # Select polygons by the name property\n",
    "            if polygon_name is not None:\n",
    "                if not feat.GetFieldAsString(\"NAME\") == polygon_name:\n",
    "                    continue\n",
    "\n",
    "            g = feat.GetGeometryRef()\n",
    "            \"\"\"\n",
    "            :type : ogr.Geometry\n",
    "            \"\"\"\n",
    "\n",
    "            assert isinstance(g, ogr.Geometry)\n",
    "\n",
    "            for pi in range(nx):\n",
    "                for pj in range(ny):\n",
    "                    pt.SetPoint_2D(0, float(xx[pi, pj]), float(yy[pi, pj]))\n",
    "\n",
    "                    mask[pi, pj] += int(g.Contains(pt))\n",
    "\n",
    "    return mask\n"
   ]
  },
  {
   "cell_type": "markdown",
   "metadata": {},
   "source": [
    "We first read the Netcdf file and store informations in a Xarray.dataset. \n"
   ]
  },
  {
   "cell_type": "code",
   "execution_count": 15,
   "metadata": {},
   "outputs": [],
   "source": [
    " ds = xr.open_dataset('./DATA/CERA20C/cera20c_member0_TAS_197101_day.nc')"
   ]
  },
  {
   "cell_type": "markdown",
   "metadata": {},
   "source": [
    "We then need to extract latitudes and longitudes values and compute a 2D matrix. "
   ]
  },
  {
   "cell_type": "code",
   "execution_count": 16,
   "metadata": {},
   "outputs": [],
   "source": [
    "Imp_Lats =  ds['latitude'].values\n",
    "Imp_Lons =  ds['longitude'].values\n",
    "lon2d, lat2d = np.meshgrid(Imp_Lons, Imp_Lats)"
   ]
  },
  {
   "cell_type": "code",
   "execution_count": 17,
   "metadata": {},
   "outputs": [
    {
     "data": {
      "text/plain": [
       "<xarray.Dataset>\n",
       "Dimensions:    (latitude: 145, longitude: 288)\n",
       "Coordinates:\n",
       "  * longitude  (longitude) float32 0.0 1.25 2.5 3.75 ... 356.25 357.5 358.75\n",
       "  * latitude   (latitude) float32 90.0 88.75 87.5 86.25 ... -87.5 -88.75 -90.0\n",
       "Data variables:\n",
       "    t2m        (latitude, longitude) float32 -34.067184 ... -25.249802"
      ]
     },
     "execution_count": 17,
     "metadata": {},
     "output_type": "execute_result"
    }
   ],
   "source": [
    "ds_mean = ds.mean('time') - 273.15\n",
    "ds_mean"
   ]
  },
  {
   "cell_type": "markdown",
   "metadata": {},
   "source": [
    "We open the shape file with Geopandas library."
   ]
  },
  {
   "cell_type": "code",
   "execution_count": 18,
   "metadata": {
    "scrolled": true
   },
   "outputs": [
    {
     "data": {
      "text/plain": [
       "['FIPS',\n",
       " 'ISO2',\n",
       " 'ISO3',\n",
       " 'UN',\n",
       " 'NAME',\n",
       " 'AREA',\n",
       " 'POP2005',\n",
       " 'REGION',\n",
       " 'SUBREGION',\n",
       " 'LON',\n",
       " 'LAT',\n",
       " 'layer',\n",
       " 'path',\n",
       " 'geometry']"
      ]
     },
     "execution_count": 18,
     "metadata": {},
     "output_type": "execute_result"
    }
   ],
   "source": [
    "shapes = gpd.read_file(\"./DATA/Shapefiles/Countries_Final-polygon.shp\")\n",
    "list(shapes.columns.values)"
   ]
  },
  {
   "cell_type": "code",
   "execution_count": 19,
   "metadata": {},
   "outputs": [
    {
     "data": {
      "text/html": [
       "<div>\n",
       "<style scoped>\n",
       "    .dataframe tbody tr th:only-of-type {\n",
       "        vertical-align: middle;\n",
       "    }\n",
       "\n",
       "    .dataframe tbody tr th {\n",
       "        vertical-align: top;\n",
       "    }\n",
       "\n",
       "    .dataframe thead th {\n",
       "        text-align: right;\n",
       "    }\n",
       "</style>\n",
       "<table border=\"1\" class=\"dataframe\">\n",
       "  <thead>\n",
       "    <tr style=\"text-align: right;\">\n",
       "      <th></th>\n",
       "      <th>FIPS</th>\n",
       "      <th>ISO2</th>\n",
       "      <th>ISO3</th>\n",
       "      <th>UN</th>\n",
       "      <th>NAME</th>\n",
       "      <th>AREA</th>\n",
       "      <th>POP2005</th>\n",
       "      <th>REGION</th>\n",
       "      <th>SUBREGION</th>\n",
       "      <th>LON</th>\n",
       "      <th>LAT</th>\n",
       "      <th>layer</th>\n",
       "      <th>path</th>\n",
       "      <th>geometry</th>\n",
       "    </tr>\n",
       "  </thead>\n",
       "  <tbody>\n",
       "    <tr>\n",
       "      <th>0</th>\n",
       "      <td>NT</td>\n",
       "      <td>AN</td>\n",
       "      <td>ANT</td>\n",
       "      <td>530</td>\n",
       "      <td>Bonaire</td>\n",
       "      <td>80</td>\n",
       "      <td>186392</td>\n",
       "      <td>19</td>\n",
       "      <td>29</td>\n",
       "      <td>-68.870</td>\n",
       "      <td>12.123</td>\n",
       "      <td>Single parts</td>\n",
       "      <td>C:/Users/Aspire/Desktop/ZIKA analysis with new...</td>\n",
       "      <td>POLYGON ((-68.19528200000002 12.22110899999996...</td>\n",
       "    </tr>\n",
       "    <tr>\n",
       "      <th>1</th>\n",
       "      <td>NT</td>\n",
       "      <td>AN</td>\n",
       "      <td>ANT</td>\n",
       "      <td>530</td>\n",
       "      <td>Curacao</td>\n",
       "      <td>80</td>\n",
       "      <td>186392</td>\n",
       "      <td>19</td>\n",
       "      <td>29</td>\n",
       "      <td>-68.870</td>\n",
       "      <td>12.123</td>\n",
       "      <td>Single parts</td>\n",
       "      <td>C:/Users/Aspire/Desktop/ZIKA analysis with new...</td>\n",
       "      <td>POLYGON ((-68.96556099999998 12.19888900000001...</td>\n",
       "    </tr>\n",
       "    <tr>\n",
       "      <th>2</th>\n",
       "      <td>NT</td>\n",
       "      <td>AN</td>\n",
       "      <td>ANT</td>\n",
       "      <td>530</td>\n",
       "      <td>Netherlands Antilles</td>\n",
       "      <td>80</td>\n",
       "      <td>186392</td>\n",
       "      <td>19</td>\n",
       "      <td>29</td>\n",
       "      <td>-68.870</td>\n",
       "      <td>12.123</td>\n",
       "      <td>Single parts</td>\n",
       "      <td>C:/Users/Aspire/Desktop/ZIKA analysis with new...</td>\n",
       "      <td>POLYGON ((-62.96111299999995 17.4608310000001,...</td>\n",
       "    </tr>\n",
       "    <tr>\n",
       "      <th>3</th>\n",
       "      <td>AC</td>\n",
       "      <td>AG</td>\n",
       "      <td>ATG</td>\n",
       "      <td>28</td>\n",
       "      <td>Antigua and Barbuda</td>\n",
       "      <td>44</td>\n",
       "      <td>83039</td>\n",
       "      <td>19</td>\n",
       "      <td>29</td>\n",
       "      <td>-61.783</td>\n",
       "      <td>17.078</td>\n",
       "      <td>Studied_countries</td>\n",
       "      <td>C:\\Users\\Aspire\\Desktop\\ZIKA analysis with new...</td>\n",
       "      <td>(POLYGON ((-61.686668 17.02444100000014, -61.7...</td>\n",
       "    </tr>\n",
       "    <tr>\n",
       "      <th>4</th>\n",
       "      <td>AR</td>\n",
       "      <td>AR</td>\n",
       "      <td>ARG</td>\n",
       "      <td>32</td>\n",
       "      <td>Argentina</td>\n",
       "      <td>273669</td>\n",
       "      <td>38747148</td>\n",
       "      <td>19</td>\n",
       "      <td>5</td>\n",
       "      <td>-65.167</td>\n",
       "      <td>-35.377</td>\n",
       "      <td>Studied_countries</td>\n",
       "      <td>C:\\Users\\Aspire\\Desktop\\ZIKA analysis with new...</td>\n",
       "      <td>(POLYGON ((-68.60861199999994 -54.891395999999...</td>\n",
       "    </tr>\n",
       "    <tr>\n",
       "      <th>5</th>\n",
       "      <td>BB</td>\n",
       "      <td>BB</td>\n",
       "      <td>BRB</td>\n",
       "      <td>52</td>\n",
       "      <td>Barbados</td>\n",
       "      <td>43</td>\n",
       "      <td>291933</td>\n",
       "      <td>19</td>\n",
       "      <td>29</td>\n",
       "      <td>-59.559</td>\n",
       "      <td>13.153</td>\n",
       "      <td>Studied_countries</td>\n",
       "      <td>C:\\Users\\Aspire\\Desktop\\ZIKA analysis with new...</td>\n",
       "      <td>POLYGON ((-59.533058 13.050554, -59.543335 13....</td>\n",
       "    </tr>\n",
       "    <tr>\n",
       "      <th>6</th>\n",
       "      <td>BD</td>\n",
       "      <td>BM</td>\n",
       "      <td>BMU</td>\n",
       "      <td>60</td>\n",
       "      <td>Bermuda</td>\n",
       "      <td>5</td>\n",
       "      <td>64174</td>\n",
       "      <td>19</td>\n",
       "      <td>21</td>\n",
       "      <td>-64.709</td>\n",
       "      <td>32.336</td>\n",
       "      <td>Studied_countries</td>\n",
       "      <td>C:\\Users\\Aspire\\Desktop\\ZIKA analysis with new...</td>\n",
       "      <td>(POLYGON ((-64.85583500000001 32.2786100000001...</td>\n",
       "    </tr>\n",
       "    <tr>\n",
       "      <th>7</th>\n",
       "      <td>BF</td>\n",
       "      <td>BS</td>\n",
       "      <td>BHS</td>\n",
       "      <td>44</td>\n",
       "      <td>Bahamas</td>\n",
       "      <td>1001</td>\n",
       "      <td>323295</td>\n",
       "      <td>19</td>\n",
       "      <td>29</td>\n",
       "      <td>-78.014</td>\n",
       "      <td>24.628</td>\n",
       "      <td>Studied_countries</td>\n",
       "      <td>C:\\Users\\Aspire\\Desktop\\ZIKA analysis with new...</td>\n",
       "      <td>(POLYGON ((-73.03723099999996 21.1394420000000...</td>\n",
       "    </tr>\n",
       "    <tr>\n",
       "      <th>8</th>\n",
       "      <td>BH</td>\n",
       "      <td>BZ</td>\n",
       "      <td>BLZ</td>\n",
       "      <td>84</td>\n",
       "      <td>Belize</td>\n",
       "      <td>2281</td>\n",
       "      <td>275546</td>\n",
       "      <td>19</td>\n",
       "      <td>13</td>\n",
       "      <td>-88.602</td>\n",
       "      <td>17.219</td>\n",
       "      <td>Studied_countries</td>\n",
       "      <td>C:\\Users\\Aspire\\Desktop\\ZIKA analysis with new...</td>\n",
       "      <td>(POLYGON ((-87.80334499999992 17.2941670000001...</td>\n",
       "    </tr>\n",
       "    <tr>\n",
       "      <th>9</th>\n",
       "      <td>BL</td>\n",
       "      <td>BO</td>\n",
       "      <td>BOL</td>\n",
       "      <td>68</td>\n",
       "      <td>Bolivia</td>\n",
       "      <td>108438</td>\n",
       "      <td>9182015</td>\n",
       "      <td>19</td>\n",
       "      <td>5</td>\n",
       "      <td>-64.671</td>\n",
       "      <td>-16.715</td>\n",
       "      <td>Studied_countries</td>\n",
       "      <td>C:\\Users\\Aspire\\Desktop\\ZIKA analysis with new...</td>\n",
       "      <td>POLYGON ((-65.190201 -22.09473, -65.5988920000...</td>\n",
       "    </tr>\n",
       "    <tr>\n",
       "      <th>10</th>\n",
       "      <td>BR</td>\n",
       "      <td>BR</td>\n",
       "      <td>BRA</td>\n",
       "      <td>76</td>\n",
       "      <td>Brazil</td>\n",
       "      <td>845942</td>\n",
       "      <td>186830759</td>\n",
       "      <td>19</td>\n",
       "      <td>5</td>\n",
       "      <td>-53.089</td>\n",
       "      <td>-10.772</td>\n",
       "      <td>Studied_countries</td>\n",
       "      <td>C:\\Users\\Aspire\\Desktop\\ZIKA analysis with new...</td>\n",
       "      <td>(POLYGON ((-48.55055999999996 -27.821391999999...</td>\n",
       "    </tr>\n",
       "    <tr>\n",
       "      <th>11</th>\n",
       "      <td>CI</td>\n",
       "      <td>CL</td>\n",
       "      <td>CHL</td>\n",
       "      <td>152</td>\n",
       "      <td>Chile</td>\n",
       "      <td>74880</td>\n",
       "      <td>16295102</td>\n",
       "      <td>19</td>\n",
       "      <td>5</td>\n",
       "      <td>-69.433</td>\n",
       "      <td>-23.389</td>\n",
       "      <td>Studied_countries</td>\n",
       "      <td>C:\\Users\\Aspire\\Desktop\\ZIKA analysis with new...</td>\n",
       "      <td>(POLYGON ((-67.212784 -55.89361600000001, -67....</td>\n",
       "    </tr>\n",
       "    <tr>\n",
       "      <th>12</th>\n",
       "      <td>CO</td>\n",
       "      <td>CO</td>\n",
       "      <td>COL</td>\n",
       "      <td>170</td>\n",
       "      <td>Colombia</td>\n",
       "      <td>103870</td>\n",
       "      <td>4494579</td>\n",
       "      <td>19</td>\n",
       "      <td>5</td>\n",
       "      <td>-73.076</td>\n",
       "      <td>3.900</td>\n",
       "      <td>Studied_countries</td>\n",
       "      <td>C:\\Users\\Aspire\\Desktop\\ZIKA analysis with new...</td>\n",
       "      <td>(POLYGON ((-78.54528800000003 2.41611100000005...</td>\n",
       "    </tr>\n",
       "    <tr>\n",
       "      <th>13</th>\n",
       "      <td>CS</td>\n",
       "      <td>CR</td>\n",
       "      <td>CRI</td>\n",
       "      <td>188</td>\n",
       "      <td>Costa Rica</td>\n",
       "      <td>5106</td>\n",
       "      <td>4327228</td>\n",
       "      <td>19</td>\n",
       "      <td>13</td>\n",
       "      <td>-83.946</td>\n",
       "      <td>9.971</td>\n",
       "      <td>Studied_countries</td>\n",
       "      <td>C:\\Users\\Aspire\\Desktop\\ZIKA analysis with new...</td>\n",
       "      <td>(POLYGON ((-85.11584499999998 10.0736099999999...</td>\n",
       "    </tr>\n",
       "    <tr>\n",
       "      <th>14</th>\n",
       "      <td>CU</td>\n",
       "      <td>CU</td>\n",
       "      <td>CUB</td>\n",
       "      <td>192</td>\n",
       "      <td>Cuba</td>\n",
       "      <td>10982</td>\n",
       "      <td>11259905</td>\n",
       "      <td>19</td>\n",
       "      <td>29</td>\n",
       "      <td>-77.781</td>\n",
       "      <td>21.297</td>\n",
       "      <td>Studied_countries</td>\n",
       "      <td>C:\\Users\\Aspire\\Desktop\\ZIKA analysis with new...</td>\n",
       "      <td>(POLYGON ((-78.327789 20.51361100000008, -78.3...</td>\n",
       "    </tr>\n",
       "    <tr>\n",
       "      <th>15</th>\n",
       "      <td>DO</td>\n",
       "      <td>DM</td>\n",
       "      <td>DMA</td>\n",
       "      <td>212</td>\n",
       "      <td>Dominica</td>\n",
       "      <td>75</td>\n",
       "      <td>67827</td>\n",
       "      <td>19</td>\n",
       "      <td>29</td>\n",
       "      <td>-61.356</td>\n",
       "      <td>15.475</td>\n",
       "      <td>Studied_countries</td>\n",
       "      <td>C:\\Users\\Aspire\\Desktop\\ZIKA analysis with new...</td>\n",
       "      <td>POLYGON ((-61.363617 15.198055, -61.37056 15.1...</td>\n",
       "    </tr>\n",
       "    <tr>\n",
       "      <th>16</th>\n",
       "      <td>DR</td>\n",
       "      <td>DO</td>\n",
       "      <td>DOM</td>\n",
       "      <td>214</td>\n",
       "      <td>Dominican Republic</td>\n",
       "      <td>4838</td>\n",
       "      <td>9469601</td>\n",
       "      <td>19</td>\n",
       "      <td>29</td>\n",
       "      <td>-70.729</td>\n",
       "      <td>19.015</td>\n",
       "      <td>Studied_countries</td>\n",
       "      <td>C:\\Users\\Aspire\\Desktop\\ZIKA analysis with new...</td>\n",
       "      <td>(POLYGON ((-71.53222700000003 17.5402760000000...</td>\n",
       "    </tr>\n",
       "    <tr>\n",
       "      <th>17</th>\n",
       "      <td>EC</td>\n",
       "      <td>EC</td>\n",
       "      <td>ECU</td>\n",
       "      <td>218</td>\n",
       "      <td>Ecuador</td>\n",
       "      <td>27684</td>\n",
       "      <td>13060993</td>\n",
       "      <td>19</td>\n",
       "      <td>5</td>\n",
       "      <td>-78.497</td>\n",
       "      <td>-1.385</td>\n",
       "      <td>Studied_countries</td>\n",
       "      <td>C:\\Users\\Aspire\\Desktop\\ZIKA analysis with new...</td>\n",
       "      <td>(POLYGON ((-80.19334399999997 -3.0347219999999...</td>\n",
       "    </tr>\n",
       "    <tr>\n",
       "      <th>18</th>\n",
       "      <td>ES</td>\n",
       "      <td>SV</td>\n",
       "      <td>SLV</td>\n",
       "      <td>222</td>\n",
       "      <td>El Salvador</td>\n",
       "      <td>2072</td>\n",
       "      <td>6668356</td>\n",
       "      <td>19</td>\n",
       "      <td>13</td>\n",
       "      <td>-88.866</td>\n",
       "      <td>13.736</td>\n",
       "      <td>Studied_countries</td>\n",
       "      <td>C:\\Users\\Aspire\\Desktop\\ZIKA analysis with new...</td>\n",
       "      <td>(POLYGON ((-87.68640099999999 13.1683330000000...</td>\n",
       "    </tr>\n",
       "    <tr>\n",
       "      <th>19</th>\n",
       "      <td>FG</td>\n",
       "      <td>GF</td>\n",
       "      <td>GUF</td>\n",
       "      <td>254</td>\n",
       "      <td>French Guiana</td>\n",
       "      <td>8815</td>\n",
       "      <td>192099</td>\n",
       "      <td>19</td>\n",
       "      <td>5</td>\n",
       "      <td>-53.241</td>\n",
       "      <td>3.924</td>\n",
       "      <td>Studied_countries</td>\n",
       "      <td>C:\\Users\\Aspire\\Desktop\\ZIKA analysis with new...</td>\n",
       "      <td>POLYGON ((-53.494339 5.572342, -53.483612 5.56...</td>\n",
       "    </tr>\n",
       "    <tr>\n",
       "      <th>20</th>\n",
       "      <td>GJ</td>\n",
       "      <td>GD</td>\n",
       "      <td>GRD</td>\n",
       "      <td>308</td>\n",
       "      <td>Grenada</td>\n",
       "      <td>34</td>\n",
       "      <td>105237</td>\n",
       "      <td>19</td>\n",
       "      <td>29</td>\n",
       "      <td>-61.678</td>\n",
       "      <td>12.118</td>\n",
       "      <td>Studied_countries</td>\n",
       "      <td>C:\\Users\\Aspire\\Desktop\\ZIKA analysis with new...</td>\n",
       "      <td>(POLYGON ((-61.74694799999992 11.9974990000000...</td>\n",
       "    </tr>\n",
       "    <tr>\n",
       "      <th>21</th>\n",
       "      <td>GT</td>\n",
       "      <td>GT</td>\n",
       "      <td>GTM</td>\n",
       "      <td>320</td>\n",
       "      <td>Guatemala</td>\n",
       "      <td>10843</td>\n",
       "      <td>12709564</td>\n",
       "      <td>19</td>\n",
       "      <td>13</td>\n",
       "      <td>-90.398</td>\n",
       "      <td>15.256</td>\n",
       "      <td>Studied_countries</td>\n",
       "      <td>C:\\Users\\Aspire\\Desktop\\ZIKA analysis with new...</td>\n",
       "      <td>POLYGON ((-90.62762499999999 13.930555, -90.67...</td>\n",
       "    </tr>\n",
       "    <tr>\n",
       "      <th>22</th>\n",
       "      <td>GY</td>\n",
       "      <td>GY</td>\n",
       "      <td>GUY</td>\n",
       "      <td>328</td>\n",
       "      <td>Guyana</td>\n",
       "      <td>19685</td>\n",
       "      <td>739472</td>\n",
       "      <td>19</td>\n",
       "      <td>5</td>\n",
       "      <td>-58.974</td>\n",
       "      <td>4.792</td>\n",
       "      <td>Studied_countries</td>\n",
       "      <td>C:\\Users\\Aspire\\Desktop\\ZIKA analysis with new...</td>\n",
       "      <td>(POLYGON ((-58.45056199999999 6.89694400000013...</td>\n",
       "    </tr>\n",
       "    <tr>\n",
       "      <th>23</th>\n",
       "      <td>HA</td>\n",
       "      <td>HT</td>\n",
       "      <td>HTI</td>\n",
       "      <td>332</td>\n",
       "      <td>Haiti</td>\n",
       "      <td>2756</td>\n",
       "      <td>9296291</td>\n",
       "      <td>19</td>\n",
       "      <td>29</td>\n",
       "      <td>-72.278</td>\n",
       "      <td>19.142</td>\n",
       "      <td>Studied_countries</td>\n",
       "      <td>C:\\Users\\Aspire\\Desktop\\ZIKA analysis with new...</td>\n",
       "      <td>(POLYGON ((-73.58473200000003 18.0569420000000...</td>\n",
       "    </tr>\n",
       "    <tr>\n",
       "      <th>24</th>\n",
       "      <td>HO</td>\n",
       "      <td>HN</td>\n",
       "      <td>HND</td>\n",
       "      <td>340</td>\n",
       "      <td>Honduras</td>\n",
       "      <td>11189</td>\n",
       "      <td>683411</td>\n",
       "      <td>19</td>\n",
       "      <td>13</td>\n",
       "      <td>-86.863</td>\n",
       "      <td>14.819</td>\n",
       "      <td>Studied_countries</td>\n",
       "      <td>C:\\Users\\Aspire\\Desktop\\ZIKA analysis with new...</td>\n",
       "      <td>(POLYGON ((-87.62251299999997 13.2463870000001...</td>\n",
       "    </tr>\n",
       "    <tr>\n",
       "      <th>25</th>\n",
       "      <td>JM</td>\n",
       "      <td>JM</td>\n",
       "      <td>JAM</td>\n",
       "      <td>388</td>\n",
       "      <td>Jamaica</td>\n",
       "      <td>1083</td>\n",
       "      <td>2682469</td>\n",
       "      <td>19</td>\n",
       "      <td>29</td>\n",
       "      <td>-77.320</td>\n",
       "      <td>18.151</td>\n",
       "      <td>Studied_countries</td>\n",
       "      <td>C:\\Users\\Aspire\\Desktop\\ZIKA analysis with new...</td>\n",
       "      <td>POLYGON ((-77.131958 17.878887, -77.147507 17....</td>\n",
       "    </tr>\n",
       "    <tr>\n",
       "      <th>26</th>\n",
       "      <td>MB</td>\n",
       "      <td>MQ</td>\n",
       "      <td>MTQ</td>\n",
       "      <td>474</td>\n",
       "      <td>Martinique</td>\n",
       "      <td>106</td>\n",
       "      <td>395896</td>\n",
       "      <td>19</td>\n",
       "      <td>29</td>\n",
       "      <td>-61.021</td>\n",
       "      <td>14.653</td>\n",
       "      <td>Studied_countries</td>\n",
       "      <td>C:\\Users\\Aspire\\Desktop\\ZIKA analysis with new...</td>\n",
       "      <td>POLYGON ((-60.86084 14.402777, -60.886948 14.4...</td>\n",
       "    </tr>\n",
       "    <tr>\n",
       "      <th>27</th>\n",
       "      <td>MX</td>\n",
       "      <td>MX</td>\n",
       "      <td>MEX</td>\n",
       "      <td>484</td>\n",
       "      <td>Mexico</td>\n",
       "      <td>190869</td>\n",
       "      <td>104266392</td>\n",
       "      <td>19</td>\n",
       "      <td>13</td>\n",
       "      <td>-102.535</td>\n",
       "      <td>23.951</td>\n",
       "      <td>Studied_countries</td>\n",
       "      <td>C:\\Users\\Aspire\\Desktop\\ZIKA analysis with new...</td>\n",
       "      <td>(POLYGON ((-114.742783 18.32277699999997, -114...</td>\n",
       "    </tr>\n",
       "    <tr>\n",
       "      <th>28</th>\n",
       "      <td>AA</td>\n",
       "      <td>AW</td>\n",
       "      <td>ABW</td>\n",
       "      <td>533</td>\n",
       "      <td>Aruba</td>\n",
       "      <td>0</td>\n",
       "      <td>102897</td>\n",
       "      <td>19</td>\n",
       "      <td>29</td>\n",
       "      <td>-69.977</td>\n",
       "      <td>12.517</td>\n",
       "      <td>Studied_countries</td>\n",
       "      <td>C:\\Users\\Aspire\\Desktop\\ZIKA analysis with new...</td>\n",
       "      <td>POLYGON ((-69.882233 12.41111, -69.946945 12.4...</td>\n",
       "    </tr>\n",
       "    <tr>\n",
       "      <th>29</th>\n",
       "      <td>NS</td>\n",
       "      <td>SR</td>\n",
       "      <td>SUR</td>\n",
       "      <td>740</td>\n",
       "      <td>Suriname</td>\n",
       "      <td>15600</td>\n",
       "      <td>452468</td>\n",
       "      <td>19</td>\n",
       "      <td>5</td>\n",
       "      <td>-55.912</td>\n",
       "      <td>4.127</td>\n",
       "      <td>Studied_countries</td>\n",
       "      <td>C:\\Users\\Aspire\\Desktop\\ZIKA analysis with new...</td>\n",
       "      <td>POLYGON ((-55.127968 5.822173, -55.104446 5.83...</td>\n",
       "    </tr>\n",
       "    <tr>\n",
       "      <th>30</th>\n",
       "      <td>NU</td>\n",
       "      <td>NI</td>\n",
       "      <td>NIC</td>\n",
       "      <td>558</td>\n",
       "      <td>Nicaragua</td>\n",
       "      <td>12140</td>\n",
       "      <td>5462539</td>\n",
       "      <td>19</td>\n",
       "      <td>13</td>\n",
       "      <td>-85.034</td>\n",
       "      <td>12.840</td>\n",
       "      <td>Studied_countries</td>\n",
       "      <td>C:\\Users\\Aspire\\Desktop\\ZIKA analysis with new...</td>\n",
       "      <td>(POLYGON ((-83.71250899999995 11.8683320000000...</td>\n",
       "    </tr>\n",
       "    <tr>\n",
       "      <th>31</th>\n",
       "      <td>PA</td>\n",
       "      <td>PY</td>\n",
       "      <td>PRY</td>\n",
       "      <td>600</td>\n",
       "      <td>Paraguay</td>\n",
       "      <td>39730</td>\n",
       "      <td>5904342</td>\n",
       "      <td>19</td>\n",
       "      <td>5</td>\n",
       "      <td>-58.391</td>\n",
       "      <td>-23.236</td>\n",
       "      <td>Studied_countries</td>\n",
       "      <td>C:\\Users\\Aspire\\Desktop\\ZIKA analysis with new...</td>\n",
       "      <td>POLYGON ((-54.330559 -24.679449, -54.396393 -2...</td>\n",
       "    </tr>\n",
       "    <tr>\n",
       "      <th>32</th>\n",
       "      <td>PE</td>\n",
       "      <td>PE</td>\n",
       "      <td>PER</td>\n",
       "      <td>604</td>\n",
       "      <td>Peru</td>\n",
       "      <td>128000</td>\n",
       "      <td>27274266</td>\n",
       "      <td>19</td>\n",
       "      <td>5</td>\n",
       "      <td>-75.552</td>\n",
       "      <td>-9.326</td>\n",
       "      <td>Studied_countries</td>\n",
       "      <td>C:\\Users\\Aspire\\Desktop\\ZIKA analysis with new...</td>\n",
       "      <td>POLYGON ((-78.70903 -4.584787, -78.68583700000...</td>\n",
       "    </tr>\n",
       "    <tr>\n",
       "      <th>33</th>\n",
       "      <td>PM</td>\n",
       "      <td>PA</td>\n",
       "      <td>PAN</td>\n",
       "      <td>591</td>\n",
       "      <td>Panama</td>\n",
       "      <td>7443</td>\n",
       "      <td>3231502</td>\n",
       "      <td>19</td>\n",
       "      <td>13</td>\n",
       "      <td>-80.920</td>\n",
       "      <td>8.384</td>\n",
       "      <td>Studied_countries</td>\n",
       "      <td>C:\\Users\\Aspire\\Desktop\\ZIKA analysis with new...</td>\n",
       "      <td>(POLYGON ((-81.77862499999998 7.27638800000011...</td>\n",
       "    </tr>\n",
       "    <tr>\n",
       "      <th>34</th>\n",
       "      <td>RQ</td>\n",
       "      <td>PR</td>\n",
       "      <td>PRI</td>\n",
       "      <td>630</td>\n",
       "      <td>Puerto Rico</td>\n",
       "      <td>887</td>\n",
       "      <td>3946779</td>\n",
       "      <td>19</td>\n",
       "      <td>29</td>\n",
       "      <td>-66.466</td>\n",
       "      <td>18.221</td>\n",
       "      <td>Studied_countries</td>\n",
       "      <td>C:\\Users\\Aspire\\Desktop\\ZIKA analysis with new...</td>\n",
       "      <td>(POLYGON ((-67.88056899999998 18.0483319999999...</td>\n",
       "    </tr>\n",
       "    <tr>\n",
       "      <th>35</th>\n",
       "      <td>SC</td>\n",
       "      <td>KN</td>\n",
       "      <td>KNA</td>\n",
       "      <td>659</td>\n",
       "      <td>Saint Kitts and Nevis</td>\n",
       "      <td>36</td>\n",
       "      <td>49138</td>\n",
       "      <td>19</td>\n",
       "      <td>29</td>\n",
       "      <td>-62.769</td>\n",
       "      <td>17.340</td>\n",
       "      <td>Studied_countries</td>\n",
       "      <td>C:\\Users\\Aspire\\Desktop\\ZIKA analysis with new...</td>\n",
       "      <td>(POLYGON ((-62.55277999999993 17.0941659999999...</td>\n",
       "    </tr>\n",
       "    <tr>\n",
       "      <th>36</th>\n",
       "      <td>ST</td>\n",
       "      <td>LC</td>\n",
       "      <td>LCA</td>\n",
       "      <td>662</td>\n",
       "      <td>Saint Lucia</td>\n",
       "      <td>61</td>\n",
       "      <td>16124</td>\n",
       "      <td>19</td>\n",
       "      <td>29</td>\n",
       "      <td>-60.969</td>\n",
       "      <td>13.898</td>\n",
       "      <td>Studied_countries</td>\n",
       "      <td>C:\\Users\\Aspire\\Desktop\\ZIKA analysis with new...</td>\n",
       "      <td>POLYGON ((-60.954727 13.709444, -60.956116 13....</td>\n",
       "    </tr>\n",
       "    <tr>\n",
       "      <th>37</th>\n",
       "      <td>TD</td>\n",
       "      <td>TT</td>\n",
       "      <td>TTO</td>\n",
       "      <td>780</td>\n",
       "      <td>Trinidad and Tobago</td>\n",
       "      <td>513</td>\n",
       "      <td>1323722</td>\n",
       "      <td>19</td>\n",
       "      <td>29</td>\n",
       "      <td>-61.253</td>\n",
       "      <td>10.468</td>\n",
       "      <td>Studied_countries</td>\n",
       "      <td>C:\\Users\\Aspire\\Desktop\\ZIKA analysis with new...</td>\n",
       "      <td>(POLYGON ((-60.92305799999991 10.7972219999999...</td>\n",
       "    </tr>\n",
       "    <tr>\n",
       "      <th>38</th>\n",
       "      <td>VC</td>\n",
       "      <td>VC</td>\n",
       "      <td>VCT</td>\n",
       "      <td>670</td>\n",
       "      <td>Saint Vincent and the Grenadines</td>\n",
       "      <td>39</td>\n",
       "      <td>119137</td>\n",
       "      <td>19</td>\n",
       "      <td>29</td>\n",
       "      <td>-61.194</td>\n",
       "      <td>13.248</td>\n",
       "      <td>Studied_countries</td>\n",
       "      <td>C:\\Users\\Aspire\\Desktop\\ZIKA analysis with new...</td>\n",
       "      <td>(POLYGON ((-61.416946 12.59027700000007, -61.4...</td>\n",
       "    </tr>\n",
       "    <tr>\n",
       "      <th>39</th>\n",
       "      <td>VE</td>\n",
       "      <td>VE</td>\n",
       "      <td>VEN</td>\n",
       "      <td>862</td>\n",
       "      <td>Venezuela</td>\n",
       "      <td>88205</td>\n",
       "      <td>26725573</td>\n",
       "      <td>19</td>\n",
       "      <td>5</td>\n",
       "      <td>-66.166</td>\n",
       "      <td>7.125</td>\n",
       "      <td>Studied_countries</td>\n",
       "      <td>C:\\Users\\Aspire\\Desktop\\ZIKA analysis with new...</td>\n",
       "      <td>(POLYGON ((-61.278301 8.516734000000099, -61.2...</td>\n",
       "    </tr>\n",
       "    <tr>\n",
       "      <th>40</th>\n",
       "      <td>VI</td>\n",
       "      <td>VG</td>\n",
       "      <td>VGB</td>\n",
       "      <td>92</td>\n",
       "      <td>British Virgin Islands</td>\n",
       "      <td>15</td>\n",
       "      <td>22016</td>\n",
       "      <td>19</td>\n",
       "      <td>29</td>\n",
       "      <td>-64.390</td>\n",
       "      <td>18.483</td>\n",
       "      <td>Studied_countries</td>\n",
       "      <td>C:\\Users\\Aspire\\Desktop\\ZIKA analysis with new...</td>\n",
       "      <td>(POLYGON ((-64.66084299999994 18.3838880000000...</td>\n",
       "    </tr>\n",
       "    <tr>\n",
       "      <th>41</th>\n",
       "      <td>VQ</td>\n",
       "      <td>VI</td>\n",
       "      <td>VIR</td>\n",
       "      <td>850</td>\n",
       "      <td>United States Virgin Islands</td>\n",
       "      <td>35</td>\n",
       "      <td>111408</td>\n",
       "      <td>19</td>\n",
       "      <td>29</td>\n",
       "      <td>-64.785</td>\n",
       "      <td>17.741</td>\n",
       "      <td>Studied_countries</td>\n",
       "      <td>C:\\Users\\Aspire\\Desktop\\ZIKA analysis with new...</td>\n",
       "      <td>(POLYGON ((-64.76194800000002 17.7741659999999...</td>\n",
       "    </tr>\n",
       "    <tr>\n",
       "      <th>42</th>\n",
       "      <td>GP</td>\n",
       "      <td>GP</td>\n",
       "      <td>GLP</td>\n",
       "      <td>312</td>\n",
       "      <td>Guadeloupe</td>\n",
       "      <td>169</td>\n",
       "      <td>438403</td>\n",
       "      <td>19</td>\n",
       "      <td>29</td>\n",
       "      <td>-61.441</td>\n",
       "      <td>16.286</td>\n",
       "      <td>Studied_countries</td>\n",
       "      <td>C:\\Users\\Aspire\\Desktop\\ZIKA analysis with new...</td>\n",
       "      <td>(POLYGON ((-61.24555999999995 15.8716660000000...</td>\n",
       "    </tr>\n",
       "    <tr>\n",
       "      <th>43</th>\n",
       "      <td>TK</td>\n",
       "      <td>TC</td>\n",
       "      <td>TCA</td>\n",
       "      <td>796</td>\n",
       "      <td>Turks and Caicos Islands</td>\n",
       "      <td>0</td>\n",
       "      <td>24459</td>\n",
       "      <td>19</td>\n",
       "      <td>29</td>\n",
       "      <td>-71.950</td>\n",
       "      <td>21.902</td>\n",
       "      <td>Studied_countries</td>\n",
       "      <td>C:\\Users\\Aspire\\Desktop\\ZIKA analysis with new...</td>\n",
       "      <td>(POLYGON ((-71.14028899999994 21.4319419999999...</td>\n",
       "    </tr>\n",
       "    <tr>\n",
       "      <th>44</th>\n",
       "      <td>RN</td>\n",
       "      <td>MF</td>\n",
       "      <td>MAF</td>\n",
       "      <td>663</td>\n",
       "      <td>Saint Martin</td>\n",
       "      <td>0</td>\n",
       "      <td>0</td>\n",
       "      <td>19</td>\n",
       "      <td>29</td>\n",
       "      <td>-63.041</td>\n",
       "      <td>18.094</td>\n",
       "      <td>Studied_countries</td>\n",
       "      <td>C:\\Users\\Aspire\\Desktop\\ZIKA analysis with new...</td>\n",
       "      <td>POLYGON ((-63.00666799999993 18.080555, -63.01...</td>\n",
       "    </tr>\n",
       "    <tr>\n",
       "      <th>45</th>\n",
       "      <td>TB</td>\n",
       "      <td>BL</td>\n",
       "      <td>BLM</td>\n",
       "      <td>652</td>\n",
       "      <td>Sint Maarten</td>\n",
       "      <td>0</td>\n",
       "      <td>0</td>\n",
       "      <td>19</td>\n",
       "      <td>29</td>\n",
       "      <td>-63.043</td>\n",
       "      <td>18.040</td>\n",
       "      <td>Studied_countries</td>\n",
       "      <td>C:\\Users\\Aspire\\Desktop\\ZIKA analysis with new...</td>\n",
       "      <td>POLYGON ((-63.02833599999997 18.01555299999995...</td>\n",
       "    </tr>\n",
       "    <tr>\n",
       "      <th>46</th>\n",
       "      <td>US</td>\n",
       "      <td>US</td>\n",
       "      <td>USA</td>\n",
       "      <td>840</td>\n",
       "      <td>United States</td>\n",
       "      <td>915896</td>\n",
       "      <td>299846449</td>\n",
       "      <td>19</td>\n",
       "      <td>21</td>\n",
       "      <td>-98.606</td>\n",
       "      <td>39.622</td>\n",
       "      <td>USA_OK_OK</td>\n",
       "      <td>C:\\Users\\Aspire\\Desktop\\ZIKA analysis with new...</td>\n",
       "      <td>POLYGON ((-95.07806399999993 49.35916100000003...</td>\n",
       "    </tr>\n",
       "  </tbody>\n",
       "</table>\n",
       "</div>"
      ],
      "text/plain": [
       "   FIPS ISO2 ISO3   UN                              NAME    AREA    POP2005  \\\n",
       "0    NT   AN  ANT  530                           Bonaire      80     186392   \n",
       "1    NT   AN  ANT  530                           Curacao      80     186392   \n",
       "2    NT   AN  ANT  530              Netherlands Antilles      80     186392   \n",
       "3    AC   AG  ATG   28               Antigua and Barbuda      44      83039   \n",
       "4    AR   AR  ARG   32                         Argentina  273669   38747148   \n",
       "5    BB   BB  BRB   52                          Barbados      43     291933   \n",
       "6    BD   BM  BMU   60                           Bermuda       5      64174   \n",
       "7    BF   BS  BHS   44                           Bahamas    1001     323295   \n",
       "8    BH   BZ  BLZ   84                            Belize    2281     275546   \n",
       "9    BL   BO  BOL   68                           Bolivia  108438    9182015   \n",
       "10   BR   BR  BRA   76                            Brazil  845942  186830759   \n",
       "11   CI   CL  CHL  152                             Chile   74880   16295102   \n",
       "12   CO   CO  COL  170                          Colombia  103870    4494579   \n",
       "13   CS   CR  CRI  188                        Costa Rica    5106    4327228   \n",
       "14   CU   CU  CUB  192                              Cuba   10982   11259905   \n",
       "15   DO   DM  DMA  212                          Dominica      75      67827   \n",
       "16   DR   DO  DOM  214                Dominican Republic    4838    9469601   \n",
       "17   EC   EC  ECU  218                           Ecuador   27684   13060993   \n",
       "18   ES   SV  SLV  222                       El Salvador    2072    6668356   \n",
       "19   FG   GF  GUF  254                     French Guiana    8815     192099   \n",
       "20   GJ   GD  GRD  308                           Grenada      34     105237   \n",
       "21   GT   GT  GTM  320                         Guatemala   10843   12709564   \n",
       "22   GY   GY  GUY  328                            Guyana   19685     739472   \n",
       "23   HA   HT  HTI  332                             Haiti    2756    9296291   \n",
       "24   HO   HN  HND  340                          Honduras   11189     683411   \n",
       "25   JM   JM  JAM  388                           Jamaica    1083    2682469   \n",
       "26   MB   MQ  MTQ  474                        Martinique     106     395896   \n",
       "27   MX   MX  MEX  484                            Mexico  190869  104266392   \n",
       "28   AA   AW  ABW  533                             Aruba       0     102897   \n",
       "29   NS   SR  SUR  740                          Suriname   15600     452468   \n",
       "30   NU   NI  NIC  558                         Nicaragua   12140    5462539   \n",
       "31   PA   PY  PRY  600                          Paraguay   39730    5904342   \n",
       "32   PE   PE  PER  604                              Peru  128000   27274266   \n",
       "33   PM   PA  PAN  591                            Panama    7443    3231502   \n",
       "34   RQ   PR  PRI  630                       Puerto Rico     887    3946779   \n",
       "35   SC   KN  KNA  659             Saint Kitts and Nevis      36      49138   \n",
       "36   ST   LC  LCA  662                       Saint Lucia      61      16124   \n",
       "37   TD   TT  TTO  780               Trinidad and Tobago     513    1323722   \n",
       "38   VC   VC  VCT  670  Saint Vincent and the Grenadines      39     119137   \n",
       "39   VE   VE  VEN  862                         Venezuela   88205   26725573   \n",
       "40   VI   VG  VGB   92            British Virgin Islands      15      22016   \n",
       "41   VQ   VI  VIR  850      United States Virgin Islands      35     111408   \n",
       "42   GP   GP  GLP  312                        Guadeloupe     169     438403   \n",
       "43   TK   TC  TCA  796          Turks and Caicos Islands       0      24459   \n",
       "44   RN   MF  MAF  663                      Saint Martin       0          0   \n",
       "45   TB   BL  BLM  652                      Sint Maarten       0          0   \n",
       "46   US   US  USA  840                     United States  915896  299846449   \n",
       "\n",
       "    REGION  SUBREGION      LON     LAT              layer  \\\n",
       "0       19         29  -68.870  12.123       Single parts   \n",
       "1       19         29  -68.870  12.123       Single parts   \n",
       "2       19         29  -68.870  12.123       Single parts   \n",
       "3       19         29  -61.783  17.078  Studied_countries   \n",
       "4       19          5  -65.167 -35.377  Studied_countries   \n",
       "5       19         29  -59.559  13.153  Studied_countries   \n",
       "6       19         21  -64.709  32.336  Studied_countries   \n",
       "7       19         29  -78.014  24.628  Studied_countries   \n",
       "8       19         13  -88.602  17.219  Studied_countries   \n",
       "9       19          5  -64.671 -16.715  Studied_countries   \n",
       "10      19          5  -53.089 -10.772  Studied_countries   \n",
       "11      19          5  -69.433 -23.389  Studied_countries   \n",
       "12      19          5  -73.076   3.900  Studied_countries   \n",
       "13      19         13  -83.946   9.971  Studied_countries   \n",
       "14      19         29  -77.781  21.297  Studied_countries   \n",
       "15      19         29  -61.356  15.475  Studied_countries   \n",
       "16      19         29  -70.729  19.015  Studied_countries   \n",
       "17      19          5  -78.497  -1.385  Studied_countries   \n",
       "18      19         13  -88.866  13.736  Studied_countries   \n",
       "19      19          5  -53.241   3.924  Studied_countries   \n",
       "20      19         29  -61.678  12.118  Studied_countries   \n",
       "21      19         13  -90.398  15.256  Studied_countries   \n",
       "22      19          5  -58.974   4.792  Studied_countries   \n",
       "23      19         29  -72.278  19.142  Studied_countries   \n",
       "24      19         13  -86.863  14.819  Studied_countries   \n",
       "25      19         29  -77.320  18.151  Studied_countries   \n",
       "26      19         29  -61.021  14.653  Studied_countries   \n",
       "27      19         13 -102.535  23.951  Studied_countries   \n",
       "28      19         29  -69.977  12.517  Studied_countries   \n",
       "29      19          5  -55.912   4.127  Studied_countries   \n",
       "30      19         13  -85.034  12.840  Studied_countries   \n",
       "31      19          5  -58.391 -23.236  Studied_countries   \n",
       "32      19          5  -75.552  -9.326  Studied_countries   \n",
       "33      19         13  -80.920   8.384  Studied_countries   \n",
       "34      19         29  -66.466  18.221  Studied_countries   \n",
       "35      19         29  -62.769  17.340  Studied_countries   \n",
       "36      19         29  -60.969  13.898  Studied_countries   \n",
       "37      19         29  -61.253  10.468  Studied_countries   \n",
       "38      19         29  -61.194  13.248  Studied_countries   \n",
       "39      19          5  -66.166   7.125  Studied_countries   \n",
       "40      19         29  -64.390  18.483  Studied_countries   \n",
       "41      19         29  -64.785  17.741  Studied_countries   \n",
       "42      19         29  -61.441  16.286  Studied_countries   \n",
       "43      19         29  -71.950  21.902  Studied_countries   \n",
       "44      19         29  -63.041  18.094  Studied_countries   \n",
       "45      19         29  -63.043  18.040  Studied_countries   \n",
       "46      19         21  -98.606  39.622          USA_OK_OK   \n",
       "\n",
       "                                                 path  \\\n",
       "0   C:/Users/Aspire/Desktop/ZIKA analysis with new...   \n",
       "1   C:/Users/Aspire/Desktop/ZIKA analysis with new...   \n",
       "2   C:/Users/Aspire/Desktop/ZIKA analysis with new...   \n",
       "3   C:\\Users\\Aspire\\Desktop\\ZIKA analysis with new...   \n",
       "4   C:\\Users\\Aspire\\Desktop\\ZIKA analysis with new...   \n",
       "5   C:\\Users\\Aspire\\Desktop\\ZIKA analysis with new...   \n",
       "6   C:\\Users\\Aspire\\Desktop\\ZIKA analysis with new...   \n",
       "7   C:\\Users\\Aspire\\Desktop\\ZIKA analysis with new...   \n",
       "8   C:\\Users\\Aspire\\Desktop\\ZIKA analysis with new...   \n",
       "9   C:\\Users\\Aspire\\Desktop\\ZIKA analysis with new...   \n",
       "10  C:\\Users\\Aspire\\Desktop\\ZIKA analysis with new...   \n",
       "11  C:\\Users\\Aspire\\Desktop\\ZIKA analysis with new...   \n",
       "12  C:\\Users\\Aspire\\Desktop\\ZIKA analysis with new...   \n",
       "13  C:\\Users\\Aspire\\Desktop\\ZIKA analysis with new...   \n",
       "14  C:\\Users\\Aspire\\Desktop\\ZIKA analysis with new...   \n",
       "15  C:\\Users\\Aspire\\Desktop\\ZIKA analysis with new...   \n",
       "16  C:\\Users\\Aspire\\Desktop\\ZIKA analysis with new...   \n",
       "17  C:\\Users\\Aspire\\Desktop\\ZIKA analysis with new...   \n",
       "18  C:\\Users\\Aspire\\Desktop\\ZIKA analysis with new...   \n",
       "19  C:\\Users\\Aspire\\Desktop\\ZIKA analysis with new...   \n",
       "20  C:\\Users\\Aspire\\Desktop\\ZIKA analysis with new...   \n",
       "21  C:\\Users\\Aspire\\Desktop\\ZIKA analysis with new...   \n",
       "22  C:\\Users\\Aspire\\Desktop\\ZIKA analysis with new...   \n",
       "23  C:\\Users\\Aspire\\Desktop\\ZIKA analysis with new...   \n",
       "24  C:\\Users\\Aspire\\Desktop\\ZIKA analysis with new...   \n",
       "25  C:\\Users\\Aspire\\Desktop\\ZIKA analysis with new...   \n",
       "26  C:\\Users\\Aspire\\Desktop\\ZIKA analysis with new...   \n",
       "27  C:\\Users\\Aspire\\Desktop\\ZIKA analysis with new...   \n",
       "28  C:\\Users\\Aspire\\Desktop\\ZIKA analysis with new...   \n",
       "29  C:\\Users\\Aspire\\Desktop\\ZIKA analysis with new...   \n",
       "30  C:\\Users\\Aspire\\Desktop\\ZIKA analysis with new...   \n",
       "31  C:\\Users\\Aspire\\Desktop\\ZIKA analysis with new...   \n",
       "32  C:\\Users\\Aspire\\Desktop\\ZIKA analysis with new...   \n",
       "33  C:\\Users\\Aspire\\Desktop\\ZIKA analysis with new...   \n",
       "34  C:\\Users\\Aspire\\Desktop\\ZIKA analysis with new...   \n",
       "35  C:\\Users\\Aspire\\Desktop\\ZIKA analysis with new...   \n",
       "36  C:\\Users\\Aspire\\Desktop\\ZIKA analysis with new...   \n",
       "37  C:\\Users\\Aspire\\Desktop\\ZIKA analysis with new...   \n",
       "38  C:\\Users\\Aspire\\Desktop\\ZIKA analysis with new...   \n",
       "39  C:\\Users\\Aspire\\Desktop\\ZIKA analysis with new...   \n",
       "40  C:\\Users\\Aspire\\Desktop\\ZIKA analysis with new...   \n",
       "41  C:\\Users\\Aspire\\Desktop\\ZIKA analysis with new...   \n",
       "42  C:\\Users\\Aspire\\Desktop\\ZIKA analysis with new...   \n",
       "43  C:\\Users\\Aspire\\Desktop\\ZIKA analysis with new...   \n",
       "44  C:\\Users\\Aspire\\Desktop\\ZIKA analysis with new...   \n",
       "45  C:\\Users\\Aspire\\Desktop\\ZIKA analysis with new...   \n",
       "46  C:\\Users\\Aspire\\Desktop\\ZIKA analysis with new...   \n",
       "\n",
       "                                             geometry  \n",
       "0   POLYGON ((-68.19528200000002 12.22110899999996...  \n",
       "1   POLYGON ((-68.96556099999998 12.19888900000001...  \n",
       "2   POLYGON ((-62.96111299999995 17.4608310000001,...  \n",
       "3   (POLYGON ((-61.686668 17.02444100000014, -61.7...  \n",
       "4   (POLYGON ((-68.60861199999994 -54.891395999999...  \n",
       "5   POLYGON ((-59.533058 13.050554, -59.543335 13....  \n",
       "6   (POLYGON ((-64.85583500000001 32.2786100000001...  \n",
       "7   (POLYGON ((-73.03723099999996 21.1394420000000...  \n",
       "8   (POLYGON ((-87.80334499999992 17.2941670000001...  \n",
       "9   POLYGON ((-65.190201 -22.09473, -65.5988920000...  \n",
       "10  (POLYGON ((-48.55055999999996 -27.821391999999...  \n",
       "11  (POLYGON ((-67.212784 -55.89361600000001, -67....  \n",
       "12  (POLYGON ((-78.54528800000003 2.41611100000005...  \n",
       "13  (POLYGON ((-85.11584499999998 10.0736099999999...  \n",
       "14  (POLYGON ((-78.327789 20.51361100000008, -78.3...  \n",
       "15  POLYGON ((-61.363617 15.198055, -61.37056 15.1...  \n",
       "16  (POLYGON ((-71.53222700000003 17.5402760000000...  \n",
       "17  (POLYGON ((-80.19334399999997 -3.0347219999999...  \n",
       "18  (POLYGON ((-87.68640099999999 13.1683330000000...  \n",
       "19  POLYGON ((-53.494339 5.572342, -53.483612 5.56...  \n",
       "20  (POLYGON ((-61.74694799999992 11.9974990000000...  \n",
       "21  POLYGON ((-90.62762499999999 13.930555, -90.67...  \n",
       "22  (POLYGON ((-58.45056199999999 6.89694400000013...  \n",
       "23  (POLYGON ((-73.58473200000003 18.0569420000000...  \n",
       "24  (POLYGON ((-87.62251299999997 13.2463870000001...  \n",
       "25  POLYGON ((-77.131958 17.878887, -77.147507 17....  \n",
       "26  POLYGON ((-60.86084 14.402777, -60.886948 14.4...  \n",
       "27  (POLYGON ((-114.742783 18.32277699999997, -114...  \n",
       "28  POLYGON ((-69.882233 12.41111, -69.946945 12.4...  \n",
       "29  POLYGON ((-55.127968 5.822173, -55.104446 5.83...  \n",
       "30  (POLYGON ((-83.71250899999995 11.8683320000000...  \n",
       "31  POLYGON ((-54.330559 -24.679449, -54.396393 -2...  \n",
       "32  POLYGON ((-78.70903 -4.584787, -78.68583700000...  \n",
       "33  (POLYGON ((-81.77862499999998 7.27638800000011...  \n",
       "34  (POLYGON ((-67.88056899999998 18.0483319999999...  \n",
       "35  (POLYGON ((-62.55277999999993 17.0941659999999...  \n",
       "36  POLYGON ((-60.954727 13.709444, -60.956116 13....  \n",
       "37  (POLYGON ((-60.92305799999991 10.7972219999999...  \n",
       "38  (POLYGON ((-61.416946 12.59027700000007, -61.4...  \n",
       "39  (POLYGON ((-61.278301 8.516734000000099, -61.2...  \n",
       "40  (POLYGON ((-64.66084299999994 18.3838880000000...  \n",
       "41  (POLYGON ((-64.76194800000002 17.7741659999999...  \n",
       "42  (POLYGON ((-61.24555999999995 15.8716660000000...  \n",
       "43  (POLYGON ((-71.14028899999994 21.4319419999999...  \n",
       "44  POLYGON ((-63.00666799999993 18.080555, -63.01...  \n",
       "45  POLYGON ((-63.02833599999997 18.01555299999995...  \n",
       "46  POLYGON ((-95.07806399999993 49.35916100000003...  "
      ]
     },
     "execution_count": 19,
     "metadata": {},
     "output_type": "execute_result"
    }
   ],
   "source": [
    "shapes"
   ]
  },
  {
   "cell_type": "code",
   "execution_count": 12,
   "metadata": {},
   "outputs": [
    {
     "data": {
      "image/svg+xml": [
       "<svg xmlns=\"http://www.w3.org/2000/svg\" xmlns:xlink=\"http://www.w3.org/1999/xlink\" width=\"100.0\" height=\"100.0\" viewBox=\"-119.67227763999998 13.282436360000109 34.23898728 20.704130279999898\" preserveAspectRatio=\"xMinYMin meet\"><g transform=\"matrix(1,0,0,-1,0,47.26900300000011)\"><g><path fill-rule=\"evenodd\" fill=\"#66cc99\" stroke=\"#555555\" stroke-width=\"0.6847797456000001\" opacity=\"0.6\" d=\"M -114.74278300000003,18.322776999999974 L -114.78972599999997,18.31805400000013 L -114.79640199999994,18.318886000000077 L -114.80056799999994,18.321662999999944 L -114.80251299999998,18.32666400000005 L -114.80306999999993,18.33277500000014 L -114.79640199999994,18.339996000000042 L -114.78388999999999,18.348610000000065 L -114.77863299999996,18.350555000000043 L -114.75418099999996,18.354164000000083 L -114.72389199999992,18.353333000000077 L -114.72112299999998,18.349162999999976 L -114.72057299999994,18.34277700000007 L -114.72194699999994,18.337498000000096 L -114.725281,18.33333200000004 L -114.73251299999993,18.32666400000005 L -114.73695399999997,18.32416500000005 L -114.74278300000003,18.322776999999974 z\" /><path fill-rule=\"evenodd\" fill=\"#66cc99\" stroke=\"#555555\" stroke-width=\"0.6847797456000001\" opacity=\"0.6\" d=\"M -87.37278699999996,18.400276000000133 L -87.37695299999996,18.399165999999923 L -87.35028099999994,18.431663999999955 L -87.34112499999998,18.44360699999993 L -87.33862299999993,18.448330000000112 L -87.33416699999992,18.465275000000076 L -87.33139,18.483886999999925 L -87.33111600000001,18.490555000000086 L -87.33168,18.503052000000082 L -87.32194500000003,18.49583100000001 L -87.32167099999992,18.469719000000055 L -87.32695000000001,18.45333099999999 L -87.33168,18.443886000000134 L -87.33778399999994,18.43610799999999 L -87.36527999999993,18.406944000000124 L -87.37278699999996,18.400276000000133 z\" /><path fill-rule=\"evenodd\" fill=\"#66cc99\" stroke=\"#555555\" stroke-width=\"0.6847797456000001\" opacity=\"0.6\" d=\"M -87.25167799999997,18.64138800000012 L -87.25944500000003,18.627776999999924 L -87.25334199999998,18.653053 L -87.25306699999993,18.679722000000027 L -87.25527999999991,18.690830000000005 L -87.25723299999993,18.695831000000055 L -87.26278699999995,18.70416599999993 L -87.264725,18.70916399999993 L -87.265015,18.73388700000004 L -87.26194799999996,18.73360800000006 L -87.25473,18.71888700000011 L -87.24667399999998,18.689163000000065 L -87.24500999999998,18.677498000000014 L -87.246399,18.664444000000117 L -87.25167799999997,18.64138800000012 z\" /><path fill-rule=\"evenodd\" fill=\"#66cc99\" stroke=\"#555555\" stroke-width=\"0.6847797456000001\" opacity=\"0.6\" d=\"M -91.82861300000002,18.639164000000108 L -91.83445699999993,18.638054000000125 L -91.84028599999994,18.63944200000003 L -91.84333799999996,18.643607999999915 L -91.84529099999997,18.655276999999955 L -91.84194899999994,18.659443000000067 L -91.83334400000001,18.66471899999999 L -91.80972299999996,18.676666000000125 L -91.64611799999994,18.753609000000097 L -91.56500199999999,18.78583100000003 L -91.55334499999998,18.78833000000003 L -91.53945899999997,18.788609000000008 L -91.52612299999993,18.775276000000133 L -91.52389499999998,18.77055400000006 L -91.52195699999993,18.765831000000105 L -91.521118,18.759441000000038 L -91.52139299999999,18.752777000000037 L -91.52444500000001,18.748608000000047 L -91.571121,18.736384999999984 L -91.80111699999998,18.64444400000002 L -91.82861300000002,18.639164000000108 z\" /><path fill-rule=\"evenodd\" fill=\"#66cc99\" stroke=\"#555555\" stroke-width=\"0.6847797456000001\" opacity=\"0.6\" d=\"M -110.92611699999998,18.72110700000013 L -110.97501399999999,18.716110000000015 L -110.99556000000001,18.734997000000078 L -111.00334199999998,18.741386000000034 L -111.01722699999993,18.74916500000012 L -111.029449,18.751663000000008 L -111.05111699999992,18.752777000000037 L -111.06249999999994,18.756107000000043 L -111.06584199999998,18.759720000000016 L -111.07140400000003,18.768330000000105 L -111.073059,18.773330999999985 L -111.07362399999994,18.779442000000074 L -111.056396,18.812222000000133 L -111.05084199999993,18.82083099999994 L -111.00334199999998,18.864998000000014 L -110.998062,18.86749600000013 L -110.987503,18.864719000000036 L -110.98333699999995,18.861942000000113 L -110.95140100000003,18.83694100000008 L -110.93945300000001,18.827499000000103 L -110.921112,18.783053999999936 L -110.91723599999995,18.773330999999985 L -110.90972899999991,18.740833000000123 L -110.910843,18.734722000000033 L -110.91723599999995,18.726109000000065 L -110.921112,18.72277500000007 L -110.92611699999998,18.72110700000013 z\" /><path fill-rule=\"evenodd\" fill=\"#66cc99\" stroke=\"#555555\" stroke-width=\"0.6847797456000001\" opacity=\"0.6\" d=\"M -110.78861999999992,19.308051999999975 L -110.83000199999998,19.27111100000002 L -110.83585399999998,19.271384999999952 L -110.83862299999998,19.27583299999992 L -110.83667000000003,19.281109000000015 L -110.81333899999998,19.341663000000096 L -110.80917399999998,19.341388999999992 L -110.80084199999999,19.335552000000007 L -110.79723399999995,19.331944000000078 L -110.79279299999996,19.322776999999917 L -110.78888699999999,19.313053000000025 L -110.78861999999992,19.308051999999975 z\" /><path fill-rule=\"evenodd\" fill=\"#66cc99\" stroke=\"#555555\" stroke-width=\"0.6847797456000001\" opacity=\"0.6\" d=\"M -86.73278800000003,20.58555200000012 L -86.791672,20.488608999999997 L -86.88555899999994,20.353886000000102 L -86.93250999999998,20.30166600000007 L -86.94334399999997,20.291111 L -86.94723499999992,20.287777000000006 L -86.97611999999998,20.266388000000063 L -86.98445099999998,20.260555000000068 L -86.99334699999991,20.25555399999996 L -87.0,20.256386000000077 L -87.01667799999996,20.292220999999984 L -87.01779199999993,20.297775 L -87.02139299999999,20.325832000000105 L -87.02250699999996,20.338333000000034 L -87.02278100000001,20.351387000000102 L -87.021118,20.385555000000124 L -87.02000399999991,20.391665999999987 L -87.01501499999995,20.40805400000005 L -87.00306699999999,20.43916300000012 L -86.995834,20.45333099999999 L -86.97111499999994,20.493332000000123 L -86.93890399999998,20.539444000000003 L -86.93223599999999,20.546665000000075 L -86.91667199999995,20.559718999999973 L -86.90640299999995,20.56361000000004 L -86.900284,20.564441999999985 L -86.89306599999992,20.564441999999985 L -86.88639799999993,20.563331999999946 L -86.87861599999997,20.556942000000106 L -86.86862199999996,20.552219000000093 L -86.84056099999998,20.543610000000115 L -86.83473200000003,20.541943000000003 L -86.82890299999997,20.541664000000026 L -86.79333500000001,20.55110900000011 L -86.78417999999999,20.55610999999999 L -86.77111799999994,20.56472000000008 L -86.75611899999996,20.577773999999977 L -86.74583399999995,20.588886000000116 L -86.74084499999998,20.590831999999978 L -86.73500099999995,20.590553 L -86.73278800000003,20.58555200000012 z\" /><path fill-rule=\"evenodd\" fill=\"#66cc99\" stroke=\"#555555\" stroke-width=\"0.6847797456000001\" opacity=\"0.6\" d=\"M -86.70140099999998,21.197220000000073 L -86.70140099999998,21.193054000000018 L -86.70667999999995,21.19527400000004 L -86.714447,21.201941999999974 L -86.73638899999997,21.23555399999998 L -86.73889199999996,21.239998000000014 L -86.75140399999992,21.269997000000046 L -86.75279199999994,21.275554999999997 L -86.75167799999997,21.281666000000087 L -86.74917599999998,21.286387999999988 L -86.74417099999994,21.285552999999993 L -86.72917199999995,21.258610000000033 L -86.70333900000003,21.201941999999974 L -86.70140099999998,21.197220000000073 z\" /><path fill-rule=\"evenodd\" fill=\"#66cc99\" stroke=\"#555555\" stroke-width=\"0.6847797456000001\" opacity=\"0.6\" d=\"M -106.19555700000001,21.255276000000038 L -106.201683,21.254166000000055 L -106.21556099999992,21.254719000000136 L -106.22138999999993,21.256663999999944 L -106.23139999999995,21.26166500000005 L -106.24778700000002,21.273888000000113 L -106.258621,21.284442999999953 L -106.26944700000001,21.29499800000002 L -106.27555799999999,21.30305500000003 L -106.27806099999998,21.313610000000097 L -106.276947,21.31972099999996 L -106.26834099999996,21.332775000000026 L -106.26500699999991,21.336665999999923 L -106.254997,21.340553000000057 L -106.20889299999999,21.34111000000013 L -106.20221700000002,21.34111000000013 L -106.19750999999997,21.338608000000022 L -106.19555700000001,21.333885000000066 L -106.19306899999992,21.267498000000046 L -106.19361899999996,21.26055500000001 L -106.19555700000001,21.255276000000038 z\" /><path fill-rule=\"evenodd\" fill=\"#66cc99\" stroke=\"#555555\" stroke-width=\"0.6847797456000001\" opacity=\"0.6\" d=\"M -106.38667299999997,21.420830000000024 L -106.39916999999997,21.41972000000004 L -106.46833799999996,21.42666600000007 L -106.50195299999996,21.432220000000086 L -106.50666799999999,21.434719000000086 L -106.50917099999998,21.43888900000013 L -106.511124,21.443886000000077 L -106.51139799999993,21.450275000000033 L -106.50750700000003,21.459442000000024 L -106.49945099999997,21.473331000000087 L -106.48557299999993,21.49555199999992 L -106.47889700000002,21.50333000000012 L -106.47167999999999,21.510554999999954 L -106.45973199999997,21.512218000000075 L -106.44555699999995,21.511664999999994 L -106.34638999999993,21.503052000000025 L -106.34056099999992,21.501389000000074 L -106.33556399999998,21.498885999999914 L -106.32613400000002,21.47444200000001 L -106.32721700000002,21.468609000000015 L -106.33056599999998,21.46472200000011 L -106.377228,21.425552000000096 L -106.381393,21.422497000000135 L -106.38667299999997,21.420830000000024 z\" /><path fill-rule=\"evenodd\" fill=\"#66cc99\" stroke=\"#555555\" stroke-width=\"0.6847797456000001\" opacity=\"0.6\" d=\"M -106.51500699999997,21.513053999999954 L -106.52500900000001,21.509163000000115 L -106.529449,21.51083 L -106.58889799999992,21.54027600000012 L -106.59722899999991,21.546665000000075 L -106.62107800000001,21.565311000000065 L -106.62834199999992,21.572497999999996 L -106.64083900000003,21.61333100000013 L -106.64279199999993,21.6244430000001 L -106.64584399999995,21.688332000000003 L -106.63417099999992,21.694164000000114 L -106.58556399999992,21.715832000000034 L -106.53972599999997,21.695831 L -106.53000600000001,21.69083000000012 L -106.52723699999996,21.686385999999914 L -106.50083899999998,21.619441999999992 L -106.49778699999996,21.596664000000033 L -106.51500699999997,21.513053999999954 z\" /><path fill-rule=\"evenodd\" fill=\"#66cc99\" stroke=\"#555555\" stroke-width=\"0.6847797456000001\" opacity=\"0.6\" d=\"M -106.65640300000001,21.752499000000057 L -106.672234,21.73999800000007 L -106.67529299999995,21.741385999999977 L -106.67696399999994,21.746387000000084 L -106.679733,21.756943000000035 L -106.68112199999996,21.781386999999995 L -106.68055700000002,21.796943999999996 L -106.67472800000002,21.81305300000008 L -106.67056300000002,21.816387000000077 L -106.66472599999997,21.815830000000005 L -106.65862300000003,21.807776999999987 L -106.64362299999999,21.768607999999915 L -106.64639299999999,21.764164000000108 L -106.65640300000001,21.752499000000057 z\" /><path fill-rule=\"evenodd\" fill=\"#66cc99\" stroke=\"#555555\" stroke-width=\"0.6847797456000001\" opacity=\"0.6\" d=\"M -97.60778799999997,21.736664000000076 L -97.61334199999999,21.735554000000093 L -97.62918100000002,21.742496000000017 L -97.63305700000001,21.745831000000067 L -97.65139799999997,21.763611000000026 L -97.67417899999998,21.790276000000063 L -97.67639199999996,21.79472000000004 L -97.68055699999996,21.809998000000064 L -97.68583699999994,21.848887999999988 L -97.685562,21.859997000000078 L -97.67639199999996,21.855274000000065 L -97.67028800000003,21.847221000000104 L -97.60028099999994,21.750275000000045 L -97.60139500000002,21.74499899999995 L -97.60362199999997,21.739719000000093 L -97.60778799999997,21.736664000000076 z\" /><path fill-rule=\"evenodd\" fill=\"#66cc99\" stroke=\"#555555\" stroke-width=\"0.6847797456000001\" opacity=\"0.6\" d=\"M -97.818893,22.682499000000007 L -97.82444799999996,22.68110999999999 L -97.83084100000002,22.69721999999996 L -97.79945399999997,22.756943000000035 L -97.79667699999999,22.761387000000013 L -97.78417999999999,22.774166000000037 L -97.77778599999994,22.766388000000063 L -97.77723700000001,22.760830000000112 L -97.77833599999991,22.753887000000134 L -97.806396,22.69944399999997 L -97.81167600000003,22.68972000000008 L -97.818893,22.682499000000007 z\" /><path fill-rule=\"evenodd\" fill=\"#66cc99\" stroke=\"#555555\" stroke-width=\"0.6847797456000001\" opacity=\"0.6\" d=\"M -97.773056,22.791386000000045 L -97.77806099999998,22.789444000000117 L -97.781113,22.793331000000023 L -97.78250099999997,22.798332000000073 L -97.78140300000001,22.804996000000074 L -97.77723700000001,22.816387000000077 L -97.76722699999999,22.828331000000105 L -97.76028400000001,22.8341640000001 L -97.758621,22.830555000000118 L -97.76139799999999,22.817776000000038 L -97.76667799999996,22.79972100000009 L -97.773056,22.791386000000045 z\" /><path fill-rule=\"evenodd\" fill=\"#66cc99\" stroke=\"#555555\" stroke-width=\"0.6847797456000001\" opacity=\"0.6\" d=\"M -109.784447,24.134997999999996 L -109.78835299999997,24.13194299999998 L -109.83944699999995,24.148052000000064 L -109.85001399999993,24.15888599999994 L -109.863068,24.17472100000009 L -109.871399,24.187495999999953 L -109.88305699999995,24.217219999999998 L -109.90055799999999,24.267776000000026 L -109.92334,24.333611000000076 L -109.925003,24.342777000000126 L -109.91889999999995,24.364441000000113 L -109.91555800000003,24.36888900000008 L -109.88334699999996,24.329998000000103 L -109.86917099999994,24.309166000000005 L -109.86083999999994,24.29638699999998 L -109.798607,24.191108999999983 L -109.78945899999991,24.172497000000078 L -109.78362300000003,24.157776000000126 L -109.78140300000001,24.146663999999987 L -109.78195199999999,24.13972100000001 L -109.784447,24.134997999999996 z\" /><path fill-rule=\"evenodd\" fill=\"#66cc99\" stroke=\"#555555\" stroke-width=\"0.6847797456000001\" opacity=\"0.6\" d=\"M -111.53250100000002,24.378052000000082 L -111.52027900000002,24.369999000000064 L -111.49474299999997,24.351387000000045 L -111.50083899999998,24.350277000000006 L -111.53861999999992,24.36583300000001 L -111.54972800000002,24.369720000000086 L -111.568893,24.373608000000047 L -111.60278299999999,24.37583200000006 L -111.617233,24.37583200000006 L -111.64639299999999,24.36888900000008 L -111.66972399999997,24.36583300000001 L -111.67028799999997,24.371944000000042 L -111.66890000000001,24.38499799999994 L -111.66639700000002,24.389721000000122 L -111.660843,24.391388000000006 L -111.61638600000003,24.392776000000083 L -111.58528099999995,24.392220000000123 L -111.53861999999992,24.379719000000136 L -111.53250100000002,24.378052000000082 z\" /><path fill-rule=\"evenodd\" fill=\"#66cc99\" stroke=\"#555555\" stroke-width=\"0.6847797456000001\" opacity=\"0.6\" d=\"M -111.70584100000002,24.331664999999987 L -111.70806899999997,24.32833099999999 L -111.73251299999998,24.35416400000014 L -111.74305699999996,24.364998000000014 L -111.75611899999996,24.37388599999997 L -111.83500699999996,24.427498000000128 L -111.93583699999994,24.486942 L -112.00472999999994,24.516109000000085 L -112.00974300000001,24.51832999999999 L -112.01418299999995,24.52138500000001 L -112.01611300000002,24.52638600000006 L -112.01667799999996,24.532496999999978 L -111.84140000000002,24.543888000000095 L -111.83693699999998,24.541111 L -111.700287,24.40027600000002 L -111.69473299999993,24.3916660000001 L -111.69555700000001,24.36471899999998 L -111.70390299999997,24.33694100000008 L -111.70584100000002,24.331664999999987 z\" /><path fill-rule=\"evenodd\" fill=\"#66cc99\" stroke=\"#555555\" stroke-width=\"0.6847797456000001\" opacity=\"0.6\" d=\"M -110.328056,24.40083300000009 L -110.33500700000002,24.400554999999997 L -110.34529099999997,24.404998999999975 L -110.35778800000003,24.433887000000084 L -110.40390000000002,24.56305300000008 L -110.40306099999992,24.575275000000033 L -110.40194699999995,24.579998000000046 L -110.38639799999999,24.585552000000007 L -110.38111900000001,24.58721900000012 L -110.37499999999994,24.586941000000024 L -110.36805699999996,24.579720000000123 L -110.30000299999995,24.484444000000053 L -110.29917899999998,24.461665999999923 L -110.30944799999992,24.4327770000001 L -110.31195099999997,24.42805500000003 L -110.328056,24.40083300000009 z\" /><path fill-rule=\"evenodd\" fill=\"#66cc99\" stroke=\"#555555\" stroke-width=\"0.6847797456000001\" opacity=\"0.6\" d=\"M -110.53695700000003,24.88222100000013 L -110.54389999999995,24.881943000000035 L -110.55805999999995,24.883331000000112 L -110.58029199999993,24.89138800000012 L -110.63945000000001,24.92833300000001 L -110.64388999999994,24.931110000000103 L -110.70694699999996,25.03777700000012 L -110.70889299999993,25.042500000000075 L -110.70861799999994,25.062496000000067 L -110.70806899999997,25.082497000000103 L -110.70694699999996,25.088608000000022 L -110.70500199999998,25.093886999999995 L -110.69972200000001,25.093052 L -110.69609100000002,25.088840000000005 L -110.666946,25.060276000000044 L -110.64111300000002,25.048610999999994 L -110.629997,25.044720000000098 L -110.62390099999993,25.043053000000043 L -110.60362199999997,25.039719000000048 L -110.58862299999993,25.039165000000025 L -110.57890299999991,25.033886000000052 L -110.57333399999993,25.025276000000133 L -110.53000600000001,24.89722100000006 L -110.53056299999997,24.89027399999992 L -110.53222700000003,24.88472000000013 L -110.53695700000003,24.88222100000013 z\" /><path fill-rule=\"evenodd\" fill=\"#66cc99\" stroke=\"#555555\" stroke-width=\"0.6847797456000001\" opacity=\"0.6\" d=\"M -112.046112,24.519164999999987 L -112.052231,24.518055000000004 L -112.06417799999997,24.52138500000001 L -112.06916799999999,24.523608999999965 L -112.07444799999996,24.526107999999965 L -112.08750900000001,24.534720999999934 L -112.15611299999995,24.629165999999998 L -112.179169,24.662498000000085 L -112.18112200000002,24.667221000000097 L -112.18224299999997,24.679722000000027 L -112.17668200000003,24.681663999999955 L -112.17001299999998,24.68194200000005 L -112.15750099999997,24.69110900000004 L -112.15390000000002,24.70194200000003 L -112.153343,24.70888500000001 L -112.15500599999996,24.733608000000117 L -112.15750099999997,24.744720000000086 L -112.16166699999997,24.754443999999978 L -112.18055700000002,24.784163999999976 L -112.18779,24.79138599999999 L -112.19805899999994,24.795829999999967 L -112.21972699999998,24.804442999999935 L -112.225571,24.806110000000047 L -112.24500999999998,24.809444000000042 L -112.25279199999994,24.809998000000007 L -112.21193699999998,24.98416499999996 L -112.198624,25.021941999999967 L -112.15139799999992,25.17666600000007 L -112.14611799999994,25.20055400000001 L -112.14499699999993,25.2066650000001 L -112.13362099999995,25.28110900000007 L -112.12946299999993,25.272778000000017 L -112.12583899999993,25.256106999999986 L -112.126106,25.236110999999994 L -112.127228,25.230000000000075 L -112.13445300000001,25.19388600000002 L -112.13971699999996,25.17777600000005 L -112.14222699999999,25.17305399999998 L -112.15611299999995,25.14332999999999 L -112.17223399999995,25.079998000000103 L -112.17529300000001,25.061665000000062 L -112.20250699999991,24.87110899999999 L -112.20333900000003,24.857220000000098 L -112.20250699999991,24.844997000000035 L -112.198624,24.82833100000005 L -112.19473299999999,24.818607000000043 L -112.17111199999994,24.79194300000006 L -112.04390000000001,24.54472000000004 L -112.041946,24.539718999999934 L -112.04028299999993,24.528053 L -112.042236,24.522498999999982 L -112.046112,24.519164999999987 z\" /><path fill-rule=\"evenodd\" fill=\"#66cc99\" stroke=\"#555555\" stroke-width=\"0.6847797456000001\" opacity=\"0.6\" d=\"M -108.84278899999998,25.42860800000011 L -108.81278999999995,25.413055000000043 L -108.80584699999997,25.405552000000057 L -108.78861999999998,25.38055400000013 L -108.78584299999994,25.376109999999926 L -108.78916900000002,25.37221900000003 L -108.79472399999997,25.370551999999975 L -108.90000899999995,25.41638599999993 L -108.921402,25.425278000000105 L -108.92751299999998,25.426941 L -108.93501300000003,25.42749800000007 L -108.96028099999995,25.424164000000133 L -108.98111699999998,25.423332000000016 L -108.98861699999998,25.423884999999927 L -109.00140399999998,25.42666600000001 L -109.00583599999993,25.429722000000083 L -109.00917099999992,25.433331000000067 L -109.01112399999994,25.438332000000003 L -109.00945300000001,25.44166599999994 L -108.99778700000002,25.444443000000035 L -108.97722599999992,25.44527400000004 L -108.891953,25.441386999999963 L -108.88445300000001,25.440830000000062 L -108.86501299999992,25.436942999999985 L -108.84777799999995,25.430832000000066 L -108.84278899999998,25.42860800000011 z\" /><path fill-rule=\"evenodd\" fill=\"#66cc99\" stroke=\"#555555\" stroke-width=\"0.6847797456000001\" opacity=\"0.6\" d=\"M -110.79695099999998,25.59499700000009 L -110.80388600000003,25.594718999999998 L -110.80750999999998,25.59833100000003 L -110.82084700000001,25.626389000000074 L -110.825287,25.642497999999932 L -110.82444799999996,25.65610900000007 L -110.81916799999999,25.67999600000013 L -110.81472799999995,25.689999 L -110.81140099999993,25.693886000000077 L -110.80832699999996,25.695831000000112 L -110.80306999999993,25.6936070000001 L -110.80029300000001,25.68916300000012 L -110.795837,25.67333200000013 L -110.791672,25.64333000000005 L -110.78861999999992,25.608330000000137 L -110.78888699999999,25.60138699999993 L -110.791672,25.596663999999976 L -110.79695099999998,25.59499700000009 z\" /><path fill-rule=\"evenodd\" fill=\"#66cc99\" stroke=\"#555555\" stroke-width=\"0.6847797456000001\" opacity=\"0.6\" d=\"M -111.19750999999991,25.844997000000035 L -111.20612299999999,25.802775999999994 L -111.22334299999994,25.848888000000102 L -111.19333599999999,26.033607000000018 L -111.19139100000001,26.038887000000102 L -111.15223700000001,26.065276999999924 L -111.14695699999993,26.067219000000023 L -111.09278899999998,26.07471800000002 L -111.08666999999997,26.074444000000085 L -111.08306900000002,26.070831000000112 L -111.08112299999993,26.065830000000062 L -111.08222999999992,26.059718999999973 L -111.09945699999997,26.004444000000092 L -111.13890099999998,25.982777000000056 L -111.17639200000002,25.90361000000007 L -111.178337,25.89833100000004 L -111.19750999999991,25.844997000000035 z\" /><path fill-rule=\"evenodd\" fill=\"#66cc99\" stroke=\"#555555\" stroke-width=\"0.6847797456000001\" opacity=\"0.6\" d=\"M -109.94889799999993,27.024441000000138 L -109.94944799999996,27.017498000000103 L -110.00778199999996,27.074996999999996 L -110.02944899999994,27.08361100000002 L -110.03307299999994,27.087218999999948 L -110.03444699999994,27.09138900000005 L -110.03279099999997,27.092777000000126 L -110.01972999999992,27.09138900000005 L -110.00167799999997,27.086388000000113 L -109.99556000000001,27.08444200000008 L -109.98140000000001,27.076385000000073 L -109.97416699999991,27.068886000000077 L -109.95390299999997,27.03971899999999 L -109.95001200000002,27.02999900000009 L -109.94889799999993,27.024441000000138 z\" /><path fill-rule=\"evenodd\" fill=\"#66cc99\" stroke=\"#555555\" stroke-width=\"0.6847797456000001\" opacity=\"0.6\" d=\"M -110.546112,27.309998000000064 L -110.52584799999994,27.301387999999974 L -110.55251299999992,27.306941999999992 L -110.55861700000003,27.308609000000047 L -110.58029199999993,27.317219000000136 L -110.58473200000003,27.320273999999984 L -110.59194899999994,27.32749899999999 L -110.59750399999996,27.33610900000008 L -110.60085300000003,27.346386000000052 L -110.602509,27.358330000000137 L -110.60278299999993,27.377499000000057 L -110.60028099999994,27.389721000000065 L -110.59667999999999,27.40055500000011 L -110.59028599999994,27.415276000000063 L -110.58973700000001,27.410275000000013 L -110.590843,27.39138800000012 L -110.58944699999995,27.366386000000034 L -110.57640100000003,27.331387000000007 L -110.57417299999997,27.32666400000005 L -110.57055700000001,27.32305500000001 L -110.55139199999996,27.312495999999953 L -110.546112,27.309998000000064 z\" /><path fill-rule=\"evenodd\" fill=\"#66cc99\" stroke=\"#555555\" stroke-width=\"0.6847797456000001\" opacity=\"0.6\" d=\"M -114.22000099999997,27.738331000000017 L -114.22306799999996,27.73444400000011 L -114.27667199999996,27.753609000000097 L -114.281113,27.756664000000114 L -114.31360599999994,27.77999899999992 L -114.32417299999997,27.81110799999999 L -114.32389799999993,27.81666600000011 L -114.32000700000003,27.820000000000107 L -114.29139700000002,27.835552000000064 L -114.28083799999996,27.831387000000063 L -114.25945300000001,27.822497999999996 L -114.24500999999992,27.81444199999993 L -114.24111899999997,27.810833000000116 L -114.23918200000003,27.80610999999999 L -114.21972700000003,27.742496000000017 L -114.22000099999997,27.738331000000017 z\" /><path fill-rule=\"evenodd\" fill=\"#66cc99\" stroke=\"#555555\" stroke-width=\"0.6847797456000001\" opacity=\"0.6\" d=\"M -115.17388899999997,28.0274960000001 L -115.17945899999995,28.024719000000005 L -115.26334399999996,28.072497999999996 L -115.31001300000003,28.100277000000006 L -115.32668299999995,28.138332000000105 L -115.32195300000001,28.14110899999997 L -115.30612200000002,28.154442000000074 L -115.29888900000003,28.161662999999976 L -115.26334399999996,28.206107999999915 L -115.25446299999993,28.218886999999995 L -115.24973299999999,28.228333000000134 L -115.24945100000002,28.23527500000006 L -115.25083899999993,28.240555000000086 L -115.26471699999996,28.26916499999993 L -115.278343,28.30416500000007 L -115.28000599999996,28.30971900000003 L -115.28056300000003,28.31583000000012 L -115.27863300000001,28.328331000000105 L -115.26611300000002,28.351944000000003 L -115.25666799999993,28.363888000000088 L -115.25167799999997,28.366665000000012 L -115.24083699999994,28.37055200000009 L -115.22611999999998,28.369442000000106 L -115.220573,28.367222000000083 L -115.216949,28.363888000000088 L -115.21085399999993,28.355553000000043 L -115.17888599999998,28.30888700000014 L -115.146118,28.178885999999977 L -115.14306599999998,28.15471999999994 L -115.16832699999992,28.03611000000012 L -115.17001299999998,28.030830000000094 L -115.17388899999997,28.0274960000001 z\" /><path fill-rule=\"evenodd\" fill=\"#66cc99\" stroke=\"#555555\" stroke-width=\"0.6847797456000001\" opacity=\"0.6\" d=\"M -112.76000999999991,28.59360900000007 L -112.77027899999996,28.589165000000094 L -112.792236,28.616108000000054 L -112.80724299999991,28.630276000000094 L -112.81195100000002,28.633331000000112 L -112.83473200000003,28.64083099999999 L -112.86306799999994,28.65083299999992 L -112.88583399999999,28.68388700000014 L -112.87111699999997,28.682499000000064 L -112.85334799999998,28.67721899999998 L -112.84194899999994,28.673332000000073 L -112.83722699999998,28.67055499999998 L -112.81916799999993,28.65888600000011 L -112.796402,28.644164999999987 L -112.75306699999993,28.60722000000004 L -112.75334199999998,28.60166500000014 L -112.76000999999991,28.59360900000007 z\" /><path fill-rule=\"evenodd\" fill=\"#66cc99\" stroke=\"#555555\" stroke-width=\"0.6847797456000001\" opacity=\"0.6\" d=\"M -112.58167999999995,28.670277000000056 L -112.58862299999998,28.669998000000078 L -112.59638999999993,28.670277000000056 L -112.60362199999992,28.727219000000048 L -112.600281,28.731388000000038 L -112.59221600000001,28.737778000000105 L -112.58667000000003,28.739719000000093 L -112.57972699999993,28.739998000000128 L -112.54556300000002,28.737499000000128 L -112.54084799999998,28.735832000000016 L -112.53945899999997,28.730274000000065 L -112.54194599999994,28.696941000000038 L -112.54416699999996,28.684719000000086 L -112.54611199999994,28.67916500000007 L -112.55084199999999,28.67666600000007 L -112.56889299999995,28.672497000000078 L -112.58167999999995,28.670277000000056 z\" /><path fill-rule=\"evenodd\" fill=\"#66cc99\" stroke=\"#555555\" stroke-width=\"0.6847797456000001\" opacity=\"0.6\" d=\"M -118.28916899999996,28.881664000000114 L -118.302231,28.881107000000043 L -118.30445899999995,28.917220999999927 L -118.302231,28.91944100000012 L -118.30584699999997,28.936386000000084 L -118.31360599999994,28.96916600000003 L -118.315292,28.97471999999999 L -118.33277899999996,29.02333100000004 L -118.33750900000001,29.032776000000126 L -118.34750400000001,29.051387999999974 L -118.35529300000002,29.05833100000001 L -118.38500999999997,29.073330000000055 L -118.39279199999993,29.080276000000083 L -118.40055799999999,29.093887000000052 L -118.40416699999997,29.147778000000017 L -118.40416699999997,29.153332000000034 L -118.389183,29.173054000000093 L -118.381393,29.17999599999996 L -118.37667799999997,29.18249900000012 L -118.36501299999992,29.186107999999933 L -118.34278899999998,29.189999 L -118.31001300000003,29.19527400000004 L -118.30388599999998,29.193886000000134 L -118.300568,29.19110900000004 L -118.24973299999994,29.074718000000132 L -118.24056999999993,29.041943000000117 L -118.23834199999999,29.030277000000126 L -118.23722799999996,28.95333100000005 L -118.23806799999994,28.94694099999998 L -118.24362200000002,28.924442000000056 L -118.24582700000002,28.919719999999927 L -118.26334399999996,28.886944000000028 L -118.26806599999998,28.883610000000033 L -118.28916899999996,28.881664000000114 z\" /><path fill-rule=\"evenodd\" fill=\"#66cc99\" stroke=\"#555555\" stroke-width=\"0.6847797456000001\" opacity=\"0.6\" d=\"M -112.26194799999996,28.7733310000001 L -112.296402,28.756385999999964 L -112.304169,28.756664000000058 L -112.38334700000001,28.778332000000034 L -112.44584700000001,28.806664000000126 L -112.53639199999998,28.85611 L -112.54084799999998,28.858887000000095 L -112.550003,28.86471899999998 L -112.56417799999991,28.87832999999995 L -112.56305700000001,28.883888000000127 L -112.47778299999999,29.147778000000017 L -112.47585300000003,29.153332000000034 L -112.46305799999999,29.176666000000125 L -112.45694699999996,29.186107999999933 L -112.44972200000001,29.193054000000018 L -112.44473299999993,29.195831000000112 L -112.35694899999993,29.230000000000018 L -112.34583999999995,29.233608000000117 L -112.290009,29.237499000000014 L -112.26640299999991,29.222220999999934 L -112.21222699999998,29.064163000000065 L -112.202789,29.032219000000055 L -112.200287,28.995277000000044 L -112.20084400000002,28.98166700000013 L -112.20305599999995,28.969444000000067 L -112.248062,28.781665999999973 L -112.252228,28.778332000000034 L -112.26194799999996,28.7733310000001 z\" /><path fill-rule=\"evenodd\" fill=\"#66cc99\" stroke=\"#555555\" stroke-width=\"0.6847797456000001\" opacity=\"0.6\" d=\"M -113.135559,29.01972200000006 L -113.13971700000002,29.01777599999997 L -113.18250999999992,29.03555300000005 L -113.20777900000002,29.04805399999998 L -113.23140000000001,29.061943000000042 L -113.24056999999993,29.067776000000038 L -113.35722399999992,29.17083000000008 L -113.41056800000001,29.219719000000055 L -113.52500900000001,29.344997000000035 L -113.59221599999995,29.42583100000013 L -113.59806800000001,29.434166000000005 L -113.600281,29.439163000000065 L -113.600571,29.452221000000122 L -113.58862299999993,29.583611000000076 L -113.58528100000001,29.58610900000002 L -113.58056599999998,29.587497999999982 L -113.575287,29.586666000000093 L -113.52778599999994,29.571940999999924 L -113.50028999999995,29.55749899999995 L -113.46972699999998,29.53583100000003 L -113.40917999999999,29.48611100000005 L -113.40528899999993,29.482498000000078 L -113.39666699999992,29.46999700000009 L -113.37361099999998,29.422775 L -113.36501299999992,29.403331999999978 L -113.36527999999998,29.396663999999987 L -113.36695900000001,29.391109000000085 L -113.37055999999995,29.380275999999924 L -113.37667799999991,29.37166600000006 L -113.38083599999993,29.361664000000076 L -113.38474300000001,29.343887000000052 L -113.38417099999992,29.324718000000075 L -113.381958,29.319999999999993 L -113.37111700000003,29.315552000000025 L -113.36501299999992,29.313889000000074 L -113.31001299999997,29.30055200000004 L -113.27639799999997,29.29861100000005 L -113.26083399999999,29.29805399999998 L -113.19584699999996,29.228333000000134 L -113.19056699999999,29.15361000000013 L -113.18945300000001,29.141109000000142 L -113.18695100000002,29.13027599999998 L -113.16779300000002,29.086388000000113 L -113.16111799999999,29.07860900000003 L -113.15640299999995,29.075832000000105 L -113.14499699999999,29.071941000000038 L -113.12667799999997,29.06388900000013 L -113.12445100000002,29.05888700000014 L -113.12473299999999,29.05221899999998 L -113.12695299999996,29.039719000000105 L -113.13056899999992,29.029162999999983 L -113.135559,29.01972200000006 z\" /><path fill-rule=\"evenodd\" fill=\"#66cc99\" stroke=\"#555555\" stroke-width=\"0.6847797456000001\" opacity=\"0.6\" d=\"M -114.65084799999994,31.69055199999997 L -114.65112299999998,31.6852760000001 L -114.70612299999999,31.685833000000002 L -114.713348,31.686942999999985 L -114.740837,31.69777700000003 L -114.76363399999997,31.71249800000004 L -114.77528399999994,31.723053000000107 L -114.77834299999995,31.726943999999946 L -114.78140300000001,31.731110000000058 L -114.78888699999999,31.74499900000012 L -114.791672,31.7561070000001 L -114.79305999999991,31.781109000000015 L -114.79305999999991,31.787777000000006 L -114.79028299999993,31.799442000000056 L -114.78444699999994,31.801387999999974 L -114.77723700000001,31.80027799999999 L -114.76471699999996,31.797497000000078 L -114.75446299999993,31.792500000000018 L -114.74500999999992,31.786663000000033 L -114.679733,31.733607999999947 L -114.66445899999991,31.719444000000067 L -114.65528899999993,31.70694400000002 L -114.65167200000002,31.69694099999998 L -114.65084799999994,31.69055199999997 z\" /><path fill-rule=\"evenodd\" fill=\"#66cc99\" stroke=\"#555555\" stroke-width=\"0.6847797456000001\" opacity=\"0.6\" d=\"M -113.052887,31.971069 L -112.86727899999994,31.913410000000056 L -112.5,31.798370000000034 L -112.29943799999995,31.735550000000046 L -111.94638099999997,31.623608000000047 L -111.41751099999993,31.4541660000001 L -111.04583699999995,31.333054000000004 L -110.31195099999997,31.332775000000026 L -110.24555999999995,31.332775000000026 L -109.87918099999996,31.332775000000026 L -109.51222200000001,31.333332000000098 L -109.05892900000003,31.332872000000066 L -109.04736299999996,31.332603000000006 L -109.04666099999997,31.333332000000098 L -108.83194000000003,31.332632000000103 L -108.81664999999998,31.333173999999985 L -108.77863300000001,31.332775000000026 L -108.20834399999995,31.333054000000004 L -108.20777900000002,31.36638599999992 L -108.208618,31.433331000000123 L -108.20777900000002,31.532776000000013 L -108.208618,31.59944200000001 L -108.20777900000002,31.69944399999997 L -108.208618,31.783333000000027 L -108.175003,31.78388600000011 L -107.90834000000001,31.78305400000005 L -107.70806899999997,31.78388600000011 L -107.60806299999996,31.783333000000027 L -107.57501200000002,31.78388600000011 L -107.50778199999996,31.783333000000027 L -107.44139099999995,31.78388600000011 L -107.37499999999994,31.783333000000027 L -107.34113299999996,31.78388600000011 L -107.27472699999998,31.783333000000027 L -107.24195899999995,31.78388600000011 L -107.17472800000002,31.783333000000027 L -107.14167799999996,31.78388600000011 L -107.07528699999995,31.783333000000027 L -106.608337,31.78360700000013 L -106.54888899999997,31.782776000000126 L -106.53024299999998,31.781326000000035 L -106.52288099999998,31.780753999999945 L -106.50083899999998,31.760830000000112 L -106.49195899999995,31.753330000000005 L -106.46000699999996,31.750275000000045 L -106.43917799999991,31.75166300000012 L -106.41972399999992,31.75416600000011 L -106.41334499999999,31.753887000000077 L -106.400848,31.750275000000045 L -106.39083899999997,31.744720000000143 L -106.33584599999995,31.689441999999985 L -106.33277899999996,31.6852760000001 L -106.30334499999998,31.63749700000011 L -106.28916899999996,31.597500000000082 L -106.27500899999995,31.563609999999983 L -106.26945499999994,31.55499600000013 L -106.21444699999995,31.47527700000012 L -106.20529199999999,31.46916600000003 L -106.14361600000001,31.431941999999935 L -106.07223499999998,31.405277000000126 L -106.05361900000003,31.39971900000012 L -106.014725,31.39611100000002 L -106.00862099999995,31.394444000000135 L -105.972778,31.369720000000086 L -105.85806299999996,31.282497000000035 L -105.841949,31.269165000000044 L -105.827515,31.254444000000092 L -105.78973400000001,31.212498000000096 L -105.78417999999999,31.203888000000063 L -105.77667199999996,31.184166000000005 L -105.77389499999998,31.179722000000027 L -105.77027900000002,31.176108999999997 L -105.76583900000003,31.173054000000036 L -105.71000699999996,31.144164999999987 L -105.60223400000001,31.08305400000006 L -105.597778,31.07999799999999 L -105.58445699999993,31.06472000000008 L -105.57695000000001,31.05110899999994 L -105.54139699999996,30.99638699999997 L -105.49473599999999,30.94971800000002 L -105.48667899999998,30.943054000000018 L -105.39306599999998,30.865833000000123 L -105.26139799999993,30.79722200000009 L -105.24722300000002,30.796108000000117 L -105.24223299999994,30.798332000000073 L -105.23500100000001,30.80583200000001 L -105.22778299999993,30.806110000000103 L -105.22000099999997,30.80527500000011 L -105.20750399999997,30.80166600000007 L -105.16944899999999,30.77861000000007 L -105.12499999999994,30.749722000000133 L -105.06195099999997,30.694164000000058 L -104.99084499999992,30.632221000000015 L -104.93695099999997,30.60916500000002 L -104.93250999999998,30.60611 L -104.90055799999999,30.572776999999974 L -104.89250199999992,30.559718999999973 L -104.87972999999994,30.52499800000004 L -104.865005,30.466388999999992 L -104.82223499999992,30.38610799999998 L -104.776947,30.318054000000075 L -104.70556599999998,30.233330000000024 L -104.68223599999999,30.18749600000001 L -104.675003,30.16777400000001 L -104.677505,30.111110999999994 L -104.67889399999996,30.105000000000132 L -104.683334,30.094444000000124 L -104.69917299999992,30.06583000000012 L -104.70361300000002,30.054996000000074 L -104.70333899999997,30.048884999999984 L -104.69500700000003,30.004997000000117 L -104.68028299999997,29.945553000000075 L -104.67584199999993,29.936386000000084 L -104.54362499999996,29.674721000000034 L -104.540009,29.67110800000006 L -104.45333900000003,29.595833000000027 L -104.41917399999994,29.569443000000035 L -104.34083599999997,29.52555500000011 L -104.33528100000001,29.524441000000138 L -104.33111600000001,29.527495999999985 L -104.32112099999995,29.53221900000011 L -104.314728,29.533054000000106 L -104.300003,29.53082999999998 L -104.287781,29.52722200000005 L -104.28250100000002,29.52471900000006 L -104.252792,29.508331 L -104.22834799999998,29.494442000000106 L -104.20500199999992,29.47944300000006 L -104.20556599999998,29.460278000000073 L -104.20306399999998,29.455829999999935 L -104.196121,29.448330000000055 L -104.16972399999992,29.422775 L -104.08084100000002,29.35527400000001 L -104.06361399999997,29.34249899999992 L -104.04528799999997,29.33083000000005 L -104.02362099999993,29.321109999999976 L -103.97500600000001,29.305832000000123 L -103.88917500000002,29.285831000000087 L -103.73583999999994,29.199165000000107 L -103.53140300000001,29.126110000000097 L -103.48500100000001,29.088886000000002 L -103.46194500000001,29.07305500000001 L -103.40112299999998,29.036388000000045 L -103.375,29.023609000000135 L -103.29972799999996,28.998055000000022 L -103.29278599999998,28.996666000000005 L -103.29087099999998,28.99651899999992 L -103.18000799999999,28.988051999999982 L -103.16639700000002,28.98527500000006 L -103.15417499999995,28.98138799999998 L -103.05195600000002,29.094166000000087 L -102.95500199999992,29.183052000000032 L -102.89584400000001,29.254166000000055 L -102.85111999999992,29.35221899999999 L -102.80476399999992,29.47407899999996 L -102.67028800000003,29.742774999999995 L -102.56083699999994,29.767776000000026 L -102.49972500000001,29.781665999999973 L -102.49278299999997,29.781665999999973 L -102.35555999999997,29.8505550000001 L -102.31111099999993,29.887218000000132 L -102.30584699999991,29.889442000000088 L -102.29806500000001,29.888611000000083 L -102.29223599999995,29.886664999999994 L -102.26333599999992,29.869441999999935 L -102.25917099999992,29.866386000000034 L -102.22778299999999,29.847221000000104 L -102.12194799999997,29.810555000000022 L -102.09750399999996,29.802776000000108 L -102.07667499999997,29.798611000000108 L -102.068893,29.79777500000006 L -102.054733,29.79777500000006 L -102.041672,29.79916400000002 L -101.99084499999998,29.80583200000001 L -101.89222699999999,29.806110000000103 L -101.82583599999998,29.804722000000027 L -101.77473399999997,29.79666500000002 L -101.74500999999992,29.788887000000045 L -101.70668,29.778053 L -101.63223299999993,29.76638800000012 L -101.62529,29.76638800000012 L -101.53916900000002,29.771111000000076 L -101.45667999999995,29.772221000000116 L -101.405014,29.772778000000017 L -101.37194799999997,29.704720000000066 L -101.36834699999991,29.694721000000015 L -101.36944599999998,29.688053000000025 L -101.36767599999996,29.68239200000005 L -101.35583500000001,29.660552999999993 L -101.31083699999999,29.615276000000108 L -101.21861299999995,29.54027600000012 L -101.14167800000001,29.491943000000106 L -101.13639799999993,29.489441000000056 L -101.11057299999993,29.482500000000073 L -101.10278299999993,29.481667000000073 L -101.06140099999999,29.473331000000087 L -101.05528299999997,29.47111300000006 L -101.04501299999993,29.46583600000008 L -101.04000100000002,29.461392999999987 L -101.03699499999999,29.457104000000015 L -101.03415699999994,29.453049000000078 L -101.02528399999994,29.437774999999988 L -100.94555700000001,29.35333300000002 L -100.92834499999998,29.34666399999992 L -100.79779100000002,29.260276999999974 L -100.79362500000002,29.257221000000072 L -100.66833500000001,29.113331000000017 L -100.66334499999994,29.104720999999984 L -100.62806699999993,28.998886000000027 L -100.62834199999998,28.992774999999938 L -100.63528399999996,28.96110900000002 L -100.63362099999995,28.956107999999972 L -100.62194799999992,28.933331000000123 L -100.59056099999998,28.894722 L -100.56445300000001,28.863608999999997 L -100.52944899999994,28.827499000000046 L -100.52528399999994,28.818054000000018 L -100.495834,28.740275999999994 L -100.49084499999992,28.72527700000012 L -100.49000499999994,28.719718999999998 L -100.49060099999997,28.717575000000068 L -100.49278300000003,28.706944000000078 L -100.49195900000001,28.701385000000016 L -100.483612,28.682499000000064 L -100.47611999999998,28.669167000000073 L -100.443893,28.626389000000017 L -100.39944500000001,28.571109999999976 L -100.35917699999999,28.518330000000105 L -100.35084499999999,28.49472000000003 L -100.32945299999994,28.431664000000126 L -100.32972699999999,28.41916700000013 L -100.33168,28.405552 L -100.33084099999996,28.395275000000026 L -100.28500400000001,28.285831000000087 L -100.28250100000002,28.28138700000011 L -100.27917500000001,28.277496000000042 L -100.24027999999993,28.24277500000011 L -100.18640099999999,28.197498000000053 L -100.11138899999997,28.166664000000026 L -100.10555999999997,28.164719000000048 L -100.09083599999991,28.16249800000014 L -100.07972699999993,28.157776000000013 L -100.07139599999994,28.15110800000008 L -100.05084199999999,28.116386000000034 L -99.96223399999991,27.984721999999977 L -99.93501299999997,27.96166599999998 L -99.88166799999999,27.90638700000011 L -99.88000499999998,27.901386000000002 L -99.87194799999997,27.85555299999993 L -99.86527999999993,27.817497000000117 L -99.86279300000001,27.80694200000005 L -99.85778799999997,27.798054000000093 L -99.835556,27.775276000000133 L -99.83029199999993,27.773330999999985 L -99.80670199999997,27.77174800000006 L -99.79972799999996,27.768607999999972 L -99.79667699999993,27.764721000000065 L -99.78750600000001,27.746387000000084 L -99.785843,27.741386000000034 L -99.78001399999994,27.73305499999998 L -99.775848,27.729720999999984 L -99.76918,27.728333000000077 L -99.76222200000001,27.728333000000077 L -99.75473,27.727219000000048 L -99.74945099999997,27.724720000000048 L -99.74500999999998,27.72138600000011 L -99.73779299999995,27.708054000000118 L -99.73638899999997,27.70305300000001 L -99.72889700000002,27.689720000000136 L -99.72222899999997,27.681941999999992 L -99.71389799999997,27.66893800000014 L -99.69639599999994,27.656944000000067 L -99.65362499999998,27.641388000000063 L -99.61778300000003,27.641388000000063 L -99.61195399999991,27.64277599999997 L -99.604172,27.64194100000003 L -99.59083599999997,27.63888500000013 L -99.54417399999994,27.61083199999996 L -99.53083799999996,27.601665000000025 L -99.52417000000003,27.593886999999995 L -99.50500499999993,27.570274000000097 L -99.502792,27.56583000000012 L -99.47361799999993,27.479443000000117 L -99.47277799999995,27.473888000000045 L -99.44334399999997,27.258053000000018 L -99.45861799999994,27.046944000000053 L -99.32695000000001,26.872218999999916 L -99.321121,26.86999500000013 L -99.31445300000001,26.868610000000103 L -99.27723699999996,26.863333000000125 L -99.27111799999994,26.86138500000004 L -99.26806599999992,26.857498000000135 L -99.25334199999998,26.83083000000005 L -99.239731,26.80360800000011 L -99.20056199999993,26.71444300000013 L -99.13250700000003,26.52694300000013 L -99.10473599999995,26.43499799999995 L -98.97557099999995,26.40582999999998 L -98.92529300000001,26.39138799999995 L -98.78417999999999,26.348887999999988 L -98.73001099999993,26.3144420000001 L -98.69639599999994,26.29222100000004 L -98.69473299999993,26.287219999999934 L -98.60473599999995,26.256664000000058 L -98.57833899999997,26.25610699999993 L -98.44473299999999,26.226109000000008 L -98.43501299999997,26.220554000000106 L -98.38806199999999,26.191665999999998 L -98.36138899999997,26.153610000000015 L -98.30528299999997,26.10916500000002 L -98.28611799999993,26.097775000000127 L -98.20001200000002,26.062496000000067 L -98.06639099999995,26.03833000000003 L -98.05389399999996,26.039444000000003 L -98.03334000000001,26.04777500000006 L -97.98251299999998,26.058052000000032 L -97.97695899999991,26.05916600000006 L -97.85111999999998,26.06361000000004 L -97.84390299999995,26.06361000000004 L -97.80334499999998,26.058052000000032 L -97.68223599999999,26.038887000000102 L -97.675568,26.03721999999999 L -97.64805599999994,26.029442000000017 L -97.61445599999996,26.004997000000003 L -97.55944799999997,25.951111000000083 L -97.51889,25.905551999999943 L -97.51667800000001,25.901107999999965 L -97.51112399999994,25.89332999999999 L -97.42556799999994,25.845276000000013 L -97.41889999999995,25.84360900000013 L -97.41223100000002,25.84222000000011 L -97.367233,25.839443000000017 L -97.36222799999996,25.840275000000133 L -97.34945700000003,25.848888000000102 L -97.34390299999995,25.858608000000004 L -97.34278899999998,25.865554999999972 L -97.34529099999997,25.888054000000068 L -97.34806799999996,25.898052000000064 L -97.31529199999994,25.919998000000078 L -97.265289,25.941108999999983 L -97.16084299999994,25.967219999999998 L -97.14073899999994,25.96642900000012 L -97.13917500000002,25.961847000000034 L -97.13806199999993,25.956812000000014 L -97.13694799999996,25.939720000000136 L -97.13806199999993,25.92666600000007 L -97.160278,25.772221000000002 L -97.18861400000003,25.674720999999977 L -97.254456,25.510830000000112 L -97.271118,25.47416300000009 L -97.28556800000001,25.44277599999998 L -97.29055799999998,25.432499000000007 L -97.310562,25.39971900000006 L -97.31361400000003,25.395275000000083 L -97.33612099999999,25.364997999999957 L -97.38806199999999,25.289443999999946 L -97.44277999999997,25.201663999999994 L -97.45806899999997,25.17055499999998 L -97.47473100000002,25.133887999999956 L -97.50917099999998,25.053885999999977 L -97.51139799999993,25.048610999999994 L -97.51583899999997,25.037220000000048 L -97.58416699999992,24.784721000000104 L -97.60972600000002,24.685555000000022 L -97.65167200000002,24.52027499999997 L -97.67611699999992,24.395831999999984 L -97.68028300000003,24.370276999999987 L -97.688065,24.322497999999996 L -97.69723499999992,24.255833000000052 L -97.71556099999992,24.074997000000053 L -97.72250400000001,23.95527600000014 L -97.72473099999996,23.899166000000093 L -97.72445699999997,23.820831 L -97.740005,23.58888600000006 L -97.75418099999996,23.472775000000013 L -97.76083399999993,23.40749700000009 L -97.76306199999999,23.381664 L -97.76501499999995,23.338055000000054 L -97.76640299999997,23.300831000000017 L -97.76556399999998,23.270831999999984 L -97.76194800000002,23.194721000000072 L -97.75639299999995,23.125832000000116 L -97.74945100000002,23.088333000000034 L -97.74362200000002,23.068054000000075 L -97.741669,23.05110899999994 L -97.74084499999992,23.027496000000042 L -97.74027999999998,23.003608999999983 L -97.74139399999996,22.905829999999924 L -97.74722299999996,22.8727760000001 L -97.75083899999993,22.860553999999922 L -97.75500499999993,22.849441999999954 L -97.78743700000001,22.81580500000001 L -97.80584699999997,22.773608999999965 L -97.83500700000002,22.738051999999982 L -97.877228,22.655552000000057 L -97.88473499999992,22.632221000000015 L -97.89028899999994,22.606667000000073 L -97.889725,22.600829999999917 L -97.88806199999999,22.595833000000027 L -97.88500999999997,22.59194200000013 L -97.877228,22.58527800000013 L -97.87222299999996,22.58277499999997 L -97.86584499999998,22.581108000000086 L -97.804169,22.32833100000005 L -97.80277999999993,22.32332999999994 L -97.79750099999995,22.308887000000084 L -97.79139700000002,22.294719999999927 L -97.77687100000003,22.26805500000006 L -97.78140300000001,22.204719999999952 L -97.78195199999993,22.192219000000023 L -97.77917499999995,22.157776000000013 L -97.76861600000001,22.116943000000106 L -97.74334699999991,22.06138599999997 L -97.73667899999992,22.04805399999998 L -97.69917299999997,21.976943999999946 L -97.69667099999998,21.97250000000014 L -97.64140299999997,21.883609999999976 L -97.62750199999999,21.86305200000004 L -97.612503,21.843052000000114 L -97.57250999999997,21.793887999999924 L -97.55612200000002,21.774997999999982 L -97.54139699999996,21.76027700000003 L -97.53028899999998,21.749722000000133 L -97.51918,21.739165999999955 L -97.40362499999998,21.64360800000003 L -97.34251399999994,21.601109000000122 L -97.33473200000003,21.594444000000067 L -97.32528699999995,21.582775000000026 L -97.31723,21.56416299999995 L -97.31278999999995,21.548885000000098 L -97.31361400000003,21.530277000000012 L -97.31668100000002,21.509998000000053 L -97.319458,21.49721900000003 L -97.32861299999996,21.46777700000007 L -97.34390299999995,21.42972199999997 L -97.40861499999994,21.274998000000096 L -97.41195699999997,21.269722 L -97.416672,21.27111100000002 L -97.462784,21.391388000000063 L -97.47666899999996,21.434166000000005 L -97.47473100000002,21.440277000000037 L -97.466949,21.446662999999944 L -97.46250899999995,21.448887000000127 L -97.41889999999995,21.46777700000007 L -97.39028899999994,21.46944400000001 L -97.38694800000002,21.47194300000001 L -97.37112400000001,21.492496000000017 L -97.36805699999996,21.496943999999985 L -97.36695900000001,21.50388700000002 L -97.36973599999999,21.538054999999986 L -97.37194799999997,21.54277400000001 L -97.37499999999994,21.546665000000075 L -97.398056,21.567219000000023 L -97.42668200000003,21.583611000000076 L -97.43556199999995,21.589721999999995 L -97.45916699999992,21.609443999999996 L -97.46639999999996,21.61666500000007 L -97.488068,21.63861100000014 L -97.52278099999995,21.675277999999935 L -97.61723299999994,21.785274999999956 L -97.62028499999997,21.78916500000014 L -97.62583899999998,21.797497000000135 L -97.68248699999998,21.915864999999997 L -97.69674699999996,21.955481000000077 L -97.74223299999994,22.012496999999996 L -97.731674,21.989719000000036 L -97.72277799999995,21.95944200000008 L -97.71417200000002,21.928885999999977 L -97.70584100000002,21.89249799999999 L -97.70333899999997,21.869999000000007 L -97.68861400000003,21.77360900000002 L -97.67388899999997,21.686943000000042 L -97.67195100000004,21.67610899999994 L -97.67028800000003,21.67110800000006 L -97.66667199999995,21.661662999999976 L -97.65167200000002,21.629718999999966 L -97.62056000000001,21.565830000000062 L -97.57751499999995,21.499442999999985 L -97.56806899999998,21.487778000000105 L -97.55555699999996,21.478333000000077 L -97.50111400000003,21.426387999999974 L -97.45472699999993,21.319443000000092 L -97.37667799999997,21.139998999999932 L -97.35583500000001,21.094166000000087 L -97.33834799999994,21.057499000000064 L -97.29278599999992,20.96249800000004 L -97.24917600000003,20.893887000000007 L -97.21444699999995,20.83972200000011 L -97.21194500000001,20.83527800000013 L -97.20056199999999,20.812775000000045 L -97.19250499999993,20.794441000000063 L -97.17861900000003,20.755554000000075 L -97.17834499999992,20.750000000000057 L -97.18223599999999,20.748333000000002 L -97.18833899999993,20.7477760000001 L -97.19168099999996,20.744164000000012 L -97.19416799999993,20.738888000000088 L -97.19277999999991,20.72777600000012 L -97.19000199999994,20.717498999999975 L -97.18250999999992,20.698607999999922 L -97.17611699999998,20.684998000000064 L -97.171402,20.676108999999997 L -97.14388999999994,20.641109000000085 L -97.08555599999994,20.568886000000134 L -97.058334,20.54027600000012 L -96.78723099999996,20.262775000000033 L -96.74444599999993,20.22555499999993 L -96.67639199999996,20.15721899999994 L -96.67333999999994,20.153332000000034 L -96.57833900000003,20.025276000000076 L -96.48083500000001,19.89916599999998 L -96.46000700000002,19.877498999999943 L -96.44778399999996,19.86166400000002 L -96.44111599999997,19.848331000000144 L -96.40750100000002,19.762218000000075 L -96.39750699999996,19.733054999999922 L -96.39500399999991,19.716663000000096 L -96.39361600000001,19.699718000000132 L -96.39472999999998,19.686664999999948 L -96.387787,19.631664 L -96.36750799999999,19.549442000000056 L -96.296402,19.34332999999998 L -96.29417399999994,19.338886000000002 L -96.276947,19.314720000000136 L -96.24500999999998,19.288609000000122 L -96.22805800000003,19.27638600000006 L -96.20916699999992,19.26527400000009 L -96.18501300000003,19.2519420000001 L -96.139725,19.229442999999947 L -96.09583999999995,19.129719000000136 L -96.09333800000002,19.11972000000003 L -96.08445699999999,19.101665000000082 L -96.07389799999993,19.090553000000114 L -96.05612199999996,19.072497999999996 L -96.052505,19.069164 L -96.04861499999993,19.065830000000005 L -96.03945899999997,19.060275999999988 L -96.03306600000002,19.058609000000104 L -96.01306199999999,19.057776999999987 L -95.95861799999994,18.98860900000011 L -95.93640099999999,18.926387999999974 L -95.90833999999995,18.879719000000023 L -95.89917000000003,18.845833000000084 L -95.91139199999998,18.82527499999992 L -95.808899,18.746109000000047 L -95.79333500000001,18.743889000000024 L -95.53333999999995,18.711941000000024 L -95.40667699999995,18.702774000000034 L -95.39417999999995,18.703053000000068 L -95.34667999999999,18.70666499999993 L -95.32362399999994,18.709442000000024 L -95.30639599999995,18.711666000000037 L -95.21917699999995,18.711388000000113 L -95.212784,18.711109000000135 L -95.18722500000001,18.704440999999974 L -95.17723099999995,18.69916500000005 L -95.05139200000002,18.613051999999982 L -95.03945899999991,18.597221000000047 L -95.03556800000001,18.582221999999945 L -95.035278,18.576385000000016 L -95.03167699999995,18.566944000000092 L -95.02890000000002,18.563053000000025 L -95.01888999999994,18.558051999999975 L -94.94473299999999,18.536662999999976 L -94.92529300000001,18.534163999999976 L -94.88667299999997,18.533053999999993 L -94.86138899999997,18.53249700000009 L -94.847778,18.531109000000015 L -94.81390399999998,18.526386000000002 L -94.80223099999995,18.522499000000096 L -94.79305999999991,18.516940999999974 L -94.78472899999991,18.510555000000068 L -94.775848,18.501663000000065 L -94.75695799999994,18.45138500000013 L -94.75556899999998,18.434443999999928 L -94.75334199999998,18.42944300000005 L -94.73556500000001,18.39388699999995 L -94.73278800000003,18.38999899999999 L -94.57978799999995,18.190331000000015 L -94.56945799999994,18.179996000000017 L -94.56556699999999,18.17666600000001 L -94.541946,18.16249800000014 L -94.531113,18.15777600000007 L -94.51222200000001,18.15277500000002 L -94.47889700000002,18.1466640000001 L -94.45945699999993,18.145831999999984 L -94.41805999999991,18.148888000000113 L -94.27639799999992,18.171665000000132 L -94.25917099999992,18.175831000000017 L -94.16805999999997,18.198608000000092 L -94.13760399999995,18.208870000000047 L -94.015289,18.245277000000044 L -93.88667299999997,18.25416600000011 L -93.88166799999993,18.25194199999993 L -93.87417599999998,18.25194199999993 L -93.854736,18.252499 L -93.79972800000002,18.260555000000068 L -93.79390000000001,18.261944000000085 L -93.78916899999996,18.26388500000013 L -93.58000199999992,18.352219000000048 L -93.57362399999994,18.359722000000033 L -93.57028200000002,18.407776000000013 L -93.57333399999993,18.410553000000107 L -93.58389299999999,18.410000000000025 L -93.60195899999997,18.40666600000003 L -93.61306799999994,18.403332000000034 L -93.764725,18.340553000000114 L -93.76917999999995,18.33777600000002 L -93.77278100000001,18.334442000000024 L -93.78140300000001,18.322220000000073 L -93.78556800000001,18.31944299999998 L -93.80806000000001,18.307776999999987 L -93.84667999999994,18.29916400000002 L -93.84945700000003,18.30333300000001 L -93.843613,18.311665000000005 L -93.82612599999999,18.32249799999994 L -93.78056300000003,18.348331000000087 L -93.59611499999994,18.419720000000098 L -93.57806399999998,18.423054000000093 L -93.45001199999996,18.44055200000014 L -93.42973299999994,18.44166600000011 L -93.18167099999994,18.438889000000017 L -93.17028800000003,18.411110000000008 L -93.17417899999992,18.40361000000013 L -93.17222599999997,18.3727760000001 L -93.17028800000003,18.368052999999918 L -93.13278199999996,18.34027500000002 L -93.12695299999996,18.338886000000002 L -93.092514,18.373333000000002 L -93.08973700000001,18.377499000000114 L -93.08805799999999,18.383053000000075 L -93.087784,18.40361000000013 L -92.95500199999998,18.43916299999995 L -92.92611699999992,18.445831000000112 L -92.91528299999993,18.449165000000107 L -92.88473499999998,18.461108999999965 L -92.82278399999996,18.496666000000005 L -92.80528300000003,18.50750000000005 L -92.74694799999997,18.554996000000074 L -92.73584,18.564999000000114 L -92.68000799999993,18.51777600000014 L -92.58862299999993,18.62360799999999 L -92.48045300000001,18.65697899999992 L -92.46000700000002,18.664444000000117 L -92.40528899999993,18.681110000000103 L -92.32556199999999,18.685275999999988 L -92.31834399999997,18.685275999999988 L -92.30389400000001,18.684998000000064 L -92.15306099999992,18.695273999999984 L -92.01333599999992,18.724720000000104 L -91.99500999999992,18.727776000000006 L -91.98139999999995,18.728333000000077 L -91.97557099999995,18.726665000000082 L -91.960556,18.72027600000007 L -91.95194999999995,18.71472200000011 L -91.85861199999994,18.623332999999946 L -91.85806300000002,18.617222000000083 L -91.85890199999994,18.611110999999994 L -91.90116899999992,18.593832000000077 L -91.90301499999998,18.591497000000004 L -91.90567799999997,18.589830000000063 L -91.939842,18.594831 L -91.94300800000002,18.596165000000042 L -92.03445399999993,18.59471899999994 L -92.03723100000002,18.590553000000057 L -92.04139700000002,18.569164000000114 L -92.04251099999999,18.550831000000073 L -92.00083899999993,18.535000000000082 L -91.99500999999992,18.533607000000075 L -91.98918199999997,18.53333299999997 L -91.95668,18.543330999999966 L -91.95861799999994,18.554996000000074 L -91.96612499999998,18.568054000000075 L -91.97084000000001,18.583885000000066 L -91.97138999999993,18.590275000000133 L -91.96667500000001,18.59221999999994 L -91.96139499999992,18.589995999999985 L -91.90322899999995,18.554996000000074 L -91.89205899999996,18.547497000000078 L -91.82556199999999,18.49583100000001 L -91.82501199999996,18.489719000000036 L -91.83168,18.475277000000062 L -91.83389299999999,18.47055400000005 L -91.84445199999993,18.45277399999992 L -91.84806800000001,18.449444000000085 L -91.85389700000002,18.441387000000134 L -91.85639999999995,18.436665000000062 L -91.85722399999992,18.43055300000009 L -91.85639999999995,18.425551999999982 L -91.85444599999994,18.42083000000008 L -91.818893,18.38583 L -91.814728,18.383053000000075 L -91.80944799999997,18.380833000000052 L -91.80334499999992,18.379997000000003 L -91.77362099999999,18.445553000000018 L -91.67973299999994,18.449444000000085 L -91.63694800000002,18.443886000000134 L -91.49890099999999,18.435276000000044 L -91.49250799999993,18.435833000000116 L -91.47500600000001,18.43944199999993 L -91.47445699999997,18.443054000000018 L -91.47528099999994,18.455276000000026 L -91.48083500000001,18.486942000000113 L -91.48194899999999,18.49249600000013 L -91.48695399999997,18.49333200000001 L -91.50500499999993,18.48472200000009 L -91.43749999999994,18.541110999999944 L -91.31167600000003,18.59221999999994 L -91.18972799999995,18.644164999999987 L -91.18611099999993,18.647498999999982 L -91.18389899999994,18.652221999999995 L -91.18501300000003,18.656386999999995 L -91.26362599999999,18.740833000000123 L -91.28417999999994,18.76249700000011 L -91.29501299999993,18.773052000000007 L -91.30694599999998,18.78221899999994 L -91.31279,18.783886000000052 L -91.31945799999994,18.784443000000124 L -91.325287,18.783332999999914 L -91.32972699999999,18.780552000000057 L -91.33334399999995,18.77722200000005 L -91.33917199999996,18.769165000000044 L -91.34083599999997,18.763611000000083 L -91.34390300000001,18.759720000000016 L -91.34973100000002,18.759720000000016 L -91.36750799999999,18.768887000000007 L -91.37667799999991,18.773888000000056 L -91.38867199999999,18.818054000000018 L -91.39001499999995,18.820219000000122 L -91.385178,18.827887000000032 L -91.364014,18.856722000000048 L -91.361336,18.858386999999993 L -91.35784100000001,18.859055000000012 L -91.35350799999998,18.859055000000012 L -91.33000199999992,18.893887000000063 L -91.39211999999998,18.856941000000063 L -91.39478300000002,18.855275999999947 L -91.39778899999999,18.853777000000093 L -91.40795100000003,18.850943000000086 L -91.41928100000001,18.849609000000044 L -91.42761200000001,18.85010900000003 L -91.43395199999992,18.852276000000074 L -91.43362399999995,18.855108000000087 L -91.391617,18.90227500000003 L -91.38945000000001,18.904274000000044 L -91.38494899999995,18.908276000000058 L -91.37428299999993,18.914607999999987 L -91.36295299999995,18.920277000000056 L -91.304733,18.955830000000105 L -91.26000999999997,18.97499800000014 L -91.13473499999998,19.029442000000017 L -91.02166699999992,19.107219999999984 L -90.913071,19.182499000000007 L -90.75666799999993,19.31582999999995 L -90.75111400000003,19.324718000000132 L -90.733612,19.356388000000038 L -90.729736,19.366665000000012 L -90.71473699999996,19.469996999999978 L -90.71223399999997,19.488331000000073 L -90.69972200000001,19.634997999999996 L -90.70167500000002,19.646663999999987 L -90.70722999999992,19.654999000000032 L -90.714447,19.668888000000095 L -90.71417200000002,19.675831000000073 L -90.71305799999993,19.681941999999992 L -90.68112199999996,19.762218000000075 L -90.67222600000002,19.774441000000138 L -90.652512,19.797221999999977 L -90.64140299999997,19.808052000000032 L -90.60057099999995,19.838055000000054 L -90.57917800000001,19.851944000000117 L -90.56140099999999,19.862499000000014 L -90.535278,19.872219000000086 L -90.531113,19.874722000000077 L -90.52334599999995,19.881386000000077 L -90.50556899999998,19.898888000000113 L -90.49890099999993,19.90638700000011 L -90.45916699999992,19.965832000000034 L -90.45472699999999,19.97527700000012 L -90.45361300000002,19.98138799999998 L -90.46583599999997,20.016109000000085 L -90.48055999999991,20.04305299999993 L -90.49806199999995,20.074444000000028 L -90.5,20.07916599999993 L -90.50056499999994,20.085278000000073 L -90.49694799999997,20.194443000000035 L -90.48806799999994,20.308051999999975 L -90.48472600000002,20.549442 L -90.46028100000001,20.722500000000025 L -90.45861799999994,20.72777600000012 L -90.45390299999991,20.73749900000007 L -90.45083599999992,20.741386000000034 L -90.43945300000001,20.751389000000074 L -90.40556300000003,20.78916499999997 L -90.39250199999998,20.80444300000005 L -90.38639799999993,20.812775000000045 L -90.38362099999995,20.81666600000011 L -90.37973,20.826941999999974 L -90.37336700000003,20.845913000000053 L -90.35583499999996,20.88805400000001 L -90.350281,20.903609999999958 L -90.33889799999997,20.941665999999998 L -90.33555599999994,20.96499599999993 L -90.33750899999995,20.969997000000035 L -90.34167499999995,20.969997000000035 L -90.34583999999995,20.96666300000004 L -90.35195899999991,20.951663999999937 L -90.37896699999999,20.86323200000004 L -90.38417099999998,20.842777000000126 L -90.38667299999997,20.838055000000054 L -90.41445899999997,20.79472000000004 L -90.41723599999995,20.790833000000134 L -90.42167699999993,20.788054999999986 L -90.43640099999999,20.781665999999973 L -90.44029199999994,20.783885999999995 L -90.43861400000003,20.78916499999997 L -90.41833500000001,20.838055000000054 L -90.40571599999998,20.86323200000004 L -90.38583399999999,20.925831000000017 L -90.375565,20.950832000000048 L -90.35362199999992,21.00055300000014 L -90.34889199999998,21.009997999999996 L -90.33973700000001,21.02194200000008 L -90.33584599999995,21.025276000000076 L -90.32751499999995,21.03138699999994 L -90.27972399999999,21.06305300000008 L -90.23945600000002,21.08666599999998 L -90.10639999999995,21.160275000000013 L -89.91972399999992,21.234997000000078 L -89.86805699999996,21.25499700000006 L -89.82806399999993,21.270275000000083 L -89.80555700000002,21.27666499999998 L -89.77612299999993,21.28249700000009 L -89.70445299999994,21.29638700000004 L -89.50111400000003,21.317497000000003 L -89.33805799999993,21.332775000000026 L -89.31806899999992,21.334164000000044 L -89.24111899999997,21.342777000000012 L -89.10890199999994,21.361385000000098 L -89.09611499999994,21.36333099999996 L -88.84333800000002,21.413609000000122 L -88.71861299999995,21.443886000000077 L -88.70806900000002,21.447776999999974 L -88.70361300000002,21.450275000000033 L -88.68667599999998,21.46277600000002 L -88.64666699999998,21.493610000000047 L -88.63528399999996,21.503609000000097 L -88.62278699999996,21.519721999999945 L -88.618896,21.52305199999995 L -88.60612499999996,21.531387000000052 L -88.60166899999996,21.533886000000052 L -88.59112500000003,21.53777700000012 L -88.57972699999999,21.54083300000002 L -88.45140099999998,21.568886000000134 L -88.42556799999994,21.571388000000013 L -88.36584499999992,21.57277700000003 L -88.35334799999993,21.57027400000004 L -88.34390299999995,21.564999000000057 L -88.321396,21.55805200000009 L -88.30944799999992,21.55499599999996 L -88.30306999999999,21.554164999999955 L -88.271118,21.553608000000054 L -88.26472499999994,21.554164999999955 L -88.09167499999995,21.583054000000004 L -88.08639499999998,21.584998999999982 L -88.08862299999998,21.588332999999977 L -88.09417699999995,21.5899960000001 L -88.13223299999993,21.596943000000067 L -88.13890100000003,21.597774999999956 L -88.14584400000001,21.597220999999934 L -88.15750100000002,21.594996999999978 L -88.19111599999997,21.5858310000001 L -88.196396,21.58388500000001 L -88.20083599999992,21.581387000000063 L -88.20777900000002,21.574165000000107 L -88.21305799999999,21.57222000000013 L -88.23695399999997,21.567497000000117 L -88.24334699999991,21.567219000000023 L -88.24278299999997,21.570553000000018 L -88.22473100000002,21.58082999999999 L -88.183334,21.597220999999934 L -88.15695199999999,21.60666700000013 L -88.13862599999999,21.609443999999996 L -88.11944599999993,21.609997000000135 L -87.99417099999994,21.602776000000063 L -87.965012,21.596385999999995 L -87.71305799999999,21.53833000000003 L -87.70722999999998,21.53666299999992 L -87.70361300000002,21.533054000000106 L -87.70556599999998,21.527775000000133 L -87.70916699999992,21.524441000000138 L -87.71972699999998,21.520831999999984 L -87.72584499999999,21.519721999999945 L -87.73306300000002,21.51999699999999 L -87.80250499999994,21.532776000000013 L -87.84500099999997,21.542500000000075 L -87.85583500000001,21.54638699999998 L -87.85778799999997,21.54583000000008 L -87.84667999999999,21.53583100000003 L -87.80694599999998,21.517220000000066 L -87.75445599999995,21.505554000000075 L -87.74195899999995,21.503052000000025 L -87.67639200000002,21.50277699999998 L -87.652512,21.505833000000052 L -87.60528599999998,21.512218000000075 L -87.53918499999997,21.4954570000001 L -87.47639500000002,21.47638699999999 L -87.32945299999994,21.44805500000001 L -87.24917599999998,21.441387000000077 L -87.20916699999992,21.449444000000028 L -87.19334400000002,21.454998000000046 L -87.15640300000001,21.474720000000048 L -87.148056,21.480553000000043 L -87.14111300000002,21.487778000000105 L -87.13862599999993,21.492496000000017 L -87.13528400000001,21.50333000000012 L -87.13195799999994,21.521664000000044 L -87.12806699999999,21.549164000000076 L -87.12918099999996,21.554722000000027 L -87.13250699999998,21.55805200000009 L -87.14556900000002,21.566944000000035 L -87.15223700000001,21.567775999999924 L -87.17001299999998,21.567219000000023 L -87.18640099999993,21.562496000000067 L -87.19667099999992,21.55860899999999 L -87.20112599999999,21.55610999999999 L -87.21334799999994,21.549164000000076 L -87.22195399999993,21.542500000000075 L -87.24000499999994,21.53221900000011 L -87.25666799999999,21.527495999999985 L -87.396118,21.504165999999998 L -87.401947,21.505833000000052 L -87.41056800000001,21.511664999999994 L -87.41416900000002,21.515273999999977 L -87.41528299999999,21.520831999999984 L -87.41445899999991,21.526943000000017 L -87.40667699999995,21.533332999999914 L -87.37000999999998,21.560833000000116 L -87.33416699999992,21.57027400000004 L -87.32333399999993,21.566387000000134 L -87.31083699999994,21.563889000000017 L -87.29750100000001,21.56194299999993 L -87.27555799999993,21.56110799999999 L -87.26889,21.561665000000062 L -87.24500999999998,21.56610900000004 L -87.23472600000002,21.56972100000013 L -87.15333599999997,21.602218999999934 L -87.14361600000001,21.60666700000013 L -87.07861299999996,21.60611 L -87.05483999999996,21.599541000000045 L -87.04945399999991,21.59805300000005 L -87.02778599999999,21.590275000000076 L -87.00750700000003,21.581108000000086 L -87.00334199999992,21.57833099999999 L -86.89723199999997,21.441387000000077 L -86.89111299999996,21.44249700000006 L -86.87112399999995,21.443886000000077 L -86.837784,21.435554999999965 L -86.83277900000002,21.43333100000001 L -86.82833900000003,21.43027500000011 L -86.82000700000003,21.417774000000122 L -86.81556699999999,21.40860699999996 L -86.81056199999995,21.374722000000133 L -86.80944799999997,21.362220999999977 L -86.81195100000002,21.343329999999924 L -86.82501199999996,21.30610999999999 L -86.82695000000001,21.293888000000038 L -86.82640099999998,21.28749800000014 L -86.81445300000001,21.188889000000017 L -86.81333899999993,21.183331000000067 L -86.81140099999999,21.178608000000054 L -86.80555699999996,21.169997999999964 L -86.77778599999994,21.153889000000106 L -86.77278099999995,21.151386000000116 L -86.82640099999998,20.98777800000005 L -86.85278299999993,20.928333000000066 L -86.913071,20.801940999999943 L -87.06750499999998,20.614719000000036 L -87.07139599999994,20.61138500000004 L -87.13473499999998,20.568054000000075 L -87.13945000000001,20.56555199999997 L -87.15194699999995,20.564163000000008 L -87.16166699999997,20.559718999999973 L -87.204453,20.524440999999968 L -87.22639499999997,20.50388700000002 L -87.27639799999992,20.439999 L -87.30667099999994,20.39944100000008 L -87.421112,20.230831000000023 L -87.43000799999999,20.214721999999995 L -87.43722500000001,20.200554000000125 L -87.45333899999997,20.166943000000003 L -87.45500199999998,20.16166299999992 L -87.47195399999998,20.09277700000007 L -87.47250400000001,20.07916599999993 L -87.47056599999996,19.995277000000044 L -87.46945199999999,19.983055000000093 L -87.46833800000002,19.97721899999999 L -87.46112099999999,19.957221999999945 L -87.45722999999992,19.947498000000053 L -87.45167500000002,19.938889000000074 L -87.44334399999997,19.93305199999992 L -87.44705999999991,19.934410000000014 L -87.44489299999998,19.92610899999994 L -87.44322199999999,19.915609000000018 L -87.444229,19.89961100000005 L -87.4459,19.89277600000014 L -87.46656000000002,19.84410900000006 L -87.469223,19.84327500000012 L -87.46989400000001,19.84677499999998 L -87.47056599999996,19.861942000000113 L -87.47122999999993,19.87727500000011 L -87.46972700000003,19.879276000000118 L -87.45989999999995,19.88211100000001 L -87.45455900000002,19.88527499999998 L -87.45122500000002,19.89044400000006 L -87.44989800000002,19.89527500000014 L -87.448891,19.90311100000008 L -87.448059,19.92377500000009 L -87.450897,19.9291080000001 L -87.47277799999995,19.958331999999984 L -87.47695899999997,19.96110900000002 L -87.48222399999992,19.959442000000138 L -87.48472599999997,19.954720000000066 L -87.48445099999998,19.943054000000075 L -87.47277799999995,19.913609000000065 L -87.47472399999992,19.874722000000077 L -87.47522700000002,19.87105399999996 L -87.47672999999992,19.868221000000062 L -87.49856599999998,19.83905399999992 L -87.50222799999995,19.83422100000007 L -87.50639299999995,19.829886999999985 L -87.51322899999997,19.823887000000013 L -87.51605999999998,19.82238799999999 L -87.531677,19.799164000000076 L -87.535843,19.802219000000093 L -87.53778099999994,19.80694200000005 L -87.53834499999999,19.813332000000116 L -87.54167199999995,19.816944000000035 L -87.54834,19.816387000000134 L -87.57694999999995,19.80249800000007 L -87.58500700000002,19.796665000000075 L -87.65722700000003,19.67833300000001 L -87.66389500000002,19.679442999999992 L -87.731674,19.68138900000008 L -87.73695399999991,19.679442999999992 L -87.73889200000002,19.67472100000009 L -87.740005,19.636944000000085 L -87.738068,19.612220999999977 L -87.73500099999995,19.60166499999997 L -87.73028599999992,19.592777000000012 L -87.69139099999995,19.564441999999985 L -87.66639699999996,19.547775000000115 L -87.67028799999997,19.50999800000011 L -87.67001299999993,19.505276000000038 L -87.66416900000002,19.503608999999983 L -87.65834000000001,19.50332999999995 L -87.65223699999996,19.504719000000136 L -87.64723200000003,19.50638600000002 L -87.63583399999993,19.517776000000083 L -87.62945599999995,19.531108999999958 L -87.61695899999995,19.547222000000033 L -87.60806299999996,19.552218999999923 L -87.52667199999996,19.584721000000116 L -87.43444799999992,19.618332000000066 L -87.42500299999995,19.606941000000063 L -87.42222599999997,19.602776000000063 L -87.41473400000001,19.589443000000017 L -87.412781,19.584442000000138 L -87.41166699999991,19.57888800000012 L -87.42695600000002,19.508888000000127 L -87.42834499999998,19.502777000000037 L -87.43861400000003,19.477776000000006 L -87.448059,19.465552999999943 L -87.46556099999992,19.447220000000073 L -87.47695899999997,19.437222000000077 L -87.52278100000001,19.405552 L -87.531677,19.400276000000133 L -87.55445899999995,19.394996999999933 L -87.56028699999996,19.39388700000012 L -87.566956,19.39333000000005 L -87.57055700000001,19.395554000000004 L -87.552231,19.398330999999928 L -87.54251099999999,19.402775000000133 L -87.53945899999997,19.406665999999973 L -87.53639199999998,19.428054999999972 L -87.53695699999997,19.432777000000044 L -87.54251099999999,19.4344440000001 L -87.54861499999993,19.43333100000001 L -87.62194799999992,19.40249599999993 L -87.62640399999992,19.39999800000004 L -87.63334700000001,19.392497999999932 L -87.64556900000002,19.376663000000008 L -87.66250600000001,19.351109000000065 L -87.67639200000002,19.31805400000013 L -87.677505,19.311943000000042 L -87.68806499999994,19.252499 L -87.6875,19.247776000000044 L -87.67584199999999,19.23138799999998 L -87.66889999999995,19.224442000000067 L -87.64611799999994,19.21110900000002 L -87.64028899999994,19.2108310000001 L -87.62695300000001,19.21860900000007 L -87.59333800000002,19.255832999999996 L -87.59083599999991,19.260555000000068 L -87.58889799999997,19.27277800000013 L -87.58473199999997,19.289719000000105 L -87.57833900000003,19.298332000000073 L -87.57223499999992,19.303607999999997 L -87.552231,19.316666000000055 L -87.54251099999999,19.321110000000033 L -87.50666799999993,19.327221000000122 L -87.5,19.326385000000016 L -87.49722299999996,19.323330000000055 L -87.48861699999998,19.29138599999999 L -87.54834,19.139442000000088 L -87.59333800000002,19.056664000000126 L -87.59584000000001,19.051940999999943 L -87.59750400000001,19.04638699999998 L -87.61389199999996,18.97027600000007 L -87.61750799999993,18.95249899999999 L -87.61944599999998,18.925831000000073 L -87.62361099999998,18.87583200000006 L -87.65223699999996,18.76499899999999 L -87.65640299999995,18.754719000000136 L -87.66555800000003,18.74277500000005 L -87.71055599999994,18.697776999999974 L -87.72473100000002,18.677219000000036 L -87.729736,18.66777399999995 L -87.73140000000001,18.66221999999999 L -87.73333699999995,18.649997999999982 L -87.73945599999996,18.606110000000115 L -87.74833699999999,18.519997000000046 L -87.75500499999998,18.444164000000058 L -87.75917099999998,18.412498000000085 L -87.76556399999993,18.40472000000011 L -87.79084799999993,18.372498000000007 L -87.81390399999998,18.33916499999998 L -87.81945799999994,18.330555000000118 L -87.82806399999998,18.31083300000006 L -87.83805799999999,18.278331999999978 L -87.83917199999996,18.27222100000006 L -87.84112499999998,18.25972000000013 L -87.84750400000001,18.19083000000012 L -87.87167399999998,18.293331000000023 L -87.87583899999998,18.327774000000034 L -87.877792,18.33277500000014 L -87.89306599999998,18.36416600000001 L -87.925568,18.420277 L -87.97361799999999,18.448055000000124 L -88.03140300000001,18.470275999999956 L -88.03639199999998,18.47250000000014 L -88.07333399999999,18.493610000000103 L -88.08084100000002,18.517220000000123 L -88.081955,18.521385000000123 L -88.08056599999998,18.526943000000074 L -88.07501200000002,18.535552999999993 L -88.066956,18.541664000000083 L -88.00666799999993,18.66555399999993 L -88.00195300000001,18.67527799999999 L -88.00111400000003,18.68138900000008 L -88.00195300000001,18.78166600000003 L -88.00306699999999,18.787220000000048 L -88.03750600000001,18.869441999999992 L -88.04194599999994,18.866942999999992 L -88.05917399999998,18.855831000000023 L -88.06306499999994,18.852497000000085 L -88.08917200000002,18.814999000000057 L -88.16111799999999,18.737777999999935 L -88.21778899999993,18.699996999999996 L -88.16944899999999,18.677219000000036 L -88.26722699999993,18.513054000000068 L -88.27917499999995,18.4969440000001 L -88.28916900000002,18.487499000000014 L -88.29949999999991,18.48292900000007 L -88.34390299999995,18.481387999999924 L -88.365005,18.481387999999924 L -88.377792,18.482777000000112 L -88.405441,18.489902000000086 L -88.46620200000001,18.48853700000012 L -88.47131299999995,18.486828000000116 L -88.47985799999998,18.481025999999986 L -88.483948,18.477612000000136 L -88.490433,18.470103999999935 L -88.506393,18.447497999999996 L -88.51695299999994,18.430274999999995 L -88.58770800000002,18.296711000000073 L -88.590439,18.284763000000055 L -88.60002099999997,18.23583199999996 L -88.68112200000002,18.18555500000008 L -88.68167099999994,18.183887000000084 L -88.70445299999994,18.109997000000078 L -88.72805800000003,18.054722000000027 L -88.77407800000003,17.988834000000054 L -88.84139999999996,17.90388900000005 L -88.87203999999991,17.907257000000016 L -88.98251299999998,17.964995999999985 L -88.984329,17.966648000000077 L -88.99150099999991,17.980639999999937 L -89.00250199999994,17.994164000000012 L -89.00973499999992,18.000832000000003 L -89.01945499999994,18.004997000000003 L -89.02528399999994,18.006385999999964 L -89.035843,18.005833000000052 L -89.07205199999993,17.994976000000065 L -89.11573799999991,17.973816000000056 L -89.12750199999999,17.968052000000057 L -89.14305100000001,17.956066000000078 L -89.14297499999992,17.946074000000067 L -89.141953,17.818885999999964 L -89.43043499999993,17.81972099999996 L -89.742233,17.820831 L -90.0,17.820976000000087 L -90.23834199999993,17.821109999999976 L -90.59083599999997,17.821109999999976 L -90.77778599999994,17.820274000000097 L -90.92167699999993,17.819999999999936 L -90.979172,17.819999999999936 L -90.98242199999999,17.82065200000011 L -90.98306300000002,17.81777599999998 L -90.98361199999994,17.584999000000096 L -90.98390199999994,17.256106999999986 L -91.43695100000002,17.257500000000107 L -91.438065,17.244164000000012 L -91.43749999999994,17.24110800000011 L -91.43444799999992,17.233608000000004 L -91.42834499999998,17.22583000000003 L -91.41944899999999,17.220553999999936 L -91.33222999999998,17.188053000000025 L -91.26972999999992,17.136386999999957 L -91.26722699999999,17.131664 L -91.18444799999997,17.035553000000107 L -91.06361400000003,16.924442000000113 L -90.98667899999992,16.896111000000076 L -90.94889799999999,16.889164000000108 L -90.92472799999996,16.836388000000056 L -90.921112,16.829720000000066 L -90.916672,16.826942000000088 L -90.91389499999997,16.826385000000016 L -90.86666899999994,16.81777599999998 L -90.80612200000002,16.805832000000123 L -90.80334499999992,16.804996000000017 L -90.74861099999998,16.75694299999998 L -90.71427899999998,16.72646000000003 L -90.67889400000001,16.67583099999996 L -90.65806600000002,16.644165000000044 L -90.64417999999995,16.59527600000007 L -90.64140299999997,16.566666000000055 L -90.64445499999994,16.562774999999988 L -90.64666699999992,16.55833100000001 L -90.64556900000002,16.52222100000006 L -90.64500399999991,16.519164999999987 L -90.60917699999993,16.489166000000125 L -90.59390299999995,16.47666499999997 L -90.58750900000001,16.476109000000008 L -90.54528800000003,16.47333100000003 L -90.50500499999998,16.46860900000013 L -90.48611499999993,16.46110900000002 L -90.40640299999995,16.41638599999999 L -90.39334100000002,16.40110800000008 L -90.38444500000003,16.376942000000042 L -90.40444899999994,16.336387999999943 L -90.408615,16.333611000000076 L -90.43861400000003,16.30749900000012 L -90.45668,16.260555000000124 L -90.45945699999993,16.25277699999998 L -90.46139499999998,16.20305300000001 L -90.45973200000003,16.19082999999995 L -90.45668,16.186664999999948 L -90.452515,16.18388700000014 L -90.44416799999993,16.181941999999992 L -90.43444799999997,16.177497999999957 L -90.43055699999996,16.17416400000002 L -90.42777999999998,16.170277000000056 L -90.42750499999994,16.167500000000018 L -90.43167099999994,16.135830000000112 L -90.43250999999992,16.129719000000023 L -90.441956,16.088332999999977 L -90.44761699999992,16.078842000000066 L -90.45083599999992,16.074997000000053 L -90.45671099999993,16.074770000000115 L -90.45806900000002,16.074718000000075 L -90.62583899999993,16.075554000000125 L -90.80445900000001,16.075832000000048 L -90.99154699999997,16.075744999999927 L -91.540009,16.075832000000048 L -91.70417799999996,16.075554000000125 L -91.72917199999995,16.074997000000053 L -91.79750100000001,15.96111100000013 L -91.82861300000002,15.90888799999999 L -92.10794099999998,15.437596999999926 L -92.21139499999998,15.26222000000007 L -92.07219699999996,15.085834000000034 L -92.06584199999992,15.077775999999972 L -92.07250999999991,15.059721000000025 L -92.08667000000003,15.029998999999975 L -92.09001199999994,15.026387999999997 L -92.09583999999995,15.021944000000019 L -92.104446,15.019444000000078 L -92.11445600000002,15.018610000000024 L -92.14973399999991,14.934721000000138 L -92.18223599999999,14.853611000000114 L -92.18583699999994,14.843610999999953 L -92.18501299999997,14.830276000000083 L -92.183334,14.811943000000042 L -92.18250999999992,14.809165999999948 L -92.169174,14.76861000000008 L -92.15834000000001,14.729443000000003 L -92.15306099999992,14.706388000000004 L -92.15223699999996,14.700277000000142 L -92.15223699999996,14.69027699999998 L -92.15444899999994,14.675833000000011 L -92.18722499999996,14.58833299999992 L -92.21667499999995,14.558054000000027 L -92.23794599999991,14.551992000000098 L -92.24677999999994,14.550547000000108 L -92.25570699999997,14.554973000000018 L -92.28916900000002,14.58749999999992 L -92.38444499999997,14.684166000000062 L -92.52723700000001,14.828609000000029 L -92.55555700000002,14.855833000000132 L -92.58389299999999,14.879998999999998 L -92.60111999999992,14.894165000000044 L -92.63250699999998,14.926109000000054 L -92.696121,14.992498000000069 L -92.75306699999993,15.053333000000123 L -92.80428299999994,15.127776999999924 L -92.81145499999997,15.137444000000073 L -92.81278999999995,15.14027800000008 L -92.81311800000003,15.143943999999976 L -92.81178299999993,15.146777999999983 L -92.80795299999994,15.147277000000088 L -92.77917499999995,15.15472200000005 L -92.775284,15.15194299999996 L -92.77223199999997,15.14777799999996 L -92.76917999999995,15.130554000000018 L -92.75723299999993,15.101110000000062 L -92.75500499999998,15.09638799999999 L -92.75250199999999,15.092222000000106 L -92.74890099999993,15.088610000000017 L -92.74389599999995,15.086665999999923 L -92.73889200000002,15.087221000000056 L -92.73973099999995,15.091944000000012 L -92.75418100000002,15.131108999999924 L -92.76722699999993,15.16638800000004 L -92.76917999999995,15.171110000000112 L -92.77278100000001,15.174444000000108 L -92.84556599999996,15.208887000000118 L -92.852509,15.209166000000096 L -92.85806299999996,15.207777000000078 L -92.86667599999993,15.2066650000001 L -92.86667599999993,15.2033330000001 L -92.88945000000001,15.212221000000113 L -92.979736,15.262499000000048 L -93.08250399999991,15.348610000000122 L -93.09306300000003,15.35888900000009 L -93.10917699999999,15.377499 L -93.15000900000001,15.427500000000123 L -93.19416799999993,15.481387999999981 L -93.20529199999993,15.490833000000066 L -93.21389799999992,15.496387000000084 L -93.28306600000002,15.540277000000117 L -93.41223100000002,15.641666000000043 L -93.46890300000001,15.690554000000134 L -93.48001099999999,15.700277000000085 L -93.56834399999997,15.773054000000059 L -93.64917000000003,15.83055500000006 L -93.69862399999994,15.865275999999994 L -93.78889500000002,15.922777000000053 L -93.87611400000003,16.000000000000114 L -93.93194599999998,16.094165999999973 L -93.94528200000002,16.09360900000007 L -94.02389499999992,16.109165000000075 L -94.07362399999994,16.136944000000085 L -94.08222999999998,16.142219999999952 L -94.08534199999997,16.145583999999985 L -94.11195399999997,16.17527799999999 L -94.21006799999992,16.205332000000112 L -94.21389799999992,16.20483000000013 L -94.21789599999994,16.205332000000112 L -94.25839199999996,16.215332000000103 L -94.267899,16.218664000000103 L -94.27356700000001,16.221663999999976 L -94.34167499999995,16.258053000000075 L -94.35223400000001,16.26833000000005 L -94.36167899999998,16.27999900000009 L -94.36361699999992,16.28472099999999 L -94.36418199999997,16.290832999999964 L -94.36805700000002,16.294441000000063 L -94.39418,16.296665000000075 L -94.40640299999995,16.294441000000063 L -94.415009,16.28916499999997 L -94.42445399999997,16.278889000000106 L -94.43861400000003,16.24055500000003 L -94.43444799999997,16.217219999999998 L -94.43167099999994,16.213054999999997 L -94.41612199999997,16.20055400000001 L -94.37806699999993,16.176387999999974 L -94.33694500000001,16.15444200000013 L -94.331955,16.15222200000011 L -94.31611599999997,16.146663999999987 L -94.27723700000001,16.135555000000068 L -94.27111799999994,16.134163 L -94.26556399999998,16.135555000000068 L -94.265015,16.140553000000068 L -94.27111799999994,16.148052000000064 L -94.28140300000001,16.15222200000011 L -94.32472199999995,16.165276000000006 L -94.32972699999993,16.167220999999984 L -94.33834799999994,16.172775 L -94.34167499999995,16.176387999999974 L -94.33167999999995,16.180552999999975 L -94.298294,16.172997000000066 L -94.24228700000003,16.163332000000082 L -94.23578600000002,16.161331000000075 L -94.22728000000001,16.157166000000075 L -94.181396,16.139441999999974 L -94.17361499999993,16.133053000000018 L -94.17056300000002,16.12916600000011 L -94.171402,16.124165000000005 L -94.17639200000002,16.122218999999916 L -94.18278499999991,16.121666000000005 L -94.181671,16.11888900000008 L -94.17083699999995,16.114719000000036 L -94.16500899999994,16.11333100000013 L -94.129456,16.106110000000058 L -94.09234600000002,16.099815000000035 L -94.08750900000001,16.098610000000008 L -94.07250999999997,16.09222000000011 L -94.06806899999998,16.089443000000017 L -94.06111099999998,16.082496999999933 L -94.05555699999996,16.07444399999997 L -94.04750100000001,16.054443000000106 L -94.05778499999991,16.04083300000002 L -94.06504799999993,16.041495999999995 L -94.08361799999994,16.043610000000115 L -94.09472700000003,16.04638700000004 L -94.23500100000001,16.103886000000045 L -94.37472500000001,16.162777000000006 L -94.39556899999997,16.170277000000056 L -94.44111599999997,16.181389000000024 L -94.477509,16.18833200000006 L -94.60389699999996,16.194721000000015 L -94.68194599999993,16.190552000000025 L -94.70056199999993,16.19082999999995 L -94.71417200000002,16.192219000000136 L -94.72473099999996,16.196663000000115 L -94.72862199999992,16.200275000000033 L -94.73083500000001,16.204720000000123 L -94.729446,16.211388000000056 L -94.72666900000002,16.21583200000009 L -94.72250400000001,16.218608999999958 L -94.71305799999993,16.222500000000025 L -94.69723499999992,16.22638699999993 L -94.68667600000003,16.228611000000114 L -94.65528899999993,16.236110999999994 L -94.631958,16.24610899999999 L -94.61584499999992,16.258053000000075 L -94.58778399999994,16.28666300000009 L -94.58445699999999,16.290553999999986 L -94.57861300000002,16.30749900000012 L -94.577515,16.312775000000045 L -94.57806399999993,16.318332999999996 L -94.58111599999995,16.322220000000073 L -94.59584000000001,16.33583100000004 L -94.60972600000002,16.344165999999916 L -94.655014,16.36055399999998 L -94.66139199999998,16.36222100000009 L -94.667236,16.361942000000113 L -94.67361499999993,16.353886000000045 L -94.68000799999999,16.337497999999982 L -94.72084000000001,16.306109999999933 L -94.78388999999999,16.258053000000075 L -94.78973399999995,16.257774000000097 L -94.79444899999999,16.260555000000124 L -94.79806499999995,16.26388499999996 L -94.80750999999992,16.28110900000007 L -94.80862400000001,16.286388000000102 L -94.80694599999998,16.29222100000004 L -94.80389399999996,16.296665000000075 L -94.791672,16.30499600000013 L -94.777512,16.311107999999933 L -94.77111799999994,16.32722100000001 L -94.773056,16.331944000000135 L -94.80334499999992,16.391940999999917 L -94.80694599999998,16.395275000000083 L -94.83389299999999,16.418331000000137 L -94.83862299999993,16.42110800000006 L -94.85640000000001,16.42666600000001 L -94.86195399999991,16.427498000000128 L -94.90583800000002,16.411662999999976 L -94.91528299999999,16.40777600000007 L -95.03083799999996,16.322220000000073 L -95.063065,16.285830999999973 L -95.06556699999993,16.280830000000094 L -95.06723,16.274719000000005 L -95.06556699999993,16.271111000000133 L -95.06249999999994,16.267220000000066 L -95.05750999999998,16.264998999999932 L -95.03945899999991,16.25944099999998 L -94.90528899999998,16.231110000000115 L -94.85778800000003,16.21583200000009 L -94.92417899999992,16.21416499999998 L -94.93000799999993,16.21360800000008 L -95.10000600000001,16.183330999999953 L -95.20638999999994,16.155830000000037 L -95.22029099999992,16.149718999999948 L -95.25111400000003,16.133053000000018 L -95.35917699999999,16.05610999999999 L -95.362503,16.05249800000007 L -95.36834699999997,16.043610000000115 L -95.37194799999992,16.03166600000003 L -95.36639400000001,16.01305400000001 L -95.37750199999999,16.003052000000025 L -95.38500999999991,15.996666000000118 L -95.39306599999998,15.990832999999952 L -95.401947,15.98611100000005 L -95.42028800000003,15.9780540000001 L -95.48278799999997,15.96194300000002 L -95.51667799999996,15.957777000000135 L -95.52723700000001,15.95527600000014 L -95.58944699999995,15.938609999999983 L -95.61000100000001,15.932776999999987 L -95.71640000000002,15.901667000000089 L -95.74667399999998,15.892500000000098 L -95.94445799999994,15.818609000000038 L -95.95806899999997,15.811666000000002 L -96.06279,15.753610999999978 L -96.17361499999998,15.695276000000035 L -96.18194599999998,15.691665999999941 L -96.214447,15.685555000000079 L -96.26390099999998,15.677221000000088 L -96.28639199999992,15.674443999999994 L -96.36584499999992,15.675833000000011 L -96.37972999999994,15.678054999999972 L -96.42388899999997,15.688889000000017 L -96.43611099999993,15.68861000000004 L -96.440292,15.685832999999946 L -96.44750999999997,15.679165000000012 L -96.47611999999998,15.643609999999967 L -96.55778499999997,15.656387000000052 L -96.82778899999994,15.723888000000045 L -96.83944699999995,15.727499000000023 L -96.84500100000002,15.72972100000004 L -97.07028200000002,15.853054000000043 L -97.10305799999998,15.87777699999998 L -97.13000499999998,15.894722000000115 L -97.14056399999993,15.898888 L -97.19667099999992,15.913332000000139 L -97.23139999999995,15.918333000000018 L -97.52056899999997,15.945275999999978 L -97.63945000000001,15.959998999999925 L -97.650284,15.958055000000058 L -97.65972899999997,15.953888000000063 L -97.66833500000001,15.948888999999951 L -97.67417899999998,15.94833200000005 L -97.68833899999998,15.950277000000085 L -97.75473,15.96027800000013 L -97.78500399999996,15.96861100000001 L -97.80056799999994,15.9755550000001 L -97.81278999999995,15.984999000000073 L -97.839447,16.00805300000013 L -97.86056500000001,16.027495999999985 L -97.93000799999999,16.082496999999933 L -98.090012,16.186108000000047 L -98.12556499999994,16.208885000000123 L -98.21528599999999,16.22277500000007 L -98.39889499999992,16.26138700000007 L -98.41778599999998,16.266109000000142 L -98.446396,16.27555500000011 L -98.53666699999991,16.30694200000005 L -98.55139199999996,16.3144420000001 L -98.554688,16.319344 L -98.55944799999992,16.33277499999997 L -98.56584199999998,16.34610700000013 L -98.57194500000003,16.353886000000045 L -98.585556,16.368052999999975 L -98.59361299999995,16.37472200000002 L -98.61639399999996,16.38805400000001 L -98.65362500000003,16.41583300000002 L -98.66111799999993,16.422222000000033 L -98.70112599999999,16.472499999999968 L -98.70722999999992,16.48027400000001 L -98.72084000000001,16.506664 L -98.72611999999998,16.514999000000103 L -98.73500100000001,16.526665000000037 L -98.75111400000003,16.53916500000014 L -98.75584399999997,16.541943000000117 L -98.78222700000003,16.553055000000086 L -99.03695700000003,16.596942999999953 L -99.23306300000002,16.62888700000002 L -99.44056699999999,16.672221999999977 L -99.53723100000002,16.681663999999955 L -99.55806000000001,16.684443999999928 L -99.67973299999994,16.705555000000004 L -99.69222999999994,16.708332000000098 L -99.733612,16.72666500000014 L -99.74362199999996,16.731388000000095 L -99.84112499999998,16.781666000000087 L -99.84973100000002,16.78749799999997 L -99.85278299999993,16.79138599999999 L -99.854172,16.79638700000004 L -99.85139500000002,16.800831000000017 L -99.84112499999998,16.818054000000075 L -99.85473599999995,16.85083000000003 L -99.86000099999995,16.859165000000075 L -99.86778299999997,16.865554999999972 L -99.87806699999993,16.870277000000044 L -99.97944599999994,16.900832999999977 L -100.22805799999998,16.980000000000132 L -100.284447,17.005554000000075 L -100.32195299999995,17.02055400000006 L -100.44972200000001,17.067219000000023 L -100.51167299999997,17.088332999999977 L -100.67861900000003,17.144444000000135 L -100.788071,17.179442999999935 L -100.80612200000002,17.184444000000042 L -100.88863399999997,17.208611000000133 L -100.91000399999996,17.217498999999975 L -101.01112399999994,17.26527399999992 L -101.04750100000001,17.290833000000134 L -101.05139200000002,17.30027799999999 L -101.06001300000003,17.312222000000077 L -101.06611599999997,17.319721000000072 L -101.069458,17.32360799999998 L -101.08640300000002,17.341662999999926 L -101.104446,17.358887000000095 L -101.13583399999999,17.379165999999998 L -101.26640299999997,17.459721000000116 L -101.34139999999996,17.489719000000036 L -101.44500700000003,17.540833000000077 L -101.57778899999994,17.628330000000062 L -101.63305700000001,17.666942999999947 L -101.64000699999991,17.674164000000076 L -101.64000699999991,17.680274999999938 L -101.64222699999993,17.690830000000005 L -101.64943699999998,17.704165999999987 L -101.65722699999998,17.716662999999983 L -101.672234,17.73611100000005 L -101.787781,17.87611000000004 L -101.796402,17.883331000000112 L -101.81223299999994,17.896111000000076 L -101.82501200000002,17.904999000000032 L -101.89835399999998,17.948330000000055 L -101.92140199999994,17.961941000000024 L -101.95001199999996,17.97749699999997 L -101.95556599999998,17.97944300000006 L -101.99362199999996,17.987778000000105 L -102.00778199999996,17.989441000000056 L -102.02916700000003,17.991943000000106 L -102.047234,17.988887999999918 L -102.06279,17.98444400000011 L -102.07195300000001,17.980000000000132 L -102.09194899999994,17.964995999999985 L -102.09945699999997,17.958331999999984 L -102.11945299999996,17.935555000000136 L -102.13555899999994,17.92361100000005 L -102.14444700000001,17.919167000000073 L -102.15000899999995,17.917500000000018 L -102.17028800000003,17.918331000000023 L -102.18099999999993,17.920830000000024 L -102.22167999999994,17.94138700000002 L -102.237503,17.947776999999917 L -102.29055800000003,17.96333300000009 L -102.45584099999996,18.01138700000007 L -102.56500199999994,18.042500000000075 L -102.58389299999999,18.046665000000075 L -102.60501099999999,18.04833199999996 L -102.61084,18.047496999999964 L -102.63751199999996,18.04833199999996 L -102.681396,18.05083099999996 L -102.72029099999997,18.059166000000005 L -102.74500999999992,18.065830000000005 L -102.75583599999993,18.069721000000072 L -102.81639099999995,18.09194200000013 L -102.83222999999998,18.09861000000012 L -102.90389999999996,18.13083299999994 L -102.93250999999992,18.14611100000002 L -102.93640099999999,18.149441000000024 L -102.95472699999999,18.16027500000007 L -103.029449,18.189999000000057 L -103.047234,18.195274000000097 L -103.06140099999999,18.19694099999998 L -103.08889799999992,18.19833 L -103.10334799999993,18.199718000000075 L -103.10973399999995,18.201111000000026 L -103.35751299999998,18.27277799999996 L -103.45001199999996,18.313609999999983 L -103.47389199999992,18.326385000000073 L -103.48278799999997,18.332222 L -103.49305700000002,18.34277700000007 L -103.50029,18.356109999999944 L -103.50917099999992,18.38027599999998 L -103.51944700000001,18.403332000000034 L -103.53888699999999,18.438332000000116 L -103.56083699999999,18.477776000000063 L -103.57584400000002,18.497219000000086 L -103.70556599999998,18.650555000000054 L -103.72501399999999,18.67333200000013 L -103.74548299999998,18.6880680000001 L -103.75083899999998,18.690830000000005 L -103.75945299999995,18.696663 L -103.77639799999992,18.70861100000002 L -103.83973700000001,18.766388000000006 L -103.94361899999996,18.85527399999995 L -103.97194699999994,18.877220000000023 L -104.00446299999993,18.896384999999952 L -104.025284,18.905277000000126 L -104.047234,18.913609000000065 L -104.13694800000002,18.944164000000114 L -104.20529199999993,18.96666300000004 L -104.30555699999996,19.00305199999997 L -104.31500199999994,19.008053000000075 L -104.32333399999993,19.01444200000003 L -104.32640100000003,19.018055000000004 L -104.33139,19.026943000000017 L -104.33056599999998,19.039997000000085 L -104.32861300000002,19.045276999999942 L -104.31723,19.062774999999988 L -104.31390399999998,19.07416500000005 L -104.314728,19.08027600000014 L -104.31973299999999,19.089165000000037 L -104.32778899999994,19.095276000000126 L -104.36778299999997,19.10805499999998 L -104.37445099999997,19.109443999999996 L -104.51306199999999,19.127220000000136 L -104.59242199999994,19.147941999999944 L -104.65695199999999,19.166111000000114 L -104.66278099999994,19.168053000000043 L -104.67250100000001,19.173054000000093 L -104.68055699999996,19.179443000000106 L -104.68361700000003,19.18305200000009 L -104.80584699999997,19.25166300000012 L -104.89666699999992,19.28388600000011 L -104.90139799999997,19.286387999999988 L -104.951683,19.315277000000037 L -104.983612,19.339443000000074 L -105.02250699999996,19.371943999999985 L -105.07861300000002,19.495276999999987 L -105.09583999999995,19.551387999999918 L -105.10250899999994,19.564999000000057 L -105.11556999999993,19.579997999999932 L -105.11974299999991,19.58305400000006 L -105.16972399999992,19.606941000000063 L -105.20390299999991,19.61805300000003 L -105.214447,19.62249800000012 L -105.26667799999996,19.676108999999997 L -105.26999699999999,19.67972199999997 L -105.29972800000002,19.719718999999998 L -105.302231,19.723887999999988 L -105.304733,19.72833300000002 L -105.31556699999993,19.751389000000074 L -105.32140400000003,19.765552999999954 L -105.32640100000003,19.774441000000138 L -105.33222999999992,19.782497000000035 L -105.38694800000002,19.849998000000028 L -105.410843,19.876109999999983 L -105.41832699999992,19.88305300000013 L -105.43055700000002,19.892220000000123 L -105.43779,19.89916599999998 L -105.44111599999997,19.90277500000002 L -105.45694699999996,19.922222000000033 L -105.49778700000002,19.991108000000054 L -105.51528899999994,20.021663999999987 L -105.52778599999994,20.043887999999924 L -105.54223599999995,20.076941999999974 L -105.54723399999995,20.091942000000074 L -105.54807299999999,20.097500000000082 L -105.595573,20.24333200000001 L -105.66223099999996,20.349720000000048 L -105.67472799999996,20.37166600000006 L -105.67668199999997,20.376389000000017 L -105.68000799999993,20.386387000000013 L -105.68195300000002,20.397778000000017 L -105.67833699999994,20.418052999999986 L -105.67696399999994,20.42416400000002 L -105.67307299999999,20.427219000000036 L -105.62667799999997,20.45833200000004 L -105.61334199999999,20.466110000000015 L -105.59945699999997,20.473331000000087 L -105.59028599999994,20.4780540000001 L -105.56028700000002,20.489997999999957 L -105.54251099999999,20.492496000000074 L -105.49667399999998,20.49416400000007 L -105.45361299999996,20.491107999999997 L -105.44750999999991,20.491942999999935 L -105.35195899999997,20.51305400000001 L -105.33612099999999,20.51805500000006 L -105.326683,20.522778000000073 L -105.25029,20.56555199999997 L -105.244171,20.574164999999937 L -105.24223299999994,20.57944100000003 L -105.23417699999999,20.61583300000001 L -105.23361199999994,20.628887000000077 L -105.23445099999998,20.634441000000095 L -105.23806799999994,20.644444000000135 L -105.26222199999995,20.694721000000015 L -105.26555599999995,20.698607999999922 L -105.26689099999993,20.699043000000017 L -105.31223299999999,20.75722100000013 L -105.318893,20.76472100000001 L -105.32277699999992,20.767776000000026 L -105.33334400000001,20.772221000000116 L -105.340012,20.7733310000001 L -105.34667999999994,20.7733310000001 L -105.364464,20.770554000000004 L -105.37000999999992,20.769165000000044 L -105.39250199999992,20.756664000000058 L -105.40390000000002,20.75416599999994 L -105.41723599999995,20.753886999999963 L -105.53472899999991,20.77999900000009 L -105.54055800000003,20.781665999999973 L -105.54444899999999,20.784999999999968 L -105.54194599999994,20.789443999999946 L -105.53195199999999,20.801109000000054 L -105.31861899999996,21.017498000000046 L -105.30724299999991,21.027775000000076 L -105.29501299999998,21.03694200000001 L -105.28972599999997,21.038609000000122 L -105.26834100000002,21.037498000000028 L -105.26251200000002,21.038329999999917 L -105.25778199999996,21.0405540000001 L -105.24667399999998,21.055552999999975 L -105.24138600000003,21.064720000000136 L -105.23251299999998,21.085278000000073 L -105.22585300000003,21.108054999999922 L -105.22445699999997,21.11416600000001 L -105.21305799999999,21.227776000000006 L -105.21389799999992,21.239441000000113 L -105.22805800000003,21.31166500000012 L -105.18945300000001,21.43749600000001 L -105.24250799999999,21.513885000000016 L -105.24918400000001,21.513611000000083 L -105.27390300000002,21.51999699999999 L -105.27971599999995,21.521664000000044 L -105.43306000000001,21.60416400000014 L -105.43640099999993,21.607777000000112 L -105.43805700000001,21.61277799999999 L -105.442497,21.634441000000038 L -105.44056699999993,21.654998999999975 L -105.44222999999994,21.660000000000082 L -105.45777899999996,21.698608000000092 L -105.50862099999995,21.791943000000117 L -105.54917899999992,21.860275 L -105.557793,21.87277599999993 L -105.563606,21.88083300000011 L -105.57695000000001,21.895831999999984 L -105.59612300000003,21.91249800000014 L -105.60945100000004,21.92749800000007 L -105.62222300000002,21.943054000000018 L -105.63474299999996,21.958611000000076 L -105.64639299999993,21.97471999999999 L -105.65416700000003,21.98777799999999 L -105.65583800000002,21.99277500000011 L -105.65640299999995,22.011386999999957 L -105.65556299999997,22.056110000000047 L -105.64556899999997,22.13472000000013 L -105.63890099999998,22.186665000000005 L -105.63639799999993,22.21388600000006 L -105.63667299999997,22.232498000000078 L -105.63806199999993,22.25694299999992 L -105.640289,22.286662999999976 L -105.64418,22.31527699999998 L -105.64972699999993,22.342777000000012 L -105.65667699999995,22.362499000000014 L -105.66361999999998,22.376389000000017 L -105.69084199999998,22.430831999999953 L -105.71457699999996,22.468361000000073 L -105.73055999999991,22.513054000000125 L -105.74474299999997,22.54388799999998 L -105.79917899999998,22.635830000000055 L -105.81696299999999,22.66027500000007 L -105.82389799999993,22.667774000000065 L -105.91972399999992,22.758331000000112 L -105.97416699999991,22.798611000000108 L -106.00083899999998,22.816108999999983 L -106.08000199999992,22.888053999999954 L -106.11029099999996,22.921665000000075 L -106.13945000000001,22.956387000000063 L -106.22666900000002,23.05360799999994 L -106.37000999999998,23.17833300000001 L -106.47862199999992,23.326111000000026 L -106.49334699999997,23.35416400000014 L -106.51139799999993,23.384441000000095 L -106.52250700000002,23.401108000000136 L -106.53279099999997,23.41249799999997 L -106.66166699999991,23.52305200000012 L -106.78500399999996,23.629165999999998 L -106.80223099999995,23.64749900000004 L -106.80473299999994,23.651943000000074 L -106.84113299999996,23.725829999999974 L -106.86583699999994,23.77638600000006 L -106.87029299999995,23.785831000000087 L -106.89499699999999,23.83666599999998 L -106.90363300000001,23.849162999999976 L -106.91223099999996,23.861384999999927 L -106.91916700000002,23.868888999999967 L -106.95834399999995,23.902221999999995 L -107.00110599999994,23.945273999999984 L -107.01917999999995,23.963055000000054 L -107.031113,23.97305300000005 L -107.04305999999997,23.982777000000056 L -107.07112099999995,23.999443000000042 L -107.38863400000002,24.224720000000048 L -107.42250100000001,24.252499000000057 L -107.52250700000002,24.328053000000068 L -107.54807299999993,24.34638599999994 L -107.56611599999991,24.35805499999998 L -107.58473200000003,24.369720000000086 L -107.594177,24.37499600000001 L -107.65000899999995,24.40166499999998 L -107.67219499999993,24.42206400000009 L -107.67835999999994,24.42573200000004 L -107.72186299999998,24.453232000000014 L -107.72685999999999,24.456898000000137 L -107.73369600000001,24.46306600000014 L -107.73535900000002,24.465733 L -107.735863,24.469065 L -107.73552699999999,24.47323 L -107.73403200000001,24.47589700000003 L -107.73202500000002,24.47739800000005 L -107.727531,24.477232000000015 L -107.72402199999999,24.47606500000012 L -107.721359,24.474232000000143 L -107.67575799999997,24.44673200000011 L -107.65306099999998,24.431932000000018 L -107.63095900000002,24.43199900000002 L -107.600952,24.422330999999986 L -107.59811399999995,24.423832000000004 L -107.59662600000001,24.42666600000001 L -107.58995099999999,24.44016499999998 L -107.58911899999998,24.443831999999986 L -107.58879100000001,24.44799800000004 L -107.58946200000003,24.451332000000036 L -107.59494799999999,24.466163999999935 L -107.613449,24.509163 L -107.61728700000003,24.517832 L -107.61895800000002,24.520330000000115 L -107.62245200000001,24.521498000000122 L -107.62645700000002,24.52216300000009 L -107.64412699999997,24.522996999999975 L -107.65178699999996,24.522331000000122 L -107.65512099999995,24.52133200000003 L -107.65994999999992,24.517498000000103 L -107.66162099999997,24.514664000000096 L -107.66245299999997,24.510997999999972 L -107.66129299999994,24.508165000000076 L -107.65728799999994,24.50733000000008 L -107.65395399999994,24.508331000000112 L -107.64828499999993,24.511332000000095 L -107.64345599999996,24.515165000000138 L -107.64012100000002,24.516165000000115 L -107.63645200000002,24.51583099999999 L -107.63495599999993,24.513165000000015 L -107.63429299999996,24.50983200000013 L -107.63594799999998,24.507165999999984 L -107.65095499999995,24.491664999999955 L -107.65528899999993,24.487497000000076 L -107.67495699999995,24.48133100000007 L -107.68145799999996,24.479332000000056 L -107.68544799999995,24.479164000000026 L -107.74894699999993,24.50733000000008 L -107.75012200000003,24.51016400000009 L -107.74995399999995,24.521832000000018 L -107.74445300000002,24.528331999999978 L -107.74890099999999,24.537498000000028 L -107.80832700000002,24.58721900000012 L -107.87278699999996,24.61360899999994 L -107.92777999999998,24.634720000000016 L -107.93472299999996,24.63583 L -107.93224299999991,24.627499000000114 L -107.929733,24.62305500000008 L -107.89417999999995,24.58610900000008 L -107.86222800000002,24.559998000000064 L -107.85195899999997,24.554996000000074 L -107.84612300000003,24.55333300000001 L -107.80528299999997,24.53388599999994 L -107.806671,24.527775000000076 L -107.81140099999999,24.525276000000076 L -107.81806899999998,24.525276000000076 L -107.82417299999992,24.52694299999996 L -107.91639699999996,24.58277500000014 L -107.94196299999993,24.601109000000065 L -107.98861699999998,24.641666000000043 L -107.99223299999994,24.645275000000083 L -107.99918399999996,24.652495999999985 L -108.00195300000001,24.656944000000124 L -108.00556899999998,24.666943000000003 L -108.00778200000002,24.678054999999972 L -108.01667799999996,24.734997000000135 L -107.99694799999997,24.751109999999983 L -107.98667899999992,24.949996999999996 L -107.987503,24.956944000000135 L -107.989464,24.961941000000024 L -107.99639899999994,24.969166000000087 L -108.01194800000002,24.982498000000078 L -108.03601099999997,24.993666000000076 L -108.03916899999996,24.99433099999999 L -108.04251099999999,24.993164000000093 L -108.04972800000002,24.986663999999962 L -108.04611199999994,24.957497000000046 L -108.04501299999998,24.951941999999974 L -108.04305999999997,24.946941000000095 L -108.02971599999995,24.92527799999999 L -108.02667199999996,24.91471899999999 L -108.038071,24.84332999999998 L -108.04055799999998,24.831107999999972 L -108.04305999999997,24.826385000000016 L -108.047234,24.82333 L -108.05277999999993,24.821663000000115 L -108.09390299999995,24.81888600000002 L -108.10138699999993,24.819443000000092 L -108.10640000000001,24.821663000000115 L -108.11501299999998,24.827773999999977 L -108.12640399999998,24.838333000000034 L -108.12918099999996,24.84249899999992 L -108.18139599999995,24.936386000000027 L -108.22862199999992,25.027495999999985 L -108.21389799999997,25.031387000000052 L -108.18528700000002,24.989441000000056 L -108.179169,24.980830999999966 L -108.17417899999992,24.978333000000077 L -108.13278200000002,24.972221000000104 L -108.12750199999994,24.972500000000082 L -108.09631299999995,25.012982999999963 L -108.00306699999999,25.000553000000025 L -107.99973299999999,25.004444000000092 L -107.99973299999999,25.01083 L -108.00083899999993,25.016388000000006 L -108.00639299999995,25.03110900000013 L -108.00917099999992,25.035552999999936 L -108.02139299999999,25.051388000000088 L -108.04251099999999,25.073608000000036 L -108.05806000000001,25.08694100000008 L -108.0625,25.0899960000001 L -108.09584000000001,25.108886999999925 L -108.12583899999993,25.123886000000027 L -108.24305700000002,25.159164000000033 L -108.352509,25.167220999999984 L -108.39417999999995,25.14110900000003 L -108.39140299999997,25.194443000000092 L -108.39362299999999,25.205830000000105 L -108.40278599999999,25.22499800000014 L -108.41084299999994,25.23860900000011 L -108.42056300000002,25.250275000000045 L -108.43695100000002,25.263054000000125 L -108.45584100000002,25.273888 L -108.55832699999996,25.314720000000023 L -108.61666899999994,25.339996000000042 L -108.72862199999992,25.3966640000001 L -108.76222200000001,25.434443999999985 L -108.76611299999996,25.485554000000036 L -108.76334400000002,25.490275999999938 L -108.762787,25.497218999999916 L -108.76139799999993,25.534164000000033 L -108.76418299999995,25.538609000000122 L -108.76779199999999,25.542220999999984 L -108.83778399999994,25.561664999999948 L -108.88667299999992,25.56333200000006 L -108.89890300000002,25.56138599999997 L -108.90139799999997,25.55666400000007 L -108.90278599999999,25.550552000000096 L -108.90000899999995,25.546387000000095 L -108.88945000000001,25.535275000000127 L -108.87806699999999,25.524997999999982 L -108.87610599999994,25.519997000000046 L -108.877792,25.507221000000072 L -108.88111900000001,25.495552000000032 L -108.886124,25.480000000000075 L -108.92001299999998,25.456107999999972 L -109.01640299999991,25.458611000000076 L -109.02944899999994,25.45999900000004 L -109.03972599999992,25.4649960000001 L -109.06833599999999,25.487220999999977 L -109.108902,25.526108000000136 L -109.08673099999999,25.536331000000075 L -109.08273299999996,25.54099800000006 L -109.06422399999991,25.56183100000004 L -109.06140099999993,25.563330000000065 L -109.05439799999994,25.564999000000114 L -109.05039999999991,25.56516300000004 L -109.018234,25.56016500000004 L -108.992233,25.56638700000002 L -108.99111900000003,25.56083300000006 L -108.99083699999994,25.55472200000014 L -108.97029099999997,25.564442000000042 L -108.90695199999993,25.633331 L -108.89695699999993,25.645275000000026 L -108.87834199999992,25.670276999999942 L -108.82890299999991,25.77583300000009 L -108.82694999999995,25.781108999999958 L -108.82528699999995,25.794167000000016 L -108.828056,25.798332000000016 L -108.83306900000002,25.800831000000017 L -108.83917199999996,25.802498000000128 L -108.84529099999997,25.80166600000001 L -108.85278299999993,25.79444099999995 L -108.87640399999998,25.743610000000047 L -108.89140299999997,25.707497000000046 L -108.89417999999995,25.70277400000009 L -108.90084799999994,25.695000000000107 L -108.90500599999996,25.691943999999978 L -109.025894,25.616665000000012 L -109.04239699999994,25.608664999999974 L -109.049057,25.60666500000002 L -109.07139599999994,25.601332000000014 L -109.08255799999995,25.599499000000037 L -109.13694799999996,25.57805300000001 L -109.140556,25.581944000000078 L -109.14334100000002,25.58610900000008 L -109.15112299999998,25.605831000000137 L -109.156677,25.62055200000009 L -109.16612199999997,25.639721000000065 L -109.17223399999995,25.647778000000017 L -109.30750999999998,25.738331000000073 L -109.36611900000003,25.76305400000001 L -109.37361099999998,25.763611000000083 L -109.37918099999996,25.761944000000028 L -109.38390400000003,25.759441000000038 L -109.38806199999999,25.756107000000043 L -109.4375,25.820274000000097 L -109.44333599999999,25.939720000000136 L -109.44222999999994,25.953331000000105 L -109.43472300000002,25.996943999999985 L -109.43028299999997,26.014442000000088 L -109.42445399999997,26.030552000000057 L -109.41916699999996,26.039997000000085 L -109.40278599999994,26.06444199999993 L -109.30555699999996,26.201663999999994 L -109.29139700000002,26.174721000000034 L -109.29112199999992,26.168331000000137 L -109.29000899999994,26.16277699999995 L -109.288071,26.158053999999993 L -109.285278,26.153610000000015 L -109.27971599999995,26.15527700000007 L -109.27584799999994,26.158607000000075 L -109.27056899999997,26.167774000000065 L -109.22973599999995,26.263054000000125 L -109.23166699999996,26.31944299999998 L -109.21473700000001,26.339165000000037 L -109.20529199999993,26.344166000000087 L -109.20001199999996,26.343052000000114 L -109.16889999999995,26.328888000000006 L -109.16528299999999,26.325275000000033 L -109.16251399999993,26.320831000000055 L -109.16017199999999,26.30472199999997 L -109.17529300000001,26.26472100000001 L -109.17250100000001,26.26027700000003 L -109.123062,26.224442000000124 L -109.10111999999992,26.209164000000044 L -109.095573,26.21110900000002 L -109.093613,26.216389000000106 L -109.09390300000001,26.222500000000025 L -109.10389700000002,26.28360699999996 L -109.14372300000002,26.33831400000014 L -109.14778099999995,26.352219000000105 L -109.15363300000001,26.366942999999935 L -109.15834000000001,26.376389000000074 L -109.26471700000002,26.513331999999934 L -109.44000199999999,26.712497999999925 L -109.448624,26.718609000000015 L -109.51334400000002,26.762218000000132 L -109.51750199999998,26.76499899999999 L -109.52443700000003,26.76499899999999 L -109.554169,26.750832000000003 L -109.64527899999996,26.698886999999957 L -109.64943700000003,26.695831000000055 L -109.677231,26.672497000000135 L -109.68501299999997,26.673054000000036 L -109.69862399999994,26.67527799999999 L -109.71750600000001,26.679722000000027 L -109.75389099999995,26.69611000000009 L -109.77250699999996,26.707497000000046 L -109.81668100000002,26.745831000000123 L -109.82750699999997,26.757221000000015 L -109.866669,26.82332999999994 L -109.87555699999996,26.84860999999995 L -109.88027999999997,26.87083100000001 L -109.88751199999996,26.910552999999993 L -109.89835399999998,26.974162999999976 L -109.91584799999998,27.044441000000063 L -109.91889999999995,27.05499600000013 L -109.92445399999997,27.063609999999983 L -109.94724300000001,27.091662999999983 L -109.95084400000002,27.095276000000126 L -109.96250899999995,27.105274000000122 L -109.97222899999997,27.110832000000073 L -109.97834799999998,27.112498999999957 L -109.99195899999995,27.114441000000056 L -110.014183,27.11638600000009 L -110.01889,27.11666500000007 L -110.02778599999999,27.11111100000005 L -110.03444699999994,27.1030540000001 L -110.03861999999998,27.099998000000028 L -110.04945399999997,27.09638600000011 L -110.05584699999991,27.095276000000126 L -110.06333899999993,27.095833000000027 L -110.22501399999993,27.136944000000028 L -110.301964,27.162220000000048 L -110.33500700000002,27.184443999999985 L -110.44640399999997,27.311664999999948 L -110.52971600000001,27.37110899999999 L -110.62222300000002,27.601944000000003 L -110.63334699999996,27.63222100000013 L -110.63474300000001,27.63777500000009 L -110.63583399999999,27.65610900000007 L -110.63334699999996,27.66861 L -110.60529299999996,27.757499999999993 L -110.55779299999995,27.832497000000103 L -110.552231,27.833054000000004 L -110.52166699999998,27.83888600000006 L -110.51611299999996,27.840831999999978 L -110.51000999999997,27.849442000000067 L -110.50805700000001,27.85472100000004 L -110.50778199999996,27.86166400000002 L -110.50974299999996,27.86638600000009 L -110.59667999999999,27.88749699999994 L -110.78945899999997,27.91694300000006 L -110.87167399999998,27.842777000000126 L -110.96085399999998,27.90749700000009 L -111.05584699999997,27.949164999999994 L -111.076683,27.940552000000025 L -111.08778399999994,27.936943000000042 L -111.10111999999998,27.93555500000008 L -111.10555999999991,27.938332000000003 L -111.21613300000001,28.03555300000005 L -111.24973299999999,28.06805399999996 L -111.26640299999991,28.08721900000012 L -111.26944700000001,28.091388999999992 L -111.30639599999995,28.147220999999945 L -111.32556199999993,28.177775999999994 L -111.341949,28.203609000000085 L -111.463348,28.374996000000067 L -111.53472899999997,28.40361000000007 L -111.57890299999991,28.420555000000036 L -111.64055599999995,28.443332999999996 L -111.66972399999997,28.45277400000009 L -111.69111599999997,28.461941000000024 L -111.69555700000001,28.46472200000011 L -111.70056199999993,28.473887999999988 L -111.71085399999993,28.49833300000006 L -111.71417200000002,28.508888000000127 L -111.72222899999997,28.528888999999936 L -111.729446,28.543053000000043 L -111.738068,28.55555300000009 L -111.76334400000002,28.588332999999977 L -111.76999699999993,28.596107000000018 L -111.795837,28.621109000000104 L -111.82224300000001,28.639441999999974 L -111.84750399999996,28.658333000000027 L -111.92777999999998,28.731388000000038 L -111.93528700000002,28.73860900000011 L -111.93805699999996,28.74305300000009 L -111.94724300000001,28.761664999999937 L -111.92611699999998,28.777221999999995 L -111.917236,28.783054000000106 L -111.91166699999991,28.784999999999968 L -111.91584799999993,28.803608000000054 L -112.03723100000002,28.883888000000127 L -112.11501299999992,28.966389000000106 L -112.15917999999999,28.970276000000013 L -112.16472599999992,28.972499999999968 L -112.17639200000002,29.058609000000047 L -112.18972799999995,29.174720999999977 L -112.19695300000001,29.260276999999974 L -112.20140099999998,29.283053999999993 L -112.21056399999998,29.301941000000056 L -112.21640000000002,29.3102760000001 L -112.22750899999994,29.321109999999976 L -112.23583999999994,29.32749899999999 L -112.246399,29.332222000000115 L -112.25195299999996,29.334442000000138 L -112.25890400000003,29.335278000000017 L -112.28861999999998,29.335278000000017 L -112.326683,29.328609000000142 L -112.33222999999998,29.326663999999994 L -112.396118,29.409720999999934 L -112.39083900000003,29.41916700000013 L -112.38639799999993,29.42916500000007 L -112.37918100000002,29.450831999999934 L -112.37583899999998,29.469166000000087 L -112.375,29.482777000000056 L -112.37529,29.495831000000123 L -112.37722799999995,29.500553000000025 L -112.425568,29.55444300000005 L -112.44056699999999,29.569443000000035 L -112.46778899999998,29.587497999999982 L -112.47528099999994,29.594719000000055 L -112.49389599999995,29.613051999999925 L -112.56806899999992,29.701385000000016 L -112.577789,29.713333000000034 L -112.58056599999998,29.717498999999975 L -112.70584099999996,29.921665000000075 L -112.73557299999993,29.971107000000018 L -112.75167799999997,30.04610800000006 L -112.74945099999997,30.13527700000003 L -112.74890099999993,30.161942000000067 L -112.752792,30.198330000000112 L -112.75611899999996,30.20861100000002 L -112.765556,30.227497000000028 L -112.85806300000002,30.402496000000042 L -112.92806999999993,30.491665000000012 L -112.99945100000002,30.573887000000013 L -113.00611900000001,30.581664999999987 L -113.04251099999999,30.631386000000077 L -113.05750999999998,30.65222200000005 L -113.06556699999993,30.665554000000043 L -113.07277699999997,30.679443000000106 L -113.08138999999994,30.69888700000007 L -113.11527999999993,30.802776000000108 L -113.117233,30.814442000000042 L -113.11611900000003,30.82055300000013 L -113.10945100000004,30.84277700000007 L -113.09583999999995,30.87971900000008 L -113.04945399999997,31.053886000000034 L -113.03888699999999,31.09360900000013 L -113.03778099999994,31.099720000000048 L -113.03723100000002,31.113331000000017 L -113.03695699999997,31.15194299999996 L -113.03778099999994,31.16416500000014 L -113.03916899999996,31.16972000000004 L -113.04223599999995,31.17388500000004 L -113.08667000000003,31.227219000000105 L -113.09667999999994,31.232219999999984 L -113.10917699999999,31.23555399999998 L -113.12445100000002,31.235275 L -113.13722200000001,31.23305499999998 L -113.32778899999994,31.26055500000001 L -113.46917699999995,31.282776000000013 L -113.48251299999993,31.285275000000013 L -113.51083399999993,31.29583000000008 L -113.58973700000001,31.331664999999987 L -113.61361699999992,31.34860999999995 L -113.62222300000002,31.39027400000009 L -113.62861599999997,31.424442000000056 L -113.62889100000001,31.437496000000124 L -113.62610599999994,31.44888700000007 L -113.62473299999994,31.461940999999968 L -113.62583899999998,31.474162999999976 L -113.63223299999993,31.48860900000011 L -113.63834400000002,31.496943999999985 L -113.64972699999993,31.507500000000107 L -113.66000400000001,31.512497000000053 L -113.675568,31.519997000000103 L -113.82195299999995,31.58082999999999 L -113.96000700000002,31.66027500000007 L -113.96556099999998,31.66249800000014 L -113.97112300000003,31.66333000000003 L -113.97862199999992,31.65610900000013 L -113.98055999999997,31.650833000000034 L -113.98194899999999,31.572497999999996 L -113.97722599999997,31.57111000000009 L -113.97000100000002,31.571663 L -113.95221700000002,31.57583199999999 L -113.94777699999997,31.573055000000068 L -113.94555699999995,31.568054000000018 L -113.94805899999994,31.563332000000116 L -113.975571,31.53221900000011 L -113.99056999999999,31.517776000000026 L -114.01583899999997,31.500275000000045 L -114.025848,31.494999000000007 L -114.04667699999993,31.492774999999995 L -114.05361900000003,31.492496000000017 L -114.13083599999999,31.495277000000044 L -114.16972399999997,31.504444000000035 L -114.20417800000001,31.51638800000012 L -114.21528599999994,31.520832000000098 L -114.22528099999994,31.525832999999977 L -114.254997,31.54166400000014 L -114.426964,31.641941000000088 L -114.43611099999998,31.647778000000073 L -114.48222399999997,31.67749800000007 L -114.50250199999999,31.694164000000058 L -114.51611299999996,31.709721000000116 L -114.51999699999999,31.71305500000011 L -114.57528699999995,31.754719000000023 L -114.58389299999999,31.760830000000112 L -114.589447,31.763054000000068 L -114.63056899999998,31.76832999999999 L -114.63722199999995,31.766940999999974 L -114.71167000000003,31.78305400000005 L -114.80861699999997,31.822220000000016 L -114.82501200000002,31.835552000000007 L -114.92888600000003,31.903889000000106 L -115.01724199999995,31.954429999999945 L -115.02056899999997,31.963608000000136 L -115.02443699999998,31.967220000000054 L -115.03167699999995,31.968051999999943 L -115.03417999999994,31.963332999999977 L -115.035278,31.95722200000006 L -115.03388999999993,31.951664000000108 L -115.02056899999997,31.916111000000058 L -115.01834100000002,31.911388000000102 L -115.01444999999995,31.907776000000013 L -115.0,31.90610900000007 L -114.98722800000002,31.908607000000018 L -114.98001099999999,31.907776000000013 L -114.96806300000003,31.90416300000004 L -114.94917299999992,31.892776000000026 L -114.94000199999999,31.887218000000075 L -114.93139599999995,31.880833000000052 L -114.92360699999995,31.873886000000084 L -114.916672,31.86610800000011 L -114.82000700000003,31.740276000000108 L -114.78666699999997,31.664165000000025 L -114.77944899999994,31.64360800000003 L -114.78222700000003,31.632221000000015 L -114.78556800000001,31.628052000000025 L -114.79611199999994,31.623608000000047 L -114.80832699999996,31.613887999999974 L -114.82917800000001,31.590553000000114 L -114.83667000000003,31.576385000000073 L -114.84390300000001,31.554722000000027 L -114.85111999999998,31.526386000000116 L -114.85529300000002,31.501941999999985 L -114.86418199999997,31.426108999999997 L -114.87861599999991,31.22944300000006 L -114.88111899999996,31.154720000000054 L -114.88027999999991,31.14860900000002 L -114.87473299999999,31.12666299999995 L -114.83277899999996,31.000274999999988 L -114.82972699999993,30.996109000000104 L -114.81833599999999,30.98583200000013 L -114.78945899999997,30.969444000000067 L -114.78307299999994,30.967777000000126 L -114.76251199999996,30.964721999999995 L -114.72666900000002,30.947497999999996 L -114.71362299999998,30.938332000000116 L -114.70749699999999,30.92999599999996 L -114.70529199999999,30.92499900000007 L -114.68917799999997,30.838886000000002 L -114.685562,30.802219000000036 L -114.69111599999991,30.734165000000075 L -114.69555700000001,30.676387999999918 L -114.69584700000001,30.66277699999995 L -114.693893,30.65110800000008 L -114.69111599999991,30.640274000000034 L -114.67945899999995,30.609997000000078 L -114.67529299999995,30.600277000000006 L -114.66916699999996,30.59194200000013 L -114.65833999999995,30.58082999999999 L -114.64639299999993,30.56416300000012 L -114.62722799999995,30.498886000000084 L -114.62445099999997,30.487778000000105 L -114.625,30.474162999999976 L -114.63278199999996,30.361941999999942 L -114.64222699999993,30.27360900000008 L -114.65972899999997,30.19860799999998 L -114.62861599999997,30.139163999999937 L -114.55639599999995,30.018608000000086 L -114.54528800000003,30.001109999999983 L -114.45889299999999,29.925831000000017 L -114.39639299999999,29.82860900000003 L -114.37999699999995,29.802219000000036 L -114.37695300000001,29.798054000000036 L -114.373062,29.79472000000004 L -114.315292,29.763611000000026 L -114.30445899999995,29.759163000000058 L -114.297234,29.75972000000013 L -114.284447,29.76888700000012 L -114.25527999999997,29.771663999999987 L -114.22084000000001,29.76638800000012 L -114.21556099999992,29.764164000000108 L -114.20612299999993,29.75860999999992 L -114.09638999999999,29.648888000000113 L -114.06472799999995,29.615276000000108 L -114.03362299999998,29.587776000000076 L -113.91861699999993,29.49972200000002 L -113.90944699999994,29.493889000000024 L -113.88639799999999,29.47944300000006 L -113.84861799999999,29.463886000000002 L -113.79807299999993,29.419441000000063 L -113.79028299999999,29.412219999999934 L -113.67307299999999,29.289719000000048 L -113.662781,29.278610000000015 L -113.65084799999994,29.26166500000005 L -113.54834,29.110275000000115 L -113.54194599999994,29.095553999999993 L -113.52806099999992,29.05416500000007 L -113.52916699999997,29.04805399999998 L -113.531677,29.043331000000023 L -113.53723100000002,29.041386000000045 L -113.54361699999998,29.040276000000006 L -113.54750100000001,29.03694200000001 L -113.54860699999995,29.030830000000037 L -113.54640199999994,28.95638700000012 L -113.54305999999991,28.945831 L -113.51889,28.906108999999958 L -113.51222200000001,28.898330999999985 L -113.50473,28.891388000000006 L -113.49918400000001,28.88916400000005 L -113.46556099999992,28.88999899999999 L -113.458618,28.89055300000001 L -113.453056,28.89249799999999 L -113.45113400000002,28.897778000000073 L -113.45250699999991,28.90333200000009 L -113.46056399999992,28.916664000000026 L -113.462784,28.92138700000004 L -113.46417200000002,28.926941000000056 L -113.464447,28.93305200000009 L -113.46362299999998,28.939163000000008 L -113.45361299999996,28.951111000000026 L -113.44972200000001,28.95444100000003 L -113.41251399999999,28.96499599999993 L -113.406113,28.963333000000034 L -113.36418200000003,28.943333000000052 L -113.36110699999995,28.939163000000008 L -113.348343,28.908607000000075 L -113.34806799999996,28.882773999999984 L -113.29028299999999,28.809718999999973 L -113.23806799999994,28.829165999999987 L -113.23166699999996,28.83027600000014 L -113.22473100000002,28.829165999999987 L -113.20333899999997,28.82027400000004 L -113.19416799999993,28.8144420000001 L -113.19111599999997,28.810276000000044 L -113.17777999999998,28.783333000000084 L -113.175568,28.778332000000034 L -113.13890100000003,28.623886000000027 L -113.12946299999999,28.55916600000006 L -113.12194799999992,28.498055000000136 L -113.11778300000003,28.488331000000073 L -113.11195399999991,28.479720999999984 L -113.04194599999994,28.44444299999998 L -113.03666699999997,28.442219000000023 L -113.01806599999998,28.43749600000001 L -113.00418099999996,28.435555000000022 L -112.98251299999993,28.436108000000104 L -112.95722999999992,28.440830000000005 L -112.929733,28.449996999999996 L -112.92250099999995,28.450554000000068 L -112.91639700000002,28.45027500000009 L -112.90416700000003,28.446941000000095 L -112.86805700000002,28.435555000000022 L -112.86279300000001,28.43333100000001 L -112.86138900000003,28.427776000000108 L -112.86110699999995,28.41471899999999 L -112.86306799999994,28.40916400000009 L -112.87000999999992,28.361664000000076 L -112.87555699999996,28.292774000000065 L -112.87251300000003,28.275554999999997 L -112.86834699999991,28.26583099999999 L -112.86556999999993,28.261386999999957 L -112.86084,28.25861000000009 L -112.83084099999996,28.236942000000113 L -112.82250999999997,28.230552999999986 L -112.81529199999994,28.223331000000144 L -112.79000899999994,28.19777700000003 L -112.787781,28.193054000000018 L -112.787781,28.18110999999999 L -112.78916900000002,28.181389000000138 L -112.792236,28.169720000000098 L -112.79528800000003,28.13694399999997 L -112.79390000000001,28.118610000000047 L -112.791672,28.1005550000001 L -112.78250100000002,28.046108000000117 L -112.77863300000001,28.029720000000054 L -112.77667200000002,28.024719000000005 L -112.75778199999996,28.013611000000026 L -112.72328199999993,27.999741000000085 L -112.72834799999998,27.994163999999955 L -112.73278799999997,27.98388699999998 L -112.733902,27.97777600000012 L -112.75361599999997,27.840275000000076 L -112.75250199999999,27.83472100000006 L -112.67639200000002,27.725555000000043 L -112.67334,27.72138600000011 L -112.66612199999997,27.71416499999998 L -112.57277699999997,27.630554000000018 L -112.53723100000002,27.627777000000094 L -112.49362200000002,27.615833000000066 L -112.34889199999998,27.542774000000065 L -112.34445199999993,27.53999699999997 L -112.32277699999997,27.51166500000005 L -112.31696299999993,27.503052000000082 L -112.31500199999994,27.49833300000006 L -112.23001099999999,27.232776999999942 L -112.09472700000003,27.133888000000127 L -112.01418299999995,27.041386000000045 L -112.02667199999996,27.024166000000093 L -112.02916700000003,27.01944400000002 L -112.031113,27.01388500000013 L -112.03083799999996,27.00111000000004 L -112.02890000000002,26.99610899999999 L -111.97167999999999,26.91749999999996 L -111.92211900000001,26.85322000000002 L -111.915459,26.84688799999998 L -111.91211699999997,26.841721000000007 L -111.91011800000001,26.83555600000011 L -111.90911900000003,26.828386000000137 L -111.90928600000001,26.816553 L -111.89472999999992,26.772778000000073 L -111.89890299999996,26.769444000000078 L -111.90583800000002,26.7691650000001 L -111.91223099999996,26.761108000000092 L -111.91500899999994,26.75638600000002 L -111.91667199999995,26.751110000000097 L -111.91779300000002,26.744999000000064 L -111.917236,26.738887999999974 L -111.908073,26.726665000000082 L -111.85861199999994,26.661942000000067 L -111.76918,26.571109999999976 L -111.76194800000002,26.563889000000074 L -111.74334699999997,26.55277600000005 L -111.73638899999997,26.55166600000007 L -111.73029300000002,26.55277600000005 L -111.71000700000002,26.569164000000114 L -111.69139100000001,26.58666599999998 L -111.68805700000001,26.590832000000034 L -111.68640099999993,26.596107000000075 L -111.68528699999996,26.602219000000048 L -111.68723299999994,26.607220000000098 L -111.72000100000002,26.6524960000001 L -111.72445700000003,26.655552 L -111.75446299999999,26.670555000000036 L -111.79972799999996,26.699444000000028 L -111.803337,26.703053000000068 L -111.80612200000002,26.70722200000006 L -111.83167999999995,26.758331 L -111.85339399999998,26.83871800000003 L -111.85706299999998,26.855387000000064 L -111.85723100000001,26.859053000000017 L -111.847778,26.901108000000136 L -111.84221599999995,26.903053000000114 L -111.81195100000002,26.89472200000006 L -111.80750999999992,26.891940999999974 L -111.74890099999999,26.853611000000058 L -111.69750999999991,26.809443999999985 L -111.64862099999993,26.763885000000016 L -111.64028899999994,26.757499999999993 L -111.604446,26.740833000000123 L -111.59166699999997,26.738052000000096 L -111.568893,26.730274000000065 L -111.56083699999994,26.723610000000065 L -111.558899,26.71888700000011 L -111.558899,26.70582999999999 L -111.55944799999992,26.665833000000134 L -111.56249999999994,26.62555300000014 L -111.56140099999999,26.593887000000052 L -111.55917399999998,26.576111000000083 L -111.55695300000002,26.564999000000114 L -111.554733,26.559998000000007 L -111.55196399999994,26.555832000000123 L -111.54750099999995,26.55277600000005 L -111.50195300000001,26.530830000000037 L -111.49667399999998,26.528610000000015 L -111.40139799999992,26.345553999999993 L -111.39472999999992,26.33166499999993 L -111.39140299999991,26.321110000000033 L -111.38863400000002,26.30388600000009 L -111.39195299999994,26.299999000000014 L -111.39666699999998,26.29722200000009 L -111.40750100000002,26.29361 L -111.409447,26.288329999999974 L -111.40000900000001,26.252776999999924 L -111.39556899999997,26.236942 L -111.38305700000001,26.201111000000083 L -111.35278299999993,26.140830999999935 L -111.34722899999997,26.132221000000072 L -111.34333799999996,26.026943000000017 L -111.36083999999994,25.96472200000005 L -111.36195399999991,25.958331999999984 L -111.36083999999994,25.952774000000034 L -111.32501199999996,25.84471900000011 L -111.29972800000002,25.78027700000007 L -111.16890000000001,25.58110800000003 L -111.16528299999993,25.57749899999999 L -111.13111900000001,25.553055000000086 L -111.12222299999996,25.54722200000009 L -111.11029100000002,25.543888000000095 L -111.08389299999999,25.539165000000082 L -111.07694999999995,25.539444000000117 L -111.06749699999995,25.544441000000006 L -111.06195100000002,25.546108000000117 L -111.05584699999997,25.546108000000117 L -111.02639799999997,25.532219000000055 L -111.01834100000002,25.525555000000054 L -111.01640299999997,25.520553999999947 L -111.01471700000002,25.508888000000013 L -111.016953,25.47471999999999 L -111.021118,25.442497000000003 L -111.02195699999999,25.430274999999995 L -111.01944699999996,25.419167000000016 L -111.01555599999995,25.409163999999976 L -110.94805899999994,25.25416599999994 L -110.91111799999999,25.17305399999998 L -110.86750799999999,25.10416400000014 L -110.86195399999991,25.09555400000005 L -110.85501099999993,25.088332999999977 L -110.82833900000003,25.064441999999985 L -110.82305899999994,25.062222000000133 L -110.79332699999992,25.05360800000011 L -110.77250699999996,25.04444100000012 L -110.76834099999996,25.041386000000102 L -110.74667399999993,25.019721999999945 L -110.68695099999997,24.899166000000093 L -110.685562,24.893607999999915 L -110.671112,24.833611000000133 L -110.667236,24.810833000000002 L -110.66832699999992,24.79694399999994 L -110.67529299999995,24.76777600000014 L -110.68332699999996,24.7469440000001 L -110.689728,24.731387999999924 L -110.698059,24.718052 L -110.72112299999998,24.690276999999924 L -110.72666900000002,24.674164000000076 L -110.72973599999995,24.66277700000012 L -110.733612,24.637497000000053 L -110.733902,24.630554000000075 L -110.73417699999993,24.578330999999935 L -110.73278800000003,24.55333300000001 L -110.73111699999998,24.54166400000014 L -110.729172,24.536663000000033 L -110.72194699999994,24.52944199999996 L -110.71639999999996,24.520832000000098 L -110.71250900000001,24.511108000000036 L -110.69528199999996,24.45999900000004 L -110.69473299999993,24.447498000000053 L -110.69584700000001,24.426941000000056 L -110.69416799999999,24.39611100000002 L -110.69277999999991,24.390274000000034 L -110.68890399999992,24.38055400000013 L -110.66056800000001,24.337776000000076 L -110.654449,24.329998000000103 L -110.61638600000003,24.288054999999986 L -110.61279300000001,24.284443000000067 L -110.50583599999999,24.221663999999976 L -110.49556000000001,24.216942000000074 L -110.489464,24.21527500000002 L -110.44917299999992,24.2091640000001 L -110.42056299999996,24.208885000000123 L -110.33967599999994,24.19733000000008 L -110.31445299999996,24.193607000000043 L -110.30861699999997,24.19194399999992 L -110.304169,24.18888900000013 L -110.302231,24.18388700000014 L -110.30555700000002,24.18138900000008 L -110.34001199999994,24.160000000000082 L -110.35111999999998,24.176941000000113 L -110.35529300000002,24.179996000000074 L -110.36057299999999,24.182220000000086 L -110.38417099999998,24.189163000000065 L -110.39111300000002,24.18888900000013 L -110.39556900000002,24.18638599999997 L -110.39890300000002,24.182220000000086 L -110.39862099999993,24.176108999999997 L -110.38278200000002,24.130554000000018 L -110.37999699999995,24.126389000000017 L -110.37640399999998,24.12249800000012 L -110.36695899999995,24.117222000000027 L -110.35417199999995,24.11583300000001 L -110.32640099999998,24.124165000000005 L -110.32195299999995,24.12666300000012 L -110.275284,24.180552999999975 L -110.27195699999993,24.184444000000042 L -110.26944700000001,24.189163000000065 L -110.26667799999996,24.208331999999984 L -110.27027900000002,24.22499800000014 L -110.27834299999995,24.250832000000003 L -110.28028899999993,24.255833000000052 L -110.29167199999995,24.266109000000142 L -110.30388600000003,24.288609000000008 L -110.30612199999996,24.299720999999977 L -110.30584699999997,24.312775000000045 L -110.30000299999995,24.33444200000008 L -110.29332699999992,24.342499000000032 L -110.28250099999997,24.34610700000013 L -110.23889199999996,24.35611 L -110.22473099999996,24.355831000000023 L -110.21362299999998,24.351944000000117 L -110.20639,24.34444400000001 L -110.16528299999999,24.293610000000058 L -110.04084799999993,24.192219000000136 L -110.01834100000002,24.178055000000086 L -110.00334199999998,24.164165000000082 L -109.983612,24.134163 L -109.979736,24.124165000000005 L -109.97416699999991,24.096385999999995 L -109.87194799999997,24.035552999999993 L -109.79972800000002,24.012218000000132 L -109.81195099999997,23.988052000000096 L -109.823059,23.948055000000068 L -109.82417299999997,23.941943999999978 L -109.82501200000002,23.92833300000001 L -109.823624,23.916386000000045 L -109.81249999999994,23.893055000000004 L -109.78388999999999,23.870831000000067 L -109.75805699999995,23.85277600000012 L -109.752792,23.850555000000043 L -109.74861099999998,23.847500000000025 L -109.740837,23.840832000000034 L -109.72167999999999,23.823887000000127 L -109.70056199999999,23.801941000000056 L -109.69777699999992,23.797775 L -109.69584699999996,23.792774000000122 L -109.69640400000003,23.785831000000087 L -109.70056199999999,23.76832999999999 L -109.70500199999998,23.739719000000036 L -109.70001199999996,23.700832000000048 L -109.69416799999993,23.679722000000083 L -109.68640099999999,23.660000000000025 L -109.67861900000003,23.653332000000034 L -109.658073,23.643887000000007 L -109.60582699999992,23.627777000000037 L -109.58667000000003,23.62388599999997 L -109.57501199999996,23.620551999999975 L -109.54640199999994,23.61111100000005 L -109.54112199999997,23.608887000000095 L -109.52084400000001,23.59944200000001 L -109.47834799999993,23.575554000000068 L -109.410843,23.46832999999998 L -109.40416699999997,23.454166000000043 L -109.400848,23.397498999999925 L -109.43501300000003,23.232777000000056 L -109.44277999999997,23.21888700000011 L -109.48194899999999,23.163329999999974 L -109.48834199999993,23.155552 L -109.51278699999995,23.129444000000035 L -109.52472699999998,23.119720000000143 L -109.53861999999998,23.11249900000007 L -109.54860699999995,23.10833000000008 L -109.57695000000001,23.10083000000003 L -109.59834299999994,23.093887000000052 L -109.60833699999995,23.08972200000005 L -109.63639799999993,23.074718000000075 L -109.66555799999998,23.053886000000034 L -109.69333599999993,23.03138700000011 L -109.69640400000003,23.027496000000042 L -109.69889799999999,23.022778000000073 L -109.69944800000002,23.017220000000123 L -109.69833399999993,23.01166500000005 L -109.70001199999996,22.998608000000104 L -109.701683,22.99333200000001 L -109.70500199999998,22.989441000000113 L -109.71750600000001,22.98055299999993 L -109.81305700000001,22.91777400000001 L -109.82640100000003,22.90972099999999 L -109.854172,22.894722000000115 L -109.91445899999997,22.86860999999999 L -109.931671,22.864718999999923 L -109.95195000000001,22.863887999999918 L -109.958618,22.864998000000128 L -109.97611999999992,22.869999000000007 L -109.98140000000001,22.872498000000007 L -109.99138599999998,22.87777699999998 L -110.00499699999995,22.886108000000092 L -110.02500900000001,22.90249599999993 L -110.03195199999999,22.90972099999999 L -110.08056599999998,22.98666400000002 L -110.090012,23.012218000000132 L -110.09806800000001,23.038055000000043 L -110.10222599999997,23.054165000000012 L -110.115837,23.120831000000067 L -110.12000999999998,23.149997999999982 L -110.125,23.184719000000086 L -110.127792,23.201941999999974 L -110.13390399999997,23.223052999999993 L -110.16612199999992,23.31361000000004 L -110.17195100000004,23.32833099999999 L -110.17445399999991,23.332775000000026 L -110.30168200000003,23.547497000000135 L -110.30972300000002,23.560275999999988 L -110.31668100000002,23.56749700000006 L -110.37390099999999,23.612777999999935 L -110.39972699999998,23.63055400000013 L -110.41000400000001,23.635277000000087 L -110.45889299999999,23.64749900000004 L -110.52056899999997,23.668610000000115 L -110.55944799999997,23.682499000000007 L -110.56445300000001,23.684718999999973 L -110.57472200000001,23.689441999999985 L -110.58334400000001,23.69527400000004 L -110.63445300000001,23.73166700000013 L -110.69445799999994,23.794719999999984 L -110.81001300000003,23.909999999999968 L -111.01640299999997,24.093886999999995 L -111.04167199999995,24.112220999999977 L -111.05196399999994,24.117774999999938 L -111.09667999999999,24.13972100000001 L -111.221947,24.20305300000001 L -111.45777900000002,24.325554000000068 L -111.47084000000001,24.33444200000008 L -111.47445699999997,24.338055000000054 L -111.47638699999999,24.343051999999943 L -111.47473100000002,24.347220999999934 L -111.47528099999994,24.360832000000073 L -111.50140399999998,24.392498000000046 L -111.53279099999992,24.42555200000004 L -111.53888699999993,24.426941000000056 L -111.56001299999997,24.429443000000106 L -111.57167099999998,24.4327770000001 L -111.58056599999992,24.438610000000097 L -111.60278299999999,24.459721000000116 L -111.616669,24.48083100000008 L -111.63334699999996,24.506943000000035 L -111.64167799999996,24.519997000000103 L -111.64584399999995,24.529720000000054 L -111.65363299999996,24.54916400000002 L -111.68695099999997,24.56388900000013 L -111.79361699999998,24.56249600000001 L -111.82695000000001,24.64249799999999 L -111.84306300000003,24.668610000000058 L -111.85501099999999,24.684718999999973 L -111.86418200000003,24.696940999999924 L -111.86778299999997,24.700554000000125 L -111.92388899999997,24.756664 L -111.96362299999998,24.793330999999966 L -111.97501399999999,24.790554000000043 L -111.97389199999992,24.75750000000005 L -111.97695899999997,24.753330000000005 L -111.98082699999998,24.751663000000065 L -112.08750900000001,24.7561070000001 L -112.11583699999994,24.866664999999955 L -112.09529099999997,24.938609999999983 L -112.095573,25.019721999999945 L -112.09612300000003,25.025833000000034 L -112.10278299999999,25.026943000000074 L -112.108902,25.025833000000034 L -112.11361699999998,25.023330999999985 L -112.13445300000001,24.973331000000087 L -112.14279199999993,24.931110000000103 L -112.14695699999993,24.906386999999995 L -112.14890300000002,24.901108000000022 L -112.15194699999995,24.89694200000008 L -112.15611299999995,24.89388700000012 L -112.16139199999998,24.89194100000003 L -112.16751099999999,24.89083099999999 L -112.175003,24.891109000000085 L -112.17945900000001,24.894164999999987 L -112.179169,24.899719000000005 L -112.17028799999997,24.95416599999993 L -112.16916699999996,24.96027800000013 L -112.12806699999999,25.16749999999996 L -112.12473299999999,25.178333000000123 L -112.11279300000001,25.20249899999999 L -112.10778800000003,25.211940999999968 L -112.104446,25.21611000000013 L -112.09722899999997,25.22333100000003 L -112.09250600000001,25.22583000000003 L -112.08500700000002,25.225555000000043 L -112.07890299999997,25.226665000000025 L -112.07556199999993,25.230553000000043 L -112.07444799999996,25.236664000000076 L -112.06806899999992,25.272221000000116 L -112.06668100000002,25.285275000000013 L -112.06083699999999,25.368610000000047 L -112.07084700000001,25.61305200000004 L -112.08862299999998,25.605000000000132 L -112.08693700000003,25.593052000000057 L -112.08528099999995,25.56833300000011 L -112.08862299999998,25.549998999999957 L -112.094177,25.526665000000037 L -112.09945700000003,25.517498000000046 L -112.10611699999998,25.51832999999999 L -112.11138899999997,25.520553999999947 L -112.11195399999991,25.552277000000004 L -112.108337,25.66833100000008 L -112.10250899999994,25.691387000000077 L -112.10001399999993,25.724998000000028 L -112.100281,25.73111 L -112.10722399999992,25.758331000000055 L -112.112503,25.77360900000008 L -112.19306899999998,25.958331999999984 L -112.20556599999998,25.980831000000137 L -112.222778,26.006106999999986 L -112.24611700000003,26.039444000000003 L -112.24999999999994,26.043052999999986 L -112.325287,26.080555000000004 L -112.34612299999998,26.163055000000043 L -112.35861199999994,26.218329999999924 L -112.36778299999997,26.237220999999977 L -112.37834199999992,26.254997000000117 L -112.39666699999998,26.27277799999996 L -112.40471599999995,26.27944199999996 L -112.41361999999992,26.285274999999956 L -112.42388899999997,26.289718999999934 L -112.43000799999999,26.291386000000045 L -112.43778999999995,26.29166400000014 L -112.443893,26.29055399999993 L -112.44862399999994,26.28805499999993 L -112.45250699999997,26.284720999999934 L -112.45749699999999,26.275276000000076 L -112.463348,26.266665999999987 L -112.46806300000003,26.264164000000108 L -112.47585300000003,26.26444200000003 L -112.670837,26.32916599999993 L -112.67556799999994,26.331944000000135 L -112.78250100000002,26.41777400000001 L -112.85362199999997,26.481387999999924 L -112.88445300000001,26.515553000000068 L -112.89250199999992,26.522221000000002 L -112.89695699999993,26.524997999999925 L -112.94500699999998,26.54610800000006 L -112.95028699999995,26.548332000000073 L -112.96556099999992,26.548884999999984 L -112.97250400000001,26.548332000000073 L -112.979446,26.549163999999962 L -112.99278300000003,26.558051999999975 L -113.08000199999992,26.631106999999986 L -113.104446,26.654720000000054 L -113.11666899999994,26.67222199999992 L -113.18695100000002,26.693332999999996 L -113.20973200000003,26.70111100000014 L -113.22029099999992,26.705555000000118 L -113.22173299999992,26.728109000000018 L -113.22356400000001,26.730610000000013 L -113.22356400000001,26.761442000000045 L -113.223228,26.76960800000012 L -113.21890300000001,26.77411100000006 L -113.21556900000002,26.775108000000102 L -113.20706200000001,26.77977599999997 L -113.20084399999996,26.800831000000017 L -113.18305999999995,26.819443000000035 L -113.13694799999996,26.86777500000011 L -113.12806699999993,26.880554000000018 L -113.126106,26.88610799999998 L -113.123062,26.903610000000015 L -113.12361099999993,26.910000000000082 L -113.12834199999998,26.958885000000066 L -113.13362099999995,26.96110900000008 L -113.15028399999994,26.967219999999998 L -113.166946,26.97333100000003 L -113.17445399999997,26.973610000000065 L -113.17861900000003,26.97027600000007 L -113.18583699999994,26.94305400000013 L -113.18640099999999,26.936108000000047 L -113.18417399999993,26.911387999999988 L -113.18195300000002,26.893608000000086 L -113.18224299999997,26.88666500000005 L -113.18501299999997,26.87499600000001 L -113.20639,26.82638500000013 L -113.269836,26.785276000000124 L -113.28067799999991,26.777441000000067 L -113.40112299999993,26.824165000000107 L -113.40000899999995,26.830555000000004 L -113.40306099999998,26.834721000000116 L -113.40750099999997,26.837497999999982 L -113.42417899999998,26.84360900000007 L -113.43860599999994,26.84471900000011 L -113.44555700000001,26.844444000000067 L -113.45806899999997,26.841942000000017 L -113.47222899999997,26.834164000000044 L -113.48001099999993,26.827773999999977 L -113.53639199999992,26.7691650000001 L -113.53888699999999,26.764442000000088 L -113.53666699999997,26.759441000000038 L -113.53307299999994,26.756107000000043 L -113.53083800000002,26.751110000000097 L -113.53279099999997,26.745831000000123 L -113.53807099999995,26.743889000000024 L -113.54444899999999,26.74277500000005 L -113.58306900000002,26.737221000000034 L -113.59750399999996,26.736942000000056 L -113.60278299999993,26.73916600000007 L -113.61195399999991,26.744999000000064 L -113.72250399999996,26.82332999999994 L -113.72611999999998,26.82694200000003 L -113.73834199999999,26.84971999999999 L -113.74445299999996,26.864441000000113 L -113.74861099999998,26.8811070000001 L -113.75556899999998,26.894997000000046 L -113.758621,26.899166000000037 L -113.77250700000002,26.914165000000082 L -113.81168400000001,26.954441000000088 L -113.81916799999999,26.961388000000056 L -113.83556399999992,26.974162999999976 L -113.84889199999992,26.983055000000093 L -113.87861599999991,26.99360999999999 L -113.889183,26.99666600000006 L -113.90139799999997,26.999722000000133 L -113.90833999999995,27.000552999999968 L -113.946121,27.00111000000004 L -113.95221700000002,27.000000000000057 L -113.95777899999996,26.99805500000008 L -113.96167000000003,26.994719999999973 L -113.96806299999997,26.986664000000133 L -113.970573,26.98194100000012 L -113.97611999999992,26.980000000000132 L -113.99001299999998,26.979164000000026 L -113.99611700000003,26.980553000000043 L -114.00140399999992,26.982777 L -114.04472399999992,27.019722000000115 L -114.053337,27.032496999999978 L -114.05972299999996,27.046944000000053 L -114.06445300000001,27.06305300000008 L -114.07167099999992,27.076941999999974 L -114.08056599999998,27.08944300000013 L -114.087784,27.096664000000033 L -114.09612300000003,27.1030540000001 L -114.127792,27.123055000000136 L -114.160278,27.14249799999999 L -114.17001299999993,27.147499000000096 L -114.19196299999993,27.15582999999998 L -114.22250400000001,27.163609000000065 L -114.24389599999995,27.165554000000043 L -114.25029,27.16444400000006 L -114.261124,27.160552999999993 L -114.27306399999998,27.150554999999997 L -114.27555799999999,27.145831999999984 L -114.281113,27.143887000000007 L -114.287781,27.14499699999999 L -114.29332699999992,27.146942000000024 L -114.33029199999999,27.16249800000014 L -114.46972699999998,27.229443000000003 L -114.47361799999993,27.233055000000036 L -114.47862199999992,27.242222000000027 L -114.48001099999999,27.24749800000012 L -114.47834799999998,27.271663999999987 L -114.479736,27.322220000000016 L -114.48194899999993,27.346942999999953 L -114.486107,27.36360900000011 L -114.488068,27.368332000000123 L -114.50778199999996,27.405277000000012 L -114.51363400000002,27.413609000000008 L -114.52111799999994,27.42083000000008 L -114.60389700000002,27.48472200000009 L -114.608337,27.487499000000014 L -114.61361699999998,27.48971899999998 L -114.66861699999993,27.510276999999917 L -114.77639799999997,27.59471900000011 L -114.889183,27.694721000000072 L -114.92806999999999,27.68805300000008 L -114.98889200000002,27.721107000000075 L -115.02306399999992,27.768607999999972 L -115.04390000000001,27.817775999999924 L -115.02056899999997,27.846664000000033 L -114.925003,27.836108999999965 L -114.83389299999993,27.821388000000013 L -114.790009,27.812775000000045 L -114.68805700000001,27.78472099999999 L -114.67584199999999,27.78166600000003 L -114.61361699999998,27.767220000000066 L -114.515289,27.768607999999972 L -114.50140399999992,27.76944400000002 L -114.48946399999994,27.772778000000017 L -114.479446,27.77722200000005 L -114.46028100000001,27.78777700000012 L -114.43833899999998,27.801941 L -114.42945900000001,27.80805200000009 L -114.33640299999996,27.791111000000058 L -114.33222999999992,27.781387000000052 L -114.31749699999995,27.760277000000087 L -114.30251299999998,27.746109000000047 L -114.28888699999999,27.737499000000128 L -114.27890000000002,27.732498000000078 L -114.19111599999991,27.69860799999998 L -114.17888599999998,27.695273999999984 L -114.16584799999993,27.69305400000013 L -114.00974299999996,27.686943000000042 L -114.002228,27.686665000000005 L -113.98695399999991,27.69916500000005 L -113.98306300000002,27.702499000000046 L -113.97389199999998,27.71527500000002 L -113.97138999999993,27.71999700000009 L -113.970573,27.724720000000048 L -113.97638699999993,27.733330000000137 L -113.984734,27.73971899999998 L -114.02443700000003,27.766941000000088 L -114.03611799999999,27.77055400000006 L -114.06916799999993,27.75527599999998 L -114.079453,27.750000000000114 L -114.10861199999994,27.734997000000078 L -114.12139899999994,27.725830000000087 L -114.15500600000001,27.71527500000002 L -114.16111799999999,27.716942000000074 L -114.21166999999997,27.754444000000092 L -114.22277799999995,27.765273999999977 L -114.22040599999997,27.806160000000034 L -114.24972499999996,27.83936900000009 L -114.29220599999991,27.847147000000064 L -114.30695299999996,27.855274000000122 L -114.30917399999998,27.859997000000135 L -114.310562,27.865555000000086 L -114.31111099999993,27.871666000000005 L -114.31001300000003,27.878052000000082 L -114.29444899999993,27.926941000000056 L -114.28835300000003,27.942497000000003 L -114.28500399999996,27.94638800000007 L -114.27223199999997,27.95638699999995 L -114.207672,28.000275000000045 L -114.19750999999997,28.006106999999986 L -114.18472299999996,28.01527399999992 L -114.18084699999997,28.018608000000086 L -114.17500299999995,28.0274960000001 L -114.16751099999993,28.04166400000014 L -114.16445899999991,28.045555000000036 L -114.15722699999998,28.049442000000113 L -114.14806399999998,28.048611000000108 L -114.14499699999999,28.044441000000063 L -114.14444699999996,28.03805499999993 L -114.14723199999997,28.026665000000094 L -114.15471600000001,28.012497000000053 L -114.16158300000001,28.00055300000014 L -114.15934799999997,28.00055300000014 L -114.15363300000001,28.01223800000008 L -114.128555,28.023659000000066 L -114.13500999999991,28.059719000000086 L -114.11945299999996,28.107219999999984 L -114.11334199999999,28.144165000000044 L -114.11195399999997,28.178333000000066 L -114.11334199999999,28.183887000000084 L -114.12834199999998,28.217776999999955 L -114.14584400000001,28.310555000000136 L -114.11000099999995,28.375275000000045 L -114.09750399999996,28.398888 L -114.08445699999993,28.429165000000125 L -114.07000700000003,28.46527500000002 L -114.06472799999995,28.481388000000095 L -114.05917399999993,28.504444000000092 L -114.058899,28.511387000000127 L -114.063606,28.52722200000005 L -114.08056599999998,28.553054999999972 L -114.15583800000002,28.663329999999917 L -114.16195700000003,28.67166500000002 L -114.167236,28.673884999999984 L -114.18583699999994,28.678607999999997 L -114.21056399999992,28.684719000000086 L -114.21750600000001,28.685555000000136 L -114.26167299999992,28.71360800000008 L -114.31500199999999,28.749165000000062 L -114.36138899999997,28.82360799999998 L -114.40528899999998,28.885830000000055 L -114.40888999999999,28.88916400000005 L -114.41445899999997,28.891388000000006 L -114.42056300000002,28.890274000000034 L -114.426964,28.88499800000011 L -114.43779,28.909163999999976 L -114.44389299999995,28.917500000000132 L -114.49083699999994,28.938610000000097 L -114.50389100000001,28.93972000000008 L -114.511124,28.939163000000008 L -114.55750999999992,28.975277000000062 L -114.70140100000003,29.129997000000003 L -114.94168099999996,29.370277000000044 L -114.950287,29.377499000000057 L -114.96417199999996,29.385830000000112 L -114.97416699999997,29.39083099999999 L -114.98638900000003,29.393887000000063 L -115.09777799999995,29.41916700000013 L -115.18778999999995,29.432776999999987 L -115.19196299999999,29.44249700000006 L -115.20417800000001,29.459442000000024 L -115.216949,29.475277000000006 L -115.23251299999993,29.48916600000001 L -115.27306399999998,29.51555300000001 L -115.28334000000001,29.52055400000006 L -115.33667000000003,29.54277400000001 L -115.34250599999996,29.544720000000098 L -115.50583599999999,29.625274999999988 L -115.69389299999995,29.76833000000005 L -115.69667099999998,29.772498999999982 L -115.69805899999994,29.778053 L -115.73557299999999,29.938889000000074 L -115.78307299999994,30.10749800000002 L -115.79332699999998,30.225829999999917 L -115.79750100000001,30.248608000000047 L -115.80473299999994,30.276386000000002 L -115.81168399999996,30.297775000000115 L -115.81973299999999,30.317497000000003 L -115.82640099999998,30.33194400000002 L -115.83389299999999,30.345554000000106 L -115.83917199999996,30.35472100000004 L -115.84750399999996,30.367774999999938 L -115.850571,30.371666000000005 L -115.931396,30.456944000000078 L -115.96666699999997,30.488331000000017 L -115.98055999999991,30.49666600000006 L -115.98584,30.496387000000084 L -116.01251199999996,30.444721000000015 L -116.01334399999996,30.43888900000013 L -116.01194800000002,30.433330999999953 L -116.00750700000003,30.42361100000005 L -115.99918399999996,30.41055300000005 L -115.98834199999999,30.39277600000014 L -115.98638900000003,30.388054000000068 L -115.98557299999993,30.381664 L -115.99138600000003,30.373055000000022 L -115.99806199999995,30.373886000000027 L -116.002792,30.37666300000012 L -116.006958,30.379997000000117 L -116.01000999999991,30.384441000000095 L -116.01222199999995,30.388885000000073 L -116.03639199999998,30.442776000000038 L -116.04167199999995,30.458331999999984 L -116.04251099999999,30.47083299999997 L -116.041946,30.476665000000025 L -116.03388999999999,30.532497000000035 L -116.03028899999993,30.570553000000018 L -116.03000599999996,30.59694300000001 L -116.03695700000003,30.71860900000013 L -116.03916899999996,30.73027400000001 L -116.04945399999991,30.78110900000007 L -116.05416899999994,30.797775 L -116.05724299999991,30.801941000000113 L -116.06111099999993,30.80527500000011 L -116.25750699999998,30.957775000000026 L -116.26695299999994,30.963055000000054 L -116.30306999999999,31.121387000000084 L -116.30724299999997,31.14472200000006 L -116.31001299999997,31.155830000000094 L -116.315292,31.17166500000002 L -116.32917799999996,31.200275000000033 L -116.33693700000003,31.213886000000002 L -116.35222599999997,31.23444399999994 L -116.47973599999995,31.39027400000009 L -116.58805799999993,31.46777700000007 L -116.59333800000002,31.469997000000035 L -116.59750400000001,31.47333100000003 L -116.67028799999997,31.54777500000006 L -116.67751299999992,31.55527500000011 L -116.67861899999997,31.567776000000094 L -116.67611699999998,31.572220000000073 L -116.64916999999997,31.60444300000006 L -116.60501099999993,31.775555000000054 L -116.59973099999996,31.805552999999975 L -116.59806799999996,31.817776000000038 L -116.597778,31.824718000000132 L -116.59861799999999,31.83055500000006 L -116.600571,31.835278000000073 L -116.60305799999998,31.840274999999963 L -116.61057299999999,31.848052999999993 L -116.61834699999997,31.85444300000006 L -116.62779199999994,31.860275000000115 L -116.65278599999994,31.86610800000011 L -116.66027799999995,31.866665000000012 L -116.67028799999997,31.871387000000084 L -116.729736,31.908333000000084 L -116.83750900000001,31.98555399999998 L -116.84889199999998,31.996109000000047 L -116.86057299999993,32.01416000000006 L -116.86778299999997,32.02860999999996 L -116.869171,32.033607000000075 L -116.87278700000002,32.05055200000004 L -116.87390099999993,32.076660000000004 L -116.87445099999997,32.09638200000006 L -116.87390099999993,32.10944400000005 L -116.87695300000001,32.134438000000046 L -116.89279199999999,32.18860599999999 L -116.89666699999992,32.19888300000014 L -116.90278599999999,32.21416499999998 L -116.90972899999997,32.22833300000002 L -116.91584799999998,32.23638200000005 L -116.92333999999994,32.243889000000024 L -116.92806999999999,32.24666600000012 L -116.93917799999997,32.25110600000011 L -116.95084400000002,32.25471499999992 L -116.95749699999999,32.255554000000075 L -116.99111900000003,32.26832600000006 L -117.01027699999997,32.27944200000002 L -117.02667199999996,32.29999500000008 L -117.06584199999992,32.36166400000002 L -117.12222300000002,32.455826000000116 L -117.126106,32.47277100000002 L -117.12695299999996,32.49138599999998 L -117.12237499999998,32.53533200000004 L -117.09529099999992,32.5366590000001 L -116.91416899999996,32.55221599999993 L -116.71305799999999,32.56860399999999 L -116.51499899999993,32.58445399999994 L -116.50130499999995,32.585548000000074 L -116.242638,32.605770000000064 L -115.90778399999999,32.63194300000009 L -115.60555999999991,32.65471599999995 L -115.40416700000003,32.66971600000011 L -115.20249899999999,32.68444100000005 L -115.02589399999994,32.696987000000036 L -114.87134599999996,32.70785100000006 L -114.72979700000002,32.71771200000012 L -114.71909299999999,32.718456 L -114.72138999999993,32.71110500000003 L -114.729172,32.690276999999924 L -114.733612,32.680274999999995 L -114.791672,32.55777699999999 L -114.80982999999998,32.50698900000009 L -114.80072799999999,32.50294100000002 L -114.78972599999997,32.49805500000002 L -114.58553299999994,32.437092000000064 L -114.34390299999995,32.36494800000014 L -114.06131699999997,32.279732000000024 L -113.85828400000003,32.2183 L -113.69200899999993,32.167576000000054 L -113.344513,32.06108100000006 L -113.052887,31.971069 z\" /></g></g></svg>"
      ],
      "text/plain": [
       "<shapely.geometry.multipolygon.MultiPolygon at 0xc763358>"
      ]
     },
     "execution_count": 12,
     "metadata": {},
     "output_type": "execute_result"
    }
   ],
   "source": [
    "shapes.loc[27, 'geometry']"
   ]
  },
  {
   "cell_type": "markdown",
   "metadata": {},
   "source": [
    "We want in our study to extract information inside Mexico shapefile."
   ]
  },
  {
   "cell_type": "code",
   "execution_count": 13,
   "metadata": {},
   "outputs": [
    {
     "data": {
      "text/plain": [
       "1"
      ]
     },
     "execution_count": 13,
     "metadata": {},
     "output_type": "execute_result"
    }
   ],
   "source": [
    "mask=get_mask(lon2d,lat2d,shp_path=\"./DATA/Shapefiles/Countries_Final-polygon.shp\", polygon_name='Mexico') \n",
    "np.max(mask)"
   ]
  },
  {
   "cell_type": "markdown",
   "metadata": {},
   "source": [
    "We will convert our mask into numpy 2D array. We'll be later able to apply this matrix to mask our Netcdf file. "
   ]
  },
  {
   "cell_type": "code",
   "execution_count": null,
   "metadata": {},
   "outputs": [],
   "source": [
    "np.save('DATA/Mexico.npy',mask) # saving our mask in numpy.array"
   ]
  },
  {
   "cell_type": "markdown",
   "metadata": {},
   "source": [
    "We will mask our area using .where() method. "
   ]
  },
  {
   "cell_type": "code",
   "execution_count": null,
   "metadata": {},
   "outputs": [],
   "source": [
    "ds_mask = ds_mean.where(mask == 1) \n",
    "ds_mask.to_netcdf('DATA/Mexico.nc')  # we want to save our shapefile mask in Netcdf format"
   ]
  },
  {
   "cell_type": "code",
   "execution_count": null,
   "metadata": {},
   "outputs": [],
   "source": [
    "ds_mask"
   ]
  },
  {
   "cell_type": "code",
   "execution_count": null,
   "metadata": {},
   "outputs": [],
   "source": [
    "np.max(ds_mask.t2m)"
   ]
  },
  {
   "cell_type": "code",
   "execution_count": null,
   "metadata": {
    "scrolled": true
   },
   "outputs": [],
   "source": [
    "_, ax = make_figure()\n",
    "# plot the temperature field\n",
    "lat_bnd = [35, 0]\n",
    "lon_bnd = [240, 280]\n",
    "ds_mask.t2m.sel(longitude=slice(*lon_bnd), latitude=slice(*lat_bnd),).plot.pcolormesh(vmin=0, vmax=30, cmap='Spectral',add_colorbar=True, extend='both')"
   ]
  },
  {
   "cell_type": "markdown",
   "metadata": {},
   "source": [
    "##  5- Last example using Xarray: \n",
    "\n",
    "In this section, We will calculate the seasonal accumulation of the precipitation, extract a region, plot the domain and record our result in Netcdf:"
   ]
  },
  {
   "cell_type": "code",
   "execution_count": null,
   "metadata": {
    "scrolled": true
   },
   "outputs": [],
   "source": [
    "# Let's open cera20c_enda_ep_PR_*.nc netcdf files \n",
    "multi_dataDIR = './DATA/CERA20C/cera20c_enda_ep_PR_*.nc'\n",
    "array = xr.open_mfdataset(multi_dataDIR)\n",
    "array.tp"
   ]
  },
  {
   "cell_type": "markdown",
   "metadata": {},
   "source": [
    "All Netcdf files are stored in DataArray container, we can now group our Datasets by season, apply a simple sum() method over time and then change units from meters to mm."
   ]
  },
  {
   "cell_type": "code",
   "execution_count": null,
   "metadata": {},
   "outputs": [],
   "source": [
    "array_season = array.groupby('time.season').sum('time')*1000\n",
    "array_season"
   ]
  },
  {
   "cell_type": "markdown",
   "metadata": {},
   "source": [
    "We want to extract a specific domain delimited: \n",
    "    - latitude boundaries: 50N to 70N\n",
    "    - longitude boudaries: 250E to 310E\n",
    "    \n",
    "We finally want to extract winter season. "
   ]
  },
  {
   "cell_type": "code",
   "execution_count": null,
   "metadata": {},
   "outputs": [],
   "source": [
    "lat_bnd = [70, 50]\n",
    "lon_bnd = [250, 310]\n",
    "subset_season_DJF = array_season.sel(season = 'DJF', longitude=slice(*lon_bnd), latitude=slice(*lat_bnd),)\n",
    "subset_season_DJF"
   ]
  },
  {
   "cell_type": "markdown",
   "metadata": {},
   "source": [
    "Let's save the Dataset to Netcdf. "
   ]
  },
  {
   "cell_type": "code",
   "execution_count": null,
   "metadata": {},
   "outputs": [],
   "source": [
    "dataDIR = './DATA/subset_season.nc'\n",
    "subset_season_DJF.to_netcdf(dataDIR)"
   ]
  },
  {
   "cell_type": "markdown",
   "metadata": {},
   "source": [
    "We can call our make_figure() function to quick plot our Dataset. "
   ]
  },
  {
   "cell_type": "code",
   "execution_count": null,
   "metadata": {
    "scrolled": true
   },
   "outputs": [],
   "source": [
    "_, ax = make_figure()\n",
    "# plot the temperature field\n",
    "subset_season_DJF.tp.plot.pcolormesh(vmin=0, vmax=200, cmap='Spectral',add_colorbar=True, extend='both')"
   ]
  },
  {
   "cell_type": "code",
   "execution_count": null,
   "metadata": {},
   "outputs": [],
   "source": [
    "array_season"
   ]
  },
  {
   "cell_type": "code",
   "execution_count": null,
   "metadata": {},
   "outputs": [],
   "source": []
  },
  {
   "cell_type": "code",
   "execution_count": 2,
   "metadata": {},
   "outputs": [
    {
     "name": "stderr",
     "output_type": "stream",
     "text": [
      "D:\\Utilisateurs\\guillaume\\Anaconda3\\lib\\site-packages\\dask\\config.py:168: YAMLLoadWarning: calling yaml.load() without Loader=... is deprecated, as the default Loader is unsafe. Please read https://msg.pyyaml.org/load for full details.\n",
      "  data = yaml.load(f.read()) or {}\n",
      "D:\\Utilisateurs\\guillaume\\Anaconda3\\lib\\site-packages\\distributed\\config.py:20: YAMLLoadWarning: calling yaml.load() without Loader=... is deprecated, as the default Loader is unsafe. Please read https://msg.pyyaml.org/load for full details.\n",
      "  defaults = yaml.load(f)\n"
     ]
    },
    {
     "ename": "ValueError",
     "evalue": "unable to decode time units 'days since  1950-01-00 00:00:00' with calendar 'proleptic_gregorian'. Try opening your dataset with decode_times=False.",
     "output_type": "error",
     "traceback": [
      "\u001b[1;31m---------------------------------------------------------------------------\u001b[0m",
      "\u001b[1;31mValueError\u001b[0m                                Traceback (most recent call last)",
      "\u001b[1;32mpandas/_libs/tslibs/conversion.pyx\u001b[0m in \u001b[0;36mpandas._libs.tslibs.conversion.convert_str_to_tsobject\u001b[1;34m()\u001b[0m\n",
      "\u001b[1;32mpandas/_libs/tslibs/np_datetime.pyx\u001b[0m in \u001b[0;36mpandas._libs.tslibs.np_datetime._string_to_dts\u001b[1;34m()\u001b[0m\n",
      "\u001b[1;31mValueError\u001b[0m: Day out of range in datetime string \"1950-01-00 00:00:00\"",
      "\nDuring handling of the above exception, another exception occurred:\n",
      "\u001b[1;31mValueError\u001b[0m                                Traceback (most recent call last)",
      "\u001b[1;32mpandas/_libs/tslibs/conversion.pyx\u001b[0m in \u001b[0;36mpandas._libs.tslibs.conversion.convert_str_to_tsobject\u001b[1;34m()\u001b[0m\n",
      "\u001b[1;32mpandas/_libs/tslibs/parsing.pyx\u001b[0m in \u001b[0;36mpandas._libs.tslibs.parsing.parse_datetime_string\u001b[1;34m()\u001b[0m\n",
      "\u001b[1;32m~\\Anaconda3\\lib\\site-packages\\dateutil\\parser\\_parser.py\u001b[0m in \u001b[0;36mparse\u001b[1;34m(timestr, parserinfo, **kwargs)\u001b[0m\n\u001b[0;32m   1357\u001b[0m     \u001b[1;32melse\u001b[0m\u001b[1;33m:\u001b[0m\u001b[1;33m\u001b[0m\u001b[1;33m\u001b[0m\u001b[0m\n\u001b[1;32m-> 1358\u001b[1;33m         \u001b[1;32mreturn\u001b[0m \u001b[0mDEFAULTPARSER\u001b[0m\u001b[1;33m.\u001b[0m\u001b[0mparse\u001b[0m\u001b[1;33m(\u001b[0m\u001b[0mtimestr\u001b[0m\u001b[1;33m,\u001b[0m \u001b[1;33m**\u001b[0m\u001b[0mkwargs\u001b[0m\u001b[1;33m)\u001b[0m\u001b[1;33m\u001b[0m\u001b[1;33m\u001b[0m\u001b[0m\n\u001b[0m\u001b[0;32m   1359\u001b[0m \u001b[1;33m\u001b[0m\u001b[0m\n",
      "\u001b[1;32m~\\Anaconda3\\lib\\site-packages\\dateutil\\parser\\_parser.py\u001b[0m in \u001b[0;36mparse\u001b[1;34m(self, timestr, default, ignoretz, tzinfos, **kwargs)\u001b[0m\n\u001b[0;32m    653\u001b[0m \u001b[1;33m\u001b[0m\u001b[0m\n\u001b[1;32m--> 654\u001b[1;33m         \u001b[0mret\u001b[0m \u001b[1;33m=\u001b[0m \u001b[0mself\u001b[0m\u001b[1;33m.\u001b[0m\u001b[0m_build_naive\u001b[0m\u001b[1;33m(\u001b[0m\u001b[0mres\u001b[0m\u001b[1;33m,\u001b[0m \u001b[0mdefault\u001b[0m\u001b[1;33m)\u001b[0m\u001b[1;33m\u001b[0m\u001b[1;33m\u001b[0m\u001b[0m\n\u001b[0m\u001b[0;32m    655\u001b[0m \u001b[1;33m\u001b[0m\u001b[0m\n",
      "\u001b[1;32m~\\Anaconda3\\lib\\site-packages\\dateutil\\parser\\_parser.py\u001b[0m in \u001b[0;36m_build_naive\u001b[1;34m(self, res, default)\u001b[0m\n\u001b[0;32m   1228\u001b[0m \u001b[1;33m\u001b[0m\u001b[0m\n\u001b[1;32m-> 1229\u001b[1;33m         \u001b[0mnaive\u001b[0m \u001b[1;33m=\u001b[0m \u001b[0mdefault\u001b[0m\u001b[1;33m.\u001b[0m\u001b[0mreplace\u001b[0m\u001b[1;33m(\u001b[0m\u001b[1;33m**\u001b[0m\u001b[0mrepl\u001b[0m\u001b[1;33m)\u001b[0m\u001b[1;33m\u001b[0m\u001b[1;33m\u001b[0m\u001b[0m\n\u001b[0m\u001b[0;32m   1230\u001b[0m \u001b[1;33m\u001b[0m\u001b[0m\n",
      "\u001b[1;31mValueError\u001b[0m: day is out of range for month",
      "\nDuring handling of the above exception, another exception occurred:\n",
      "\u001b[1;31mValueError\u001b[0m                                Traceback (most recent call last)",
      "\u001b[1;32m~\\Anaconda3\\lib\\site-packages\\xarray\\coding\\times.py\u001b[0m in \u001b[0;36m_decode_datetime_with_pandas\u001b[1;34m(flat_num_dates, units, calendar)\u001b[0m\n\u001b[0;32m    128\u001b[0m     \u001b[1;32mtry\u001b[0m\u001b[1;33m:\u001b[0m\u001b[1;33m\u001b[0m\u001b[1;33m\u001b[0m\u001b[0m\n\u001b[1;32m--> 129\u001b[1;33m         \u001b[0mref_date\u001b[0m \u001b[1;33m=\u001b[0m \u001b[0mpd\u001b[0m\u001b[1;33m.\u001b[0m\u001b[0mTimestamp\u001b[0m\u001b[1;33m(\u001b[0m\u001b[0mref_date\u001b[0m\u001b[1;33m)\u001b[0m\u001b[1;33m\u001b[0m\u001b[1;33m\u001b[0m\u001b[0m\n\u001b[0m\u001b[0;32m    130\u001b[0m     \u001b[1;32mexcept\u001b[0m \u001b[0mValueError\u001b[0m\u001b[1;33m:\u001b[0m\u001b[1;33m\u001b[0m\u001b[1;33m\u001b[0m\u001b[0m\n",
      "\u001b[1;32mpandas/_libs/tslibs/timestamps.pyx\u001b[0m in \u001b[0;36mpandas._libs.tslibs.timestamps.Timestamp.__new__\u001b[1;34m()\u001b[0m\n",
      "\u001b[1;32mpandas/_libs/tslibs/conversion.pyx\u001b[0m in \u001b[0;36mpandas._libs.tslibs.conversion.convert_to_tsobject\u001b[1;34m()\u001b[0m\n",
      "\u001b[1;32mpandas/_libs/tslibs/conversion.pyx\u001b[0m in \u001b[0;36mpandas._libs.tslibs.conversion.convert_str_to_tsobject\u001b[1;34m()\u001b[0m\n",
      "\u001b[1;31mValueError\u001b[0m: could not convert string to Timestamp",
      "\nDuring handling of the above exception, another exception occurred:\n",
      "\u001b[1;31mOutOfBoundsDatetime\u001b[0m                       Traceback (most recent call last)",
      "\u001b[1;32m~\\Anaconda3\\lib\\site-packages\\xarray\\coding\\times.py\u001b[0m in \u001b[0;36mdecode_cf_datetime\u001b[1;34m(num_dates, units, calendar, use_cftime)\u001b[0m\n\u001b[0;32m    175\u001b[0m             dates = _decode_datetime_with_pandas(flat_num_dates, units,\n\u001b[1;32m--> 176\u001b[1;33m                                                  calendar)\n\u001b[0m\u001b[0;32m    177\u001b[0m         \u001b[1;32mexcept\u001b[0m \u001b[1;33m(\u001b[0m\u001b[0mOutOfBoundsDatetime\u001b[0m\u001b[1;33m,\u001b[0m \u001b[0mOverflowError\u001b[0m\u001b[1;33m)\u001b[0m\u001b[1;33m:\u001b[0m\u001b[1;33m\u001b[0m\u001b[1;33m\u001b[0m\u001b[0m\n",
      "\u001b[1;32m~\\Anaconda3\\lib\\site-packages\\xarray\\coding\\times.py\u001b[0m in \u001b[0;36m_decode_datetime_with_pandas\u001b[1;34m(flat_num_dates, units, calendar)\u001b[0m\n\u001b[0;32m    132\u001b[0m         \u001b[1;31m# strings, in which case we fall back to using cftime\u001b[0m\u001b[1;33m\u001b[0m\u001b[1;33m\u001b[0m\u001b[1;33m\u001b[0m\u001b[0m\n\u001b[1;32m--> 133\u001b[1;33m         \u001b[1;32mraise\u001b[0m \u001b[0mOutOfBoundsDatetime\u001b[0m\u001b[1;33m\u001b[0m\u001b[1;33m\u001b[0m\u001b[0m\n\u001b[0m\u001b[0;32m    134\u001b[0m \u001b[1;33m\u001b[0m\u001b[0m\n",
      "\u001b[1;31mOutOfBoundsDatetime\u001b[0m: ",
      "\nDuring handling of the above exception, another exception occurred:\n",
      "\u001b[1;31mValueError\u001b[0m                                Traceback (most recent call last)",
      "\u001b[1;32m~\\Anaconda3\\lib\\site-packages\\xarray\\coding\\times.py\u001b[0m in \u001b[0;36m_decode_cf_datetime_dtype\u001b[1;34m(data, units, calendar, use_cftime)\u001b[0m\n\u001b[0;32m     93\u001b[0m         result = decode_cf_datetime(example_value, units, calendar,\n\u001b[1;32m---> 94\u001b[1;33m                                     use_cftime)\n\u001b[0m\u001b[0;32m     95\u001b[0m     \u001b[1;32mexcept\u001b[0m \u001b[0mException\u001b[0m\u001b[1;33m:\u001b[0m\u001b[1;33m\u001b[0m\u001b[1;33m\u001b[0m\u001b[0m\n",
      "\u001b[1;32m~\\Anaconda3\\lib\\site-packages\\xarray\\coding\\times.py\u001b[0m in \u001b[0;36mdecode_cf_datetime\u001b[1;34m(num_dates, units, calendar, use_cftime)\u001b[0m\n\u001b[0;32m    178\u001b[0m             dates = _decode_datetime_with_cftime(\n\u001b[1;32m--> 179\u001b[1;33m                 flat_num_dates.astype(np.float), units, calendar)\n\u001b[0m\u001b[0;32m    180\u001b[0m \u001b[1;33m\u001b[0m\u001b[0m\n",
      "\u001b[1;32m~\\Anaconda3\\lib\\site-packages\\xarray\\coding\\times.py\u001b[0m in \u001b[0;36m_decode_datetime_with_cftime\u001b[1;34m(num_dates, units, calendar)\u001b[0m\n\u001b[0;32m    112\u001b[0m         return np.asarray(cftime.num2date(num_dates, units, calendar,\n\u001b[1;32m--> 113\u001b[1;33m                                           only_use_cftime_datetimes=True))\n\u001b[0m\u001b[0;32m    114\u001b[0m     \u001b[1;32melse\u001b[0m\u001b[1;33m:\u001b[0m\u001b[1;33m\u001b[0m\u001b[1;33m\u001b[0m\u001b[0m\n",
      "\u001b[1;32mcftime\\_cftime.pyx\u001b[0m in \u001b[0;36mcftime._cftime.num2date\u001b[1;34m()\u001b[0m\n",
      "\u001b[1;32mcftime\\_cftime.pyx\u001b[0m in \u001b[0;36mcftime._cftime._dateparse\u001b[1;34m()\u001b[0m\n",
      "\u001b[1;31mValueError\u001b[0m: day is out of range for month",
      "\nDuring handling of the above exception, another exception occurred:\n",
      "\u001b[1;31mValueError\u001b[0m                                Traceback (most recent call last)",
      "\u001b[1;32m<ipython-input-2-aff96b8ea9f6>\u001b[0m in \u001b[0;36m<module>\u001b[1;34m\u001b[0m\n\u001b[0;32m      1\u001b[0m \u001b[1;32mimport\u001b[0m \u001b[0mxarray\u001b[0m \u001b[1;32mas\u001b[0m \u001b[0mxr\u001b[0m\u001b[1;33m\u001b[0m\u001b[1;33m\u001b[0m\u001b[0m\n\u001b[0;32m      2\u001b[0m \u001b[0mmulti_dataDIR\u001b[0m \u001b[1;33m=\u001b[0m \u001b[1;34m'D:/ANUSPLIN_10km/Netcdf/tasmin/ANUSPLIN_10km_tasmin_ll_*_01_d.nc'\u001b[0m\u001b[1;33m\u001b[0m\u001b[1;33m\u001b[0m\u001b[0m\n\u001b[1;32m----> 3\u001b[1;33m \u001b[0mTAS2\u001b[0m \u001b[1;33m=\u001b[0m \u001b[0mxr\u001b[0m\u001b[1;33m.\u001b[0m\u001b[0mopen_mfdataset\u001b[0m\u001b[1;33m(\u001b[0m\u001b[0mmulti_dataDIR\u001b[0m\u001b[1;33m)\u001b[0m\u001b[1;33m\u001b[0m\u001b[1;33m\u001b[0m\u001b[0m\n\u001b[0m",
      "\u001b[1;32m~\\Anaconda3\\lib\\site-packages\\xarray\\backends\\api.py\u001b[0m in \u001b[0;36mopen_mfdataset\u001b[1;34m(paths, chunks, concat_dim, compat, preprocess, engine, lock, data_vars, coords, autoclose, parallel, **kwargs)\u001b[0m\n\u001b[0;32m    696\u001b[0m         \u001b[0mgetattr_\u001b[0m \u001b[1;33m=\u001b[0m \u001b[0mgetattr\u001b[0m\u001b[1;33m\u001b[0m\u001b[1;33m\u001b[0m\u001b[0m\n\u001b[0;32m    697\u001b[0m \u001b[1;33m\u001b[0m\u001b[0m\n\u001b[1;32m--> 698\u001b[1;33m     \u001b[0mdatasets\u001b[0m \u001b[1;33m=\u001b[0m \u001b[1;33m[\u001b[0m\u001b[0mopen_\u001b[0m\u001b[1;33m(\u001b[0m\u001b[0mp\u001b[0m\u001b[1;33m,\u001b[0m \u001b[1;33m**\u001b[0m\u001b[0mopen_kwargs\u001b[0m\u001b[1;33m)\u001b[0m \u001b[1;32mfor\u001b[0m \u001b[0mp\u001b[0m \u001b[1;32min\u001b[0m \u001b[0mpaths\u001b[0m\u001b[1;33m]\u001b[0m\u001b[1;33m\u001b[0m\u001b[1;33m\u001b[0m\u001b[0m\n\u001b[0m\u001b[0;32m    699\u001b[0m     \u001b[0mfile_objs\u001b[0m \u001b[1;33m=\u001b[0m \u001b[1;33m[\u001b[0m\u001b[0mgetattr_\u001b[0m\u001b[1;33m(\u001b[0m\u001b[0mds\u001b[0m\u001b[1;33m,\u001b[0m \u001b[1;34m'_file_obj'\u001b[0m\u001b[1;33m)\u001b[0m \u001b[1;32mfor\u001b[0m \u001b[0mds\u001b[0m \u001b[1;32min\u001b[0m \u001b[0mdatasets\u001b[0m\u001b[1;33m]\u001b[0m\u001b[1;33m\u001b[0m\u001b[1;33m\u001b[0m\u001b[0m\n\u001b[0;32m    700\u001b[0m     \u001b[1;32mif\u001b[0m \u001b[0mpreprocess\u001b[0m \u001b[1;32mis\u001b[0m \u001b[1;32mnot\u001b[0m \u001b[1;32mNone\u001b[0m\u001b[1;33m:\u001b[0m\u001b[1;33m\u001b[0m\u001b[1;33m\u001b[0m\u001b[0m\n",
      "\u001b[1;32m~\\Anaconda3\\lib\\site-packages\\xarray\\backends\\api.py\u001b[0m in \u001b[0;36m<listcomp>\u001b[1;34m(.0)\u001b[0m\n\u001b[0;32m    696\u001b[0m         \u001b[0mgetattr_\u001b[0m \u001b[1;33m=\u001b[0m \u001b[0mgetattr\u001b[0m\u001b[1;33m\u001b[0m\u001b[1;33m\u001b[0m\u001b[0m\n\u001b[0;32m    697\u001b[0m \u001b[1;33m\u001b[0m\u001b[0m\n\u001b[1;32m--> 698\u001b[1;33m     \u001b[0mdatasets\u001b[0m \u001b[1;33m=\u001b[0m \u001b[1;33m[\u001b[0m\u001b[0mopen_\u001b[0m\u001b[1;33m(\u001b[0m\u001b[0mp\u001b[0m\u001b[1;33m,\u001b[0m \u001b[1;33m**\u001b[0m\u001b[0mopen_kwargs\u001b[0m\u001b[1;33m)\u001b[0m \u001b[1;32mfor\u001b[0m \u001b[0mp\u001b[0m \u001b[1;32min\u001b[0m \u001b[0mpaths\u001b[0m\u001b[1;33m]\u001b[0m\u001b[1;33m\u001b[0m\u001b[1;33m\u001b[0m\u001b[0m\n\u001b[0m\u001b[0;32m    699\u001b[0m     \u001b[0mfile_objs\u001b[0m \u001b[1;33m=\u001b[0m \u001b[1;33m[\u001b[0m\u001b[0mgetattr_\u001b[0m\u001b[1;33m(\u001b[0m\u001b[0mds\u001b[0m\u001b[1;33m,\u001b[0m \u001b[1;34m'_file_obj'\u001b[0m\u001b[1;33m)\u001b[0m \u001b[1;32mfor\u001b[0m \u001b[0mds\u001b[0m \u001b[1;32min\u001b[0m \u001b[0mdatasets\u001b[0m\u001b[1;33m]\u001b[0m\u001b[1;33m\u001b[0m\u001b[1;33m\u001b[0m\u001b[0m\n\u001b[0;32m    700\u001b[0m     \u001b[1;32mif\u001b[0m \u001b[0mpreprocess\u001b[0m \u001b[1;32mis\u001b[0m \u001b[1;32mnot\u001b[0m \u001b[1;32mNone\u001b[0m\u001b[1;33m:\u001b[0m\u001b[1;33m\u001b[0m\u001b[1;33m\u001b[0m\u001b[0m\n",
      "\u001b[1;32m~\\Anaconda3\\lib\\site-packages\\xarray\\backends\\api.py\u001b[0m in \u001b[0;36mopen_dataset\u001b[1;34m(filename_or_obj, group, decode_cf, mask_and_scale, decode_times, autoclose, concat_characters, decode_coords, engine, chunks, lock, cache, drop_variables, backend_kwargs, use_cftime)\u001b[0m\n\u001b[0;32m    392\u001b[0m \u001b[1;33m\u001b[0m\u001b[0m\n\u001b[0;32m    393\u001b[0m     \u001b[1;32mwith\u001b[0m \u001b[0mclose_on_error\u001b[0m\u001b[1;33m(\u001b[0m\u001b[0mstore\u001b[0m\u001b[1;33m)\u001b[0m\u001b[1;33m:\u001b[0m\u001b[1;33m\u001b[0m\u001b[1;33m\u001b[0m\u001b[0m\n\u001b[1;32m--> 394\u001b[1;33m         \u001b[0mds\u001b[0m \u001b[1;33m=\u001b[0m \u001b[0mmaybe_decode_store\u001b[0m\u001b[1;33m(\u001b[0m\u001b[0mstore\u001b[0m\u001b[1;33m)\u001b[0m\u001b[1;33m\u001b[0m\u001b[1;33m\u001b[0m\u001b[0m\n\u001b[0m\u001b[0;32m    395\u001b[0m \u001b[1;33m\u001b[0m\u001b[0m\n\u001b[0;32m    396\u001b[0m     \u001b[1;31m# Ensure source filename always stored in dataset object (GH issue #2550)\u001b[0m\u001b[1;33m\u001b[0m\u001b[1;33m\u001b[0m\u001b[1;33m\u001b[0m\u001b[0m\n",
      "\u001b[1;32m~\\Anaconda3\\lib\\site-packages\\xarray\\backends\\api.py\u001b[0m in \u001b[0;36mmaybe_decode_store\u001b[1;34m(store, lock)\u001b[0m\n\u001b[0;32m    322\u001b[0m             \u001b[0mstore\u001b[0m\u001b[1;33m,\u001b[0m \u001b[0mmask_and_scale\u001b[0m\u001b[1;33m=\u001b[0m\u001b[0mmask_and_scale\u001b[0m\u001b[1;33m,\u001b[0m \u001b[0mdecode_times\u001b[0m\u001b[1;33m=\u001b[0m\u001b[0mdecode_times\u001b[0m\u001b[1;33m,\u001b[0m\u001b[1;33m\u001b[0m\u001b[1;33m\u001b[0m\u001b[0m\n\u001b[0;32m    323\u001b[0m             \u001b[0mconcat_characters\u001b[0m\u001b[1;33m=\u001b[0m\u001b[0mconcat_characters\u001b[0m\u001b[1;33m,\u001b[0m \u001b[0mdecode_coords\u001b[0m\u001b[1;33m=\u001b[0m\u001b[0mdecode_coords\u001b[0m\u001b[1;33m,\u001b[0m\u001b[1;33m\u001b[0m\u001b[1;33m\u001b[0m\u001b[0m\n\u001b[1;32m--> 324\u001b[1;33m             drop_variables=drop_variables, use_cftime=use_cftime)\n\u001b[0m\u001b[0;32m    325\u001b[0m \u001b[1;33m\u001b[0m\u001b[0m\n\u001b[0;32m    326\u001b[0m         \u001b[0m_protect_dataset_variables_inplace\u001b[0m\u001b[1;33m(\u001b[0m\u001b[0mds\u001b[0m\u001b[1;33m,\u001b[0m \u001b[0mcache\u001b[0m\u001b[1;33m)\u001b[0m\u001b[1;33m\u001b[0m\u001b[1;33m\u001b[0m\u001b[0m\n",
      "\u001b[1;32m~\\Anaconda3\\lib\\site-packages\\xarray\\conventions.py\u001b[0m in \u001b[0;36mdecode_cf\u001b[1;34m(obj, concat_characters, mask_and_scale, decode_times, decode_coords, drop_variables, use_cftime)\u001b[0m\n\u001b[0;32m    477\u001b[0m     vars, attrs, coord_names = decode_cf_variables(\n\u001b[0;32m    478\u001b[0m         \u001b[0mvars\u001b[0m\u001b[1;33m,\u001b[0m \u001b[0mattrs\u001b[0m\u001b[1;33m,\u001b[0m \u001b[0mconcat_characters\u001b[0m\u001b[1;33m,\u001b[0m \u001b[0mmask_and_scale\u001b[0m\u001b[1;33m,\u001b[0m \u001b[0mdecode_times\u001b[0m\u001b[1;33m,\u001b[0m\u001b[1;33m\u001b[0m\u001b[1;33m\u001b[0m\u001b[0m\n\u001b[1;32m--> 479\u001b[1;33m         decode_coords, drop_variables=drop_variables, use_cftime=use_cftime)\n\u001b[0m\u001b[0;32m    480\u001b[0m     \u001b[0mds\u001b[0m \u001b[1;33m=\u001b[0m \u001b[0mDataset\u001b[0m\u001b[1;33m(\u001b[0m\u001b[0mvars\u001b[0m\u001b[1;33m,\u001b[0m \u001b[0mattrs\u001b[0m\u001b[1;33m=\u001b[0m\u001b[0mattrs\u001b[0m\u001b[1;33m)\u001b[0m\u001b[1;33m\u001b[0m\u001b[1;33m\u001b[0m\u001b[0m\n\u001b[0;32m    481\u001b[0m     \u001b[0mds\u001b[0m \u001b[1;33m=\u001b[0m \u001b[0mds\u001b[0m\u001b[1;33m.\u001b[0m\u001b[0mset_coords\u001b[0m\u001b[1;33m(\u001b[0m\u001b[0mcoord_names\u001b[0m\u001b[1;33m.\u001b[0m\u001b[0munion\u001b[0m\u001b[1;33m(\u001b[0m\u001b[0mextra_coords\u001b[0m\u001b[1;33m)\u001b[0m\u001b[1;33m.\u001b[0m\u001b[0mintersection\u001b[0m\u001b[1;33m(\u001b[0m\u001b[0mvars\u001b[0m\u001b[1;33m)\u001b[0m\u001b[1;33m)\u001b[0m\u001b[1;33m\u001b[0m\u001b[1;33m\u001b[0m\u001b[0m\n",
      "\u001b[1;32m~\\Anaconda3\\lib\\site-packages\\xarray\\conventions.py\u001b[0m in \u001b[0;36mdecode_cf_variables\u001b[1;34m(variables, attributes, concat_characters, mask_and_scale, decode_times, decode_coords, drop_variables, use_cftime)\u001b[0m\n\u001b[0;32m    399\u001b[0m             \u001b[0mk\u001b[0m\u001b[1;33m,\u001b[0m \u001b[0mv\u001b[0m\u001b[1;33m,\u001b[0m \u001b[0mconcat_characters\u001b[0m\u001b[1;33m=\u001b[0m\u001b[0mconcat_characters\u001b[0m\u001b[1;33m,\u001b[0m\u001b[1;33m\u001b[0m\u001b[1;33m\u001b[0m\u001b[0m\n\u001b[0;32m    400\u001b[0m             \u001b[0mmask_and_scale\u001b[0m\u001b[1;33m=\u001b[0m\u001b[0mmask_and_scale\u001b[0m\u001b[1;33m,\u001b[0m \u001b[0mdecode_times\u001b[0m\u001b[1;33m=\u001b[0m\u001b[0mdecode_times\u001b[0m\u001b[1;33m,\u001b[0m\u001b[1;33m\u001b[0m\u001b[1;33m\u001b[0m\u001b[0m\n\u001b[1;32m--> 401\u001b[1;33m             stack_char_dim=stack_char_dim, use_cftime=use_cftime)\n\u001b[0m\u001b[0;32m    402\u001b[0m         \u001b[1;32mif\u001b[0m \u001b[0mdecode_coords\u001b[0m\u001b[1;33m:\u001b[0m\u001b[1;33m\u001b[0m\u001b[1;33m\u001b[0m\u001b[0m\n\u001b[0;32m    403\u001b[0m             \u001b[0mvar_attrs\u001b[0m \u001b[1;33m=\u001b[0m \u001b[0mnew_vars\u001b[0m\u001b[1;33m[\u001b[0m\u001b[0mk\u001b[0m\u001b[1;33m]\u001b[0m\u001b[1;33m.\u001b[0m\u001b[0mattrs\u001b[0m\u001b[1;33m\u001b[0m\u001b[1;33m\u001b[0m\u001b[0m\n",
      "\u001b[1;32m~\\Anaconda3\\lib\\site-packages\\xarray\\conventions.py\u001b[0m in \u001b[0;36mdecode_cf_variable\u001b[1;34m(name, var, concat_characters, mask_and_scale, decode_times, decode_endianness, stack_char_dim, use_cftime)\u001b[0m\n\u001b[0;32m    304\u001b[0m         for coder in [times.CFTimedeltaCoder(),\n\u001b[0;32m    305\u001b[0m                       times.CFDatetimeCoder(use_cftime=use_cftime)]:\n\u001b[1;32m--> 306\u001b[1;33m             \u001b[0mvar\u001b[0m \u001b[1;33m=\u001b[0m \u001b[0mcoder\u001b[0m\u001b[1;33m.\u001b[0m\u001b[0mdecode\u001b[0m\u001b[1;33m(\u001b[0m\u001b[0mvar\u001b[0m\u001b[1;33m,\u001b[0m \u001b[0mname\u001b[0m\u001b[1;33m=\u001b[0m\u001b[0mname\u001b[0m\u001b[1;33m)\u001b[0m\u001b[1;33m\u001b[0m\u001b[1;33m\u001b[0m\u001b[0m\n\u001b[0m\u001b[0;32m    307\u001b[0m \u001b[1;33m\u001b[0m\u001b[0m\n\u001b[0;32m    308\u001b[0m     dimensions, data, attributes, encoding = (\n",
      "\u001b[1;32m~\\Anaconda3\\lib\\site-packages\\xarray\\coding\\times.py\u001b[0m in \u001b[0;36mdecode\u001b[1;34m(self, variable, name)\u001b[0m\n\u001b[0;32m    417\u001b[0m             \u001b[0mcalendar\u001b[0m \u001b[1;33m=\u001b[0m \u001b[0mpop_to\u001b[0m\u001b[1;33m(\u001b[0m\u001b[0mattrs\u001b[0m\u001b[1;33m,\u001b[0m \u001b[0mencoding\u001b[0m\u001b[1;33m,\u001b[0m \u001b[1;34m'calendar'\u001b[0m\u001b[1;33m)\u001b[0m\u001b[1;33m\u001b[0m\u001b[1;33m\u001b[0m\u001b[0m\n\u001b[0;32m    418\u001b[0m             dtype = _decode_cf_datetime_dtype(data, units, calendar,\n\u001b[1;32m--> 419\u001b[1;33m                                               self.use_cftime)\n\u001b[0m\u001b[0;32m    420\u001b[0m             transform = partial(\n\u001b[0;32m    421\u001b[0m                 \u001b[0mdecode_cf_datetime\u001b[0m\u001b[1;33m,\u001b[0m \u001b[0munits\u001b[0m\u001b[1;33m=\u001b[0m\u001b[0munits\u001b[0m\u001b[1;33m,\u001b[0m \u001b[0mcalendar\u001b[0m\u001b[1;33m=\u001b[0m\u001b[0mcalendar\u001b[0m\u001b[1;33m,\u001b[0m\u001b[1;33m\u001b[0m\u001b[1;33m\u001b[0m\u001b[0m\n",
      "\u001b[1;32m~\\Anaconda3\\lib\\site-packages\\xarray\\coding\\times.py\u001b[0m in \u001b[0;36m_decode_cf_datetime_dtype\u001b[1;34m(data, units, calendar, use_cftime)\u001b[0m\n\u001b[0;32m     99\u001b[0m                \u001b[1;34m'opening your dataset with decode_times=False.'\u001b[0m\u001b[1;33m\u001b[0m\u001b[1;33m\u001b[0m\u001b[0m\n\u001b[0;32m    100\u001b[0m                % (units, calendar_msg))\n\u001b[1;32m--> 101\u001b[1;33m         \u001b[1;32mraise\u001b[0m \u001b[0mValueError\u001b[0m\u001b[1;33m(\u001b[0m\u001b[0mmsg\u001b[0m\u001b[1;33m)\u001b[0m\u001b[1;33m\u001b[0m\u001b[1;33m\u001b[0m\u001b[0m\n\u001b[0m\u001b[0;32m    102\u001b[0m     \u001b[1;32melse\u001b[0m\u001b[1;33m:\u001b[0m\u001b[1;33m\u001b[0m\u001b[1;33m\u001b[0m\u001b[0m\n\u001b[0;32m    103\u001b[0m         \u001b[0mdtype\u001b[0m \u001b[1;33m=\u001b[0m \u001b[0mgetattr\u001b[0m\u001b[1;33m(\u001b[0m\u001b[0mresult\u001b[0m\u001b[1;33m,\u001b[0m \u001b[1;34m'dtype'\u001b[0m\u001b[1;33m,\u001b[0m \u001b[0mnp\u001b[0m\u001b[1;33m.\u001b[0m\u001b[0mdtype\u001b[0m\u001b[1;33m(\u001b[0m\u001b[1;34m'object'\u001b[0m\u001b[1;33m)\u001b[0m\u001b[1;33m)\u001b[0m\u001b[1;33m\u001b[0m\u001b[1;33m\u001b[0m\u001b[0m\n",
      "\u001b[1;31mValueError\u001b[0m: unable to decode time units 'days since  1950-01-00 00:00:00' with calendar 'proleptic_gregorian'. Try opening your dataset with decode_times=False."
     ]
    }
   ],
   "source": [
    "import xarray as xr\n",
    "multi_dataDIR = 'D:/ANUSPLIN_10km/Netcdf/tasmin/ANUSPLIN_10km_tasmin_ll_*_01_d.nc'\n",
    "TAS2 = xr.open_mfdataset(multi_dataDIR)"
   ]
  },
  {
   "cell_type": "code",
   "execution_count": null,
   "metadata": {},
   "outputs": [],
   "source": []
  }
 ],
 "metadata": {
  "kernelspec": {
   "display_name": "Python 3",
   "language": "python",
   "name": "python3"
  },
  "language_info": {
   "codemirror_mode": {
    "name": "ipython",
    "version": 3
   },
   "file_extension": ".py",
   "mimetype": "text/x-python",
   "name": "python",
   "nbconvert_exporter": "python",
   "pygments_lexer": "ipython3",
   "version": "3.7.3"
  }
 },
 "nbformat": 4,
 "nbformat_minor": 2
}
