{
 "cells": [
  {
   "cell_type": "markdown",
   "metadata": {},
   "source": [
    "# 2- Working with Netcd4-python data - Part 2\n",
    "\n",
    "\n",
    "\n",
    "Instead of extracting a grid point, we may want to extract a domain / box delimited by latitudes and longitudes.\n",
    "\n",
    "In this example we will work with the annual mean of daily maximum temperature data from several regional models of CORDEX-NAM44.\n",
    "\n",
    "We will extract all the grid points from the region between <b> 47degN and 51degN of latitude and between -72degW and -64degW of longitude </b>.\n",
    "\n",
    "We will then plot the inter-annual variability of the mean annual temperature anomalies. \n",
    "\n",
    "<img src=\"./figures/CORDEX_domaine.png\" alt=\"NARR\" width=\"50%\" height=\"60%\">\n"
   ]
  },
  {
   "cell_type": "code",
   "execution_count": null,
   "metadata": {},
   "outputs": [],
   "source": [
    "# we first inmport librairies\n",
    "import netCDF4\n",
    "import numpy as np\n",
    "import pandas as pd\n",
    "from datetime import datetime\n",
    "import matplotlib.pylab as plt\n",
    "import warnings; warnings.filterwarnings(action='ignore')\n",
    "import seaborn as sns\n",
    "from matplotlib import gridspec\n",
    "\n",
    "# path and variable name\n",
    "rep='./DATA/Inter_annual_anomaly/'\n",
    "variable_in = 'Mean_tasmax'\n",
    "\n",
    "# list of periods we want to use\n",
    "list_period = ['2011-2040','2041-2070','2071-2100']\n",
    "\n",
    "# list of models\n",
    "list_rcp45 = ['CRCM5-v1_NAM-44_ll_CCCma-CanESM2_rcp45', 'CRCM5-v1_NAM-44_ll_MPI-M-MPI-ESM-LR_rcp45' ]\n",
    "\n",
    "# Area to extract\n",
    "latbounds = [ 47 , 51 ]\n",
    "lonbounds = [ -72 , -64 ] "
   ]
  },
  {
   "cell_type": "markdown",
   "metadata": {},
   "source": [
    "We will make a loop over each model and period to make the extraction:"
   ]
  },
  {
   "cell_type": "code",
   "execution_count": null,
   "metadata": {},
   "outputs": [],
   "source": [
    "# \n",
    "df_rcp45 = []\n",
    "matrix_45 = []\n",
    "for period in list_period: \n",
    "    globals()['flattened_list_'+period] = []  # we define a global variable \n",
    "    for i in range(0,len(list_rcp45)):\n",
    "        filename= rep +'anomalie_' +  list_rcp45[i] +  '_' + variable_in + '_' + period  + '_1971-2000.nc'   \n",
    "        nc = netCDF4.Dataset(filename)\n",
    "        # we here read netcdf values\n",
    "        var = nc.variables[variable_in][:]  \n",
    "        lats = nc.variables['lat'][:]; lons = nc.variables['lon'][:]\n",
    "        # in this part, we extract our domain \n",
    "        subset = ((lats > latbounds[0]) & (lats < latbounds[1]) & \n",
    "             (lons > lonbounds[0]) & (lons < lonbounds[1]))\n",
    "        data=pd.DataFrame(var[:,subset], dtype='float') \n",
    "        globals()['flattened_list_'+period].append(data.mean(axis=1))\n",
    "        \n",
    "    df_rcp45.append(pd.DataFrame(globals()['flattened_list_'+period]).T) \n",
    "    \n",
    "df_rcp45 = pd.concat(df_rcp45)\n",
    "df_rcp45.head()"
   ]
  },
  {
   "cell_type": "markdown",
   "metadata": {},
   "source": [
    "We can add datetime index in our DataFrame."
   ]
  },
  {
   "cell_type": "code",
   "execution_count": null,
   "metadata": {},
   "outputs": [],
   "source": [
    "TIME=[]\n",
    "for y in range(int(list_period[0].split('-')[0]),int(list_period[-1].split('-')[-1])+1,1):\n",
    "    TIME.append(datetime.strptime(str(y), '%Y'))\n",
    "    \n",
    "df_rcp45['Date'] = TIME   \n",
    "df_rcp45.index = df_rcp45['Date']\n",
    "df_rcp45 = df_rcp45.drop([\"Date\"], axis=1) \n",
    "df_rcp45.head()"
   ]
  },
  {
   "cell_type": "markdown",
   "metadata": {},
   "source": [
    "We then want, for each year, the intra-model variability. For this, we will calculate the minimum and maximum values by applying the <b> .apply </b> method."
   ]
  },
  {
   "cell_type": "code",
   "execution_count": null,
   "metadata": {},
   "outputs": [],
   "source": [
    "df_rcp45['min'] = df_rcp45.apply(np.min, axis=1)\n",
    "df_rcp45['max'] = df_rcp45.apply(np.max, axis=1)\n",
    "df_rcp45['mean'] = df_rcp45.apply(np.mean, axis=1)\n",
    "df_rcp45.head()"
   ]
  },
  {
   "cell_type": "markdown",
   "metadata": {},
   "source": [
    "We will make the same work with RCMs in future condition with rcp8.5 scenario and RCMs in historical conditions."
   ]
  },
  {
   "cell_type": "code",
   "execution_count": null,
   "metadata": {},
   "outputs": [],
   "source": [
    "list_rcp85 = ['CRCM5-v1_NAM-44_ll_CCCma-CanESM2_rcp85','CRCM5-v1_NAM-44_ll_MPI-M-MPI-ESM-MR_rcp85']\n",
    "df_rcp85 = []\n",
    "matrix_85 = []\n",
    "for period in list_period: \n",
    "    globals()['flattened_list_'+period] = []\n",
    "    for i in range(0,len(list_rcp85)):\n",
    "        filename= rep + 'anomalie_' +  list_rcp85[i] +  '_' + variable_in + '_' + period  + '_1971-2000.nc'   \n",
    "        nc = netCDF4.Dataset(filename)\n",
    "        var = nc.variables[variable_in][:]  \n",
    "        lats = nc.variables['lat'][:]; lons = nc.variables['lon'][:]            \n",
    "        subset = ((lats > latbounds[0]) & (lats < latbounds[1]) & \n",
    "             (lons > lonbounds[0]) & (lons < lonbounds[1]))\n",
    "        #mask = np.where(subset)\n",
    "        data=pd.DataFrame(var[:,subset], dtype='float') \n",
    "        globals()['flattened_list_'+period].append(data.mean(axis=1))        \n",
    "    df_rcp85.append(pd.DataFrame(globals()['flattened_list_'+period]).T) \n",
    "    \n",
    "df_rcp85 = pd.concat(df_rcp85)\n",
    "df_rcp85['Date'] = TIME   \n",
    "df_rcp85.index = df_rcp85['Date']\n",
    "df_rcp85 = df_rcp85.drop([\"Date\"], axis=1)  \n",
    "\n",
    "df_rcp85['min'] = df_rcp85.apply(np.min, axis=1)\n",
    "df_rcp85['max'] = df_rcp85.apply(np.max, axis=1)\n",
    "df_rcp85['mean'] = df_rcp85.apply(np.mean, axis=1)\n",
    "\n",
    "### historical RCMs\n",
    "list_histo = ['CRCM5-v1_NAM-44_ll_CCCma-CanESM2_historical', 'CRCM5-v1_NAM-44_ll_MPI-M-MPI-ESM-LR_historical']\n",
    "df_histo = []\n",
    "globals()['flattened_list_'+period] = []\n",
    "for i in range(0,len(list_histo)):\n",
    "    filename= rep + 'anomalie_' +  list_histo[i] +  '_' + variable_in + '_1971-2000_1971-2000.nc'   \n",
    "    nc = netCDF4.Dataset(filename)\n",
    "    var = nc.variables[variable_in][:]  \n",
    "    lats = nc.variables['lat'][:]; lons = nc.variables['lon'][:]\n",
    "    \n",
    "    subset = ((lats > latbounds[0]) & (lats < latbounds[1]) & \n",
    "         (lons > lonbounds[0]) & (lons < lonbounds[1]))\n",
    "    #mask = np.where(subset)\n",
    "    data=pd.DataFrame(var[:,subset], dtype='float') \n",
    "    globals()['flattened_list_'+period].append(data.mean(axis=1))        \n",
    "df_histo.append(pd.DataFrame(globals()['flattened_list_'+period]).T) \n",
    "TIME=[]\n",
    "for y in range(1971,2001,1):\n",
    "    TIME.append(datetime.strptime(str(y), '%Y'))  \n",
    "    \n",
    "df_histo = pd.concat(df_histo)\n",
    "df_histo['Date'] = TIME   \n",
    "df_histo.index = df_histo['Date']\n",
    "df_histo = df_histo.drop([\"Date\"], axis=1)  \n",
    "\n",
    "df_histo['min'] = df_histo.apply(np.min, axis=1)\n",
    "df_histo['max'] = df_histo.apply(np.max, axis=1)\n",
    "df_histo['mean'] = df_histo.apply(np.mean, axis=1)"
   ]
  },
  {
   "cell_type": "markdown",
   "metadata": {},
   "source": [
    "We put all results in the same DataFrame: "
   ]
  },
  {
   "cell_type": "code",
   "execution_count": null,
   "metadata": {},
   "outputs": [],
   "source": [
    "result = []\n",
    "result = pd.DataFrame({'min_rcp45': df_rcp45['min'], 'max_rcp45': df_rcp45['max'],'mean_rcp45': df_rcp45['mean'],\n",
    "                       'min_rcp85': df_rcp85['min'], 'max_rcp85': df_rcp85['max'],'mean_rcp85': df_rcp85['mean'],\n",
    "                       'min_histo': df_histo['min'], 'max_histo': df_histo['max'],'mean_histo': df_histo['mean']},\n",
    "        columns = ['min_rcp45','max_rcp45','mean_rcp45','min_rcp85','max_rcp85','mean_rcp85','min_histo','max_histo','mean_histo']) \n",
    "\n",
    "result.tail()"
   ]
  },
  {
   "cell_type": "markdown",
   "metadata": {},
   "source": [
    "We can now plot our inter-annual variability:"
   ]
  },
  {
   "cell_type": "code",
   "execution_count": null,
   "metadata": {},
   "outputs": [],
   "source": [
    "color = ['black','blue', 'red']\n",
    "fig = plt.figure(figsize=(10, 6)) \n",
    "gs = gridspec.GridSpec(1, 2, width_ratios=[6, 1]) \n",
    "gs.update( wspace=0.04)\n",
    "ax1 = plt.subplot(gs[0])\n",
    "\n",
    "plt.rcParams[\"figure.figsize\"]=[16,9]       #  \n",
    "plt.plot(result.index.year, result['mean_histo'][:],  label='RCMs historical', linewidth=2, c=color[0])\n",
    "plt.plot(result.index.year, result['mean_rcp45'][:],  label='RCMs scenario rcp 4.5', linewidth=2, c=color[1])\n",
    "plt.plot(result.index.year, result['mean_rcp85'][:],  label='RCMs scenario rcp 8.5', linewidth=2, c=color[2])\n",
    "\n",
    "plt.fill_between(result.index.year,result['min_histo'],result['max_histo'], color = color[0], alpha=.2)\n",
    "plt.fill_between(result.index.year,result['min_rcp45'],result['max_rcp45'], color =  color[1], alpha=.2)\n",
    "plt.fill_between(result.index.year,result['min_rcp85'],result['max_rcp85'], color =  color[2], alpha=.2)\n",
    "plt.legend(loc=\"upper left\", markerscale=1., scatterpoints=1, fontsize=20)\n",
    "\n",
    "plt.xticks(range(result.index.year[0]-1, result.index.year[-1]+1, 10), fontsize=14)\n",
    "plt.yticks( fontsize=14)\n",
    "\n",
    "ax1.grid(axis = \"x\", linestyle = \"--\", color='black', linewidth=0.25, alpha=0.5)\n",
    "ax1.grid(axis = \"y\", linestyle = \"--\", color='black', linewidth=0.25, alpha=0.5)\n",
    "\n",
    "plt.setp(plt.gca().get_xticklabels(), rotation=45, ha=\"right\")\n",
    "\n",
    "plt.xlabel('Date', fontsize=20, color='black', weight='semibold')\n",
    "plt.ylabel('°C', fontsize=20, color='black', weight='semibold')\n",
    "plt.title('Annual change in daily maximum temperature: (1971-2100) compared with normal (1971-2000)', fontsize=20, color='black', weight='semibold')\n",
    " \n",
    "ax1.set_facecolor('white')\n",
    "plt.yticks( fontsize=14)\n",
    "plt.show()  \n"
   ]
  },
  {
   "cell_type": "markdown",
   "metadata": {},
   "source": [
    "We would add next to our chart a boxplot on all models for the period 1971-2000 and 2071-2100 only.\n",
    "We will extract these periods from our matrix result = []"
   ]
  },
  {
   "cell_type": "code",
   "execution_count": null,
   "metadata": {},
   "outputs": [],
   "source": [
    "list_to_remove = ['min','max','mean']\n",
    "df_histo = df_histo.drop(list_to_remove, axis=1)  \n",
    "df_rcp45 = df_rcp45.drop(list_to_remove, axis=1)  \n",
    "df_rcp85 = df_rcp85.drop(list_to_remove, axis=1) \n",
    "df_histo = df_histo.loc['1971' : '2010'].stack()\n",
    "df_rcp45 = df_rcp45.loc['2071' : '2100'].stack()\n",
    "df_rcp85 = df_rcp85.loc['2071' : '2100'].stack()\n",
    "\n",
    "matrix_box = pd.DataFrame({'RCMs_histo': df_histo, 'RCMs_rcp45': df_rcp45,'RCMs_rcp85': df_rcp85},\n",
    "        columns = ['RCMs_histo','RCMs_rcp45','RCMs_rcp85'])\n",
    "matrix_box.head()"
   ]
  },
  {
   "cell_type": "code",
   "execution_count": null,
   "metadata": {},
   "outputs": [],
   "source": [
    "color = ['black','blue', 'red']\n",
    "fig = plt.figure(figsize=(22, 12)) \n",
    "gs = gridspec.GridSpec(1, 2, width_ratios=[6, 1]) \n",
    "gs.update( wspace=0.04)\n",
    "ax1 = plt.subplot(gs[0])\n",
    "\n",
    "plt.rcParams[\"figure.figsize\"]=[16,9]       #  \n",
    "plt.plot(result.index.year, result['mean_histo'][:],  label='RCMs historical', linewidth=2, c=color[0])\n",
    "plt.plot(result.index.year, result['mean_rcp45'][:],  label='RCMs scenario rcp 4.5', linewidth=2, c=color[1])\n",
    "plt.plot(result.index.year, result['mean_rcp85'][:],  label='RCMs scenario rcp 8.5', linewidth=2, c=color[2])\n",
    "\n",
    "plt.fill_between(result.index.year,result['min_histo'],result['max_histo'], color = color[0], alpha=.2)\n",
    "plt.fill_between(result.index.year,result['min_rcp45'],result['max_rcp45'], color =  color[1], alpha=.2)\n",
    "plt.fill_between(result.index.year,result['min_rcp85'],result['max_rcp85'], color =  color[2], alpha=.2)\n",
    "plt.legend(loc=\"upper left\", markerscale=1., scatterpoints=1, fontsize=20)\n",
    "\n",
    "#ax.set_xlim(result.index.year[0], result.index.year[-1])\n",
    "plt.xticks(range(result.index.year[0]-1, result.index.year[-1]+1, 10), fontsize=14)\n",
    "plt.yticks( fontsize=14)\n",
    "\n",
    "ax1.grid(axis = \"x\", linestyle = \"--\", color='black', linewidth=0.25, alpha=0.5)\n",
    "ax1.grid(axis = \"y\", linestyle = \"--\", color='black', linewidth=0.25, alpha=0.5)\n",
    "\n",
    "plt.setp(plt.gca().get_xticklabels(), rotation=45, ha=\"right\")\n",
    "\n",
    "plt.xlabel('Date', fontsize=20, color='black', weight='semibold')\n",
    "plt.ylabel('°C', fontsize=20, color='black', weight='semibold')\n",
    "plt.title('Annual change in daily maximum temperature: (1971-2100) compared with normal (1971-2000)', fontsize=20, color='black', weight='semibold')\n",
    "\n",
    "\n",
    "my_pal = {\"RCMs_histo\": \"grey\", \"RCMs_rcp45\": \"blue\", \"RCMs_rcp85\":\"red\"}\n",
    "ax2 = plt.subplot(gs[1])\n",
    "#ax2 = matrix_box.boxplot(column=['RCMs_histo', 'RCMs_rcp45', 'RCMs_rcp85'])\n",
    "ax2 = sns.boxplot(data=matrix_box, palette=my_pal)  \n",
    "# Add transparency to colors\n",
    "for patch in ax2.artists:\n",
    " r, g, b, a = patch.get_facecolor()\n",
    " patch.set_facecolor((r, g, b, .2))\n",
    "plt.setp(plt.gca().get_xticklabels(), rotation=45, ha=\"right\")\n",
    " \n",
    "ax1.set_facecolor('white')\n",
    "ax2.set_facecolor('white')\n",
    "ax2.spines['top'].set_visible(False)\n",
    "ax2.spines['bottom'].set_visible(False)\n",
    "ax2.spines['right'].set_visible(False)\n",
    "ax2.spines['left'].set_visible(False)\n",
    "\n",
    "medians = matrix_box.median().values\n",
    "median_labels = [str(np.round(s, 2))+' °C' for s in medians]\n",
    "pos = range(len(medians))\n",
    "i=0\n",
    "for tick,label in zip(pos,ax2.get_xticklabels()):\n",
    "    ax2.text(pos[tick], medians[tick] + 0.1, median_labels[tick], \n",
    "            horizontalalignment='center', size='medium', color = color[i], weight='semibold')\n",
    "    i+=1\n",
    "x1, x2, x3 = 0, 1, 2\n",
    "ax2.text(x1, matrix_box.min().min().round()-0.15 , \"1971-2000\", ha='center', va='bottom', size='medium', color='black', weight='semibold')   \n",
    "ax2.text((x2+x3)*.5, matrix_box.min().median()-0.4 , \"2071-2100\", ha='center', va='bottom', size='medium', color='black', weight='semibold')\n",
    "plt.yticks( fontsize=14)\n",
    "    \n",
    "plt.savefig('./figures/VI_YEAR_Mean_tasmax.png', bbox_inches='tight', format='png', dpi=1000)\n",
    "plt.show()  "
   ]
  },
  {
   "cell_type": "code",
   "execution_count": null,
   "metadata": {},
   "outputs": [],
   "source": []
  },
  {
   "cell_type": "code",
   "execution_count": null,
   "metadata": {},
   "outputs": [],
   "source": []
  }
 ],
 "metadata": {
  "kernelspec": {
   "display_name": "Python 3",
   "language": "python",
   "name": "python3"
  },
  "language_info": {
   "codemirror_mode": {
    "name": "ipython",
    "version": 3
   },
   "file_extension": ".py",
   "mimetype": "text/x-python",
   "name": "python",
   "nbconvert_exporter": "python",
   "pygments_lexer": "ipython3",
   "version": "3.7.3"
  }
 },
 "nbformat": 4,
 "nbformat_minor": 2
}
