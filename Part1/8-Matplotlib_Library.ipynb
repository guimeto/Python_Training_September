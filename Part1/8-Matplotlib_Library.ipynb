{
 "cells": [
  {
   "cell_type": "markdown",
   "metadata": {},
   "source": [
    "<img src=\"./figures/matplotlib.png\" alt=\"Indentation\" width=\"50%\" height=\"50%\">\n",
    "\n",
    "\n",
    "# Data visualization: Matplotlib library\n",
    "\n",
    "The Matplotlib library is one of the most used libraries for plotting data in Python.\n",
    "\n",
    "Many types of graphics can be developed with this library:\n",
    "https://matplotlib.org/gallery/index.html\n",
    "\n",
    "To illustrate some features of the Python matplotlib.pyplot module (which provides a plotting system similar to that of MATLAB), we will use a database from the UQAM station. "
   ]
  },
  {
   "cell_type": "code",
   "execution_count": null,
   "metadata": {
    "scrolled": true
   },
   "outputs": [],
   "source": [
    "import pandas as pd \n",
    "import numpy as np\n",
    "import warnings; warnings.filterwarnings(action='ignore')\n",
    "\n",
    "dataframe_UQAM = pd.read_csv('./DATA/UQAM_DATA_STATION_2018.csv')\n",
    "dataframe_UQAM['Date']=pd.to_datetime(dataframe_UQAM['Date'])\n",
    "dataframe_UQAM = dataframe_UQAM.set_index(\"Date\", drop=True)\n",
    "dataframe_UQAM"
   ]
  },
  {
   "cell_type": "markdown",
   "metadata": {},
   "source": [
    "## Introduction to Matplotlib \n",
    "### conda install matplotlib"
   ]
  },
  {
   "cell_type": "markdown",
   "metadata": {},
   "source": [
    "By running this special iPython command, we will be displaying plots inline:"
   ]
  },
  {
   "cell_type": "code",
   "execution_count": null,
   "metadata": {},
   "outputs": [],
   "source": [
    "%matplotlib inline"
   ]
  },
  {
   "cell_type": "code",
   "execution_count": null,
   "metadata": {},
   "outputs": [],
   "source": [
    "import matplotlib.pyplot as plt"
   ]
  },
  {
   "cell_type": "code",
   "execution_count": null,
   "metadata": {},
   "outputs": [],
   "source": [
    "plt.plot() # you create an empty graph or instance and then add layers.\n",
    "plt.show()"
   ]
  },
  {
   "cell_type": "markdown",
   "metadata": {},
   "source": [
    "## Add data to our charts"
   ]
  },
  {
   "cell_type": "code",
   "execution_count": null,
   "metadata": {},
   "outputs": [],
   "source": [
    "dataframe_UQAM['2015'].head()"
   ]
  },
  {
   "cell_type": "code",
   "execution_count": null,
   "metadata": {},
   "outputs": [],
   "source": [
    "year_to_plot = dataframe_UQAM['2015']\n",
    "plt.plot(year_to_plot.index,year_to_plot['Temperature moyenne'])\n",
    "plt.show()"
   ]
  },
  {
   "cell_type": "code",
   "execution_count": null,
   "metadata": {},
   "outputs": [],
   "source": [
    "year_to_plot = dataframe_UQAM['2015']\n",
    "plt.plot(year_to_plot.index,year_to_plot['Temperature moyenne'], marker='x')\n",
    "plt.show()"
   ]
  },
  {
   "cell_type": "markdown",
   "metadata": {},
   "source": [
    "- <b>marker</b> option : \n",
    "\n",
    "https://matplotlib.org/api/markers_api.html\n",
    "\n",
    "-  <b>linestyle</b> option: to delete or not the lines\n"
   ]
  },
  {
   "cell_type": "code",
   "execution_count": null,
   "metadata": {},
   "outputs": [],
   "source": [
    "year_to_plot = dataframe_UQAM['2015']\n",
    "plt.plot(year_to_plot.index,year_to_plot['Temperature moyenne'], marker='x', linestyle=\"--\")\n",
    "plt.show()"
   ]
  },
  {
   "cell_type": "markdown",
   "metadata": {},
   "source": [
    "- <b>scatter </b> fonction: function allows you to create scatter plot\n",
    "- <b>.rcParams</b> method is used to enlarge the graphic window"
   ]
  },
  {
   "cell_type": "code",
   "execution_count": null,
   "metadata": {},
   "outputs": [],
   "source": [
    "plt.rcParams[\"figure.figsize\"]=[16,9]  \n",
    "plt.scatter(year_to_plot.index,year_to_plot['Temperature moyenne'])\n",
    "plt.show()"
   ]
  },
  {
   "cell_type": "markdown",
   "metadata": {},
   "source": [
    "- to use the scatter color option, python wants an input list and not a dictionary \n",
    "- color option : c=list()"
   ]
  },
  {
   "cell_type": "code",
   "execution_count": null,
   "metadata": {},
   "outputs": [],
   "source": [
    "plt.rcParams[\"figure.figsize\"]=[16,9]\n",
    "plt.scatter(year_to_plot.index,year_to_plot['Temperature moyenne'], c=list(year_to_plot['Temperature moyenne']))\n",
    "plt.xlabel(\"Temps\")\n",
    "plt.ylabel(\"Température\")\n",
    "plt.title(\"Temperature\", y=1.05)\n",
    "plt.show()"
   ]
  },
  {
   "cell_type": "markdown",
   "metadata": {},
   "source": [
    "\n",
    "- We used default scatter color ()\n",
    "- with the <b> cmap </b> option, we can choose our color panel: https://matplotlib.org/examples/color/colormaps_reference.html\n",
    "- we will for example choose the color palette \"seismic\" via the option <b> cmap </b>\n",
    "- to change the shape and size of the points: use the <b> marker </b> and <b> s </b> options\n",
    "- to save a graph: pyplot function: <b> savefig () </b>\n",
    "- To add a color bar: <b> colorbar () </b> function\n",
    "- To rotate the labels in x: function <b> xticks () </b>"
   ]
  },
  {
   "cell_type": "code",
   "execution_count": null,
   "metadata": {},
   "outputs": [],
   "source": [
    "plt.rcParams[\"figure.figsize\"]=[16,9]\n",
    "plt.scatter(year_to_plot.index,year_to_plot['Temperature moyenne'], c=list(year_to_plot['Temperature moyenne']),\n",
    "            cmap=\"seismic\",\n",
    "            marker=\"D\", \n",
    "            s=100)\n",
    "plt.xlabel(\"Time\")\n",
    "plt.ylabel(\"Temperature\")\n",
    "plt.title(\"Temperature\", y=1.05)\n",
    "plt.colorbar()\n",
    "plt.xticks(rotation=45)\n",
    "plt.show()\n",
    "plt.savefig(\"figures/my_graph.png\", bbox_inches=\"tight\") "
   ]
  },
  {
   "cell_type": "markdown",
   "metadata": {},
   "source": [
    "##  Matplotlib classes"
   ]
  },
  {
   "cell_type": "markdown",
   "metadata": {},
   "source": [
    "When creating a graph, matplotlib:\n",
    "\n",
    "- stores a container for all the graphics\n",
    "- stores a container so that the graphic is positioned on a grid\n",
    "- stores visual symbols on the graph\n",
    "\n",
    "You can plot different things in the same figure using the subplot function. Here is an example:"
   ]
  },
  {
   "cell_type": "code",
   "execution_count": null,
   "metadata": {
    "scrolled": true
   },
   "outputs": [],
   "source": [
    "fig = plt.figure()\n",
    "ax1 = fig.add_subplot(2,2,1) # up and left \n",
    "ax2 = fig.add_subplot(2,2,2) # up and right \n",
    "ax3 = fig.add_subplot(2,2,3) # down and left \n",
    "ax4 = fig.add_subplot(2,2,4) # down and right\n",
    "plt.show()"
   ]
  },
  {
   "cell_type": "markdown",
   "metadata": {},
   "source": [
    "Here is a documentation on subplot: \n",
    "https://matplotlib.org/api/pyplot_api.html#matplotlib.pyplot.subplot"
   ]
  },
  {
   "cell_type": "markdown",
   "metadata": {},
   "source": [
    "##  Add data"
   ]
  },
  {
   "cell_type": "code",
   "execution_count": null,
   "metadata": {},
   "outputs": [],
   "source": [
    "fig = plt.figure()\n",
    "ax1 = fig.add_subplot(2,1,1) \n",
    "ax2 = fig.add_subplot(2,1,2)\n",
    "\n",
    "ax1.plot(dataframe_UQAM['2017'].index,dataframe_UQAM['2017']['Temperature moyenne'])\n",
    "ax2.plot(dataframe_UQAM['2016'].index,dataframe_UQAM['2016']['Temperature moyenne'])\n"
   ]
  },
  {
   "cell_type": "markdown",
   "metadata": {},
   "source": [
    "## Improvement of the graph"
   ]
  },
  {
   "cell_type": "code",
   "execution_count": null,
   "metadata": {},
   "outputs": [],
   "source": [
    "fig = plt.figure(figsize=(15, 8))\n",
    "colors = ['green', 'blue', 'red']\n",
    "for i in range(3):\n",
    "    ax = fig.add_subplot(3,1,i+1)\n",
    "    year = str(2014+i)\n",
    "    label=year\n",
    "    plt.plot(dataframe_UQAM[year].index,dataframe_UQAM[year]['Temperature moyenne'], c=colors[i], label = label)\n",
    "    plt.legend(loc='upper left')\n",
    "plt.show()\n"
   ]
  },
  {
   "cell_type": "markdown",
   "metadata": {},
   "source": [
    "## Example\n",
    "### Objectives: to draw a meteogram of the UQAM station for the day of 14/12/2018"
   ]
  },
  {
   "cell_type": "code",
   "execution_count": null,
   "metadata": {},
   "outputs": [],
   "source": [
    "import pandas as pd \n",
    "dataframe_UQAM = pd.read_csv('./DATA/UQAM_DATA_STATION.csv')\n",
    "print(dataframe_UQAM.head())"
   ]
  },
  {
   "cell_type": "code",
   "execution_count": null,
   "metadata": {},
   "outputs": [],
   "source": [
    "dataframe_UQAM2 = pd.read_csv('./DATA/UQAM_DATA_STATION.csv', parse_dates=[\"Time\"],date_parser=lambda x: pd.to_datetime(x, format=\"%y-%m-%d_%H\"))\n",
    "dataframe_UQAM2.head()\n"
   ]
  },
  {
   "cell_type": "code",
   "execution_count": null,
   "metadata": {},
   "outputs": [],
   "source": [
    "# We just want data for 14/12/2018\n",
    "start_date = '2018-12-14'\n",
    "end_date = '2018-12-15'\n",
    "df= dataframe_UQAM2\n",
    "mask = (df['Time'] > start_date) & (df['Time'] <= end_date)\n",
    "\n",
    "\n",
    "dataframe_jour = dataframe_UQAM2.loc[mask]\n",
    "print(dataframe_jour.head())\n",
    "print(len(dataframe_jour))"
   ]
  },
  {
   "cell_type": "code",
   "execution_count": null,
   "metadata": {
    "scrolled": true
   },
   "outputs": [],
   "source": [
    "from matplotlib.font_manager import FontProperties\n",
    "import matplotlib.dates as mdates\n",
    "from datetime import datetime\n",
    "from datetime import timedelta as td\n",
    "\n",
    "\n",
    "daylabels = []\n",
    "i = 0 \n",
    "for index, row in dataframe_jour.iterrows():\n",
    "    daylabels.append(dataframe_jour.iloc[i][0].replace(minute=0, second=0, microsecond=0).strftime('%Hh'))\n",
    "    i += 1\n",
    "print(daylabels)\n",
    "\n",
    "start_date = '2018-12-14'\n",
    "end_date = '2018-12-15'\n",
    "fig = plt.figure(figsize=(20, 8))\n",
    "fontP = FontProperties()\n",
    "fontP.set_size('xx-small')\n",
    "t = np.arange(0, 24, 1)\n",
    "##### on trace les températures\n",
    "ax1 = plt.subplot(411)\n",
    "ax1.grid(True)\n",
    "plt.plot(t, dataframe_jour['Temperature'], 'r-', label='Temperature de l\\'air', linewidth=2)\n",
    "plt.plot(t, dataframe_jour['Rosee'], 'r--',label='Temperature du point de rosee', linewidth=2)\n",
    "plt.plot(t, dataframe_jour['Chill'], 'g--',label='Wind Chill', linewidth=2)\n",
    "plt.legend(loc='upper left', ncol=1, bbox_to_anchor=(0, 1, 1, 0),fontsize =15)\n",
    "plt.ylabel('Température ($^\\circ$C)', {'color': 'black', 'fontsize': 15})\n",
    "\n",
    "plt.setp(ax1.get_xticklabels(), fontsize=15)\n",
    "plt.title('Meteogram station UQAM:'+ start_date + ' / ' + end_date, weight='bold').set_fontsize('20')\n",
    "plt.setp(ax1.get_xticklabels(), visible=False)\n",
    "\n",
    "##########  TRACE DES ACCUMULATIONS PRECIPITATION  ##########  \n",
    "# share x only\n",
    "ax2 = plt.subplot(412, sharex=ax1)\n",
    "ax2.grid(True)\n",
    "t = np.arange(0, 24, 1)\n",
    "width=1\n",
    "ax2.bar(t,dataframe_jour['Precipitation'].values,width,color='b', label='Pluie', linewidth=2)\n",
    "plt.setp(ax2.get_xticklabels(), visible=False)\n",
    "plt.ylim(0,  np.round(dataframe_jour['Precipitation'].max() ) +1)\n",
    "plt.ylabel('Accumulation (mm)', {'color': 'black', 'fontsize': 15})\n",
    "plt.legend(loc='upper left', ncol=1, bbox_to_anchor=(0, 0, 1, 1), fontsize =15)\n",
    "\n",
    "# share x only\n",
    "##### on trace l humidite\n",
    "ax2 = plt.subplot(413, sharex=ax1)\n",
    "ax2.grid(True)\n",
    "plt.plot(t, dataframe_jour['Humidite'], 'b-', linewidth=2)\n",
    "plt.setp(ax2.get_xticklabels(), visible=False)\n",
    "plt.ylabel('Humidite relative (%)', {'color': 'black', 'fontsize': 15})\n",
    "plt.legend(loc='upper left', ncol=1, bbox_to_anchor=(0, 0, 1, 1), fontsize =15)\n",
    "\n",
    "##### on trace la pression\n",
    "ax3 = plt.subplot(414, sharex=ax1)\n",
    "plt.plot(t, dataframe_jour['pressure'], 'g-', linewidth=2)\n",
    "plt.xlim(0.01, 24)\n",
    "plt.ylim(np.round(min(dataframe_jour['pressure'])) - 2, np.round(max(dataframe_jour['pressure'])) + 2)\n",
    "plt.ylabel('Pression (hPa)', {'color': 'black', 'fontsize': 15})\n",
    "plt.legend(loc='upper left', ncol=1, bbox_to_anchor=(0, 0, 1, 1), fontsize =15)\n",
    "ax3.grid(True)\n",
    "\n",
    "for label in ax3.get_yticklabels():\n",
    "    label.set_color(\"black\")\n",
    "\n",
    "ax3.set(xticks=np.arange(0,len(daylabels),1), xticklabels=daylabels) #Same as plt.xticks\n",
    "spacing = 1\n",
    "visible = ax3.xaxis.get_ticklabels()[::spacing]\n",
    "for label in ax3.xaxis.get_ticklabels():\n",
    "    if label not in visible:\n",
    "        label.set_visible(False)\n",
    "\n",
    "\n",
    "fig.autofmt_xdate()\n",
    "fig.set_size_inches(18.5, 10.5)\n",
    "fileout='figures/Meteogram_UQAM.png'\n",
    "plt.savefig(fileout)\n",
    "fig.autofmt_xdate()\n",
    "plt.show()"
   ]
  }
 ],
 "metadata": {
  "kernelspec": {
   "display_name": "Python 3",
   "language": "python",
   "name": "python3"
  },
  "language_info": {
   "codemirror_mode": {
    "name": "ipython",
    "version": 3
   },
   "file_extension": ".py",
   "mimetype": "text/x-python",
   "name": "python",
   "nbconvert_exporter": "python",
   "pygments_lexer": "ipython3",
   "version": "3.7.3"
  }
 },
 "nbformat": 4,
 "nbformat_minor": 2
}
