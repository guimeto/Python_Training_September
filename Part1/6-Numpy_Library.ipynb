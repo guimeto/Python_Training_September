{
 "cells": [
  {
   "cell_type": "markdown",
   "metadata": {},
   "source": [
    "<img src=\"./figures/NumPy_logo.svg\" alt=\"Indentation\" width=\"30%\" height=\"30%\">\n",
    "\n",
    "\n",
    "# 6  Numpy Library (Numerical Python)\n",
    "\n",
    "\n",
    "- Numpy is the core library for scientific computing in Python\n",
    "\n",
    "- A new data container will be used: the ndarray (N-dimensional array). There are vectors (one-dimensional arrays), multidimensional arrays\n",
    "\n",
    "- It provides a high-performance multidimensional array object, and tools for working with these arrays\n",
    "\n",
    "We'll see how to initialize Numpy arrays in several ways, access values in arrays, perform math and matrix operations, and use arrays for both masking and comparisons.\n",
    "\n",
    "\n",
    "https://docs.scipy.org/doc/numpy/reference/\n",
    "\n",
    "\n",
    "## 6.1- Create a Numpy array or ndarray\n",
    " \n",
    "We first need to import the numpy package:"
   ]
  },
  {
   "cell_type": "code",
   "execution_count": 1,
   "metadata": {},
   "outputs": [],
   "source": [
    "# We will import Numpy library and create alias. \n",
    "# Codes with aliases are easier to write and read. \n",
    "import numpy as np\n",
    "import warnings\n",
    "warnings.filterwarnings(\"ignore\")"
   ]
  },
  {
   "cell_type": "markdown",
   "metadata": {},
   "source": [
    "A numpy array is a grid of values, all of the same type, and is indexed by a tuple of nonnegative integers. The number of dimensions is the rank of the array; the shape of an array is a tuple of integers giving the size of the array along each dimension.\n",
    "\n",
    "Unlike a list, you can not create empty Numpy tables. You will find below several ways to initialize a Numpy table according to your needs:\n",
    "\n",
    "- Using <b>array()</b> function to create Numpy array:"
   ]
  },
  {
   "cell_type": "code",
   "execution_count": 2,
   "metadata": {},
   "outputs": [
    {
     "data": {
      "text/plain": [
       "array([ 1,  2,  3,  4,  5,  6,  7,  8,  9, 10, 11, 12, 13, 14, 15, 16, 17,\n",
       "       18, 19, 20])"
      ]
     },
     "execution_count": 2,
     "metadata": {},
     "output_type": "execute_result"
    }
   ],
   "source": [
    "table1 = np.array([1,2,3,4,5,6,7,8,9,10,11,12,13,14,15,16,17,18,19,20])\n",
    "table1"
   ]
  },
  {
   "cell_type": "markdown",
   "metadata": {},
   "source": [
    "Creation of a two-dimensional array with rows and columns; we create a list of lists. Each list is a row of the table."
   ]
  },
  {
   "cell_type": "code",
   "execution_count": 3,
   "metadata": {},
   "outputs": [
    {
     "data": {
      "text/plain": [
       "array([[1, 2, 3],\n",
       "       [4, 5, 6]])"
      ]
     },
     "execution_count": 3,
     "metadata": {},
     "output_type": "execute_result"
    }
   ],
   "source": [
    "#  2 rows and 3 columns\n",
    "table2 = np.array([[1,2,3], [4,5,6]])\n",
    "table2"
   ]
  },
  {
   "cell_type": "code",
   "execution_count": 4,
   "metadata": {},
   "outputs": [
    {
     "data": {
      "text/plain": [
       "array([[1, 2, 3],\n",
       "       [4, 5, 6],\n",
       "       [7, 8, 9]])"
      ]
     },
     "execution_count": 4,
     "metadata": {},
     "output_type": "execute_result"
    }
   ],
   "source": [
    "#  3 rows and 3 columns\n",
    "table3 = np.array([[1,2,3], [4,5,6], [7,8,9]])\n",
    "table3"
   ]
  },
  {
   "cell_type": "markdown",
   "metadata": {},
   "source": [
    "- Using <b>range()</b> function to create Numpy array:"
   ]
  },
  {
   "cell_type": "code",
   "execution_count": 5,
   "metadata": {},
   "outputs": [
    {
     "data": {
      "text/plain": [
       "array([0, 1, 2, 3, 4, 5, 6, 7, 8, 9])"
      ]
     },
     "execution_count": 5,
     "metadata": {},
     "output_type": "execute_result"
    }
   ],
   "source": [
    "table4 = np.array(range(10)) # table with values from 0 to 9\n",
    "table4"
   ]
  },
  {
   "cell_type": "markdown",
   "metadata": {},
   "source": [
    "-  Using <b>zeros()</b> function to create Numpy array with '0' value :"
   ]
  },
  {
   "cell_type": "code",
   "execution_count": 6,
   "metadata": {},
   "outputs": [
    {
     "data": {
      "text/plain": [
       "array([[0., 0., 0.],\n",
       "       [0., 0., 0.],\n",
       "       [0., 0., 0.],\n",
       "       [0., 0., 0.]])"
      ]
     },
     "execution_count": 6,
     "metadata": {},
     "output_type": "execute_result"
    }
   ],
   "source": [
    "table5 = np.zeros((4,3)) # table with 4 rows and 3 columns\n",
    "table5"
   ]
  },
  {
   "cell_type": "markdown",
   "metadata": {},
   "source": [
    "- Using <b>ones()</b> function to create Numpy array with ones:"
   ]
  },
  {
   "cell_type": "code",
   "execution_count": 7,
   "metadata": {},
   "outputs": [
    {
     "data": {
      "text/plain": [
       "array([[1., 1., 1.],\n",
       "       [1., 1., 1.],\n",
       "       [1., 1., 1.],\n",
       "       [1., 1., 1.]])"
      ]
     },
     "execution_count": 7,
     "metadata": {},
     "output_type": "execute_result"
    }
   ],
   "source": [
    "table6 = np.ones((4,3)) # table with 4 rows and 3 columns\n",
    "table6"
   ]
  },
  {
   "cell_type": "markdown",
   "metadata": {},
   "source": [
    "- Using <b>identity()</b> function to create Numpy array as matrix identity:"
   ]
  },
  {
   "cell_type": "code",
   "execution_count": 8,
   "metadata": {},
   "outputs": [
    {
     "data": {
      "text/plain": [
       "array([[1., 0., 0., 0.],\n",
       "       [0., 1., 0., 0.],\n",
       "       [0., 0., 1., 0.],\n",
       "       [0., 0., 0., 1.]])"
      ]
     },
     "execution_count": 8,
     "metadata": {},
     "output_type": "execute_result"
    }
   ],
   "source": [
    "table7 = np.identity(4) # 4 dimensions\n",
    "table7"
   ]
  },
  {
   "cell_type": "markdown",
   "metadata": {},
   "source": [
    "- Converting list to ndarray with <b>array()</b> function"
   ]
  },
  {
   "cell_type": "code",
   "execution_count": 9,
   "metadata": {},
   "outputs": [
    {
     "data": {
      "text/plain": [
       "[0, 1, 2, 3, 4, 5, 6]"
      ]
     },
     "execution_count": 9,
     "metadata": {},
     "output_type": "execute_result"
    }
   ],
   "source": [
    "my_list = [0,1,2,3,4,5,6]\n",
    "my_list"
   ]
  },
  {
   "cell_type": "code",
   "execution_count": 10,
   "metadata": {},
   "outputs": [
    {
     "data": {
      "text/plain": [
       "array([0, 1, 2, 3, 4, 5, 6])"
      ]
     },
     "execution_count": 10,
     "metadata": {},
     "output_type": "execute_result"
    }
   ],
   "source": [
    "table8 = np.array(my_list)\n",
    "table8"
   ]
  },
  {
   "cell_type": "markdown",
   "metadata": {},
   "source": [
    "- Using <b>random()</b> function to create ndarray with random values:"
   ]
  },
  {
   "cell_type": "code",
   "execution_count": 11,
   "metadata": {
    "scrolled": true
   },
   "outputs": [
    {
     "data": {
      "text/plain": [
       "array([[78, 47, 23],\n",
       "       [79, 17,  5],\n",
       "       [61, 41, 71],\n",
       "       [12, 41, 27]])"
      ]
     },
     "execution_count": 11,
     "metadata": {},
     "output_type": "execute_result"
    }
   ],
   "source": [
    "table9 = np.random.randint(100,size=(4,3))  #  4*3  ndarray with random values between  0 and 100 \n",
    "table9"
   ]
  },
  {
   "cell_type": "markdown",
   "metadata": {},
   "source": [
    "- Using <b>full()</b>  to create a constant array."
   ]
  },
  {
   "cell_type": "code",
   "execution_count": 12,
   "metadata": {},
   "outputs": [
    {
     "data": {
      "text/plain": [
       "array([[7, 7],\n",
       "       [7, 7]])"
      ]
     },
     "execution_count": 12,
     "metadata": {},
     "output_type": "execute_result"
    }
   ],
   "source": [
    "table10 = np.full((2,2), 7) # Create a constant array\n",
    "table10"
   ]
  },
  {
   "cell_type": "markdown",
   "metadata": {},
   "source": [
    "## 6.2 Access data in a Numpy or ndarray array"
   ]
  },
  {
   "cell_type": "markdown",
   "metadata": {},
   "source": [
    "We can access an individual element or a slice of values. Similar to lists, the first element is indexed to 0. For example, array1 [0,0] indicates that we are accessing the first row and the first column. The first number of the tuple [0,0] indicates the index of the line and the second number indicates the index of the column:\n"
   ]
  },
  {
   "cell_type": "code",
   "execution_count": 13,
   "metadata": {},
   "outputs": [
    {
     "data": {
      "text/plain": [
       "array([[1, 2, 3],\n",
       "       [4, 5, 6],\n",
       "       [7, 8, 9]])"
      ]
     },
     "execution_count": 13,
     "metadata": {},
     "output_type": "execute_result"
    }
   ],
   "source": [
    "my_table = np.array([[1,2,3], [4,5,6], [7,8,9]])\n",
    "my_table"
   ]
  },
  {
   "cell_type": "markdown",
   "metadata": {},
   "source": [
    "- Here are some examples to access values in a numpy array:"
   ]
  },
  {
   "cell_type": "code",
   "execution_count": 14,
   "metadata": {},
   "outputs": [
    {
     "data": {
      "text/plain": [
       "6"
      ]
     },
     "execution_count": 14,
     "metadata": {},
     "output_type": "execute_result"
    }
   ],
   "source": [
    "my_table[1,2]     # We want the element located at row with index 1 and column with index 2\n",
    "                  #  ndarray(row,column) "
   ]
  },
  {
   "cell_type": "code",
   "execution_count": 15,
   "metadata": {},
   "outputs": [
    {
     "data": {
      "text/plain": [
       "6"
      ]
     },
     "execution_count": 15,
     "metadata": {},
     "output_type": "execute_result"
    }
   ],
   "source": [
    "my_table[1,-1]    # We want the element at row index 1 and last column"
   ]
  },
  {
   "cell_type": "code",
   "execution_count": 16,
   "metadata": {},
   "outputs": [
    {
     "data": {
      "text/plain": [
       "2"
      ]
     },
     "execution_count": 16,
     "metadata": {},
     "output_type": "execute_result"
    }
   ],
   "source": [
    "my_table[0,1]     # We want the element located at row with index 0 and column with index 1"
   ]
  },
  {
   "cell_type": "code",
   "execution_count": 17,
   "metadata": {},
   "outputs": [
    {
     "data": {
      "text/plain": [
       "4"
      ]
     },
     "execution_count": 17,
     "metadata": {},
     "output_type": "execute_result"
    }
   ],
   "source": [
    "my_table[1,0]     # We want the element located at row with index 1 and column with index 0                     "
   ]
  },
  {
   "cell_type": "markdown",
   "metadata": {},
   "source": [
    "- Here are some examples to access data using <b>Slicing</b>"
   ]
  },
  {
   "cell_type": "code",
   "execution_count": 18,
   "metadata": {},
   "outputs": [
    {
     "data": {
      "text/plain": [
       "array([1, 4, 7])"
      ]
     },
     "execution_count": 18,
     "metadata": {},
     "output_type": "execute_result"
    }
   ],
   "source": [
    "my_table[:,0]    # We want all rows with column index 0"
   ]
  },
  {
   "cell_type": "code",
   "execution_count": 19,
   "metadata": {},
   "outputs": [
    {
     "data": {
      "text/plain": [
       "array([1, 2, 3])"
      ]
     },
     "execution_count": 19,
     "metadata": {},
     "output_type": "execute_result"
    }
   ],
   "source": [
    "my_table[0,:]    # We want all columns with row index 0"
   ]
  },
  {
   "cell_type": "code",
   "execution_count": 20,
   "metadata": {},
   "outputs": [
    {
     "data": {
      "text/plain": [
       "array([[1, 3],\n",
       "       [4, 6],\n",
       "       [7, 9]])"
      ]
     },
     "execution_count": 20,
     "metadata": {},
     "output_type": "execute_result"
    }
   ],
   "source": [
    "my_table[:,0:3:2] # We want all rows and index columns from 0 to 3 with steps of 2.\n",
    "                  # So all rows and columns 1 and 2."
   ]
  },
  {
   "cell_type": "code",
   "execution_count": 21,
   "metadata": {},
   "outputs": [
    {
     "data": {
      "text/plain": [
       "array([3, 6, 9])"
      ]
     },
     "execution_count": 21,
     "metadata": {},
     "output_type": "execute_result"
    }
   ],
   "source": [
    "my_table[:,-1]  #We want all rows at last column"
   ]
  },
  {
   "cell_type": "code",
   "execution_count": 22,
   "metadata": {},
   "outputs": [
    {
     "data": {
      "text/plain": [
       "array([[2],\n",
       "       [5],\n",
       "       [8]])"
      ]
     },
     "execution_count": 22,
     "metadata": {},
     "output_type": "execute_result"
    }
   ],
   "source": [
    "my_table[:,1:-1] # We want all rows with columns between index 1 and last index"
   ]
  },
  {
   "cell_type": "code",
   "execution_count": 23,
   "metadata": {},
   "outputs": [
    {
     "data": {
      "text/plain": [
       "array([8])"
      ]
     },
     "execution_count": 23,
     "metadata": {},
     "output_type": "execute_result"
    }
   ],
   "source": [
    "my_table[2,1:-1] # We want values at row with index 2 and rows between index 1 and last index"
   ]
  },
  {
   "cell_type": "markdown",
   "metadata": {},
   "source": [
    "## 6.3 Mathematical and matrix calculations on a Numpy array:"
   ]
  },
  {
   "cell_type": "markdown",
   "metadata": {},
   "source": [
    "Numpy tables are very easy to manipulate: concatenate, add, multiply, transpose with a single line of code.\n",
    "Below you will find some examples of various arithmetic and multiplicative operations with Numpy tables."
   ]
  },
  {
   "cell_type": "code",
   "execution_count": 24,
   "metadata": {},
   "outputs": [
    {
     "data": {
      "text/plain": [
       "array([[0, 1, 2],\n",
       "       [3, 4, 5],\n",
       "       [6, 7, 8]])"
      ]
     },
     "execution_count": 24,
     "metadata": {},
     "output_type": "execute_result"
    }
   ],
   "source": [
    "array1 = np.arange(9).reshape(3,3)\n",
    "array1"
   ]
  },
  {
   "cell_type": "code",
   "execution_count": 25,
   "metadata": {},
   "outputs": [
    {
     "data": {
      "text/plain": [
       "array([[47, 20, 49],\n",
       "       [40, 15,  7],\n",
       "       [ 4, 35, 14]])"
      ]
     },
     "execution_count": 25,
     "metadata": {},
     "output_type": "execute_result"
    }
   ],
   "source": [
    "array2 = np.random.randint(50, size=(3,3))\n",
    "array2"
   ]
  },
  {
   "cell_type": "markdown",
   "metadata": {},
   "source": [
    "- Basic arithmetic operations: addition, subtraction, multiplication, division\n",
    "Here a list of mathematical functions provided by numpy in: https://docs.scipy.org/doc/numpy/reference/routines.math.html"
   ]
  },
  {
   "cell_type": "code",
   "execution_count": 26,
   "metadata": {},
   "outputs": [
    {
     "data": {
      "text/plain": [
       "array([[10, 11, 12],\n",
       "       [13, 14, 15],\n",
       "       [16, 17, 18]])"
      ]
     },
     "execution_count": 26,
     "metadata": {},
     "output_type": "execute_result"
    }
   ],
   "source": [
    "array1 + 10 # add a value to each element"
   ]
  },
  {
   "cell_type": "code",
   "execution_count": 27,
   "metadata": {},
   "outputs": [
    {
     "data": {
      "text/plain": [
       "array([[-10,  -9,  -8],\n",
       "       [ -7,  -6,  -5],\n",
       "       [ -4,  -3,  -2]])"
      ]
     },
     "execution_count": 27,
     "metadata": {},
     "output_type": "execute_result"
    }
   ],
   "source": [
    "array1 - 10 # substract value to each element "
   ]
  },
  {
   "cell_type": "code",
   "execution_count": 28,
   "metadata": {},
   "outputs": [
    {
     "data": {
      "text/plain": [
       "array([[  0, 100, 200],\n",
       "       [300, 400, 500],\n",
       "       [600, 700, 800]])"
      ]
     },
     "execution_count": 28,
     "metadata": {},
     "output_type": "execute_result"
    }
   ],
   "source": [
    "array1 * 100 # multiply value to each element "
   ]
  },
  {
   "cell_type": "code",
   "execution_count": 29,
   "metadata": {},
   "outputs": [
    {
     "data": {
      "text/plain": [
       "array([ 0, 30, 60])"
      ]
     },
     "execution_count": 29,
     "metadata": {},
     "output_type": "execute_result"
    }
   ],
   "source": [
    "array1[:,0] * 10 # we multiply by 10 all elements at column with index 0"
   ]
  },
  {
   "cell_type": "code",
   "execution_count": 30,
   "metadata": {
    "scrolled": true
   },
   "outputs": [
    {
     "data": {
      "text/plain": [
       "array([[0. , 0.5, 1. ],\n",
       "       [1.5, 2. , 2.5],\n",
       "       [3. , 3.5, 4. ]])"
      ]
     },
     "execution_count": 30,
     "metadata": {},
     "output_type": "execute_result"
    }
   ],
   "source": [
    "array1 / 2 # we divide a value to each element"
   ]
  },
  {
   "cell_type": "markdown",
   "metadata": {},
   "source": [
    "- some Numpy functions and methods applicable on Numpy tables:\n",
    "\n",
    "<a class=\"reference internal\" href=\"https://docs.scipy.org/doc/numpy-1.13.0/reference/generated/numpy.all.html#numpy.all\" title=\"numpy.all\"><code class=\"xref py py-obj docutils literal\"><span class=\"pre\">all</span></code></a>,\n",
    "<a class=\"reference internal\" href=\"https://docs.scipy.org/doc/numpy-1.13.0/reference/generated/numpy.any.html#numpy.any\" title=\"numpy.any\"><code class=\"xref py py-obj docutils literal\"><span class=\"pre\">any</span></code></a>,\n",
    "<a class=\"reference internal\" href=\"https://docs.scipy.org/doc/numpy-1.13.0/reference/generated/numpy.apply_along_axis.html#numpy.apply_along_axis\" title=\"numpy.apply_along_axis\"><code class=\"xref py py-obj docutils literal\"><span class=\"pre\">apply_along_axis</span></code></a>,\n",
    "<a class=\"reference internal\" href=\"https://docs.scipy.org/doc/numpy-1.13.0/reference/generated/numpy.argmax.html#numpy.argmax\" title=\"numpy.argmax\"><code class=\"xref py py-obj docutils literal\"><span class=\"pre\">argmax</span></code></a>,\n",
    "<a class=\"reference internal\" href=\"https://docs.scipy.org/doc/numpy-1.13.0/reference/generated/numpy.argmin.html#numpy.argmin\" title=\"numpy.argmin\"><code class=\"xref py py-obj docutils literal\"><span class=\"pre\">argmin</span></code></a>,\n",
    "<a class=\"reference internal\" href=\"https://docs.scipy.org/doc/numpy-1.13.0/reference/generated/numpy.argsort.html#numpy.argsort\" title=\"numpy.argsort\"><code class=\"xref py py-obj docutils literal\"><span class=\"pre\">argsort</span></code></a>,\n",
    "<a class=\"reference internal\" href=\"https://docs.scipy.org/doc/numpy-1.13.0/reference/generated/numpy.average.html#numpy.average\" title=\"numpy.average\"><code class=\"xref py py-obj docutils literal\"><span class=\"pre\">average</span></code></a>,\n",
    "<a class=\"reference internal\" href=\"https://docs.scipy.org/doc/numpy-1.13.0/reference/generated/numpy.bincount.html#numpy.bincount\" title=\"numpy.bincount\"><code class=\"xref py py-obj docutils literal\"><span class=\"pre\">bincount</span></code></a>,\n",
    "<a class=\"reference internal\" href=\"https://docs.scipy.org/doc/numpy-1.13.0/reference/generated/numpy.ceil.html#numpy.ceil\" title=\"numpy.ceil\"><code class=\"xref py py-obj docutils literal\"><span class=\"pre\">ceil</span></code></a>,\n",
    "<a class=\"reference internal\" href=\"https://docs.scipy.org/doc/numpy-1.13.0/reference/generated/numpy.clip.html#numpy.clip\" title=\"numpy.clip\"><code class=\"xref py py-obj docutils literal\"><span class=\"pre\">clip</span></code></a>,\n",
    "<a class=\"reference internal\" href=\"https://docs.scipy.org/doc/numpy-1.13.0/reference/generated/numpy.conj.html#numpy.conj\" title=\"numpy.conj\"><code class=\"xref py py-obj docutils literal\"><span class=\"pre\">conj</span></code></a>,\n",
    "<a class=\"reference internal\" href=\"https://docs.scipy.org/doc/numpy-1.13.0/reference/generated/numpy.corrcoef.html#numpy.corrcoef\" title=\"numpy.corrcoef\"><code class=\"xref py py-obj docutils literal\"><span class=\"pre\">corrcoef</span></code></a>,\n",
    "<a class=\"reference internal\" href=\"https://docs.scipy.org/doc/numpy-1.13.0/reference/generated/numpy.cov.html#numpy.cov\" title=\"numpy.cov\"><code class=\"xref py py-obj docutils literal\"><span class=\"pre\">cov</span></code></a>,\n",
    "<a class=\"reference internal\" href=\"https://docs.scipy.org/doc/numpy-1.13.0/reference/generated/numpy.cross.html#numpy.cross\" title=\"numpy.cross\"><code class=\"xref py py-obj docutils literal\"><span class=\"pre\">cross</span></code></a>,\n",
    "<a class=\"reference internal\" href=\"https://docs.scipy.org/doc/numpy-1.13.0/reference/generated/numpy.cumprod.html#numpy.cumprod\" title=\"numpy.cumprod\"><code class=\"xref py py-obj docutils literal\"><span class=\"pre\">cumprod</span></code></a>,\n",
    "<a class=\"reference internal\" href=\"https://docs.scipy.org/doc/numpy-1.13.0/reference/generated/numpy.cumsum.html#numpy.cumsum\" title=\"numpy.cumsum\"><code class=\"xref py py-obj docutils literal\"><span class=\"pre\">cumsum</span></code></a>,\n",
    "<a class=\"reference internal\" href=\"https://docs.scipy.org/doc/numpy-1.13.0/reference/generated/numpy.diff.html#numpy.diff\" title=\"numpy.diff\"><code class=\"xref py py-obj docutils literal\"><span class=\"pre\">diff</span></code></a>,\n",
    "<a class=\"reference internal\" href=\"https://docs.scipy.org/doc/numpy-1.13.0/reference/generated/numpy.dot.html#numpy.dot\" title=\"numpy.dot\"><code class=\"xref py py-obj docutils literal\"><span class=\"pre\">dot</span></code></a>,\n",
    "<a class=\"reference internal\" href=\"https://docs.scipy.org/doc/numpy-1.13.0/reference/generated/numpy.floor.html#numpy.floor\" title=\"numpy.floor\"><code class=\"xref py py-obj docutils literal\"><span class=\"pre\">floor</span></code></a>,\n",
    "<a class=\"reference internal\" href=\"https://docs.scipy.org/doc/numpy-1.13.0/reference/generated/numpy.inner.html#numpy.inner\" title=\"numpy.inner\"><code class=\"xref py py-obj docutils literal\"><span class=\"pre\">inner</span></code></a>,\n",
    "<a class=\"reference internal\" href=\"https://docs.scipy.org/doc/numpy-1.13.0/reference/generated/numpy.lexsort.html#numpy.lexsort\" title=\"numpy.lexsort\"><code class=\"xref py py-obj docutils literal\"><span class=\"pre\">lexsort</span></code></a>,\n",
    "<a class=\"reference external\" href=\"https://docs.python.org/dev/library/functions.html#max\" title=\"(in Python v3.7)\"><code class=\"xref py py-obj docutils literal\"><span class=\"pre\">max</span></code></a>,\n",
    "<a class=\"reference internal\" href=\"https://docs.scipy.org/doc/numpy-1.13.0/reference/generated/numpy.maximum.html#numpy.maximum\" title=\"numpy.maximum\"><code class=\"xref py py-obj docutils literal\"><span class=\"pre\">maximum</span></code></a>,\n",
    "<a class=\"reference internal\" href=\"https://docs.scipy.org/doc/numpy-1.13.0/reference/generated/numpy.mean.html#numpy.mean\" title=\"numpy.mean\"><code class=\"xref py py-obj docutils literal\"><span class=\"pre\">mean</span></code></a>,\n",
    "<a class=\"reference internal\" href=\"https://docs.scipy.org/doc/numpy-1.13.0/reference/generated/numpy.median.html#numpy.median\" title=\"numpy.median\"><code class=\"xref py py-obj docutils literal\"><span class=\"pre\">median</span></code></a>,\n",
    "<a class=\"reference external\" href=\"https://docs.python.org/dev/library/functions.html#min\" title=\"(in Python v3.7)\"><code class=\"xref py py-obj docutils literal\"><span class=\"pre\">min</span></code></a>,\n",
    "<a class=\"reference internal\" href=\"https://docs.scipy.org/doc/numpy-1.13.0/reference/generated/numpy.minimum.html#numpy.minimum\" title=\"numpy.minimum\"><code class=\"xref py py-obj docutils literal\"><span class=\"pre\">minimum</span></code></a>,\n",
    "<a class=\"reference internal\" href=\"https://docs.scipy.org/doc/numpy-1.13.0/reference/generated/numpy.nonzero.html#numpy.nonzero\" title=\"numpy.nonzero\"><code class=\"xref py py-obj docutils literal\"><span class=\"pre\">nonzero</span></code></a>,\n",
    "<a class=\"reference internal\" href=\"https://docs.scipy.org/doc/numpy-1.13.0/reference/generated/numpy.outer.html#numpy.outer\" title=\"numpy.outer\"><code class=\"xref py py-obj docutils literal\"><span class=\"pre\">outer</span></code></a>,\n",
    "<a class=\"reference external\" href=\"https://docs.python.org/dev/library/re.html#module-re\" title=\"(in Python v3.7)\"><code class=\"xref py py-obj docutils literal\"><span class=\"pre\">re</span></code></a>,\n",
    "<a class=\"reference external\" href=\"https://docs.python.org/dev/library/functions.html#round\" title=\"(in Python v3.7)\"><code class=\"xref py py-obj docutils literal\"><span class=\"pre\">round</span></code></a>,\n",
    "<a class=\"reference internal\" href=\"https://docs.scipy.org/doc/numpy-1.13.0/reference/generated/numpy.sort.html#numpy.sort\" title=\"numpy.sort\"><code class=\"xref py py-obj docutils literal\"><span class=\"pre\">sort</span></code></a>,\n",
    "<a class=\"reference internal\" href=\"https://docs.scipy.org/doc/numpy-1.13.0/reference/generated/numpy.std.html#numpy.std\" title=\"numpy.std\"><code class=\"xref py py-obj docutils literal\"><span class=\"pre\">std</span></code></a>,\n",
    "<a class=\"reference internal\" href=\"https://docs.scipy.org/doc/numpy-1.13.0/reference/generated/numpy.sum.html#numpy.sum\" title=\"numpy.sum\"><code class=\"xref py py-obj docutils literal\"><span class=\"pre\">sum</span></code></a>,\n",
    "<a class=\"reference internal\" href=\"https://docs.scipy.org/doc/numpy-1.13.0/reference/generated/numpy.trace.html#numpy.trace\" title=\"numpy.trace\"><code class=\"xref py py-obj docutils literal\"><span class=\"pre\">trace</span></code></a>,\n",
    "<a class=\"reference internal\" href=\"https://docs.scipy.org/doc/numpy-1.13.0/reference/generated/numpy.transpose.html#numpy.transpose\" title=\"numpy.transpose\"><code class=\"xref py py-obj docutils literal\"><span class=\"pre\">transpose</span></code></a>,\n",
    "<a class=\"reference internal\" href=\"https://docs.scipy.org/doc/numpy-1.13.0/reference/generated/numpy.var.html#numpy.var\" title=\"numpy.var\"><code class=\"xref py py-obj docutils literal\"><span class=\"pre\">var</span></code></a>,\n",
    "<a class=\"reference internal\" href=\"https://docs.scipy.org/doc/numpy-1.13.0/reference/generated/numpy.vdot.html#numpy.vdot\" title=\"numpy.vdot\"><code class=\"xref py py-obj docutils literal\"><span class=\"pre\">vdot</span></code></a>,\n",
    "<a class=\"reference internal\" href=\"https://docs.scipy.org/doc/numpy-1.13.0/reference/generated/numpy.vectorize.html#numpy.vectorize\" title=\"numpy.vectorize\"><code class=\"xref py py-obj docutils literal\"><span class=\"pre\">vectorize</span></code></a>,\n",
    "<a class=\"reference internal\" href=\"https://docs.scipy.org/doc/numpy-1.13.0/reference/generated/numpy.where.html#numpy.where\" title=\"numpy.where\"><code class=\"xref py py-obj docutils literal\"><span class=\"pre\">where</span></code></a>\n"
   ]
  },
  {
   "cell_type": "code",
   "execution_count": null,
   "metadata": {},
   "outputs": [],
   "source": []
  },
  {
   "cell_type": "code",
   "execution_count": 31,
   "metadata": {
    "scrolled": false
   },
   "outputs": [
    {
     "data": {
      "text/plain": [
       "array([[10, 11, 12],\n",
       "       [13, 14, 15],\n",
       "       [16, 17, 18]])"
      ]
     },
     "execution_count": 31,
     "metadata": {},
     "output_type": "execute_result"
    }
   ],
   "source": [
    "np.add(array1,10) # add a value to each element"
   ]
  },
  {
   "cell_type": "code",
   "execution_count": 32,
   "metadata": {},
   "outputs": [
    {
     "data": {
      "text/plain": [
       "array([[-10,  -9,  -8],\n",
       "       [ -7,  -6,  -5],\n",
       "       [ -4,  -3,  -2]])"
      ]
     },
     "execution_count": 32,
     "metadata": {},
     "output_type": "execute_result"
    }
   ],
   "source": [
    "np.subtract(array1,10) # substract a value to each element "
   ]
  },
  {
   "cell_type": "code",
   "execution_count": 33,
   "metadata": {},
   "outputs": [
    {
     "data": {
      "text/plain": [
       "array([[  0, 100, 200],\n",
       "       [300, 400, 500],\n",
       "       [600, 700, 800]])"
      ]
     },
     "execution_count": 33,
     "metadata": {},
     "output_type": "execute_result"
    }
   ],
   "source": [
    "np.multiply(array1,100) # multiply a value to each element"
   ]
  },
  {
   "cell_type": "code",
   "execution_count": 34,
   "metadata": {},
   "outputs": [
    {
     "data": {
      "text/plain": [
       "array([[0. , 0.5, 1. ],\n",
       "       [1.5, 2. , 2.5],\n",
       "       [3. , 3.5, 4. ]])"
      ]
     },
     "execution_count": 34,
     "metadata": {},
     "output_type": "execute_result"
    }
   ],
   "source": [
    "np.divide(array1, 2) # divide a value to each element"
   ]
  },
  {
   "cell_type": "code",
   "execution_count": 35,
   "metadata": {},
   "outputs": [
    {
     "data": {
      "text/plain": [
       "4.0"
      ]
     },
     "execution_count": 35,
     "metadata": {},
     "output_type": "execute_result"
    }
   ],
   "source": [
    "np.mean(array1) # computing the Numpy table average using the mean() function"
   ]
  },
  {
   "cell_type": "code",
   "execution_count": 36,
   "metadata": {},
   "outputs": [
    {
     "data": {
      "text/plain": [
       "4.0"
      ]
     },
     "execution_count": 36,
     "metadata": {},
     "output_type": "execute_result"
    }
   ],
   "source": [
    "array1.mean()  #  computing the Numpy table average using the mean() method"
   ]
  },
  {
   "cell_type": "code",
   "execution_count": 37,
   "metadata": {},
   "outputs": [
    {
     "data": {
      "text/plain": [
       "0"
      ]
     },
     "execution_count": 37,
     "metadata": {},
     "output_type": "execute_result"
    }
   ],
   "source": [
    "array1.min()  #  computing the Numpy table mimimum using the min() method"
   ]
  },
  {
   "cell_type": "code",
   "execution_count": 38,
   "metadata": {},
   "outputs": [
    {
     "data": {
      "text/plain": [
       "8"
      ]
     },
     "execution_count": 38,
     "metadata": {},
     "output_type": "execute_result"
    }
   ],
   "source": [
    "array1.max()  # computing the Numpy table maximum using the max() method"
   ]
  },
  {
   "cell_type": "code",
   "execution_count": 39,
   "metadata": {},
   "outputs": [
    {
     "data": {
      "text/plain": [
       "array([3., 4., 5.])"
      ]
     },
     "execution_count": 39,
     "metadata": {},
     "output_type": "execute_result"
    }
   ],
   "source": [
    "np.mean(array1, axis=0)  # we apply mean() function only over columns "
   ]
  },
  {
   "cell_type": "code",
   "execution_count": 40,
   "metadata": {},
   "outputs": [
    {
     "data": {
      "text/plain": [
       "array([1., 4., 7.])"
      ]
     },
     "execution_count": 40,
     "metadata": {},
     "output_type": "execute_result"
    }
   ],
   "source": [
    "np.mean(array1, axis=1) # we apply mean() function only over rows "
   ]
  },
  {
   "cell_type": "markdown",
   "metadata": {},
   "source": [
    "- Operations between several tables"
   ]
  },
  {
   "cell_type": "code",
   "execution_count": 41,
   "metadata": {},
   "outputs": [
    {
     "data": {
      "text/plain": [
       "array([[ 47,  40, 147],\n",
       "       [160,  75,  42],\n",
       "       [ 28, 280, 126]])"
      ]
     },
     "execution_count": 41,
     "metadata": {},
     "output_type": "execute_result"
    }
   ],
   "source": [
    "(array1 +1) * array2     # multiplication of 2 tables"
   ]
  },
  {
   "cell_type": "code",
   "execution_count": 42,
   "metadata": {
    "scrolled": true
   },
   "outputs": [
    {
     "data": {
      "text/plain": [
       "array([[47, 21, 51],\n",
       "       [43, 19, 12],\n",
       "       [10, 42, 22]])"
      ]
     },
     "execution_count": 42,
     "metadata": {},
     "output_type": "execute_result"
    }
   ],
   "source": [
    "array1 + array2 # sum of 2 tables"
   ]
  },
  {
   "cell_type": "code",
   "execution_count": 43,
   "metadata": {},
   "outputs": [
    {
     "data": {
      "text/plain": [
       "array([[ 48,  85,  35],\n",
       "       [321, 295, 245],\n",
       "       [594, 505, 455]])"
      ]
     },
     "execution_count": 43,
     "metadata": {},
     "output_type": "execute_result"
    }
   ],
   "source": [
    "np.dot(array1, array2) # dot product of 2 tables"
   ]
  },
  {
   "cell_type": "markdown",
   "metadata": {},
   "source": [
    "## 6.4 Update Numpy array: \n",
    "\n",
    "Other interesting features include concatenation, splitting, transposition (changing elements from one row to another and vice versa) and obtaining elements diagonally.\n",
    "\n",
    "a) - To manipulate / modify the dimensions of a Numpy array:\n",
    "\n",
    "The dimension of a table is given by the number of elements following each axis. We have specific methods and attributes specific to ndarray ():\n",
    "\n",
    "<table border=\"1\" class=\"docutils\">\n",
    "<colgroup>\n",
    "<col width=\"27%\">\n",
    "<col width=\"57%\">\n",
    "</colgroup>\n",
    "<tbody valign=\"top\">\n",
    "\n",
    "<tr><td><tt class=\"docutils literal\"><span class=\"pre\">ndim</span></tt></td>\n",
    "<td>Tool to know Numpy array dimension</td>\n",
    "</tr>\n",
    "<tr><td><tt class=\"docutils literal\"><span class=\"pre\">shape</span></tt></td>\n",
    "<td>Tool to know Numpy array shape </td>\n",
    "</tr>\n",
    "<tr><td><tt class=\"docutils literal\"><span class=\"pre\">dtype</span></tt></td>\n",
    "<td>Tool to know Numpy array type </td>\n",
    "</tr>\n",
    "<tr><td><tt class=\"docutils literal\"><span class=\"pre\">size</span></tt></td>\n",
    "<td>Tool to know Numpy array size</td>\n",
    "</tr>\n",
    "\n",
    "</tbody>\n",
    "</table>\n",
    "\n",
    "\n"
   ]
  },
  {
   "cell_type": "code",
   "execution_count": 44,
   "metadata": {},
   "outputs": [
    {
     "data": {
      "text/plain": [
       "array([[1., 5., 5., 0.],\n",
       "       [5., 5., 4., 4.],\n",
       "       [6., 2., 5., 2.]])"
      ]
     },
     "execution_count": 44,
     "metadata": {},
     "output_type": "execute_result"
    }
   ],
   "source": [
    "np.floor(10*np.random.random((3,4)))"
   ]
  },
  {
   "cell_type": "code",
   "execution_count": 45,
   "metadata": {},
   "outputs": [
    {
     "name": "stdout",
     "output_type": "stream",
     "text": [
      "[[3. 5. 5. 6.]\n",
      " [0. 7. 1. 6.]\n",
      " [4. 8. 2. 5.]] (3, 4) 2\n"
     ]
    }
   ],
   "source": [
    "a = np.floor(10*np.random.random((3,4)))\n",
    "print(a, a.shape, a.ndim)"
   ]
  },
  {
   "cell_type": "markdown",
   "metadata": {},
   "source": [
    "Depending on our programming needs, we can change the size of a table."
   ]
  },
  {
   "cell_type": "code",
   "execution_count": 46,
   "metadata": {},
   "outputs": [
    {
     "data": {
      "text/plain": [
       "array([3., 5., 5., 6., 0., 7., 1., 6., 4., 8., 2., 5.])"
      ]
     },
     "execution_count": 46,
     "metadata": {},
     "output_type": "execute_result"
    }
   ],
   "source": [
    "a.ravel() # ravel() function to write over table on 1 dimension (flattened)"
   ]
  },
  {
   "cell_type": "code",
   "execution_count": 47,
   "metadata": {},
   "outputs": [
    {
     "data": {
      "text/plain": [
       "array([[3., 5.],\n",
       "       [5., 6.],\n",
       "       [0., 7.],\n",
       "       [1., 6.],\n",
       "       [4., 8.],\n",
       "       [2., 5.]])"
      ]
     },
     "execution_count": 47,
     "metadata": {},
     "output_type": "execute_result"
    }
   ],
   "source": [
    "a.reshape(6,2)  # reshape() function to change the dimension of our array"
   ]
  },
  {
   "cell_type": "code",
   "execution_count": 48,
   "metadata": {},
   "outputs": [
    {
     "data": {
      "text/plain": [
       "array([[3., 0., 4.],\n",
       "       [5., 7., 8.],\n",
       "       [5., 1., 2.],\n",
       "       [6., 6., 5.]])"
      ]
     },
     "execution_count": 48,
     "metadata": {},
     "output_type": "execute_result"
    }
   ],
   "source": [
    "a.T  #T method to calculate the transpose of our array."
   ]
  },
  {
   "cell_type": "code",
   "execution_count": 49,
   "metadata": {},
   "outputs": [
    {
     "name": "stdout",
     "output_type": "stream",
     "text": [
      "(4, 3) (3, 4)\n"
     ]
    }
   ],
   "source": [
    "print(a.T.shape, a.shape)"
   ]
  },
  {
   "cell_type": "markdown",
   "metadata": {},
   "source": [
    "The reshape function returns its argument with a modified form, while the ndarray.resize method modifies the array itself:"
   ]
  },
  {
   "cell_type": "code",
   "execution_count": 50,
   "metadata": {},
   "outputs": [
    {
     "data": {
      "text/plain": [
       "array([[3., 5., 5., 6., 0., 7.],\n",
       "       [1., 6., 4., 8., 2., 5.]])"
      ]
     },
     "execution_count": 50,
     "metadata": {},
     "output_type": "execute_result"
    }
   ],
   "source": [
    "a.resize((2,6))\n",
    "a"
   ]
  },
  {
   "cell_type": "markdown",
   "metadata": {},
   "source": [
    "If a dimension is set to -1 in a resizing operation, the other dimensions are automatically calculated:"
   ]
  },
  {
   "cell_type": "code",
   "execution_count": 51,
   "metadata": {},
   "outputs": [
    {
     "data": {
      "text/plain": [
       "array([[3., 5., 5.],\n",
       "       [6., 0., 7.],\n",
       "       [1., 6., 4.],\n",
       "       [8., 2., 5.]])"
      ]
     },
     "execution_count": 51,
     "metadata": {},
     "output_type": "execute_result"
    }
   ],
   "source": [
    "a.reshape(4,-1)"
   ]
  },
  {
   "cell_type": "markdown",
   "metadata": {},
   "source": [
    "b) - Woring with a subset of a Numpy table:"
   ]
  },
  {
   "cell_type": "code",
   "execution_count": 52,
   "metadata": {},
   "outputs": [
    {
     "data": {
      "text/plain": [
       "array([[1, 2, 3],\n",
       "       [4, 5, 6],\n",
       "       [7, 8, 9]])"
      ]
     },
     "execution_count": 52,
     "metadata": {},
     "output_type": "execute_result"
    }
   ],
   "source": [
    "my_table = np.array([[1,2,3], [4,5,6], [7,8,9]])\n",
    "my_table"
   ]
  },
  {
   "cell_type": "markdown",
   "metadata": {},
   "source": [
    "We will select a subset of our ndarray with selecting the first row."
   ]
  },
  {
   "cell_type": "code",
   "execution_count": 53,
   "metadata": {},
   "outputs": [
    {
     "data": {
      "text/plain": [
       "array([1, 2, 3])"
      ]
     },
     "execution_count": 53,
     "metadata": {},
     "output_type": "execute_result"
    }
   ],
   "source": [
    "subset = my_table[0]\n",
    "subset"
   ]
  },
  {
   "cell_type": "markdown",
   "metadata": {},
   "source": [
    "We want to change the first element of our subset. "
   ]
  },
  {
   "cell_type": "code",
   "execution_count": 54,
   "metadata": {},
   "outputs": [
    {
     "data": {
      "text/plain": [
       "array([100,   2,   3])"
      ]
     },
     "execution_count": 54,
     "metadata": {},
     "output_type": "execute_result"
    }
   ],
   "source": [
    "subset[0] = 100\n",
    "subset"
   ]
  },
  {
   "cell_type": "markdown",
   "metadata": {},
   "source": [
    "But by modifying our sub-table, we realize that we have modified our initial table."
   ]
  },
  {
   "cell_type": "code",
   "execution_count": 55,
   "metadata": {},
   "outputs": [
    {
     "data": {
      "text/plain": [
       "array([[100,   2,   3],\n",
       "       [  4,   5,   6],\n",
       "       [  7,   8,   9]])"
      ]
     },
     "execution_count": 55,
     "metadata": {},
     "output_type": "execute_result"
    }
   ],
   "source": [
    "my_table"
   ]
  },
  {
   "cell_type": "markdown",
   "metadata": {},
   "source": [
    "A modification of the subset causes a modification of the initial table.\n",
    "Our subset array is a view of our initial table. Reason: saving memory when working with large volumes of data.\n",
    "\n",
    "If you really want to work with a subset without modifying the original array, you must make a copy with the <b> copy () </ b> function.\n"
   ]
  },
  {
   "cell_type": "code",
   "execution_count": 56,
   "metadata": {},
   "outputs": [],
   "source": [
    "my_table = np.array([[1,2,3], [4,5,6], [7,8,9]])\n",
    "subset = my_table[0].copy()\n",
    "subset[0]=101"
   ]
  },
  {
   "cell_type": "code",
   "execution_count": 57,
   "metadata": {},
   "outputs": [
    {
     "data": {
      "text/plain": [
       "array([101,   2,   3])"
      ]
     },
     "execution_count": 57,
     "metadata": {},
     "output_type": "execute_result"
    }
   ],
   "source": [
    "subset"
   ]
  },
  {
   "cell_type": "code",
   "execution_count": 58,
   "metadata": {},
   "outputs": [
    {
     "data": {
      "text/plain": [
       "array([[1, 2, 3],\n",
       "       [4, 5, 6],\n",
       "       [7, 8, 9]])"
      ]
     },
     "execution_count": 58,
     "metadata": {},
     "output_type": "execute_result"
    }
   ],
   "source": [
    "my_table"
   ]
  },
  {
   "cell_type": "markdown",
   "metadata": {},
   "source": [
    "   c)- To concatenate Numpy array:\n",
    "    \n",
    "<a class=\"reference internal\" href=\"https://docs.scipy.org/doc/numpy-1.13.0/reference/generated/numpy.vstack.html#numpy.vstack\" title=\"numpy.vstack\"><code class=\"xref py py-obj docutils literal\"><span class=\"pre\">vstack</span></code></a>, \n",
    "<a class=\"reference internal\" href=\"https://docs.scipy.org/doc/numpy-1.13.0/reference/generated/numpy.column_stack.html#numpy.column_stack\" title=\"numpy.column_stack\"><code class=\"xref py py-obj docutils literal\"><span class=\"pre\">column_stack</span></code></a>, \n",
    "<a class=\"reference internal\" href=\"https://docs.scipy.org/doc/numpy-1.13.0/reference/generated/numpy.concatenate.html#numpy.concatenate\" title=\"numpy.concatenate\"><code class=\"xref py py-obj docutils literal\"><span class=\"pre\">concatenate</span></code></a>"
   ]
  },
  {
   "cell_type": "markdown",
   "metadata": {},
   "source": [
    "-  <b>concatenate()</b> function to join a sequence of arrays along an existing axis.\n",
    "\n",
    " Concatenate function can take two or more arrays of the same shape and by default it concatenates row-wise i.e. axis=0. "
   ]
  },
  {
   "cell_type": "code",
   "execution_count": 59,
   "metadata": {},
   "outputs": [
    {
     "data": {
      "text/plain": [
       "array([[1, 2, 3],\n",
       "       [4, 5, 6],\n",
       "       [7, 8, 9]])"
      ]
     },
     "execution_count": 59,
     "metadata": {},
     "output_type": "execute_result"
    }
   ],
   "source": [
    "array1=np.array([[1,2,3],[4,5,6],[7,8,9]])\n",
    "array1"
   ]
  },
  {
   "cell_type": "code",
   "execution_count": 60,
   "metadata": {},
   "outputs": [
    {
     "data": {
      "text/plain": [
       "array([[ 2,  5,  6],\n",
       "       [ 9, 10, 11],\n",
       "       [ 5,  6,  9]])"
      ]
     },
     "execution_count": 60,
     "metadata": {},
     "output_type": "execute_result"
    }
   ],
   "source": [
    "array2=np.array([[2,5,6],[9,10,11],[5,6,9]])\n",
    "array2"
   ]
  },
  {
   "cell_type": "code",
   "execution_count": 61,
   "metadata": {},
   "outputs": [
    {
     "data": {
      "text/plain": [
       "array([[ 1,  2,  3],\n",
       "       [ 4,  5,  6],\n",
       "       [ 7,  8,  9],\n",
       "       [ 2,  5,  6],\n",
       "       [ 9, 10, 11],\n",
       "       [ 5,  6,  9]])"
      ]
     },
     "execution_count": 61,
     "metadata": {},
     "output_type": "execute_result"
    }
   ],
   "source": [
    "np.concatenate([array1,array2], axis=0)   # to join a sequence of arrays along rows  (axis = 0) "
   ]
  },
  {
   "cell_type": "code",
   "execution_count": 62,
   "metadata": {},
   "outputs": [
    {
     "data": {
      "text/plain": [
       "array([[ 1,  2,  3,  2,  5,  6],\n",
       "       [ 4,  5,  6,  9, 10, 11],\n",
       "       [ 7,  8,  9,  5,  6,  9]])"
      ]
     },
     "execution_count": 62,
     "metadata": {},
     "output_type": "execute_result"
    }
   ],
   "source": [
    "np.concatenate([array1,array2], axis=1)    # to join a sequence of arrays along columns  (axis = 1) "
   ]
  },
  {
   "cell_type": "markdown",
   "metadata": {},
   "source": [
    "In addition to the concatenate function, NumPy also offers two convenient functions hstack and vstack to stack/combine arrays horizontally or vertically.\n",
    "\n",
    " \n",
    "- <b>vstack()</b> function stacks arrays in sequence vertically i.e. row wise. And the result is the same as using concatenate with axis=0.\n",
    "- <b>hstack()</b> function stacks arrays horizontally i.e. column wise. And the result is the same as using concatenate with axis=1."
   ]
  },
  {
   "cell_type": "code",
   "execution_count": 63,
   "metadata": {},
   "outputs": [],
   "source": [
    "array3=np.array([10,20,30]) # 1D Numpy array"
   ]
  },
  {
   "cell_type": "code",
   "execution_count": 64,
   "metadata": {},
   "outputs": [
    {
     "data": {
      "text/plain": [
       "array([10, 20, 30])"
      ]
     },
     "execution_count": 64,
     "metadata": {},
     "output_type": "execute_result"
    }
   ],
   "source": [
    "array3"
   ]
  },
  {
   "cell_type": "code",
   "execution_count": 65,
   "metadata": {},
   "outputs": [],
   "source": [
    "array4=np.array([[1,2,3],[4,5,6],[7,8,9]]) # bi-dimentionnal Numpy array"
   ]
  },
  {
   "cell_type": "code",
   "execution_count": 66,
   "metadata": {},
   "outputs": [
    {
     "data": {
      "text/plain": [
       "array([[1, 2, 3],\n",
       "       [4, 5, 6],\n",
       "       [7, 8, 9]])"
      ]
     },
     "execution_count": 66,
     "metadata": {},
     "output_type": "execute_result"
    }
   ],
   "source": [
    "array4"
   ]
  },
  {
   "cell_type": "code",
   "execution_count": 67,
   "metadata": {},
   "outputs": [
    {
     "data": {
      "text/plain": [
       "array([[ 1,  2,  3],\n",
       "       [ 4,  5,  6],\n",
       "       [ 7,  8,  9],\n",
       "       [10, 20, 30]])"
      ]
     },
     "execution_count": 67,
     "metadata": {},
     "output_type": "execute_result"
    }
   ],
   "source": [
    "np.vstack([array4,array3])    "
   ]
  },
  {
   "cell_type": "code",
   "execution_count": 68,
   "metadata": {},
   "outputs": [
    {
     "data": {
      "text/plain": [
       "(3, 1)"
      ]
     },
     "execution_count": 68,
     "metadata": {},
     "output_type": "execute_result"
    }
   ],
   "source": [
    "array5=np.array([[10],[20],[30]]) \n",
    "array5.shape"
   ]
  },
  {
   "cell_type": "code",
   "execution_count": 69,
   "metadata": {},
   "outputs": [
    {
     "data": {
      "text/plain": [
       "array([[ 1,  2,  3, 10],\n",
       "       [ 4,  5,  6, 20],\n",
       "       [ 7,  8,  9, 30]])"
      ]
     },
     "execution_count": 69,
     "metadata": {},
     "output_type": "execute_result"
    }
   ],
   "source": [
    "np.hstack([array4,array5]) "
   ]
  },
  {
   "cell_type": "markdown",
   "metadata": {},
   "source": [
    " d)- To split Numpy arrays:\n",
    "\n",
    "This is the opposite of concatenation.\n",
    "We have the split (), hsplit () and vsplit () functions."
   ]
  },
  {
   "cell_type": "code",
   "execution_count": 70,
   "metadata": {},
   "outputs": [],
   "source": [
    "array=np.array([15,16,17,12,49,52,12,14,36]) "
   ]
  },
  {
   "cell_type": "code",
   "execution_count": 71,
   "metadata": {},
   "outputs": [
    {
     "data": {
      "text/plain": [
       "9"
      ]
     },
     "execution_count": 71,
     "metadata": {},
     "output_type": "execute_result"
    }
   ],
   "source": [
    "len(array) # array size"
   ]
  },
  {
   "cell_type": "code",
   "execution_count": 72,
   "metadata": {},
   "outputs": [
    {
     "data": {
      "text/plain": [
       "[array([15, 16, 17]), array([12, 49, 52]), array([12, 14, 36])]"
      ]
     },
     "execution_count": 72,
     "metadata": {},
     "output_type": "execute_result"
    }
   ],
   "source": [
    "np.split(array,3) # we split the array into 3 arrays"
   ]
  },
  {
   "cell_type": "markdown",
   "metadata": {},
   "source": [
    "We can split our numpy array using breaking point with index. "
   ]
  },
  {
   "cell_type": "code",
   "execution_count": 73,
   "metadata": {},
   "outputs": [
    {
     "data": {
      "text/plain": [
       "[array([15, 16]), array([17, 12, 49, 52]), array([12, 14, 36])]"
      ]
     },
     "execution_count": 73,
     "metadata": {},
     "output_type": "execute_result"
    }
   ],
   "source": [
    "np.split(array,[2,6]) # we want to cut our table into 3 tables, the numbers between [] are the breakpoints.\n",
    "                      # corresponds to the indexes where we cut"
   ]
  },
  {
   "cell_type": "code",
   "execution_count": 74,
   "metadata": {},
   "outputs": [],
   "source": [
    "array1,array2,array3=np.split(array,[2,6]) "
   ]
  },
  {
   "cell_type": "code",
   "execution_count": 75,
   "metadata": {},
   "outputs": [
    {
     "name": "stdout",
     "output_type": "stream",
     "text": [
      "[15 16] [17 12 49 52] [12 14 36]\n"
     ]
    }
   ],
   "source": [
    "print(array1,array2,array3)"
   ]
  },
  {
   "cell_type": "code",
   "execution_count": 76,
   "metadata": {},
   "outputs": [],
   "source": [
    "array1,array2,array3,array4=np.split(array,[2,4,6]) "
   ]
  },
  {
   "cell_type": "code",
   "execution_count": 77,
   "metadata": {},
   "outputs": [
    {
     "name": "stdout",
     "output_type": "stream",
     "text": [
      "[15 16] [17 12] [49 52] [12 14 36]\n"
     ]
    }
   ],
   "source": [
    "print(array1,array2,array3,array4)"
   ]
  },
  {
   "cell_type": "markdown",
   "metadata": {},
   "source": [
    "To break 2-dimensional tables. we use hsplit or vsplit. "
   ]
  },
  {
   "cell_type": "code",
   "execution_count": 78,
   "metadata": {},
   "outputs": [
    {
     "data": {
      "text/plain": [
       "array([[1, 2, 3],\n",
       "       [4, 5, 6],\n",
       "       [7, 8, 9]])"
      ]
     },
     "execution_count": 78,
     "metadata": {},
     "output_type": "execute_result"
    }
   ],
   "source": [
    "array2=np.array([[1,2,3],[4,5,6],[7,8,9]])\n",
    "array2"
   ]
  },
  {
   "cell_type": "code",
   "execution_count": 79,
   "metadata": {
    "scrolled": true
   },
   "outputs": [
    {
     "name": "stdout",
     "output_type": "stream",
     "text": [
      "[[1 2 3]\n",
      " [4 5 6]] [[7 8 9]]\n"
     ]
    }
   ],
   "source": [
    "array1,array1bis=np.vsplit(array2, [2]) \n",
    "print(array1,array1bis)"
   ]
  },
  {
   "cell_type": "code",
   "execution_count": 80,
   "metadata": {},
   "outputs": [
    {
     "data": {
      "text/plain": [
       "array([[1, 2, 3],\n",
       "       [4, 5, 6],\n",
       "       [7, 8, 9]])"
      ]
     },
     "execution_count": 80,
     "metadata": {},
     "output_type": "execute_result"
    }
   ],
   "source": [
    "array2"
   ]
  },
  {
   "cell_type": "code",
   "execution_count": 81,
   "metadata": {},
   "outputs": [
    {
     "name": "stdout",
     "output_type": "stream",
     "text": [
      "[[1 2]\n",
      " [4 5]\n",
      " [7 8]] [[3]\n",
      " [6]\n",
      " [9]]\n"
     ]
    }
   ],
   "source": [
    "array1,array1bis=np.hsplit(array2,[2]) \n",
    "print(array1,array1bis)"
   ]
  },
  {
   "cell_type": "markdown",
   "metadata": {},
   "source": [
    " e)- To delete rows and  columns in a Numpy array: <b>delete()</b> function "
   ]
  },
  {
   "cell_type": "code",
   "execution_count": 82,
   "metadata": {},
   "outputs": [
    {
     "data": {
      "text/plain": [
       "array([[1, 2, 3],\n",
       "       [4, 5, 6],\n",
       "       [7, 8, 9]])"
      ]
     },
     "execution_count": 82,
     "metadata": {},
     "output_type": "execute_result"
    }
   ],
   "source": [
    "array=np.array([[1,2,3],[4,5,6],[7,8,9]])\n",
    "array"
   ]
  },
  {
   "cell_type": "code",
   "execution_count": 83,
   "metadata": {},
   "outputs": [
    {
     "data": {
      "text/plain": [
       "array([[1, 2, 3],\n",
       "       [4, 5, 6]])"
      ]
     },
     "execution_count": 83,
     "metadata": {},
     "output_type": "execute_result"
    }
   ],
   "source": [
    "np.delete(array,2,axis=0) # to delete row with index 2 "
   ]
  },
  {
   "cell_type": "code",
   "execution_count": 84,
   "metadata": {},
   "outputs": [
    {
     "data": {
      "text/plain": [
       "array([[1, 2],\n",
       "       [4, 5],\n",
       "       [7, 8]])"
      ]
     },
     "execution_count": 84,
     "metadata": {},
     "output_type": "execute_result"
    }
   ],
   "source": [
    "np.delete(array2,2,axis=1)  # to delete column with index 2 "
   ]
  },
  {
   "cell_type": "markdown",
   "metadata": {},
   "source": [
    "f)- To calculate the transpose of a Numpy table: <b>transpose()</b> function"
   ]
  },
  {
   "cell_type": "code",
   "execution_count": 85,
   "metadata": {},
   "outputs": [
    {
     "data": {
      "text/plain": [
       "array([[1, 4, 7],\n",
       "       [2, 5, 8],\n",
       "       [3, 6, 9]])"
      ]
     },
     "execution_count": 85,
     "metadata": {},
     "output_type": "execute_result"
    }
   ],
   "source": [
    "np.transpose(array)"
   ]
  },
  {
   "cell_type": "markdown",
   "metadata": {},
   "source": [
    "g)- To get the values of the diagonal of a Numpy table: <b>diagonal()</b> function"
   ]
  },
  {
   "cell_type": "code",
   "execution_count": 86,
   "metadata": {},
   "outputs": [
    {
     "data": {
      "text/plain": [
       "array([1, 5, 9])"
      ]
     },
     "execution_count": 86,
     "metadata": {},
     "output_type": "execute_result"
    }
   ],
   "source": [
    "array.diagonal() "
   ]
  },
  {
   "cell_type": "markdown",
   "metadata": {},
   "source": [
    "## 6.5 Comparisons and masks :"
   ]
  },
  {
   "cell_type": "markdown",
   "metadata": {},
   "source": [
    "With Numpy arrays, you can use a boolean matrix to filter and compare Numpy arrays."
   ]
  },
  {
   "cell_type": "code",
   "execution_count": 87,
   "metadata": {},
   "outputs": [
    {
     "data": {
      "text/plain": [
       "array([[62, 72, 26, 37, 76, 39],\n",
       "       [38, 66, 42, 78, 15, 97],\n",
       "       [81, 19, 83, 89, 87, 66],\n",
       "       [11, 49, 53, 71, 63, 25],\n",
       "       [75, 87, 68, 88, 30, 12],\n",
       "       [95, 61, 14, 40, 61, 31]])"
      ]
     },
     "execution_count": 87,
     "metadata": {},
     "output_type": "execute_result"
    }
   ],
   "source": [
    "table = np.random.randint(100,size=(6,6))  #  4*3 Numpy array with random values between 0 and 100 \n",
    "table"
   ]
  },
  {
   "cell_type": "code",
   "execution_count": 88,
   "metadata": {},
   "outputs": [
    {
     "data": {
      "text/plain": [
       "array([[ True,  True, False, False,  True, False],\n",
       "       [False,  True, False,  True, False,  True],\n",
       "       [ True, False,  True,  True,  True,  True],\n",
       "       [False, False,  True,  True,  True, False],\n",
       "       [ True,  True,  True,  True, False, False],\n",
       "       [ True,  True, False, False,  True, False]])"
      ]
     },
     "execution_count": 88,
     "metadata": {},
     "output_type": "execute_result"
    }
   ],
   "source": [
    "mask = table>50 # we generate here a mask with same dimension than our original table but with Boolean values\n",
    "mask"
   ]
  },
  {
   "cell_type": "markdown",
   "metadata": {},
   "source": [
    "Being both of the same size, we can use this Boolean matrix to our advantage. In other words, we can do Boolean masking. With this Boolean matrix as a mask, we can use it to select the particular subset of data that interests us."
   ]
  },
  {
   "cell_type": "code",
   "execution_count": 89,
   "metadata": {},
   "outputs": [
    {
     "data": {
      "text/plain": [
       "array([62, 72, 76, 66, 78, 97, 81, 83, 89, 87, 66, 53, 71, 63, 75, 87, 68,\n",
       "       88, 95, 61, 61])"
      ]
     },
     "execution_count": 89,
     "metadata": {},
     "output_type": "execute_result"
    }
   ],
   "source": [
    "table[mask] \n",
    "#table[table>50]  # same job"
   ]
  },
  {
   "cell_type": "code",
   "execution_count": 90,
   "metadata": {},
   "outputs": [
    {
     "data": {
      "text/plain": [
       "array([62, 72, 76, 66, 78, 97, 81, 83, 89, 87, 66, 53, 71, 63, 75, 87, 68,\n",
       "       88, 95, 61, 61])"
      ]
     },
     "execution_count": 90,
     "metadata": {},
     "output_type": "execute_result"
    }
   ],
   "source": [
    "table[table>50]"
   ]
  },
  {
   "cell_type": "markdown",
   "metadata": {},
   "source": [
    "We have many other comparison operators to compare two arrays such as == (equality),! = (No equality), <= (less than or equal to). We can even combine two Boolean statements & (for \"AND\" conditions) or | (for the \"OR\" conditions)."
   ]
  },
  {
   "cell_type": "code",
   "execution_count": 91,
   "metadata": {},
   "outputs": [
    {
     "data": {
      "text/plain": [
       "array([62, 72, 26, 37, 76, 39, 38, 66, 78, 15, 97, 81, 19, 83, 89, 87, 66,\n",
       "       11, 53, 71, 63, 25, 75, 87, 68, 88, 30, 12, 95, 61, 14, 40, 61, 31])"
      ]
     },
     "execution_count": 91,
     "metadata": {},
     "output_type": "execute_result"
    }
   ],
   "source": [
    "#table[table>=50]                 \n",
    "#table[table<50]                     \n",
    "#table[table!=50]                    \n",
    "#table[table==50]                     \n",
    "#table[(table >=50) & (table <=70)]  \n",
    "table[(table>=50) | (table<=40)]     "
   ]
  },
  {
   "cell_type": "markdown",
   "metadata": {},
   "source": [
    "## Exercise using Numpy library:\n",
    "### we will work on data station using Numpy library.\n",
    "\n",
    "- read the file containing the daily precipitation and temperature data for the Ottawa station for the year 2017\n",
    "\n",
    "1- Create a Numpy table with a column for temperature and a column for precipitation. (With two Numpy 1D tables, create a 2D array (365 rows and 2 columns).\n",
    "\n",
    "2- Convert the temperature data into Celcius (T [Celcius] = T [Kelvin] - 273.15).\n",
    "\n",
    "3- How many days have an accumulation greater than 25mm?\n",
    "\n",
    "4- What temperature was recorded for the day with the greatest accumulation?\n",
    "\n",
    "5- Calculate the number of degree days (> 0degC) for the year 2017.\n",
    "\n",
    "6- Calculate the daily precipitation totals for the year 2017 and assign this variable to the cumul_recipitation table. Add the cumul_recipitation table to the table.\n",
    "\n",
    "7- Just for the exercise, split the array into 2 arrays, then concatenate them again to get the initial array.\n"
   ]
  },
  {
   "cell_type": "code",
   "execution_count": 92,
   "metadata": {},
   "outputs": [],
   "source": [
    "import numpy as np\n",
    "# to read a csv file with numpy, we can use genfromtxt() function. \n",
    "temperature = np.genfromtxt(\"./DATA/OTTAWA_tasmoy_2017.csv\", dtype=float)\n",
    "precipitation = np.genfromtxt(\"./DATA/OTTAWA_PrecTOT_2017.csv\", dtype=float)"
   ]
  },
  {
   "cell_type": "code",
   "execution_count": 93,
   "metadata": {},
   "outputs": [
    {
     "name": "stdout",
     "output_type": "stream",
     "text": [
      "(365,) (365,)\n"
     ]
    }
   ],
   "source": [
    "print(temperature.shape, precipitation.shape)"
   ]
  },
  {
   "cell_type": "code",
   "execution_count": null,
   "metadata": {},
   "outputs": [],
   "source": []
  },
  {
   "cell_type": "code",
   "execution_count": null,
   "metadata": {},
   "outputs": [],
   "source": []
  },
  {
   "cell_type": "code",
   "execution_count": null,
   "metadata": {},
   "outputs": [],
   "source": []
  },
  {
   "cell_type": "code",
   "execution_count": null,
   "metadata": {},
   "outputs": [],
   "source": []
  },
  {
   "cell_type": "code",
   "execution_count": null,
   "metadata": {},
   "outputs": [],
   "source": []
  },
  {
   "cell_type": "code",
   "execution_count": null,
   "metadata": {},
   "outputs": [],
   "source": []
  },
  {
   "cell_type": "code",
   "execution_count": null,
   "metadata": {},
   "outputs": [],
   "source": []
  },
  {
   "cell_type": "code",
   "execution_count": null,
   "metadata": {},
   "outputs": [],
   "source": []
  },
  {
   "cell_type": "code",
   "execution_count": null,
   "metadata": {},
   "outputs": [],
   "source": []
  },
  {
   "cell_type": "code",
   "execution_count": null,
   "metadata": {},
   "outputs": [],
   "source": []
  },
  {
   "cell_type": "code",
   "execution_count": null,
   "metadata": {},
   "outputs": [],
   "source": []
  },
  {
   "cell_type": "code",
   "execution_count": null,
   "metadata": {},
   "outputs": [],
   "source": []
  },
  {
   "cell_type": "code",
   "execution_count": null,
   "metadata": {},
   "outputs": [],
   "source": []
  },
  {
   "cell_type": "markdown",
   "metadata": {},
   "source": [
    "### Corrigé de l'exercice 4:"
   ]
  },
  {
   "cell_type": "code",
   "execution_count": 94,
   "metadata": {},
   "outputs": [
    {
     "data": {
      "text/plain": [
       "array([[2.6665e+02, 1.1000e-01],\n",
       "       [2.6635e+02, 3.0300e+00],\n",
       "       [2.7135e+02, 2.6570e+01],\n",
       "       [2.7395e+02, 4.2100e+00],\n",
       "       [2.6335e+02, 0.0000e+00],\n",
       "       [2.6015e+02, 0.0000e+00],\n",
       "       [2.5615e+02, 1.1000e-01],\n",
       "       [2.5665e+02, 0.0000e+00],\n",
       "       [2.5785e+02, 0.0000e+00],\n",
       "       [2.6865e+02, 1.4370e+01],\n",
       "       [2.7315e+02, 3.4000e+00],\n",
       "       [2.7595e+02, 5.9000e-01],\n",
       "       [2.6535e+02, 0.0000e+00],\n",
       "       [2.5815e+02, 1.1000e-01],\n",
       "       [2.6415e+02, 0.0000e+00],\n",
       "       [2.6785e+02, 0.0000e+00],\n",
       "       [2.6765e+02, 8.5200e+00],\n",
       "       [2.7115e+02, 3.4000e-01],\n",
       "       [2.7315e+02, 0.0000e+00],\n",
       "       [2.7445e+02, 5.5000e-01],\n",
       "       [2.7465e+02, 5.4000e-01],\n",
       "       [2.7465e+02, 0.0000e+00],\n",
       "       [2.7135e+02, 2.6000e-01],\n",
       "       [2.7115e+02, 7.3000e+00],\n",
       "       [2.7185e+02, 2.0300e+00],\n",
       "       [2.7365e+02, 5.4000e-01],\n",
       "       [2.7265e+02, 5.1000e-01],\n",
       "       [2.7115e+02, 2.7900e+00],\n",
       "       [2.6915e+02, 5.1000e-01],\n",
       "       [2.5965e+02, 0.0000e+00],\n",
       "       [2.5815e+02, 2.0300e+00],\n",
       "       [2.6465e+02, 0.0000e+00],\n",
       "       [2.6265e+02, 7.6000e-01],\n",
       "       [2.6585e+02, 0.0000e+00],\n",
       "       [2.6435e+02, 2.5400e+00],\n",
       "       [2.6965e+02, 1.5200e+00],\n",
       "       [2.6115e+02, 7.3700e+00],\n",
       "       [2.6915e+02, 1.9950e+01],\n",
       "       [2.6765e+02, 0.0000e+00],\n",
       "       [2.5965e+02, 0.0000e+00],\n",
       "       [2.5835e+02, 3.8100e+00],\n",
       "       [2.6115e+02, 1.1000e-01],\n",
       "       [2.6415e+02, 2.4130e+01],\n",
       "       [2.6635e+02, 0.0000e+00],\n",
       "       [2.6465e+02, 2.0320e+01],\n",
       "       [2.6985e+02, 3.8100e+00],\n",
       "       [2.6735e+02, 0.0000e+00],\n",
       "       [2.6635e+02, 0.0000e+00],\n",
       "       [2.7285e+02, 0.0000e+00],\n",
       "       [2.7665e+02, 0.0000e+00],\n",
       "       [2.7135e+02, 0.0000e+00],\n",
       "       [2.6835e+02, 1.5600e+00],\n",
       "       [2.7515e+02, 0.0000e+00],\n",
       "       [2.8045e+02, 0.0000e+00],\n",
       "       [2.7495e+02, 3.1900e+00],\n",
       "       [2.7515e+02, 1.2370e+01],\n",
       "       [2.7085e+02, 0.0000e+00],\n",
       "       [2.7395e+02, 0.0000e+00],\n",
       "       [2.7185e+02, 1.6040e+01],\n",
       "       [2.7615e+02, 5.1200e+00],\n",
       "       [2.6265e+02, 0.0000e+00],\n",
       "       [2.6085e+02, 0.0000e+00],\n",
       "       [2.5585e+02, 0.0000e+00],\n",
       "       [2.5985e+02, 0.0000e+00],\n",
       "       [2.6665e+02, 5.1000e-01],\n",
       "       [2.7445e+02, 1.0740e+01],\n",
       "       [2.7795e+02, 0.0000e+00],\n",
       "       [2.7035e+02, 0.0000e+00],\n",
       "       [2.6565e+02, 0.0000e+00],\n",
       "       [2.5615e+02, 0.0000e+00],\n",
       "       [2.5865e+02, 0.0000e+00],\n",
       "       [2.6065e+02, 0.0000e+00],\n",
       "       [2.6365e+02, 2.2860e+01],\n",
       "       [2.6515e+02, 1.2700e+00],\n",
       "       [2.6665e+02, 0.0000e+00],\n",
       "       [2.6765e+02, 0.0000e+00],\n",
       "       [2.6585e+02, 0.0000e+00],\n",
       "       [2.7085e+02, 0.0000e+00],\n",
       "       [2.7085e+02, 1.5600e+00],\n",
       "       [2.7665e+02, 0.0000e+00],\n",
       "       [2.6265e+02, 0.0000e+00],\n",
       "       [2.6835e+02, 8.8900e+00],\n",
       "       [2.7165e+02, 1.5140e+01],\n",
       "       [2.7265e+02, 0.0000e+00],\n",
       "       [2.7035e+02, 2.1700e+00],\n",
       "       [2.7395e+02, 7.8800e+00],\n",
       "       [2.7665e+02, 0.0000e+00],\n",
       "       [2.7565e+02, 0.0000e+00],\n",
       "       [2.7315e+02, 1.1000e-01],\n",
       "       [2.7415e+02, 7.5900e+00],\n",
       "       [2.7565e+02, 1.5000e-01],\n",
       "       [2.7565e+02, 0.0000e+00],\n",
       "       [2.7615e+02, 1.1150e+01],\n",
       "       [2.7545e+02, 2.5840e+01],\n",
       "       [2.7845e+02, 2.5800e+00],\n",
       "       [2.7645e+02, 2.8490e+01],\n",
       "       [2.7595e+02, 1.5000e-01],\n",
       "       [2.7765e+02, 0.0000e+00],\n",
       "       [2.8195e+02, 0.0000e+00],\n",
       "       [2.8815e+02, 1.9700e+00],\n",
       "       [2.7965e+02, 2.3800e+00],\n",
       "       [2.8015e+02, 1.5000e-01],\n",
       "       [2.8045e+02, 1.5000e-01],\n",
       "       [2.8065e+02, 0.0000e+00],\n",
       "       [2.8195e+02, 1.6250e+01],\n",
       "       [2.8545e+02, 9.5200e+00],\n",
       "       [2.7895e+02, 0.0000e+00],\n",
       "       [2.7695e+02, 0.0000e+00],\n",
       "       [2.7965e+02, 1.5640e+01],\n",
       "       [2.8045e+02, 9.1100e+00],\n",
       "       [2.8315e+02, 1.5600e+00],\n",
       "       [2.8145e+02, 0.0000e+00],\n",
       "       [2.8295e+02, 0.0000e+00],\n",
       "       [2.7865e+02, 0.0000e+00],\n",
       "       [2.8195e+02, 2.7800e+00],\n",
       "       [2.8615e+02, 1.5000e-01],\n",
       "       [2.9215e+02, 5.6400e+00],\n",
       "       [2.8865e+02, 1.5000e-01],\n",
       "       [2.8745e+02, 0.0000e+00],\n",
       "       [2.7765e+02, 3.1140e+01],\n",
       "       [2.8195e+02, 3.5220e+01],\n",
       "       [2.8415e+02, 2.7800e+00],\n",
       "       [2.8215e+02, 0.0000e+00],\n",
       "       [2.8145e+02, 1.2170e+01],\n",
       "       [2.8145e+02, 4.0120e+01],\n",
       "       [2.8365e+02, 1.3390e+01],\n",
       "       [2.7795e+02, 7.4000e-01],\n",
       "       [2.7615e+02, 1.5000e-01],\n",
       "       [2.7745e+02, 0.0000e+00],\n",
       "       [2.8165e+02, 0.0000e+00],\n",
       "       [2.8265e+02, 0.0000e+00],\n",
       "       [2.8665e+02, 7.4000e-01],\n",
       "       [2.8565e+02, 7.4000e-01],\n",
       "       [2.8465e+02, 2.5800e+00],\n",
       "       [2.8695e+02, 0.0000e+00],\n",
       "       [2.8765e+02, 0.0000e+00],\n",
       "       [2.9465e+02, 0.0000e+00],\n",
       "       [2.9815e+02, 9.5000e-01],\n",
       "       [2.8565e+02, 0.0000e+00],\n",
       "       [2.8495e+02, 0.0000e+00],\n",
       "       [2.8615e+02, 1.4620e+01],\n",
       "       [2.8765e+02, 1.3600e+00],\n",
       "       [2.8715e+02, 0.0000e+00],\n",
       "       [2.9095e+02, 0.0000e+00],\n",
       "       [2.8995e+02, 1.2580e+01],\n",
       "       [2.8745e+02, 9.5000e-01],\n",
       "       [2.8945e+02, 0.0000e+00],\n",
       "       [2.9115e+02, 7.0700e+00],\n",
       "       [2.8915e+02, 2.5840e+01],\n",
       "       [2.9145e+02, 5.4400e+00],\n",
       "       [2.9015e+02, 9.5000e-01],\n",
       "       [2.8695e+02, 5.4000e-01],\n",
       "       [2.8495e+02, 1.5000e-01],\n",
       "       [2.8745e+02, 0.0000e+00],\n",
       "       [2.8715e+02, 1.1500e+00],\n",
       "       [2.8795e+02, 1.6860e+01],\n",
       "       [2.8615e+02, 1.2370e+01],\n",
       "       [2.8895e+02, 0.0000e+00],\n",
       "       [2.9365e+02, 0.0000e+00],\n",
       "       [2.9215e+02, 0.0000e+00],\n",
       "       [2.9245e+02, 0.0000e+00],\n",
       "       [2.9945e+02, 0.0000e+00],\n",
       "       [3.0045e+02, 0.0000e+00],\n",
       "       [2.9615e+02, 0.0000e+00],\n",
       "       [2.9045e+02, 0.0000e+00],\n",
       "       [2.9015e+02, 1.6450e+01],\n",
       "       [2.9095e+02, 0.0000e+00],\n",
       "       [2.9515e+02, 1.5000e-01],\n",
       "       [2.9865e+02, 7.4000e-01],\n",
       "       [2.9695e+02, 3.1900e+00],\n",
       "       [2.9365e+02, 2.1700e+00],\n",
       "       [2.9195e+02, 1.5000e-01],\n",
       "       [2.9265e+02, 1.4410e+01],\n",
       "       [2.9315e+02, 1.1500e+00],\n",
       "       [2.9345e+02, 5.4000e-01],\n",
       "       [2.9045e+02, 3.7260e+01],\n",
       "       [2.9015e+02, 7.4000e-01],\n",
       "       [2.8815e+02, 1.7600e+00],\n",
       "       [2.9095e+02, 3.1900e+00],\n",
       "       [2.8915e+02, 2.6040e+01],\n",
       "       [2.9245e+02, 2.3590e+01],\n",
       "       [2.9495e+02, 1.5020e+01],\n",
       "       [2.9315e+02, 2.3800e+01],\n",
       "       [2.9295e+02, 1.5000e-01],\n",
       "       [2.9245e+02, 0.0000e+00],\n",
       "       [2.9295e+02, 0.0000e+00],\n",
       "       [2.9465e+02, 1.5000e-01],\n",
       "       [2.9665e+02, 2.1140e+01],\n",
       "       [2.9315e+02, 0.0000e+00],\n",
       "       [2.9295e+02, 9.1100e+00],\n",
       "       [2.9415e+02, 9.5000e-01],\n",
       "       [2.9515e+02, 1.5020e+01],\n",
       "       [2.9215e+02, 8.2900e+00],\n",
       "       [2.9115e+02, 1.5000e-01],\n",
       "       [2.9145e+02, 1.5640e+01],\n",
       "       [2.9565e+02, 0.0000e+00],\n",
       "       [2.9545e+02, 1.1500e+00],\n",
       "       [2.9515e+02, 1.5000e-01],\n",
       "       [2.9645e+02, 0.0000e+00],\n",
       "       [2.9595e+02, 1.5000e-01],\n",
       "       [2.9645e+02, 0.0000e+00],\n",
       "       [2.9545e+02, 0.0000e+00],\n",
       "       [2.9395e+02, 0.0000e+00],\n",
       "       [2.9245e+02, 1.9310e+01],\n",
       "       [2.8895e+02, 4.5010e+01],\n",
       "       [2.9145e+02, 1.5000e-01],\n",
       "       [2.9195e+02, 0.0000e+00],\n",
       "       [2.9615e+02, 0.0000e+00],\n",
       "       [2.9165e+02, 0.0000e+00],\n",
       "       [2.9195e+02, 0.0000e+00],\n",
       "       [2.9345e+02, 0.0000e+00],\n",
       "       [2.9415e+02, 0.0000e+00],\n",
       "       [2.9465e+02, 0.0000e+00],\n",
       "       [2.9745e+02, 0.0000e+00],\n",
       "       [2.9465e+02, 6.0500e+00],\n",
       "       [2.9615e+02, 1.7600e+00],\n",
       "       [2.9365e+02, 1.5600e+00],\n",
       "       [2.9015e+02, 1.5000e-01],\n",
       "       [2.9015e+02, 0.0000e+00],\n",
       "       [2.9215e+02, 0.0000e+00],\n",
       "       [2.9295e+02, 0.0000e+00],\n",
       "       [2.9315e+02, 0.0000e+00],\n",
       "       [2.9415e+02, 3.6000e+00],\n",
       "       [2.9245e+02, 1.5430e+01],\n",
       "       [2.9365e+02, 1.5000e-01],\n",
       "       [2.9365e+02, 1.5000e-01],\n",
       "       [2.9515e+02, 1.5000e-01],\n",
       "       [2.9115e+02, 0.0000e+00],\n",
       "       [2.9245e+02, 2.4410e+01],\n",
       "       [2.9265e+02, 3.6000e+00],\n",
       "       [2.9445e+02, 0.0000e+00],\n",
       "       [2.9415e+02, 0.0000e+00],\n",
       "       [2.9545e+02, 9.9200e+00],\n",
       "       [2.9565e+02, 1.8080e+01],\n",
       "       [2.9195e+02, 0.0000e+00],\n",
       "       [2.9045e+02, 0.0000e+00],\n",
       "       [2.8815e+02, 0.0000e+00],\n",
       "       [2.8845e+02, 0.0000e+00],\n",
       "       [2.8965e+02, 0.0000e+00],\n",
       "       [2.9015e+02, 0.0000e+00],\n",
       "       [2.9215e+02, 0.0000e+00],\n",
       "       [2.8995e+02, 9.5000e-01],\n",
       "       [2.8695e+02, 0.0000e+00],\n",
       "       [2.8515e+02, 0.0000e+00],\n",
       "       [2.8515e+02, 4.2100e+00],\n",
       "       [2.8645e+02, 4.0100e+00],\n",
       "       [2.8945e+02, 2.4200e+01],\n",
       "       [2.9115e+02, 0.0000e+00],\n",
       "       [2.8915e+02, 5.4000e-01],\n",
       "       [2.8965e+02, 9.3100e+00],\n",
       "       [2.8665e+02, 1.3600e+00],\n",
       "       [2.8765e+02, 0.0000e+00],\n",
       "       [2.8615e+02, 0.0000e+00],\n",
       "       [2.8815e+02, 0.0000e+00],\n",
       "       [2.9045e+02, 0.0000e+00],\n",
       "       [2.9215e+02, 0.0000e+00],\n",
       "       [2.9315e+02, 0.0000e+00],\n",
       "       [2.9295e+02, 0.0000e+00],\n",
       "       [2.9415e+02, 0.0000e+00],\n",
       "       [2.9515e+02, 0.0000e+00],\n",
       "       [2.9365e+02, 0.0000e+00],\n",
       "       [2.9465e+02, 1.5000e-01],\n",
       "       [2.9515e+02, 0.0000e+00],\n",
       "       [2.9315e+02, 0.0000e+00],\n",
       "       [2.9315e+02, 0.0000e+00],\n",
       "       [2.9445e+02, 0.0000e+00],\n",
       "       [2.9815e+02, 0.0000e+00],\n",
       "       [2.9795e+02, 0.0000e+00],\n",
       "       [2.9695e+02, 0.0000e+00],\n",
       "       [2.9795e+02, 9.9200e+00],\n",
       "       [2.8565e+02, 0.0000e+00],\n",
       "       [2.8315e+02, 0.0000e+00],\n",
       "       [2.8415e+02, 0.0000e+00],\n",
       "       [2.8345e+02, 0.0000e+00],\n",
       "       [2.8565e+02, 0.0000e+00],\n",
       "       [2.8815e+02, 0.0000e+00],\n",
       "       [2.8965e+02, 1.1960e+01],\n",
       "       [2.8865e+02, 0.0000e+00],\n",
       "       [2.8865e+02, 0.0000e+00],\n",
       "       [2.8765e+02, 8.7000e+00],\n",
       "       [2.9365e+02, 1.1500e+00],\n",
       "       [2.8845e+02, 6.6600e+00],\n",
       "       [2.8865e+02, 0.0000e+00],\n",
       "       [2.8245e+02, 0.0000e+00],\n",
       "       [2.8195e+02, 0.0000e+00],\n",
       "       [2.8315e+02, 7.4000e-01],\n",
       "       [2.8865e+02, 1.3390e+01],\n",
       "       [2.9095e+02, 7.2700e+00],\n",
       "       [2.7915e+02, 1.5000e-01],\n",
       "       [2.8095e+02, 0.0000e+00],\n",
       "       [2.8695e+02, 1.5600e+00],\n",
       "       [2.8645e+02, 0.0000e+00],\n",
       "       [2.8665e+02, 0.0000e+00],\n",
       "       [2.8695e+02, 0.0000e+00],\n",
       "       [2.8715e+02, 0.0000e+00],\n",
       "       [2.8795e+02, 8.7000e+00],\n",
       "       [2.9015e+02, 3.1900e+00],\n",
       "       [2.8465e+02, 1.5000e-01],\n",
       "       [2.8065e+02, 0.0000e+00],\n",
       "       [2.8095e+02, 0.0000e+00],\n",
       "       [2.8465e+02, 9.7200e+00],\n",
       "       [2.8165e+02,        nan],\n",
       "       [2.8115e+02, 1.9700e+00],\n",
       "       [2.8065e+02, 1.5000e-01],\n",
       "       [2.7615e+02, 1.6860e+01],\n",
       "       [2.8245e+02, 2.3390e+01],\n",
       "       [2.8295e+02, 1.5000e-01],\n",
       "       [2.7545e+02, 1.1500e+00],\n",
       "       [2.8115e+02, 1.5020e+01],\n",
       "       [2.8165e+02, 0.0000e+00],\n",
       "       [2.7495e+02, 0.0000e+00],\n",
       "       [2.7765e+02, 0.0000e+00],\n",
       "       [2.7645e+02, 4.0100e+00],\n",
       "       [2.6565e+02, 0.0000e+00],\n",
       "       [2.6765e+02, 0.0000e+00],\n",
       "       [2.7315e+02, 0.0000e+00],\n",
       "       [2.7315e+02, 0.0000e+00],\n",
       "       [2.7395e+02, 0.0000e+00],\n",
       "       [2.7415e+02, 0.0000e+00],\n",
       "       [2.7845e+02, 3.1900e+00],\n",
       "       [2.7015e+02, 0.0000e+00],\n",
       "       [2.7035e+02, 1.0900e+01],\n",
       "       [2.7185e+02, 1.5000e-01],\n",
       "       [2.6715e+02, 0.0000e+00],\n",
       "       [2.7465e+02, 3.6000e+00],\n",
       "       [2.7315e+02, 0.0000e+00],\n",
       "       [2.7015e+02, 0.0000e+00],\n",
       "       [2.7745e+02, 7.4000e-01],\n",
       "       [2.7945e+02, 5.1400e+00],\n",
       "       [2.7035e+02, 8.1300e+00],\n",
       "       [2.6615e+02, 0.0000e+00],\n",
       "       [2.7345e+02, 5.4000e-01],\n",
       "       [2.7595e+02, 0.0000e+00],\n",
       "       [2.7215e+02, 4.6200e+00],\n",
       "       [2.7495e+02, 0.0000e+00],\n",
       "       [2.7545e+02, 0.0000e+00],\n",
       "       [2.7515e+02, 0.0000e+00],\n",
       "       [2.7665e+02, 7.4000e-01],\n",
       "       [2.7965e+02, 3.4000e+00],\n",
       "       [2.7445e+02, 1.1000e-01],\n",
       "       [2.7265e+02, 0.0000e+00],\n",
       "       [2.7165e+02, 0.0000e+00],\n",
       "       [2.7065e+02, 6.6000e+00],\n",
       "       [2.6865e+02, 0.0000e+00],\n",
       "       [2.6015e+02, 2.5400e+00],\n",
       "       [2.6385e+02, 1.0920e+01],\n",
       "       [2.6035e+02, 0.0000e+00],\n",
       "       [2.5635e+02, 0.0000e+00],\n",
       "       [2.5635e+02, 5.0800e+00],\n",
       "       [2.6085e+02, 0.0000e+00],\n",
       "       [2.5635e+02, 1.1000e-01],\n",
       "       [2.6015e+02, 1.0160e+01],\n",
       "       [2.7065e+02, 2.2200e+00],\n",
       "       [2.6965e+02, 0.0000e+00],\n",
       "       [2.6065e+02, 1.1000e-01],\n",
       "       [2.6085e+02, 1.1000e-01],\n",
       "       [2.6365e+02, 5.0800e+00],\n",
       "       [2.6415e+02, 5.0800e+00],\n",
       "       [2.6585e+02, 1.2700e+00],\n",
       "       [2.5865e+02, 0.0000e+00],\n",
       "       [2.5035e+02, 0.0000e+00],\n",
       "       [       nan,        nan],\n",
       "       [       nan, 0.0000e+00],\n",
       "       [2.5165e+02, 1.2700e+00],\n",
       "       [2.5115e+02, 0.0000e+00]])"
      ]
     },
     "execution_count": 94,
     "metadata": {},
     "output_type": "execute_result"
    }
   ],
   "source": [
    "#1- Créer un tableau Numpy ayant une colonne pour la température et une colonne pour la précipitation. \n",
    "#   (avec deux tableaux Numpy 1D, créer un tableau 2D (365 lignes et 2 colonnes).\n",
    "\n",
    "tableau = np.column_stack([temperature,precipitation])\n",
    "tableau"
   ]
  },
  {
   "cell_type": "code",
   "execution_count": 95,
   "metadata": {},
   "outputs": [],
   "source": [
    "#tableau = np.hstack([temperature,precipitation])\n",
    "tableau = np.hstack([temperature.reshape(len(temperature),-1),precipitation.reshape(len(precipitation),-1)])"
   ]
  },
  {
   "cell_type": "code",
   "execution_count": 96,
   "metadata": {},
   "outputs": [
    {
     "data": {
      "text/plain": [
       "array([[2.6665e+02, 1.1000e-01],\n",
       "       [2.6635e+02, 3.0300e+00],\n",
       "       [2.7135e+02, 2.6570e+01],\n",
       "       [2.7395e+02, 4.2100e+00],\n",
       "       [2.6335e+02, 0.0000e+00],\n",
       "       [2.6015e+02, 0.0000e+00],\n",
       "       [2.5615e+02, 1.1000e-01],\n",
       "       [2.5665e+02, 0.0000e+00],\n",
       "       [2.5785e+02, 0.0000e+00],\n",
       "       [2.6865e+02, 1.4370e+01],\n",
       "       [2.7315e+02, 3.4000e+00],\n",
       "       [2.7595e+02, 5.9000e-01],\n",
       "       [2.6535e+02, 0.0000e+00],\n",
       "       [2.5815e+02, 1.1000e-01],\n",
       "       [2.6415e+02, 0.0000e+00],\n",
       "       [2.6785e+02, 0.0000e+00],\n",
       "       [2.6765e+02, 8.5200e+00],\n",
       "       [2.7115e+02, 3.4000e-01],\n",
       "       [2.7315e+02, 0.0000e+00],\n",
       "       [2.7445e+02, 5.5000e-01],\n",
       "       [2.7465e+02, 5.4000e-01],\n",
       "       [2.7465e+02, 0.0000e+00],\n",
       "       [2.7135e+02, 2.6000e-01],\n",
       "       [2.7115e+02, 7.3000e+00],\n",
       "       [2.7185e+02, 2.0300e+00],\n",
       "       [2.7365e+02, 5.4000e-01],\n",
       "       [2.7265e+02, 5.1000e-01],\n",
       "       [2.7115e+02, 2.7900e+00],\n",
       "       [2.6915e+02, 5.1000e-01],\n",
       "       [2.5965e+02, 0.0000e+00],\n",
       "       [2.5815e+02, 2.0300e+00],\n",
       "       [2.6465e+02, 0.0000e+00],\n",
       "       [2.6265e+02, 7.6000e-01],\n",
       "       [2.6585e+02, 0.0000e+00],\n",
       "       [2.6435e+02, 2.5400e+00],\n",
       "       [2.6965e+02, 1.5200e+00],\n",
       "       [2.6115e+02, 7.3700e+00],\n",
       "       [2.6915e+02, 1.9950e+01],\n",
       "       [2.6765e+02, 0.0000e+00],\n",
       "       [2.5965e+02, 0.0000e+00],\n",
       "       [2.5835e+02, 3.8100e+00],\n",
       "       [2.6115e+02, 1.1000e-01],\n",
       "       [2.6415e+02, 2.4130e+01],\n",
       "       [2.6635e+02, 0.0000e+00],\n",
       "       [2.6465e+02, 2.0320e+01],\n",
       "       [2.6985e+02, 3.8100e+00],\n",
       "       [2.6735e+02, 0.0000e+00],\n",
       "       [2.6635e+02, 0.0000e+00],\n",
       "       [2.7285e+02, 0.0000e+00],\n",
       "       [2.7665e+02, 0.0000e+00],\n",
       "       [2.7135e+02, 0.0000e+00],\n",
       "       [2.6835e+02, 1.5600e+00],\n",
       "       [2.7515e+02, 0.0000e+00],\n",
       "       [2.8045e+02, 0.0000e+00],\n",
       "       [2.7495e+02, 3.1900e+00],\n",
       "       [2.7515e+02, 1.2370e+01],\n",
       "       [2.7085e+02, 0.0000e+00],\n",
       "       [2.7395e+02, 0.0000e+00],\n",
       "       [2.7185e+02, 1.6040e+01],\n",
       "       [2.7615e+02, 5.1200e+00],\n",
       "       [2.6265e+02, 0.0000e+00],\n",
       "       [2.6085e+02, 0.0000e+00],\n",
       "       [2.5585e+02, 0.0000e+00],\n",
       "       [2.5985e+02, 0.0000e+00],\n",
       "       [2.6665e+02, 5.1000e-01],\n",
       "       [2.7445e+02, 1.0740e+01],\n",
       "       [2.7795e+02, 0.0000e+00],\n",
       "       [2.7035e+02, 0.0000e+00],\n",
       "       [2.6565e+02, 0.0000e+00],\n",
       "       [2.5615e+02, 0.0000e+00],\n",
       "       [2.5865e+02, 0.0000e+00],\n",
       "       [2.6065e+02, 0.0000e+00],\n",
       "       [2.6365e+02, 2.2860e+01],\n",
       "       [2.6515e+02, 1.2700e+00],\n",
       "       [2.6665e+02, 0.0000e+00],\n",
       "       [2.6765e+02, 0.0000e+00],\n",
       "       [2.6585e+02, 0.0000e+00],\n",
       "       [2.7085e+02, 0.0000e+00],\n",
       "       [2.7085e+02, 1.5600e+00],\n",
       "       [2.7665e+02, 0.0000e+00],\n",
       "       [2.6265e+02, 0.0000e+00],\n",
       "       [2.6835e+02, 8.8900e+00],\n",
       "       [2.7165e+02, 1.5140e+01],\n",
       "       [2.7265e+02, 0.0000e+00],\n",
       "       [2.7035e+02, 2.1700e+00],\n",
       "       [2.7395e+02, 7.8800e+00],\n",
       "       [2.7665e+02, 0.0000e+00],\n",
       "       [2.7565e+02, 0.0000e+00],\n",
       "       [2.7315e+02, 1.1000e-01],\n",
       "       [2.7415e+02, 7.5900e+00],\n",
       "       [2.7565e+02, 1.5000e-01],\n",
       "       [2.7565e+02, 0.0000e+00],\n",
       "       [2.7615e+02, 1.1150e+01],\n",
       "       [2.7545e+02, 2.5840e+01],\n",
       "       [2.7845e+02, 2.5800e+00],\n",
       "       [2.7645e+02, 2.8490e+01],\n",
       "       [2.7595e+02, 1.5000e-01],\n",
       "       [2.7765e+02, 0.0000e+00],\n",
       "       [2.8195e+02, 0.0000e+00],\n",
       "       [2.8815e+02, 1.9700e+00],\n",
       "       [2.7965e+02, 2.3800e+00],\n",
       "       [2.8015e+02, 1.5000e-01],\n",
       "       [2.8045e+02, 1.5000e-01],\n",
       "       [2.8065e+02, 0.0000e+00],\n",
       "       [2.8195e+02, 1.6250e+01],\n",
       "       [2.8545e+02, 9.5200e+00],\n",
       "       [2.7895e+02, 0.0000e+00],\n",
       "       [2.7695e+02, 0.0000e+00],\n",
       "       [2.7965e+02, 1.5640e+01],\n",
       "       [2.8045e+02, 9.1100e+00],\n",
       "       [2.8315e+02, 1.5600e+00],\n",
       "       [2.8145e+02, 0.0000e+00],\n",
       "       [2.8295e+02, 0.0000e+00],\n",
       "       [2.7865e+02, 0.0000e+00],\n",
       "       [2.8195e+02, 2.7800e+00],\n",
       "       [2.8615e+02, 1.5000e-01],\n",
       "       [2.9215e+02, 5.6400e+00],\n",
       "       [2.8865e+02, 1.5000e-01],\n",
       "       [2.8745e+02, 0.0000e+00],\n",
       "       [2.7765e+02, 3.1140e+01],\n",
       "       [2.8195e+02, 3.5220e+01],\n",
       "       [2.8415e+02, 2.7800e+00],\n",
       "       [2.8215e+02, 0.0000e+00],\n",
       "       [2.8145e+02, 1.2170e+01],\n",
       "       [2.8145e+02, 4.0120e+01],\n",
       "       [2.8365e+02, 1.3390e+01],\n",
       "       [2.7795e+02, 7.4000e-01],\n",
       "       [2.7615e+02, 1.5000e-01],\n",
       "       [2.7745e+02, 0.0000e+00],\n",
       "       [2.8165e+02, 0.0000e+00],\n",
       "       [2.8265e+02, 0.0000e+00],\n",
       "       [2.8665e+02, 7.4000e-01],\n",
       "       [2.8565e+02, 7.4000e-01],\n",
       "       [2.8465e+02, 2.5800e+00],\n",
       "       [2.8695e+02, 0.0000e+00],\n",
       "       [2.8765e+02, 0.0000e+00],\n",
       "       [2.9465e+02, 0.0000e+00],\n",
       "       [2.9815e+02, 9.5000e-01],\n",
       "       [2.8565e+02, 0.0000e+00],\n",
       "       [2.8495e+02, 0.0000e+00],\n",
       "       [2.8615e+02, 1.4620e+01],\n",
       "       [2.8765e+02, 1.3600e+00],\n",
       "       [2.8715e+02, 0.0000e+00],\n",
       "       [2.9095e+02, 0.0000e+00],\n",
       "       [2.8995e+02, 1.2580e+01],\n",
       "       [2.8745e+02, 9.5000e-01],\n",
       "       [2.8945e+02, 0.0000e+00],\n",
       "       [2.9115e+02, 7.0700e+00],\n",
       "       [2.8915e+02, 2.5840e+01],\n",
       "       [2.9145e+02, 5.4400e+00],\n",
       "       [2.9015e+02, 9.5000e-01],\n",
       "       [2.8695e+02, 5.4000e-01],\n",
       "       [2.8495e+02, 1.5000e-01],\n",
       "       [2.8745e+02, 0.0000e+00],\n",
       "       [2.8715e+02, 1.1500e+00],\n",
       "       [2.8795e+02, 1.6860e+01],\n",
       "       [2.8615e+02, 1.2370e+01],\n",
       "       [2.8895e+02, 0.0000e+00],\n",
       "       [2.9365e+02, 0.0000e+00],\n",
       "       [2.9215e+02, 0.0000e+00],\n",
       "       [2.9245e+02, 0.0000e+00],\n",
       "       [2.9945e+02, 0.0000e+00],\n",
       "       [3.0045e+02, 0.0000e+00],\n",
       "       [2.9615e+02, 0.0000e+00],\n",
       "       [2.9045e+02, 0.0000e+00],\n",
       "       [2.9015e+02, 1.6450e+01],\n",
       "       [2.9095e+02, 0.0000e+00],\n",
       "       [2.9515e+02, 1.5000e-01],\n",
       "       [2.9865e+02, 7.4000e-01],\n",
       "       [2.9695e+02, 3.1900e+00],\n",
       "       [2.9365e+02, 2.1700e+00],\n",
       "       [2.9195e+02, 1.5000e-01],\n",
       "       [2.9265e+02, 1.4410e+01],\n",
       "       [2.9315e+02, 1.1500e+00],\n",
       "       [2.9345e+02, 5.4000e-01],\n",
       "       [2.9045e+02, 3.7260e+01],\n",
       "       [2.9015e+02, 7.4000e-01],\n",
       "       [2.8815e+02, 1.7600e+00],\n",
       "       [2.9095e+02, 3.1900e+00],\n",
       "       [2.8915e+02, 2.6040e+01],\n",
       "       [2.9245e+02, 2.3590e+01],\n",
       "       [2.9495e+02, 1.5020e+01],\n",
       "       [2.9315e+02, 2.3800e+01],\n",
       "       [2.9295e+02, 1.5000e-01],\n",
       "       [2.9245e+02, 0.0000e+00],\n",
       "       [2.9295e+02, 0.0000e+00],\n",
       "       [2.9465e+02, 1.5000e-01],\n",
       "       [2.9665e+02, 2.1140e+01],\n",
       "       [2.9315e+02, 0.0000e+00],\n",
       "       [2.9295e+02, 9.1100e+00],\n",
       "       [2.9415e+02, 9.5000e-01],\n",
       "       [2.9515e+02, 1.5020e+01],\n",
       "       [2.9215e+02, 8.2900e+00],\n",
       "       [2.9115e+02, 1.5000e-01],\n",
       "       [2.9145e+02, 1.5640e+01],\n",
       "       [2.9565e+02, 0.0000e+00],\n",
       "       [2.9545e+02, 1.1500e+00],\n",
       "       [2.9515e+02, 1.5000e-01],\n",
       "       [2.9645e+02, 0.0000e+00],\n",
       "       [2.9595e+02, 1.5000e-01],\n",
       "       [2.9645e+02, 0.0000e+00],\n",
       "       [2.9545e+02, 0.0000e+00],\n",
       "       [2.9395e+02, 0.0000e+00],\n",
       "       [2.9245e+02, 1.9310e+01],\n",
       "       [2.8895e+02, 4.5010e+01],\n",
       "       [2.9145e+02, 1.5000e-01],\n",
       "       [2.9195e+02, 0.0000e+00],\n",
       "       [2.9615e+02, 0.0000e+00],\n",
       "       [2.9165e+02, 0.0000e+00],\n",
       "       [2.9195e+02, 0.0000e+00],\n",
       "       [2.9345e+02, 0.0000e+00],\n",
       "       [2.9415e+02, 0.0000e+00],\n",
       "       [2.9465e+02, 0.0000e+00],\n",
       "       [2.9745e+02, 0.0000e+00],\n",
       "       [2.9465e+02, 6.0500e+00],\n",
       "       [2.9615e+02, 1.7600e+00],\n",
       "       [2.9365e+02, 1.5600e+00],\n",
       "       [2.9015e+02, 1.5000e-01],\n",
       "       [2.9015e+02, 0.0000e+00],\n",
       "       [2.9215e+02, 0.0000e+00],\n",
       "       [2.9295e+02, 0.0000e+00],\n",
       "       [2.9315e+02, 0.0000e+00],\n",
       "       [2.9415e+02, 3.6000e+00],\n",
       "       [2.9245e+02, 1.5430e+01],\n",
       "       [2.9365e+02, 1.5000e-01],\n",
       "       [2.9365e+02, 1.5000e-01],\n",
       "       [2.9515e+02, 1.5000e-01],\n",
       "       [2.9115e+02, 0.0000e+00],\n",
       "       [2.9245e+02, 2.4410e+01],\n",
       "       [2.9265e+02, 3.6000e+00],\n",
       "       [2.9445e+02, 0.0000e+00],\n",
       "       [2.9415e+02, 0.0000e+00],\n",
       "       [2.9545e+02, 9.9200e+00],\n",
       "       [2.9565e+02, 1.8080e+01],\n",
       "       [2.9195e+02, 0.0000e+00],\n",
       "       [2.9045e+02, 0.0000e+00],\n",
       "       [2.8815e+02, 0.0000e+00],\n",
       "       [2.8845e+02, 0.0000e+00],\n",
       "       [2.8965e+02, 0.0000e+00],\n",
       "       [2.9015e+02, 0.0000e+00],\n",
       "       [2.9215e+02, 0.0000e+00],\n",
       "       [2.8995e+02, 9.5000e-01],\n",
       "       [2.8695e+02, 0.0000e+00],\n",
       "       [2.8515e+02, 0.0000e+00],\n",
       "       [2.8515e+02, 4.2100e+00],\n",
       "       [2.8645e+02, 4.0100e+00],\n",
       "       [2.8945e+02, 2.4200e+01],\n",
       "       [2.9115e+02, 0.0000e+00],\n",
       "       [2.8915e+02, 5.4000e-01],\n",
       "       [2.8965e+02, 9.3100e+00],\n",
       "       [2.8665e+02, 1.3600e+00],\n",
       "       [2.8765e+02, 0.0000e+00],\n",
       "       [2.8615e+02, 0.0000e+00],\n",
       "       [2.8815e+02, 0.0000e+00],\n",
       "       [2.9045e+02, 0.0000e+00],\n",
       "       [2.9215e+02, 0.0000e+00],\n",
       "       [2.9315e+02, 0.0000e+00],\n",
       "       [2.9295e+02, 0.0000e+00],\n",
       "       [2.9415e+02, 0.0000e+00],\n",
       "       [2.9515e+02, 0.0000e+00],\n",
       "       [2.9365e+02, 0.0000e+00],\n",
       "       [2.9465e+02, 1.5000e-01],\n",
       "       [2.9515e+02, 0.0000e+00],\n",
       "       [2.9315e+02, 0.0000e+00],\n",
       "       [2.9315e+02, 0.0000e+00],\n",
       "       [2.9445e+02, 0.0000e+00],\n",
       "       [2.9815e+02, 0.0000e+00],\n",
       "       [2.9795e+02, 0.0000e+00],\n",
       "       [2.9695e+02, 0.0000e+00],\n",
       "       [2.9795e+02, 9.9200e+00],\n",
       "       [2.8565e+02, 0.0000e+00],\n",
       "       [2.8315e+02, 0.0000e+00],\n",
       "       [2.8415e+02, 0.0000e+00],\n",
       "       [2.8345e+02, 0.0000e+00],\n",
       "       [2.8565e+02, 0.0000e+00],\n",
       "       [2.8815e+02, 0.0000e+00],\n",
       "       [2.8965e+02, 1.1960e+01],\n",
       "       [2.8865e+02, 0.0000e+00],\n",
       "       [2.8865e+02, 0.0000e+00],\n",
       "       [2.8765e+02, 8.7000e+00],\n",
       "       [2.9365e+02, 1.1500e+00],\n",
       "       [2.8845e+02, 6.6600e+00],\n",
       "       [2.8865e+02, 0.0000e+00],\n",
       "       [2.8245e+02, 0.0000e+00],\n",
       "       [2.8195e+02, 0.0000e+00],\n",
       "       [2.8315e+02, 7.4000e-01],\n",
       "       [2.8865e+02, 1.3390e+01],\n",
       "       [2.9095e+02, 7.2700e+00],\n",
       "       [2.7915e+02, 1.5000e-01],\n",
       "       [2.8095e+02, 0.0000e+00],\n",
       "       [2.8695e+02, 1.5600e+00],\n",
       "       [2.8645e+02, 0.0000e+00],\n",
       "       [2.8665e+02, 0.0000e+00],\n",
       "       [2.8695e+02, 0.0000e+00],\n",
       "       [2.8715e+02, 0.0000e+00],\n",
       "       [2.8795e+02, 8.7000e+00],\n",
       "       [2.9015e+02, 3.1900e+00],\n",
       "       [2.8465e+02, 1.5000e-01],\n",
       "       [2.8065e+02, 0.0000e+00],\n",
       "       [2.8095e+02, 0.0000e+00],\n",
       "       [2.8465e+02, 9.7200e+00],\n",
       "       [2.8165e+02,        nan],\n",
       "       [2.8115e+02, 1.9700e+00],\n",
       "       [2.8065e+02, 1.5000e-01],\n",
       "       [2.7615e+02, 1.6860e+01],\n",
       "       [2.8245e+02, 2.3390e+01],\n",
       "       [2.8295e+02, 1.5000e-01],\n",
       "       [2.7545e+02, 1.1500e+00],\n",
       "       [2.8115e+02, 1.5020e+01],\n",
       "       [2.8165e+02, 0.0000e+00],\n",
       "       [2.7495e+02, 0.0000e+00],\n",
       "       [2.7765e+02, 0.0000e+00],\n",
       "       [2.7645e+02, 4.0100e+00],\n",
       "       [2.6565e+02, 0.0000e+00],\n",
       "       [2.6765e+02, 0.0000e+00],\n",
       "       [2.7315e+02, 0.0000e+00],\n",
       "       [2.7315e+02, 0.0000e+00],\n",
       "       [2.7395e+02, 0.0000e+00],\n",
       "       [2.7415e+02, 0.0000e+00],\n",
       "       [2.7845e+02, 3.1900e+00],\n",
       "       [2.7015e+02, 0.0000e+00],\n",
       "       [2.7035e+02, 1.0900e+01],\n",
       "       [2.7185e+02, 1.5000e-01],\n",
       "       [2.6715e+02, 0.0000e+00],\n",
       "       [2.7465e+02, 3.6000e+00],\n",
       "       [2.7315e+02, 0.0000e+00],\n",
       "       [2.7015e+02, 0.0000e+00],\n",
       "       [2.7745e+02, 7.4000e-01],\n",
       "       [2.7945e+02, 5.1400e+00],\n",
       "       [2.7035e+02, 8.1300e+00],\n",
       "       [2.6615e+02, 0.0000e+00],\n",
       "       [2.7345e+02, 5.4000e-01],\n",
       "       [2.7595e+02, 0.0000e+00],\n",
       "       [2.7215e+02, 4.6200e+00],\n",
       "       [2.7495e+02, 0.0000e+00],\n",
       "       [2.7545e+02, 0.0000e+00],\n",
       "       [2.7515e+02, 0.0000e+00],\n",
       "       [2.7665e+02, 7.4000e-01],\n",
       "       [2.7965e+02, 3.4000e+00],\n",
       "       [2.7445e+02, 1.1000e-01],\n",
       "       [2.7265e+02, 0.0000e+00],\n",
       "       [2.7165e+02, 0.0000e+00],\n",
       "       [2.7065e+02, 6.6000e+00],\n",
       "       [2.6865e+02, 0.0000e+00],\n",
       "       [2.6015e+02, 2.5400e+00],\n",
       "       [2.6385e+02, 1.0920e+01],\n",
       "       [2.6035e+02, 0.0000e+00],\n",
       "       [2.5635e+02, 0.0000e+00],\n",
       "       [2.5635e+02, 5.0800e+00],\n",
       "       [2.6085e+02, 0.0000e+00],\n",
       "       [2.5635e+02, 1.1000e-01],\n",
       "       [2.6015e+02, 1.0160e+01],\n",
       "       [2.7065e+02, 2.2200e+00],\n",
       "       [2.6965e+02, 0.0000e+00],\n",
       "       [2.6065e+02, 1.1000e-01],\n",
       "       [2.6085e+02, 1.1000e-01],\n",
       "       [2.6365e+02, 5.0800e+00],\n",
       "       [2.6415e+02, 5.0800e+00],\n",
       "       [2.6585e+02, 1.2700e+00],\n",
       "       [2.5865e+02, 0.0000e+00],\n",
       "       [2.5035e+02, 0.0000e+00],\n",
       "       [       nan,        nan],\n",
       "       [       nan, 0.0000e+00],\n",
       "       [2.5165e+02, 1.2700e+00],\n",
       "       [2.5115e+02, 0.0000e+00]])"
      ]
     },
     "execution_count": 96,
     "metadata": {},
     "output_type": "execute_result"
    }
   ],
   "source": [
    "tableau"
   ]
  },
  {
   "cell_type": "code",
   "execution_count": 97,
   "metadata": {},
   "outputs": [
    {
     "name": "stdout",
     "output_type": "stream",
     "text": [
      "(365, 2)\n"
     ]
    }
   ],
   "source": [
    "print(tableau.shape)"
   ]
  },
  {
   "cell_type": "code",
   "execution_count": 98,
   "metadata": {},
   "outputs": [],
   "source": [
    "#2- Convertir les données de températures en Celcius (T[Celcius] = T[Kelvin] - 273.15).\n",
    "tableau[:,0]=tableau[:,0]-273.15  # on prend toutes les lignes de la première colonne "
   ]
  },
  {
   "cell_type": "code",
   "execution_count": 99,
   "metadata": {},
   "outputs": [
    {
     "name": "stdout",
     "output_type": "stream",
     "text": [
      "[[ -6.5    0.11]\n",
      " [ -6.8    3.03]\n",
      " [ -1.8   26.57]\n",
      " [  0.8    4.21]\n",
      " [ -9.8    0.  ]\n",
      " [-13.     0.  ]\n",
      " [-17.     0.11]\n",
      " [-16.5    0.  ]\n",
      " [-15.3    0.  ]\n",
      " [ -4.5   14.37]\n",
      " [  0.     3.4 ]\n",
      " [  2.8    0.59]\n",
      " [ -7.8    0.  ]\n",
      " [-15.     0.11]\n",
      " [ -9.     0.  ]\n",
      " [ -5.3    0.  ]\n",
      " [ -5.5    8.52]\n",
      " [ -2.     0.34]\n",
      " [  0.     0.  ]\n",
      " [  1.3    0.55]\n",
      " [  1.5    0.54]\n",
      " [  1.5    0.  ]\n",
      " [ -1.8    0.26]\n",
      " [ -2.     7.3 ]\n",
      " [ -1.3    2.03]\n",
      " [  0.5    0.54]\n",
      " [ -0.5    0.51]\n",
      " [ -2.     2.79]\n",
      " [ -4.     0.51]\n",
      " [-13.5    0.  ]\n",
      " [-15.     2.03]\n",
      " [ -8.5    0.  ]\n",
      " [-10.5    0.76]\n",
      " [ -7.3    0.  ]\n",
      " [ -8.8    2.54]\n",
      " [ -3.5    1.52]\n",
      " [-12.     7.37]\n",
      " [ -4.    19.95]\n",
      " [ -5.5    0.  ]\n",
      " [-13.5    0.  ]\n",
      " [-14.8    3.81]\n",
      " [-12.     0.11]\n",
      " [ -9.    24.13]\n",
      " [ -6.8    0.  ]\n",
      " [ -8.5   20.32]\n",
      " [ -3.3    3.81]\n",
      " [ -5.8    0.  ]\n",
      " [ -6.8    0.  ]\n",
      " [ -0.3    0.  ]\n",
      " [  3.5    0.  ]\n",
      " [ -1.8    0.  ]\n",
      " [ -4.8    1.56]\n",
      " [  2.     0.  ]\n",
      " [  7.3    0.  ]\n",
      " [  1.8    3.19]\n",
      " [  2.    12.37]\n",
      " [ -2.3    0.  ]\n",
      " [  0.8    0.  ]\n",
      " [ -1.3   16.04]\n",
      " [  3.     5.12]\n",
      " [-10.5    0.  ]\n",
      " [-12.3    0.  ]\n",
      " [-17.3    0.  ]\n",
      " [-13.3    0.  ]\n",
      " [ -6.5    0.51]\n",
      " [  1.3   10.74]\n",
      " [  4.8    0.  ]\n",
      " [ -2.8    0.  ]\n",
      " [ -7.5    0.  ]\n",
      " [-17.     0.  ]\n",
      " [-14.5    0.  ]\n",
      " [-12.5    0.  ]\n",
      " [ -9.5   22.86]\n",
      " [ -8.     1.27]\n",
      " [ -6.5    0.  ]\n",
      " [ -5.5    0.  ]\n",
      " [ -7.3    0.  ]\n",
      " [ -2.3    0.  ]\n",
      " [ -2.3    1.56]\n",
      " [  3.5    0.  ]\n",
      " [-10.5    0.  ]\n",
      " [ -4.8    8.89]\n",
      " [ -1.5   15.14]\n",
      " [ -0.5    0.  ]\n",
      " [ -2.8    2.17]\n",
      " [  0.8    7.88]\n",
      " [  3.5    0.  ]\n",
      " [  2.5    0.  ]\n",
      " [  0.     0.11]\n",
      " [  1.     7.59]\n",
      " [  2.5    0.15]\n",
      " [  2.5    0.  ]\n",
      " [  3.    11.15]\n",
      " [  2.3   25.84]\n",
      " [  5.3    2.58]\n",
      " [  3.3   28.49]\n",
      " [  2.8    0.15]\n",
      " [  4.5    0.  ]\n",
      " [  8.8    0.  ]\n",
      " [ 15.     1.97]\n",
      " [  6.5    2.38]\n",
      " [  7.     0.15]\n",
      " [  7.3    0.15]\n",
      " [  7.5    0.  ]\n",
      " [  8.8   16.25]\n",
      " [ 12.3    9.52]\n",
      " [  5.8    0.  ]\n",
      " [  3.8    0.  ]\n",
      " [  6.5   15.64]\n",
      " [  7.3    9.11]\n",
      " [ 10.     1.56]\n",
      " [  8.3    0.  ]\n",
      " [  9.8    0.  ]\n",
      " [  5.5    0.  ]\n",
      " [  8.8    2.78]\n",
      " [ 13.     0.15]\n",
      " [ 19.     5.64]\n",
      " [ 15.5    0.15]\n",
      " [ 14.3    0.  ]\n",
      " [  4.5   31.14]\n",
      " [  8.8   35.22]\n",
      " [ 11.     2.78]\n",
      " [  9.     0.  ]\n",
      " [  8.3   12.17]\n",
      " [  8.3   40.12]\n",
      " [ 10.5   13.39]\n",
      " [  4.8    0.74]\n",
      " [  3.     0.15]\n",
      " [  4.3    0.  ]\n",
      " [  8.5    0.  ]\n",
      " [  9.5    0.  ]\n",
      " [ 13.5    0.74]\n",
      " [ 12.5    0.74]\n",
      " [ 11.5    2.58]\n",
      " [ 13.8    0.  ]\n",
      " [ 14.5    0.  ]\n",
      " [ 21.5    0.  ]\n",
      " [ 25.     0.95]\n",
      " [ 12.5    0.  ]\n",
      " [ 11.8    0.  ]\n",
      " [ 13.    14.62]\n",
      " [ 14.5    1.36]\n",
      " [ 14.     0.  ]\n",
      " [ 17.8    0.  ]\n",
      " [ 16.8   12.58]\n",
      " [ 14.3    0.95]\n",
      " [ 16.3    0.  ]\n",
      " [ 18.     7.07]\n",
      " [ 16.    25.84]\n",
      " [ 18.3    5.44]\n",
      " [ 17.     0.95]\n",
      " [ 13.8    0.54]\n",
      " [ 11.8    0.15]\n",
      " [ 14.3    0.  ]\n",
      " [ 14.     1.15]\n",
      " [ 14.8   16.86]\n",
      " [ 13.    12.37]\n",
      " [ 15.8    0.  ]\n",
      " [ 20.5    0.  ]\n",
      " [ 19.     0.  ]\n",
      " [ 19.3    0.  ]\n",
      " [ 26.3    0.  ]\n",
      " [ 27.3    0.  ]\n",
      " [ 23.     0.  ]\n",
      " [ 17.3    0.  ]\n",
      " [ 17.    16.45]\n",
      " [ 17.8    0.  ]\n",
      " [ 22.     0.15]\n",
      " [ 25.5    0.74]\n",
      " [ 23.8    3.19]\n",
      " [ 20.5    2.17]\n",
      " [ 18.8    0.15]\n",
      " [ 19.5   14.41]\n",
      " [ 20.     1.15]\n",
      " [ 20.3    0.54]\n",
      " [ 17.3   37.26]\n",
      " [ 17.     0.74]\n",
      " [ 15.     1.76]\n",
      " [ 17.8    3.19]\n",
      " [ 16.    26.04]\n",
      " [ 19.3   23.59]\n",
      " [ 21.8   15.02]\n",
      " [ 20.    23.8 ]\n",
      " [ 19.8    0.15]\n",
      " [ 19.3    0.  ]\n",
      " [ 19.8    0.  ]\n",
      " [ 21.5    0.15]\n",
      " [ 23.5   21.14]\n",
      " [ 20.     0.  ]\n",
      " [ 19.8    9.11]\n",
      " [ 21.     0.95]\n",
      " [ 22.    15.02]\n",
      " [ 19.     8.29]\n",
      " [ 18.     0.15]\n",
      " [ 18.3   15.64]\n",
      " [ 22.5    0.  ]\n",
      " [ 22.3    1.15]\n",
      " [ 22.     0.15]\n",
      " [ 23.3    0.  ]\n",
      " [ 22.8    0.15]\n",
      " [ 23.3    0.  ]\n",
      " [ 22.3    0.  ]\n",
      " [ 20.8    0.  ]\n",
      " [ 19.3   19.31]\n",
      " [ 15.8   45.01]\n",
      " [ 18.3    0.15]\n",
      " [ 18.8    0.  ]\n",
      " [ 23.     0.  ]\n",
      " [ 18.5    0.  ]\n",
      " [ 18.8    0.  ]\n",
      " [ 20.3    0.  ]\n",
      " [ 21.     0.  ]\n",
      " [ 21.5    0.  ]\n",
      " [ 24.3    0.  ]\n",
      " [ 21.5    6.05]\n",
      " [ 23.     1.76]\n",
      " [ 20.5    1.56]\n",
      " [ 17.     0.15]\n",
      " [ 17.     0.  ]\n",
      " [ 19.     0.  ]\n",
      " [ 19.8    0.  ]\n",
      " [ 20.     0.  ]\n",
      " [ 21.     3.6 ]\n",
      " [ 19.3   15.43]\n",
      " [ 20.5    0.15]\n",
      " [ 20.5    0.15]\n",
      " [ 22.     0.15]\n",
      " [ 18.     0.  ]\n",
      " [ 19.3   24.41]\n",
      " [ 19.5    3.6 ]\n",
      " [ 21.3    0.  ]\n",
      " [ 21.     0.  ]\n",
      " [ 22.3    9.92]\n",
      " [ 22.5   18.08]\n",
      " [ 18.8    0.  ]\n",
      " [ 17.3    0.  ]\n",
      " [ 15.     0.  ]\n",
      " [ 15.3    0.  ]\n",
      " [ 16.5    0.  ]\n",
      " [ 17.     0.  ]\n",
      " [ 19.     0.  ]\n",
      " [ 16.8    0.95]\n",
      " [ 13.8    0.  ]\n",
      " [ 12.     0.  ]\n",
      " [ 12.     4.21]\n",
      " [ 13.3    4.01]\n",
      " [ 16.3   24.2 ]\n",
      " [ 18.     0.  ]\n",
      " [ 16.     0.54]\n",
      " [ 16.5    9.31]\n",
      " [ 13.5    1.36]\n",
      " [ 14.5    0.  ]\n",
      " [ 13.     0.  ]\n",
      " [ 15.     0.  ]\n",
      " [ 17.3    0.  ]\n",
      " [ 19.     0.  ]\n",
      " [ 20.     0.  ]\n",
      " [ 19.8    0.  ]\n",
      " [ 21.     0.  ]\n",
      " [ 22.     0.  ]\n",
      " [ 20.5    0.  ]\n",
      " [ 21.5    0.15]\n",
      " [ 22.     0.  ]\n",
      " [ 20.     0.  ]\n",
      " [ 20.     0.  ]\n",
      " [ 21.3    0.  ]\n",
      " [ 25.     0.  ]\n",
      " [ 24.8    0.  ]\n",
      " [ 23.8    0.  ]\n",
      " [ 24.8    9.92]\n",
      " [ 12.5    0.  ]\n",
      " [ 10.     0.  ]\n",
      " [ 11.     0.  ]\n",
      " [ 10.3    0.  ]\n",
      " [ 12.5    0.  ]\n",
      " [ 15.     0.  ]\n",
      " [ 16.5   11.96]\n",
      " [ 15.5    0.  ]\n",
      " [ 15.5    0.  ]\n",
      " [ 14.5    8.7 ]\n",
      " [ 20.5    1.15]\n",
      " [ 15.3    6.66]\n",
      " [ 15.5    0.  ]\n",
      " [  9.3    0.  ]\n",
      " [  8.8    0.  ]\n",
      " [ 10.     0.74]\n",
      " [ 15.5   13.39]\n",
      " [ 17.8    7.27]\n",
      " [  6.     0.15]\n",
      " [  7.8    0.  ]\n",
      " [ 13.8    1.56]\n",
      " [ 13.3    0.  ]\n",
      " [ 13.5    0.  ]\n",
      " [ 13.8    0.  ]\n",
      " [ 14.     0.  ]\n",
      " [ 14.8    8.7 ]\n",
      " [ 17.     3.19]\n",
      " [ 11.5    0.15]\n",
      " [  7.5    0.  ]\n",
      " [  7.8    0.  ]\n",
      " [ 11.5    9.72]\n",
      " [  8.5     nan]\n",
      " [  8.     1.97]\n",
      " [  7.5    0.15]\n",
      " [  3.    16.86]\n",
      " [  9.3   23.39]\n",
      " [  9.8    0.15]\n",
      " [  2.3    1.15]\n",
      " [  8.    15.02]\n",
      " [  8.5    0.  ]\n",
      " [  1.8    0.  ]\n",
      " [  4.5    0.  ]\n",
      " [  3.3    4.01]\n",
      " [ -7.5    0.  ]\n",
      " [ -5.5    0.  ]\n",
      " [  0.     0.  ]\n",
      " [  0.     0.  ]\n",
      " [  0.8    0.  ]\n",
      " [  1.     0.  ]\n",
      " [  5.3    3.19]\n",
      " [ -3.     0.  ]\n",
      " [ -2.8   10.9 ]\n",
      " [ -1.3    0.15]\n",
      " [ -6.     0.  ]\n",
      " [  1.5    3.6 ]\n",
      " [  0.     0.  ]\n",
      " [ -3.     0.  ]\n",
      " [  4.3    0.74]\n",
      " [  6.3    5.14]\n",
      " [ -2.8    8.13]\n",
      " [ -7.     0.  ]\n",
      " [  0.3    0.54]\n",
      " [  2.8    0.  ]\n",
      " [ -1.     4.62]\n",
      " [  1.8    0.  ]\n",
      " [  2.3    0.  ]\n",
      " [  2.     0.  ]\n",
      " [  3.5    0.74]\n",
      " [  6.5    3.4 ]\n",
      " [  1.3    0.11]\n",
      " [ -0.5    0.  ]\n",
      " [ -1.5    0.  ]\n",
      " [ -2.5    6.6 ]\n",
      " [ -4.5    0.  ]\n",
      " [-13.     2.54]\n",
      " [ -9.3   10.92]\n",
      " [-12.8    0.  ]\n",
      " [-16.8    0.  ]\n",
      " [-16.8    5.08]\n",
      " [-12.3    0.  ]\n",
      " [-16.8    0.11]\n",
      " [-13.    10.16]\n",
      " [ -2.5    2.22]\n",
      " [ -3.5    0.  ]\n",
      " [-12.5    0.11]\n",
      " [-12.3    0.11]\n",
      " [ -9.5    5.08]\n",
      " [ -9.     5.08]\n",
      " [ -7.3    1.27]\n",
      " [-14.5    0.  ]\n",
      " [-22.8    0.  ]\n",
      " [   nan    nan]\n",
      " [   nan   0.  ]\n",
      " [-21.5    1.27]\n",
      " [-22.     0.  ]]\n"
     ]
    }
   ],
   "source": [
    "print(tableau)"
   ]
  },
  {
   "cell_type": "code",
   "execution_count": 100,
   "metadata": {},
   "outputs": [
    {
     "data": {
      "text/plain": [
       "array([[-1.8 , 26.57],\n",
       "       [ 2.3 , 25.84],\n",
       "       [ 3.3 , 28.49],\n",
       "       [ 4.5 , 31.14],\n",
       "       [ 8.8 , 35.22],\n",
       "       [ 8.3 , 40.12],\n",
       "       [16.  , 25.84],\n",
       "       [17.3 , 37.26],\n",
       "       [16.  , 26.04],\n",
       "       [15.8 , 45.01]])"
      ]
     },
     "execution_count": 100,
     "metadata": {},
     "output_type": "execute_result"
    }
   ],
   "source": [
    "# 3- Combien de journées ont une accumulation supérieure à 25mm ?\n",
    "tableau[tableau[:,1]>=25]    # On filtre toutes les lignes de la 2ème colonne "
   ]
  },
  {
   "cell_type": "code",
   "execution_count": 101,
   "metadata": {},
   "outputs": [
    {
     "data": {
      "text/plain": [
       "10"
      ]
     },
     "execution_count": 101,
     "metadata": {},
     "output_type": "execute_result"
    }
   ],
   "source": [
    "# pour connaitre le nombre de jours, on utilise la fonction len()\n",
    "len(tableau[tableau[:,1]>=25])   "
   ]
  },
  {
   "cell_type": "code",
   "execution_count": 102,
   "metadata": {},
   "outputs": [
    {
     "name": "stdout",
     "output_type": "stream",
     "text": [
      "45.01\n"
     ]
    }
   ],
   "source": [
    "# 4- Quelle température a été enregistrée pour la journée présentant la plus grande accumulation.\n",
    "precipitation_max = np.nanmax(tableau[:,1]) # on cherche le maximum d'accumulation avec la fonction max()\n",
    "print(precipitation_max)"
   ]
  },
  {
   "cell_type": "code",
   "execution_count": 103,
   "metadata": {},
   "outputs": [
    {
     "data": {
      "text/plain": [
       "array([[15.8 , 45.01]])"
      ]
     },
     "execution_count": 103,
     "metadata": {},
     "output_type": "execute_result"
    }
   ],
   "source": [
    "tableau[tableau[:,1] == precipitation_max] # on cherche sur toutes les lignes de la deuxième colonne celle qui correspond à notre variable precipitation_max"
   ]
  },
  {
   "cell_type": "code",
   "execution_count": 104,
   "metadata": {},
   "outputs": [],
   "source": [
    "# 5- Calculer le nombre de degrés jours (>0degC) pour l'année 2017. "
   ]
  },
  {
   "cell_type": "code",
   "execution_count": 105,
   "metadata": {},
   "outputs": [
    {
     "data": {
      "text/plain": [
       "1328.5300000000002"
      ]
     },
     "execution_count": 105,
     "metadata": {},
     "output_type": "execute_result"
    }
   ],
   "source": [
    "sum(tableau[:,1][tableau[:,1]>0])"
   ]
  },
  {
   "cell_type": "code",
   "execution_count": 106,
   "metadata": {},
   "outputs": [],
   "source": [
    "# 6- Calculer le cumul journalier de précipitation pour l'année 2017\n",
    "cumul_precipitation = np.nancumsum(tableau[:,1])"
   ]
  },
  {
   "cell_type": "code",
   "execution_count": 107,
   "metadata": {},
   "outputs": [
    {
     "data": {
      "text/plain": [
       "array([[-6.50000e+00,  1.10000e-01,  1.10000e-01],\n",
       "       [-6.80000e+00,  3.03000e+00,  3.14000e+00],\n",
       "       [-1.80000e+00,  2.65700e+01,  2.97100e+01],\n",
       "       ...,\n",
       "       [         nan,  0.00000e+00,  1.32726e+03],\n",
       "       [-2.15000e+01,  1.27000e+00,  1.32853e+03],\n",
       "       [-2.20000e+01,  0.00000e+00,  1.32853e+03]])"
      ]
     },
     "execution_count": 107,
     "metadata": {},
     "output_type": "execute_result"
    }
   ],
   "source": [
    "# Ajouter le tableau cumul_precipitation au tableau. \n",
    "tableau = np.column_stack([tableau, cumul_precipitation])\n",
    "tableau"
   ]
  },
  {
   "cell_type": "code",
   "execution_count": 108,
   "metadata": {},
   "outputs": [],
   "source": [
    "# 7. spliter (casser) l’array en 3 tableaux, puis concaténer à nouveau pour obtenir le tableau initial.\n",
    "\n",
    "# on assigne les trois tableaux et on fait une coupure horizontale avec la fonction hsplit()\n",
    "temperature2,precipitation2,cumul2 = np.hsplit(tableau, 3)"
   ]
  },
  {
   "cell_type": "code",
   "execution_count": 109,
   "metadata": {},
   "outputs": [],
   "source": [
    "# Pour revenir à notre tableau original, on utilise la fonction concatenate avec l'option axis = 1 \n",
    "tableau_original=np.concatenate([temperature2+273.15, precipitation2], axis = 1)"
   ]
  },
  {
   "cell_type": "code",
   "execution_count": 110,
   "metadata": {},
   "outputs": [
    {
     "name": "stdout",
     "output_type": "stream",
     "text": [
      "[[2.6665e+02 1.1000e-01]\n",
      " [2.6635e+02 3.0300e+00]\n",
      " [2.7135e+02 2.6570e+01]\n",
      " [2.7395e+02 4.2100e+00]\n",
      " [2.6335e+02 0.0000e+00]\n",
      " [2.6015e+02 0.0000e+00]\n",
      " [2.5615e+02 1.1000e-01]\n",
      " [2.5665e+02 0.0000e+00]\n",
      " [2.5785e+02 0.0000e+00]\n",
      " [2.6865e+02 1.4370e+01]\n",
      " [2.7315e+02 3.4000e+00]\n",
      " [2.7595e+02 5.9000e-01]\n",
      " [2.6535e+02 0.0000e+00]\n",
      " [2.5815e+02 1.1000e-01]\n",
      " [2.6415e+02 0.0000e+00]\n",
      " [2.6785e+02 0.0000e+00]\n",
      " [2.6765e+02 8.5200e+00]\n",
      " [2.7115e+02 3.4000e-01]\n",
      " [2.7315e+02 0.0000e+00]\n",
      " [2.7445e+02 5.5000e-01]\n",
      " [2.7465e+02 5.4000e-01]\n",
      " [2.7465e+02 0.0000e+00]\n",
      " [2.7135e+02 2.6000e-01]\n",
      " [2.7115e+02 7.3000e+00]\n",
      " [2.7185e+02 2.0300e+00]\n",
      " [2.7365e+02 5.4000e-01]\n",
      " [2.7265e+02 5.1000e-01]\n",
      " [2.7115e+02 2.7900e+00]\n",
      " [2.6915e+02 5.1000e-01]\n",
      " [2.5965e+02 0.0000e+00]\n",
      " [2.5815e+02 2.0300e+00]\n",
      " [2.6465e+02 0.0000e+00]\n",
      " [2.6265e+02 7.6000e-01]\n",
      " [2.6585e+02 0.0000e+00]\n",
      " [2.6435e+02 2.5400e+00]\n",
      " [2.6965e+02 1.5200e+00]\n",
      " [2.6115e+02 7.3700e+00]\n",
      " [2.6915e+02 1.9950e+01]\n",
      " [2.6765e+02 0.0000e+00]\n",
      " [2.5965e+02 0.0000e+00]\n",
      " [2.5835e+02 3.8100e+00]\n",
      " [2.6115e+02 1.1000e-01]\n",
      " [2.6415e+02 2.4130e+01]\n",
      " [2.6635e+02 0.0000e+00]\n",
      " [2.6465e+02 2.0320e+01]\n",
      " [2.6985e+02 3.8100e+00]\n",
      " [2.6735e+02 0.0000e+00]\n",
      " [2.6635e+02 0.0000e+00]\n",
      " [2.7285e+02 0.0000e+00]\n",
      " [2.7665e+02 0.0000e+00]\n",
      " [2.7135e+02 0.0000e+00]\n",
      " [2.6835e+02 1.5600e+00]\n",
      " [2.7515e+02 0.0000e+00]\n",
      " [2.8045e+02 0.0000e+00]\n",
      " [2.7495e+02 3.1900e+00]\n",
      " [2.7515e+02 1.2370e+01]\n",
      " [2.7085e+02 0.0000e+00]\n",
      " [2.7395e+02 0.0000e+00]\n",
      " [2.7185e+02 1.6040e+01]\n",
      " [2.7615e+02 5.1200e+00]\n",
      " [2.6265e+02 0.0000e+00]\n",
      " [2.6085e+02 0.0000e+00]\n",
      " [2.5585e+02 0.0000e+00]\n",
      " [2.5985e+02 0.0000e+00]\n",
      " [2.6665e+02 5.1000e-01]\n",
      " [2.7445e+02 1.0740e+01]\n",
      " [2.7795e+02 0.0000e+00]\n",
      " [2.7035e+02 0.0000e+00]\n",
      " [2.6565e+02 0.0000e+00]\n",
      " [2.5615e+02 0.0000e+00]\n",
      " [2.5865e+02 0.0000e+00]\n",
      " [2.6065e+02 0.0000e+00]\n",
      " [2.6365e+02 2.2860e+01]\n",
      " [2.6515e+02 1.2700e+00]\n",
      " [2.6665e+02 0.0000e+00]\n",
      " [2.6765e+02 0.0000e+00]\n",
      " [2.6585e+02 0.0000e+00]\n",
      " [2.7085e+02 0.0000e+00]\n",
      " [2.7085e+02 1.5600e+00]\n",
      " [2.7665e+02 0.0000e+00]\n",
      " [2.6265e+02 0.0000e+00]\n",
      " [2.6835e+02 8.8900e+00]\n",
      " [2.7165e+02 1.5140e+01]\n",
      " [2.7265e+02 0.0000e+00]\n",
      " [2.7035e+02 2.1700e+00]\n",
      " [2.7395e+02 7.8800e+00]\n",
      " [2.7665e+02 0.0000e+00]\n",
      " [2.7565e+02 0.0000e+00]\n",
      " [2.7315e+02 1.1000e-01]\n",
      " [2.7415e+02 7.5900e+00]\n",
      " [2.7565e+02 1.5000e-01]\n",
      " [2.7565e+02 0.0000e+00]\n",
      " [2.7615e+02 1.1150e+01]\n",
      " [2.7545e+02 2.5840e+01]\n",
      " [2.7845e+02 2.5800e+00]\n",
      " [2.7645e+02 2.8490e+01]\n",
      " [2.7595e+02 1.5000e-01]\n",
      " [2.7765e+02 0.0000e+00]\n",
      " [2.8195e+02 0.0000e+00]\n",
      " [2.8815e+02 1.9700e+00]\n",
      " [2.7965e+02 2.3800e+00]\n",
      " [2.8015e+02 1.5000e-01]\n",
      " [2.8045e+02 1.5000e-01]\n",
      " [2.8065e+02 0.0000e+00]\n",
      " [2.8195e+02 1.6250e+01]\n",
      " [2.8545e+02 9.5200e+00]\n",
      " [2.7895e+02 0.0000e+00]\n",
      " [2.7695e+02 0.0000e+00]\n",
      " [2.7965e+02 1.5640e+01]\n",
      " [2.8045e+02 9.1100e+00]\n",
      " [2.8315e+02 1.5600e+00]\n",
      " [2.8145e+02 0.0000e+00]\n",
      " [2.8295e+02 0.0000e+00]\n",
      " [2.7865e+02 0.0000e+00]\n",
      " [2.8195e+02 2.7800e+00]\n",
      " [2.8615e+02 1.5000e-01]\n",
      " [2.9215e+02 5.6400e+00]\n",
      " [2.8865e+02 1.5000e-01]\n",
      " [2.8745e+02 0.0000e+00]\n",
      " [2.7765e+02 3.1140e+01]\n",
      " [2.8195e+02 3.5220e+01]\n",
      " [2.8415e+02 2.7800e+00]\n",
      " [2.8215e+02 0.0000e+00]\n",
      " [2.8145e+02 1.2170e+01]\n",
      " [2.8145e+02 4.0120e+01]\n",
      " [2.8365e+02 1.3390e+01]\n",
      " [2.7795e+02 7.4000e-01]\n",
      " [2.7615e+02 1.5000e-01]\n",
      " [2.7745e+02 0.0000e+00]\n",
      " [2.8165e+02 0.0000e+00]\n",
      " [2.8265e+02 0.0000e+00]\n",
      " [2.8665e+02 7.4000e-01]\n",
      " [2.8565e+02 7.4000e-01]\n",
      " [2.8465e+02 2.5800e+00]\n",
      " [2.8695e+02 0.0000e+00]\n",
      " [2.8765e+02 0.0000e+00]\n",
      " [2.9465e+02 0.0000e+00]\n",
      " [2.9815e+02 9.5000e-01]\n",
      " [2.8565e+02 0.0000e+00]\n",
      " [2.8495e+02 0.0000e+00]\n",
      " [2.8615e+02 1.4620e+01]\n",
      " [2.8765e+02 1.3600e+00]\n",
      " [2.8715e+02 0.0000e+00]\n",
      " [2.9095e+02 0.0000e+00]\n",
      " [2.8995e+02 1.2580e+01]\n",
      " [2.8745e+02 9.5000e-01]\n",
      " [2.8945e+02 0.0000e+00]\n",
      " [2.9115e+02 7.0700e+00]\n",
      " [2.8915e+02 2.5840e+01]\n",
      " [2.9145e+02 5.4400e+00]\n",
      " [2.9015e+02 9.5000e-01]\n",
      " [2.8695e+02 5.4000e-01]\n",
      " [2.8495e+02 1.5000e-01]\n",
      " [2.8745e+02 0.0000e+00]\n",
      " [2.8715e+02 1.1500e+00]\n",
      " [2.8795e+02 1.6860e+01]\n",
      " [2.8615e+02 1.2370e+01]\n",
      " [2.8895e+02 0.0000e+00]\n",
      " [2.9365e+02 0.0000e+00]\n",
      " [2.9215e+02 0.0000e+00]\n",
      " [2.9245e+02 0.0000e+00]\n",
      " [2.9945e+02 0.0000e+00]\n",
      " [3.0045e+02 0.0000e+00]\n",
      " [2.9615e+02 0.0000e+00]\n",
      " [2.9045e+02 0.0000e+00]\n",
      " [2.9015e+02 1.6450e+01]\n",
      " [2.9095e+02 0.0000e+00]\n",
      " [2.9515e+02 1.5000e-01]\n",
      " [2.9865e+02 7.4000e-01]\n",
      " [2.9695e+02 3.1900e+00]\n",
      " [2.9365e+02 2.1700e+00]\n",
      " [2.9195e+02 1.5000e-01]\n",
      " [2.9265e+02 1.4410e+01]\n",
      " [2.9315e+02 1.1500e+00]\n",
      " [2.9345e+02 5.4000e-01]\n",
      " [2.9045e+02 3.7260e+01]\n",
      " [2.9015e+02 7.4000e-01]\n",
      " [2.8815e+02 1.7600e+00]\n",
      " [2.9095e+02 3.1900e+00]\n",
      " [2.8915e+02 2.6040e+01]\n",
      " [2.9245e+02 2.3590e+01]\n",
      " [2.9495e+02 1.5020e+01]\n",
      " [2.9315e+02 2.3800e+01]\n",
      " [2.9295e+02 1.5000e-01]\n",
      " [2.9245e+02 0.0000e+00]\n",
      " [2.9295e+02 0.0000e+00]\n",
      " [2.9465e+02 1.5000e-01]\n",
      " [2.9665e+02 2.1140e+01]\n",
      " [2.9315e+02 0.0000e+00]\n",
      " [2.9295e+02 9.1100e+00]\n",
      " [2.9415e+02 9.5000e-01]\n",
      " [2.9515e+02 1.5020e+01]\n",
      " [2.9215e+02 8.2900e+00]\n",
      " [2.9115e+02 1.5000e-01]\n",
      " [2.9145e+02 1.5640e+01]\n",
      " [2.9565e+02 0.0000e+00]\n",
      " [2.9545e+02 1.1500e+00]\n",
      " [2.9515e+02 1.5000e-01]\n",
      " [2.9645e+02 0.0000e+00]\n",
      " [2.9595e+02 1.5000e-01]\n",
      " [2.9645e+02 0.0000e+00]\n",
      " [2.9545e+02 0.0000e+00]\n",
      " [2.9395e+02 0.0000e+00]\n",
      " [2.9245e+02 1.9310e+01]\n",
      " [2.8895e+02 4.5010e+01]\n",
      " [2.9145e+02 1.5000e-01]\n",
      " [2.9195e+02 0.0000e+00]\n",
      " [2.9615e+02 0.0000e+00]\n",
      " [2.9165e+02 0.0000e+00]\n",
      " [2.9195e+02 0.0000e+00]\n",
      " [2.9345e+02 0.0000e+00]\n",
      " [2.9415e+02 0.0000e+00]\n",
      " [2.9465e+02 0.0000e+00]\n",
      " [2.9745e+02 0.0000e+00]\n",
      " [2.9465e+02 6.0500e+00]\n",
      " [2.9615e+02 1.7600e+00]\n",
      " [2.9365e+02 1.5600e+00]\n",
      " [2.9015e+02 1.5000e-01]\n",
      " [2.9015e+02 0.0000e+00]\n",
      " [2.9215e+02 0.0000e+00]\n",
      " [2.9295e+02 0.0000e+00]\n",
      " [2.9315e+02 0.0000e+00]\n",
      " [2.9415e+02 3.6000e+00]\n",
      " [2.9245e+02 1.5430e+01]\n",
      " [2.9365e+02 1.5000e-01]\n",
      " [2.9365e+02 1.5000e-01]\n",
      " [2.9515e+02 1.5000e-01]\n",
      " [2.9115e+02 0.0000e+00]\n",
      " [2.9245e+02 2.4410e+01]\n",
      " [2.9265e+02 3.6000e+00]\n",
      " [2.9445e+02 0.0000e+00]\n",
      " [2.9415e+02 0.0000e+00]\n",
      " [2.9545e+02 9.9200e+00]\n",
      " [2.9565e+02 1.8080e+01]\n",
      " [2.9195e+02 0.0000e+00]\n",
      " [2.9045e+02 0.0000e+00]\n",
      " [2.8815e+02 0.0000e+00]\n",
      " [2.8845e+02 0.0000e+00]\n",
      " [2.8965e+02 0.0000e+00]\n",
      " [2.9015e+02 0.0000e+00]\n",
      " [2.9215e+02 0.0000e+00]\n",
      " [2.8995e+02 9.5000e-01]\n",
      " [2.8695e+02 0.0000e+00]\n",
      " [2.8515e+02 0.0000e+00]\n",
      " [2.8515e+02 4.2100e+00]\n",
      " [2.8645e+02 4.0100e+00]\n",
      " [2.8945e+02 2.4200e+01]\n",
      " [2.9115e+02 0.0000e+00]\n",
      " [2.8915e+02 5.4000e-01]\n",
      " [2.8965e+02 9.3100e+00]\n",
      " [2.8665e+02 1.3600e+00]\n",
      " [2.8765e+02 0.0000e+00]\n",
      " [2.8615e+02 0.0000e+00]\n",
      " [2.8815e+02 0.0000e+00]\n",
      " [2.9045e+02 0.0000e+00]\n",
      " [2.9215e+02 0.0000e+00]\n",
      " [2.9315e+02 0.0000e+00]\n",
      " [2.9295e+02 0.0000e+00]\n",
      " [2.9415e+02 0.0000e+00]\n",
      " [2.9515e+02 0.0000e+00]\n",
      " [2.9365e+02 0.0000e+00]\n",
      " [2.9465e+02 1.5000e-01]\n",
      " [2.9515e+02 0.0000e+00]\n",
      " [2.9315e+02 0.0000e+00]\n",
      " [2.9315e+02 0.0000e+00]\n",
      " [2.9445e+02 0.0000e+00]\n",
      " [2.9815e+02 0.0000e+00]\n",
      " [2.9795e+02 0.0000e+00]\n",
      " [2.9695e+02 0.0000e+00]\n",
      " [2.9795e+02 9.9200e+00]\n",
      " [2.8565e+02 0.0000e+00]\n",
      " [2.8315e+02 0.0000e+00]\n",
      " [2.8415e+02 0.0000e+00]\n",
      " [2.8345e+02 0.0000e+00]\n",
      " [2.8565e+02 0.0000e+00]\n",
      " [2.8815e+02 0.0000e+00]\n",
      " [2.8965e+02 1.1960e+01]\n",
      " [2.8865e+02 0.0000e+00]\n",
      " [2.8865e+02 0.0000e+00]\n",
      " [2.8765e+02 8.7000e+00]\n",
      " [2.9365e+02 1.1500e+00]\n",
      " [2.8845e+02 6.6600e+00]\n",
      " [2.8865e+02 0.0000e+00]\n",
      " [2.8245e+02 0.0000e+00]\n",
      " [2.8195e+02 0.0000e+00]\n",
      " [2.8315e+02 7.4000e-01]\n",
      " [2.8865e+02 1.3390e+01]\n",
      " [2.9095e+02 7.2700e+00]\n",
      " [2.7915e+02 1.5000e-01]\n",
      " [2.8095e+02 0.0000e+00]\n",
      " [2.8695e+02 1.5600e+00]\n",
      " [2.8645e+02 0.0000e+00]\n",
      " [2.8665e+02 0.0000e+00]\n",
      " [2.8695e+02 0.0000e+00]\n",
      " [2.8715e+02 0.0000e+00]\n",
      " [2.8795e+02 8.7000e+00]\n",
      " [2.9015e+02 3.1900e+00]\n",
      " [2.8465e+02 1.5000e-01]\n",
      " [2.8065e+02 0.0000e+00]\n",
      " [2.8095e+02 0.0000e+00]\n",
      " [2.8465e+02 9.7200e+00]\n",
      " [2.8165e+02        nan]\n",
      " [2.8115e+02 1.9700e+00]\n",
      " [2.8065e+02 1.5000e-01]\n",
      " [2.7615e+02 1.6860e+01]\n",
      " [2.8245e+02 2.3390e+01]\n",
      " [2.8295e+02 1.5000e-01]\n",
      " [2.7545e+02 1.1500e+00]\n",
      " [2.8115e+02 1.5020e+01]\n",
      " [2.8165e+02 0.0000e+00]\n",
      " [2.7495e+02 0.0000e+00]\n",
      " [2.7765e+02 0.0000e+00]\n",
      " [2.7645e+02 4.0100e+00]\n",
      " [2.6565e+02 0.0000e+00]\n",
      " [2.6765e+02 0.0000e+00]\n",
      " [2.7315e+02 0.0000e+00]\n",
      " [2.7315e+02 0.0000e+00]\n",
      " [2.7395e+02 0.0000e+00]\n",
      " [2.7415e+02 0.0000e+00]\n",
      " [2.7845e+02 3.1900e+00]\n",
      " [2.7015e+02 0.0000e+00]\n",
      " [2.7035e+02 1.0900e+01]\n",
      " [2.7185e+02 1.5000e-01]\n",
      " [2.6715e+02 0.0000e+00]\n",
      " [2.7465e+02 3.6000e+00]\n",
      " [2.7315e+02 0.0000e+00]\n",
      " [2.7015e+02 0.0000e+00]\n",
      " [2.7745e+02 7.4000e-01]\n",
      " [2.7945e+02 5.1400e+00]\n",
      " [2.7035e+02 8.1300e+00]\n",
      " [2.6615e+02 0.0000e+00]\n",
      " [2.7345e+02 5.4000e-01]\n",
      " [2.7595e+02 0.0000e+00]\n",
      " [2.7215e+02 4.6200e+00]\n",
      " [2.7495e+02 0.0000e+00]\n",
      " [2.7545e+02 0.0000e+00]\n",
      " [2.7515e+02 0.0000e+00]\n",
      " [2.7665e+02 7.4000e-01]\n",
      " [2.7965e+02 3.4000e+00]\n",
      " [2.7445e+02 1.1000e-01]\n",
      " [2.7265e+02 0.0000e+00]\n",
      " [2.7165e+02 0.0000e+00]\n",
      " [2.7065e+02 6.6000e+00]\n",
      " [2.6865e+02 0.0000e+00]\n",
      " [2.6015e+02 2.5400e+00]\n",
      " [2.6385e+02 1.0920e+01]\n",
      " [2.6035e+02 0.0000e+00]\n",
      " [2.5635e+02 0.0000e+00]\n",
      " [2.5635e+02 5.0800e+00]\n",
      " [2.6085e+02 0.0000e+00]\n",
      " [2.5635e+02 1.1000e-01]\n",
      " [2.6015e+02 1.0160e+01]\n",
      " [2.7065e+02 2.2200e+00]\n",
      " [2.6965e+02 0.0000e+00]\n",
      " [2.6065e+02 1.1000e-01]\n",
      " [2.6085e+02 1.1000e-01]\n",
      " [2.6365e+02 5.0800e+00]\n",
      " [2.6415e+02 5.0800e+00]\n",
      " [2.6585e+02 1.2700e+00]\n",
      " [2.5865e+02 0.0000e+00]\n",
      " [2.5035e+02 0.0000e+00]\n",
      " [       nan        nan]\n",
      " [       nan 0.0000e+00]\n",
      " [2.5165e+02 1.2700e+00]\n",
      " [2.5115e+02 0.0000e+00]]\n"
     ]
    }
   ],
   "source": [
    "print(tableau_original)"
   ]
  }
 ],
 "metadata": {
  "kernelspec": {
   "display_name": "Python 3",
   "language": "python",
   "name": "python3"
  },
  "language_info": {
   "codemirror_mode": {
    "name": "ipython",
    "version": 3
   },
   "file_extension": ".py",
   "mimetype": "text/x-python",
   "name": "python",
   "nbconvert_exporter": "python",
   "pygments_lexer": "ipython3",
   "version": "3.7.3"
  }
 },
 "nbformat": 4,
 "nbformat_minor": 2
}
