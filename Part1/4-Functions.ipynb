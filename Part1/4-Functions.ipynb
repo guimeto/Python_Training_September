{
 "cells": [
  {
   "cell_type": "markdown",
   "metadata": {
    "collapsed": true
   },
   "source": [
    "<img src=\"./figures/pylogo.png\" alt=\"Indentation\" width=\"50%\" height=\"50%\">\n",
    "\n",
    "\n",
    "\n",
    "# 4  Libraries and functions in  Python\n",
    "\n",
    "\n",
    "## 4.1 Introduction to librairies\n",
    "\n",
    "To facilitate the processing, manipulation and visualization of data, Python has many libraries.\n",
    "\n",
    "Python libraries allow you to import codes and functions that will make our analysis easier.\n",
    "\n",
    "Here are the most popular libraries:\n",
    "\n",
    "- numpy: mathematics or scientific calculations: http://www.numpy.org/\n",
    "- pandas: data manipulation: http://pandas.pydata.org/\n",
    "- matplotlib: visualization of data: https://matplotlib.org/\n",
    "- scikit-learn: machine learning: https://scikit-learn.org\n",
    "- Datetime: formatting dates: https: //docs.python.org/2/library/datetime.html\n",
    "\n",
    "\n",
    "To import a library under Python, use the function: <b> import </b> + library_name\n"
   ]
  },
  {
   "cell_type": "code",
   "execution_count": 4,
   "metadata": {},
   "outputs": [],
   "source": [
    "# To import a library\n",
    "import numpy"
   ]
  },
  {
   "cell_type": "markdown",
   "metadata": {},
   "source": [
    "Every library imported under python has help.\n",
    "\n",
    "To know what a library contains, we use the function: dir ()\n",
    " \n",
    "        - Example: dir(numpy)    \n",
    "        "
   ]
  },
  {
   "cell_type": "code",
   "execution_count": 6,
   "metadata": {},
   "outputs": [
    {
     "ename": "AttributeError",
     "evalue": "'list' object has no attribute 'head'",
     "output_type": "error",
     "traceback": [
      "\u001b[1;31m---------------------------------------------------------------------------\u001b[0m",
      "\u001b[1;31mAttributeError\u001b[0m                            Traceback (most recent call last)",
      "\u001b[1;32m<ipython-input-6-4f57036b9f4a>\u001b[0m in \u001b[0;36m<module>\u001b[1;34m\u001b[0m\n\u001b[1;32m----> 1\u001b[1;33m \u001b[0mdir\u001b[0m\u001b[1;33m(\u001b[0m\u001b[0mnumpy\u001b[0m\u001b[1;33m)\u001b[0m\u001b[1;33m.\u001b[0m\u001b[0mhead\u001b[0m\u001b[1;33m(\u001b[0m\u001b[1;33m)\u001b[0m\u001b[1;33m\u001b[0m\u001b[1;33m\u001b[0m\u001b[0m\n\u001b[0m",
      "\u001b[1;31mAttributeError\u001b[0m: 'list' object has no attribute 'head'"
     ]
    }
   ],
   "source": [
    "dir(numpy)"
   ]
  },
  {
   "cell_type": "markdown",
   "metadata": {},
   "source": [
    " The <b> help () </b> function provides help with a function in the library\n",
    "\n",
    "        - Example: help(numpy.mean)"
   ]
  },
  {
   "cell_type": "code",
   "execution_count": 3,
   "metadata": {},
   "outputs": [
    {
     "name": "stdout",
     "output_type": "stream",
     "text": [
      "Help on function mean in module numpy:\n",
      "\n",
      "mean(a, axis=None, dtype=None, out=None, keepdims=<no value>)\n",
      "    Compute the arithmetic mean along the specified axis.\n",
      "    \n",
      "    Returns the average of the array elements.  The average is taken over\n",
      "    the flattened array by default, otherwise over the specified axis.\n",
      "    `float64` intermediate and return values are used for integer inputs.\n",
      "    \n",
      "    Parameters\n",
      "    ----------\n",
      "    a : array_like\n",
      "        Array containing numbers whose mean is desired. If `a` is not an\n",
      "        array, a conversion is attempted.\n",
      "    axis : None or int or tuple of ints, optional\n",
      "        Axis or axes along which the means are computed. The default is to\n",
      "        compute the mean of the flattened array.\n",
      "    \n",
      "        .. versionadded:: 1.7.0\n",
      "    \n",
      "        If this is a tuple of ints, a mean is performed over multiple axes,\n",
      "        instead of a single axis or all the axes as before.\n",
      "    dtype : data-type, optional\n",
      "        Type to use in computing the mean.  For integer inputs, the default\n",
      "        is `float64`; for floating point inputs, it is the same as the\n",
      "        input dtype.\n",
      "    out : ndarray, optional\n",
      "        Alternate output array in which to place the result.  The default\n",
      "        is ``None``; if provided, it must have the same shape as the\n",
      "        expected output, but the type will be cast if necessary.\n",
      "        See `doc.ufuncs` for details.\n",
      "    \n",
      "    keepdims : bool, optional\n",
      "        If this is set to True, the axes which are reduced are left\n",
      "        in the result as dimensions with size one. With this option,\n",
      "        the result will broadcast correctly against the input array.\n",
      "    \n",
      "        If the default value is passed, then `keepdims` will not be\n",
      "        passed through to the `mean` method of sub-classes of\n",
      "        `ndarray`, however any non-default value will be.  If the\n",
      "        sub-class' method does not implement `keepdims` any\n",
      "        exceptions will be raised.\n",
      "    \n",
      "    Returns\n",
      "    -------\n",
      "    m : ndarray, see dtype parameter above\n",
      "        If `out=None`, returns a new array containing the mean values,\n",
      "        otherwise a reference to the output array is returned.\n",
      "    \n",
      "    See Also\n",
      "    --------\n",
      "    average : Weighted average\n",
      "    std, var, nanmean, nanstd, nanvar\n",
      "    \n",
      "    Notes\n",
      "    -----\n",
      "    The arithmetic mean is the sum of the elements along the axis divided\n",
      "    by the number of elements.\n",
      "    \n",
      "    Note that for floating-point input, the mean is computed using the\n",
      "    same precision the input has.  Depending on the input data, this can\n",
      "    cause the results to be inaccurate, especially for `float32` (see\n",
      "    example below).  Specifying a higher-precision accumulator using the\n",
      "    `dtype` keyword can alleviate this issue.\n",
      "    \n",
      "    By default, `float16` results are computed using `float32` intermediates\n",
      "    for extra precision.\n",
      "    \n",
      "    Examples\n",
      "    --------\n",
      "    >>> a = np.array([[1, 2], [3, 4]])\n",
      "    >>> np.mean(a)\n",
      "    2.5\n",
      "    >>> np.mean(a, axis=0)\n",
      "    array([ 2.,  3.])\n",
      "    >>> np.mean(a, axis=1)\n",
      "    array([ 1.5,  3.5])\n",
      "    \n",
      "    In single precision, `mean` can be inaccurate:\n",
      "    \n",
      "    >>> a = np.zeros((2, 512*512), dtype=np.float32)\n",
      "    >>> a[0, :] = 1.0\n",
      "    >>> a[1, :] = 0.1\n",
      "    >>> np.mean(a)\n",
      "    0.54999924\n",
      "    \n",
      "    Computing the mean in float64 is more accurate:\n",
      "    \n",
      "    >>> np.mean(a, dtype=np.float64)\n",
      "    0.55000000074505806\n",
      "\n"
     ]
    }
   ],
   "source": [
    "help(numpy.mean)"
   ]
  },
  {
   "cell_type": "code",
   "execution_count": 4,
   "metadata": {},
   "outputs": [
    {
     "data": {
      "text/plain": [
       "[1, 2, 3, 4, 5, 6, 7, 8, 9, 10]"
      ]
     },
     "execution_count": 4,
     "metadata": {},
     "output_type": "execute_result"
    }
   ],
   "source": [
    "list_1=[1,2,3,4,5,6,7,8,9,10]\n",
    "list_1"
   ]
  },
  {
   "cell_type": "code",
   "execution_count": 5,
   "metadata": {},
   "outputs": [
    {
     "data": {
      "text/plain": [
       "5.5"
      ]
     },
     "execution_count": 5,
     "metadata": {},
     "output_type": "execute_result"
    }
   ],
   "source": [
    "numpy.mean(list_1)  # name of library + name of function "
   ]
  },
  {
   "cell_type": "code",
   "execution_count": 6,
   "metadata": {},
   "outputs": [
    {
     "data": {
      "text/plain": [
       "10"
      ]
     },
     "execution_count": 6,
     "metadata": {},
     "output_type": "execute_result"
    }
   ],
   "source": [
    "numpy.max(list_1)"
   ]
  },
  {
   "cell_type": "markdown",
   "metadata": {},
   "source": [
    "## 4.2  Built-in function\n",
    "\n",
    "Python gives you many built-in functions like print(), etc \n",
    "\n",
    "Here's a list: https://docs.python.org/3/library/functions.html\n",
    "\n",
    "### Some examples: "
   ]
  },
  {
   "cell_type": "code",
   "execution_count": 35,
   "metadata": {},
   "outputs": [
    {
     "data": {
      "text/plain": [
       "1"
      ]
     },
     "execution_count": 35,
     "metadata": {},
     "output_type": "execute_result"
    }
   ],
   "source": [
    "abs(-1)  # Return the absolute value of a number "
   ]
  },
  {
   "cell_type": "code",
   "execution_count": 36,
   "metadata": {},
   "outputs": [
    {
     "data": {
      "text/plain": [
       "3"
      ]
     },
     "execution_count": 36,
     "metadata": {},
     "output_type": "execute_result"
    }
   ],
   "source": [
    "len([1,2,3]) # Return the length (the number of items) of an object. "
   ]
  },
  {
   "cell_type": "code",
   "execution_count": 37,
   "metadata": {},
   "outputs": [
    {
     "data": {
      "text/plain": [
       "99"
      ]
     },
     "execution_count": 37,
     "metadata": {},
     "output_type": "execute_result"
    }
   ],
   "source": [
    "max([1,3,2,6,99,1])    #Return max value from a list"
   ]
  },
  {
   "cell_type": "code",
   "execution_count": 38,
   "metadata": {},
   "outputs": [
    {
     "data": {
      "text/plain": [
       "1"
      ]
     },
     "execution_count": 38,
     "metadata": {},
     "output_type": "execute_result"
    }
   ],
   "source": [
    "round(1.2)  # Return number rounded to ndigits precision "
   ]
  },
  {
   "cell_type": "markdown",
   "metadata": {},
   "source": [
    "## 4.3  Create own functions.\n",
    "\n",
    "These functions are called user-defined functions.\n",
    "\n",
    "- a function makes our code more fluid and readable:\n",
    "\n",
    "- Syntax: to write a function, we start with the def() keyword\n",
    "\n",
    "                   def sum (a, b): # we define the parameters\n",
    "       indentation ---> return a + b # return keyword to return result variable\n",
    "                \n",
    " - It does not specify the type of return, it is dynamically resolved at the time of execution of the program.\n",
    " \n",
    " - Call of the function: result = sum (12,4) # result = 16\n",
    " \n",
    " \n",
    " Python also supports keyword arguments.\n",
    " \n",
    "                    def sum (a, b): # we define the parameters\n",
    "                        return a + b # return keyword to return result variable\n",
    "                    result = sum (12, b = 4)\n",
    "                -----------------------------\n",
    "                    def sum (a, b = 4): # we define the parameters\n",
    "                          return a + b # return keyword to return result variable\n",
    "                    result = sum (12)\n",
    "                    \n",
    "                                      "
   ]
  },
  {
   "cell_type": "code",
   "execution_count": 7,
   "metadata": {},
   "outputs": [],
   "source": [
    "def sign(x):\n",
    "    if x > 0:\n",
    "        return 'positive'\n",
    "    elif x < 0:\n",
    "        return 'negative'\n",
    "    else:\n",
    "        return 'zero'"
   ]
  },
  {
   "cell_type": "code",
   "execution_count": 8,
   "metadata": {},
   "outputs": [],
   "source": [
    "my_list_to_test = [0,2,-8,10,1,-6]"
   ]
  },
  {
   "cell_type": "code",
   "execution_count": 9,
   "metadata": {},
   "outputs": [
    {
     "name": "stdout",
     "output_type": "stream",
     "text": [
      "zero\n",
      "positive\n",
      "negative\n",
      "positive\n",
      "positive\n",
      "negative\n"
     ]
    }
   ],
   "source": [
    "for element in my_list_to_test:\n",
    "    print(sign(element))"
   ]
  },
  {
   "cell_type": "markdown",
   "metadata": {},
   "source": [
    "We will often define functions to take optional keyword arguments, like this:"
   ]
  },
  {
   "cell_type": "code",
   "execution_count": 13,
   "metadata": {},
   "outputs": [
    {
     "name": "stdout",
     "output_type": "stream",
     "text": [
      "Hello, Bob!\n",
      "HELLO, FRED\n"
     ]
    }
   ],
   "source": [
    "def hello(name, loud=False):\n",
    "    if loud:\n",
    "        print('HELLO, %s' % name.upper())\n",
    "    else:\n",
    "        print('Hello, %s!' % name)\n",
    "\n",
    "hello('Bob')\n",
    "hello('Fred', loud=True)"
   ]
  },
  {
   "cell_type": "markdown",
   "metadata": {},
   "source": [
    "## 4.4  Functions with *args\n",
    "\n",
    "- Special syntax in python that allows to manage a variable number of parameters when calling a function\n",
    "- It's the * that counts\n",
    "- args is a convention\n",
    "- * args is a list of parameters containing the parameters of a function\n",
    "\n",
    "Syntax * args:\n",
    "            \n",
    "            def print_ingredients (* args):\n",
    "                for ingredients in args:\n",
    "                    print (ingredient)\n",
    "                    \n",
    "            print_ingredients ( 'Tomatoes')\n",
    "            print_ingredients ( 'Tomatoes' Banana)\n",
    "            print_ingredients ( 'Tomatoes' Banana, apple)"
   ]
  },
  {
   "cell_type": "code",
   "execution_count": 14,
   "metadata": {},
   "outputs": [],
   "source": [
    "def sum(*args):\n",
    "    total = 0 \n",
    "    for number in args: \n",
    "        total += number \n",
    "    print(total)"
   ]
  },
  {
   "cell_type": "code",
   "execution_count": 15,
   "metadata": {},
   "outputs": [
    {
     "name": "stdout",
     "output_type": "stream",
     "text": [
      "5\n",
      "128\n"
     ]
    }
   ],
   "source": [
    "sum(2,3)\n",
    "sum(2,3,10,90,23)"
   ]
  },
  {
   "cell_type": "markdown",
   "metadata": {},
   "source": [
    "## 4.5 Functions with **kwargs\n",
    "\n",
    "- Like * args, but for keyword arguments\n",
    "- It's the * that counts\n",
    "- ** kwargs is a python dictionary containing the keys / values ​​of the parameters of a function\n",
    "- it must always be present last in the list of parameters of a function\n",
    "\n",
    "Syntax ** kwargs:\n",
    "            \n",
    "            def print_languages ​​(** args):\n",
    "                for language, definition in kwargs.items ():\n",
    "                    print ('{} is {}'. format (language, definition))\n",
    "                    \n",
    "            print_languages ​​(Python = 'awesome')\n",
    "            print_languages ​​(Python = 'awesome', Java = 'verbose')"
   ]
  },
  {
   "cell_type": "code",
   "execution_count": 16,
   "metadata": {},
   "outputs": [],
   "source": [
    "def capitals(**kwargs):\n",
    "    for country, capital in kwargs.items():\n",
    "        print(\"The capital of {} in {}\".format(country, capital))"
   ]
  },
  {
   "cell_type": "code",
   "execution_count": 17,
   "metadata": {},
   "outputs": [
    {
     "name": "stdout",
     "output_type": "stream",
     "text": [
      "The capital of France in Paris\n",
      "The capital of Germany in Berlin\n"
     ]
    }
   ],
   "source": [
    "capitals(France = 'Paris', Germany='Berlin')"
   ]
  },
  {
   "cell_type": "code",
   "execution_count": 18,
   "metadata": {},
   "outputs": [],
   "source": [
    "def capitals(title, ending='',  **kwargs):\n",
    "    print(title)\n",
    "    for country, capital in kwargs.items():\n",
    "        print(\"The capital of {} in {}\".format(country, capital))\n",
    "    if ending:\n",
    "        print(ending)"
   ]
  },
  {
   "cell_type": "code",
   "execution_count": 19,
   "metadata": {},
   "outputs": [
    {
     "name": "stdout",
     "output_type": "stream",
     "text": [
      "List of countries\n",
      "The capital of France in Paris\n",
      "The capital of Germany in Berlin\n"
     ]
    }
   ],
   "source": [
    "capitals(\"List of countries\",\n",
    "    France = 'Paris', Germany='Berlin')"
   ]
  },
  {
   "cell_type": "code",
   "execution_count": 20,
   "metadata": {},
   "outputs": [
    {
     "name": "stdout",
     "output_type": "stream",
     "text": [
      "List of countries 2 \n",
      "The capital of france in Paris\n",
      "The capital of Germany in Allemage\n"
     ]
    }
   ],
   "source": [
    "keywords = {'france': 'Paris', 'Germany' : 'Allemage'}\n",
    "capitals(\"List of countries 2 \", **keywords)"
   ]
  },
  {
   "cell_type": "markdown",
   "metadata": {},
   "source": [
    "## 4.6 Import own functions\n",
    "\n",
    "Modules refer to a file containing Python statements and definitions.\n",
    "\n",
    "A file containing Python code, for e.g.: example.py, is called a module and its module name would be example.\n",
    "\n",
    "We use modules to break down large programs into small manageable and organized files. Furthermore, modules provide reusability of code.\n",
    "\n",
    "We can define our most used functions in a module and import it, instead of copying their definitions into different programs.\n",
    "\n",
    "Here, we have defined different funcitons inside a module named my_functions.\n"
   ]
  },
  {
   "cell_type": "markdown",
   "metadata": {},
   "source": [
    "We use the import keyword to import our module and then our functions. To import our previously defined module example we type the following in the Python prompt:"
   ]
  },
  {
   "cell_type": "code",
   "execution_count": 15,
   "metadata": {},
   "outputs": [],
   "source": [
    "import my_functions"
   ]
  },
  {
   "cell_type": "markdown",
   "metadata": {},
   "source": [
    "Using the module name we can access the function using the dot . operator. For example:"
   ]
  },
  {
   "cell_type": "code",
   "execution_count": 16,
   "metadata": {},
   "outputs": [
    {
     "data": {
      "text/plain": [
       "-2"
      ]
     },
     "execution_count": 16,
     "metadata": {},
     "output_type": "execute_result"
    }
   ],
   "source": [
    "my_functions.substraction(4,6)"
   ]
  },
  {
   "cell_type": "code",
   "execution_count": null,
   "metadata": {},
   "outputs": [],
   "source": []
  }
 ],
 "metadata": {
  "kernelspec": {
   "display_name": "Python 3",
   "language": "python",
   "name": "python3"
  },
  "language_info": {
   "codemirror_mode": {
    "name": "ipython",
    "version": 3
   },
   "file_extension": ".py",
   "mimetype": "text/x-python",
   "name": "python",
   "nbconvert_exporter": "python",
   "pygments_lexer": "ipython3",
   "version": "3.7.3"
  }
 },
 "nbformat": 4,
 "nbformat_minor": 2
}
