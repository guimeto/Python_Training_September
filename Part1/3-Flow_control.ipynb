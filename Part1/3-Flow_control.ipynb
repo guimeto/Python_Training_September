{
 "cells": [
  {
   "cell_type": "markdown",
   "metadata": {},
   "source": [
    "\n",
    "<img src=\"./figures/pylogo.png\" alt=\"Indentation\" width=\"50%\" height=\"50%\">\n",
    "\n",
    "\n",
    "\n",
    "#  3 Basics in Python:  Flow control\n"
   ]
  },
  {
   "cell_type": "markdown",
   "metadata": {
    "collapsed": true
   },
   "source": [
    "## 3.1  Flow control with the conditional structure: If, else\n",
    "\n",
    "The flow control statements can be classified into Conditional Statements and Iteration Statements. \n",
    "\n",
    "- The Conditional Statements selects a particular set of statements for execution depending upon a specified condition.\n",
    "The most popular conditional control statement is ‘if else’, so let’s see how it works in python.:\n",
    "\n",
    "                                         Syntax IF:\n",
    "        \n",
    "                                         if condition:\n",
    "                                         indentation ---> action 1\n",
    "                                         elif:\n",
    "                                         indentation ---> action 2\n",
    "                                         else:\n",
    "                                         indentation ---> action 3\n",
    "         \n",
    "- WARNING: python works in indentation\n",
    "\n",
    "<img src = \"./figures/indentation.png\" alt = \"Indentation\" width = \"30%\" height = \"30%\">\n",
    "\n",
    "- Multiple tasks can be assigned in conditional structures."
   ]
  },
  {
   "cell_type": "code",
   "execution_count": null,
   "metadata": {},
   "outputs": [],
   "source": [
    "my_variable = 5"
   ]
  },
  {
   "cell_type": "code",
   "execution_count": null,
   "metadata": {},
   "outputs": [],
   "source": [
    "if (my_variable > 5 ):\n",
    "    my_variable = my_variable + 1 \n",
    "my_variable    "
   ]
  },
  {
   "cell_type": "code",
   "execution_count": null,
   "metadata": {},
   "outputs": [],
   "source": [
    "if (my_variable > 5 ):\n",
    "    my_variable = my_variable + 1 \n",
    "else:\n",
    "    my_variable = my_variable - 1 \n",
    "my_variable   \n"
   ]
  },
  {
   "cell_type": "code",
   "execution_count": null,
   "metadata": {},
   "outputs": [],
   "source": [
    "if (my_variable > 5 ):\n",
    "    my_variable = my_variable + 1 \n",
    "elif (my_variable == 5) :\n",
    "    my_variable = my_variable * 10 \n",
    "else:\n",
    "    my_variable = my_variable - 1 \n",
    "my_variable   "
   ]
  },
  {
   "cell_type": "markdown",
   "metadata": {
    "collapsed": true
   },
   "source": [
    "## 3.2 Flow control: Loop for: \n",
    "\n",
    "A loop allows to repeat instructions according to your needs.\n",
    "\n",
    "                             Syntax FOR:\n",
    "                                         items = [1,2,3]\n",
    "                                         for i in items:\n",
    "                                         indentation ---> print (i) # 1,2,3\n",
    "    \n",
    "Be careful once again to respect the indentation.\n"
   ]
  },
  {
   "cell_type": "code",
   "execution_count": null,
   "metadata": {},
   "outputs": [],
   "source": [
    "my_list=[1,2,3,4,5,6,7,8,9,10]"
   ]
  },
  {
   "cell_type": "code",
   "execution_count": null,
   "metadata": {},
   "outputs": [],
   "source": [
    "for value in my_list:\n",
    "    print(value*2)\n",
    "    print(\"---\")"
   ]
  },
  {
   "cell_type": "code",
   "execution_count": null,
   "metadata": {},
   "outputs": [],
   "source": [
    "for value in my_list:\n",
    "    my_new_value=value*2\n",
    "    print(\"The multiplication of 2 * %d = %d\" % (value,my_new_value))  # to concatenate text and a variable\n",
    "                               #% d: python knows we'll display an integer\n",
    "                               #% s: python knows we'll display a string\n",
    "                               #% f: python knows we will display a float\n",
    "                               # we give a tuple to display"
   ]
  },
  {
   "cell_type": "markdown",
   "metadata": {},
   "source": [
    "## 3.3 Flow control:  while() loop , same as if structure but repeated \n",
    "\n",
    "                            Syntaxe WHILE:\n",
    "                                           run = True\n",
    "                                           while run:\n",
    "                                           indentation ---> print('running')\n",
    "                                                if <condition>:\n",
    "                                                   run = False\n",
    "                                                   \n",
    "As long as the condition is met, the iteration in the loop continues.\n",
    "Be careful to respect the indentation.\n"
   ]
  },
  {
   "cell_type": "code",
   "execution_count": null,
   "metadata": {},
   "outputs": [],
   "source": [
    "my_list=[1,2,3,4,5,6,7,8,9,10]\n",
    "counter=0\n",
    "while (counter < 10):\n",
    "    print(\"My counter = %d\" % (counter))\n",
    "    print(\"My value = %d\" % (my_list[counter]))   # in a tuple, we want the value from our list\n",
    "    counter=counter+1"
   ]
  },
  {
   "cell_type": "code",
   "execution_count": null,
   "metadata": {},
   "outputs": [],
   "source": [
    "# we can combine several conditions in a while loop\n",
    "# we will for example extract only the even values\n",
    "# If modulo value = 0, even number\n",
    "counter=0\n",
    "counter_true_result=0\n",
    "while (counter < 10):\n",
    "    if my_list[counter] % 2 == 0:\n",
    "        print(\"My counter = %d\" % (counter))\n",
    "        print(\"My value = %d\" % (my_list[counter]))  \n",
    "        counter_true_result=counter_true_result+1\n",
    "    counter=counter+1\n",
    "print(counter_true_result)"
   ]
  },
  {
   "cell_type": "markdown",
   "metadata": {},
   "source": [
    "## 3.4 Loop  range\n",
    "\n",
    "It's possible to create a loop with range() function:       "
   ]
  },
  {
   "cell_type": "code",
   "execution_count": null,
   "metadata": {},
   "outputs": [],
   "source": [
    "for my_value in range(0,10):\n",
    "    print(my_value*2)\n",
    "    print(\"---\")"
   ]
  },
  {
   "cell_type": "markdown",
   "metadata": {},
   "source": [
    "## 3.5 To stop a loop: \n",
    "\n",
    "It's possible to stop a loop with break command.  "
   ]
  },
  {
   "cell_type": "code",
   "execution_count": null,
   "metadata": {},
   "outputs": [],
   "source": [
    "my_list=[1,2,3,4,5,6,7,8,9,10]\n",
    "for i in my_list:\n",
    "     if i > 5:\n",
    "             print(\"stop: the following values are greater than 5.\")\n",
    "             break\n",
    "     print(i)\n"
   ]
  },
  {
   "cell_type": "code",
   "execution_count": null,
   "metadata": {},
   "outputs": [],
   "source": [
    "# to import a library\n",
    "import numpy as np"
   ]
  },
  {
   "cell_type": "markdown",
   "metadata": {},
   "source": []
  },
  {
   "cell_type": "code",
   "execution_count": null,
   "metadata": {},
   "outputs": [],
   "source": [
    "dir(np)    "
   ]
  },
  {
   "cell_type": "markdown",
   "metadata": {},
   "source": [
    "The <b>help()</b> function provides help on a function of the library.\n",
    "\n",
    "        - Example: help(numpy.mean)"
   ]
  },
  {
   "cell_type": "code",
   "execution_count": null,
   "metadata": {},
   "outputs": [],
   "source": [
    "help (np.median) # for help on a library function\n",
    "                 # we can distinguish between optional and mandatory arguments"
   ]
  },
  {
   "cell_type": "markdown",
   "metadata": {},
   "source": [
    "## - Exercise \n",
    "\n",
    "## Objective: To manipulate a list containing the prices of 58 houses\n",
    "\n",
    "Creation of the list \"price_of_58_houses\""
   ]
  },
  {
   "cell_type": "code",
   "execution_count": null,
   "metadata": {},
   "outputs": [],
   "source": [
    "price_of_58_houses=list(range(125000,700000,10000))   "
   ]
  },
  {
   "cell_type": "code",
   "execution_count": null,
   "metadata": {},
   "outputs": [],
   "source": [
    "price_of_58_houses[0:20]"
   ]
  },
  {
   "cell_type": "code",
   "execution_count": null,
   "metadata": {},
   "outputs": [],
   "source": [
    "len(price_of_58_houses)"
   ]
  },
  {
   "cell_type": "markdown",
   "metadata": {},
   "source": [
    "        1- How many houses have a price greater than or equal to 300000 euros?\n",
    "\n",
    "    2- How many houses have a price between 250000 and 400000 euros?\n",
    "\n",
    "    3- How many houses have a price that is not higher than 600000 euros?\n",
    "\n",
    "    4- How many houses have a price lower than 150000 euros or more than 650000 euros?\n",
    "    \n",
    "Hint: Scroll through the list with a loop, use if condition statements, and a counter to count the true results."
   ]
  },
  {
   "cell_type": "code",
   "execution_count": null,
   "metadata": {},
   "outputs": [],
   "source": []
  },
  {
   "cell_type": "code",
   "execution_count": null,
   "metadata": {},
   "outputs": [],
   "source": []
  },
  {
   "cell_type": "code",
   "execution_count": null,
   "metadata": {},
   "outputs": [],
   "source": [
    "# 1. Combien de maisons ont un prix supérieur à 300000 euros ?\n",
    "# on définit notre compteur\n",
    "nombre_maisons=0\n",
    "for prix in prix_de_58_maisons:    # on va parcours notre liste avec une boucle for \n",
    "    if prix >= 300000:             # si notre condition est rencontrée, on incrémente notre compteur \n",
    "        nombre_maisons=nombre_maisons+1\n",
    "print(\"Le nombre de maisons avec un prix supérieur ou égal à 300000 euros est de : %d\" % (nombre_maisons))"
   ]
  },
  {
   "cell_type": "code",
   "execution_count": null,
   "metadata": {},
   "outputs": [],
   "source": [
    "# 2. Combien de maisons ont un prix compris entre 250000 et 400000 euros ?\n",
    "# on définit notre compteur\n",
    "nombre_maisons=0\n",
    "for prix in prix_de_58_maisons:  # on va parcours notre liste avec une boucle for    \n",
    "    if (prix >= 250000) and (prix <= 400000): # si notre condition est rencontrée, on incrémente notre compteur\n",
    "        nombre_maisons=nombre_maisons+1\n",
    "print(\"Le nombre de maisons qui ont un prix compris entre 250000 et 400000 euros est de : %d\" % (nombre_maisons))"
   ]
  },
  {
   "cell_type": "code",
   "execution_count": null,
   "metadata": {},
   "outputs": [],
   "source": [
    "# 3. Combien de maisons ont un prix qui n'est pas supérieur à 600000 euros ?\n",
    "nombre_maisons=0\n",
    "for prix in prix_de_58_maisons:\n",
    "    if not(prix > 600000):\n",
    "        nombre_maisons=nombre_maisons+1\n",
    "print(\"Le nombre de maisons qui ont un prix qui n'est pas supérieur à 600000 euros est de : %d\" % (nombre_maisons))"
   ]
  },
  {
   "cell_type": "code",
   "execution_count": null,
   "metadata": {},
   "outputs": [],
   "source": [
    "# 4. Combien de maisons ont un prix inférieur à 150000 euros OU supérieur à 650000 euros ?\n",
    "nombre_maisons=0\n",
    "for prix in prix_de_58_maisons:\n",
    "    if (prix < 150000) or (prix > 650000):\n",
    "        nombre_maisons=nombre_maisons+1\n",
    "print(\"Le nombre de maisons qui ont un prix inférieur à 150000 euros OU supérieur à 650000 euros est de : %d\" % (nombre_maisons))"
   ]
  },
  {
   "cell_type": "code",
   "execution_count": null,
   "metadata": {},
   "outputs": [],
   "source": []
  },
  {
   "cell_type": "code",
   "execution_count": null,
   "metadata": {},
   "outputs": [],
   "source": []
  },
  {
   "cell_type": "code",
   "execution_count": null,
   "metadata": {},
   "outputs": [],
   "source": []
  },
  {
   "cell_type": "code",
   "execution_count": null,
   "metadata": {},
   "outputs": [],
   "source": []
  }
 ],
 "metadata": {
  "kernelspec": {
   "display_name": "Python 3",
   "language": "python",
   "name": "python3"
  },
  "language_info": {
   "codemirror_mode": {
    "name": "ipython",
    "version": 3
   },
   "file_extension": ".py",
   "mimetype": "text/x-python",
   "name": "python",
   "nbconvert_exporter": "python",
   "pygments_lexer": "ipython3",
   "version": "3.7.3"
  }
 },
 "nbformat": 4,
 "nbformat_minor": 2
}
